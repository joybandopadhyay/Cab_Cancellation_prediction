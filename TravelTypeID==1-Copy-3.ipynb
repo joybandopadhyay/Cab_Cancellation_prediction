{
 "cells": [
  {
   "cell_type": "code",
   "execution_count": 1,
   "id": "a3d85248",
   "metadata": {},
   "outputs": [],
   "source": [
    "import numpy as np\n",
    "import pandas as pd\n",
    "import matplotlib.pyplot as plt\n",
    "import seaborn as sns"
   ]
  },
  {
   "cell_type": "code",
   "execution_count": 2,
   "id": "be922d20",
   "metadata": {},
   "outputs": [
    {
     "data": {
      "text/html": [
       "<div>\n",
       "<style scoped>\n",
       "    .dataframe tbody tr th:only-of-type {\n",
       "        vertical-align: middle;\n",
       "    }\n",
       "\n",
       "    .dataframe tbody tr th {\n",
       "        vertical-align: top;\n",
       "    }\n",
       "\n",
       "    .dataframe thead th {\n",
       "        text-align: right;\n",
       "    }\n",
       "</style>\n",
       "<table border=\"1\" class=\"dataframe\">\n",
       "  <thead>\n",
       "    <tr style=\"text-align: right;\">\n",
       "      <th></th>\n",
       "      <th>id</th>\n",
       "      <th>user_id</th>\n",
       "      <th>vehicle_model_id</th>\n",
       "      <th>package_id</th>\n",
       "      <th>travel_type_id</th>\n",
       "      <th>from_area_id</th>\n",
       "      <th>to_area_id</th>\n",
       "      <th>from_city_id</th>\n",
       "      <th>to_city_id</th>\n",
       "      <th>from_date</th>\n",
       "      <th>to_date</th>\n",
       "      <th>online_booking</th>\n",
       "      <th>mobile_site_booking</th>\n",
       "      <th>booking_created</th>\n",
       "      <th>from_lat</th>\n",
       "      <th>from_long</th>\n",
       "      <th>to_lat</th>\n",
       "      <th>to_long</th>\n",
       "      <th>Car_Cancellation</th>\n",
       "    </tr>\n",
       "  </thead>\n",
       "  <tbody>\n",
       "    <tr>\n",
       "      <th>0</th>\n",
       "      <td>132512</td>\n",
       "      <td>22177</td>\n",
       "      <td>28</td>\n",
       "      <td>NaN</td>\n",
       "      <td>2</td>\n",
       "      <td>83.0</td>\n",
       "      <td>448.0</td>\n",
       "      <td>NaN</td>\n",
       "      <td>NaN</td>\n",
       "      <td>01-01-2013 02:00</td>\n",
       "      <td>NaN</td>\n",
       "      <td>0</td>\n",
       "      <td>0</td>\n",
       "      <td>01-01-2013 01:39</td>\n",
       "      <td>12.924150</td>\n",
       "      <td>77.672290</td>\n",
       "      <td>12.927320</td>\n",
       "      <td>77.635750</td>\n",
       "      <td>0</td>\n",
       "    </tr>\n",
       "    <tr>\n",
       "      <th>1</th>\n",
       "      <td>132513</td>\n",
       "      <td>21413</td>\n",
       "      <td>12</td>\n",
       "      <td>NaN</td>\n",
       "      <td>2</td>\n",
       "      <td>1010.0</td>\n",
       "      <td>540.0</td>\n",
       "      <td>NaN</td>\n",
       "      <td>NaN</td>\n",
       "      <td>01-01-2013 09:00</td>\n",
       "      <td>NaN</td>\n",
       "      <td>0</td>\n",
       "      <td>0</td>\n",
       "      <td>01-01-2013 02:25</td>\n",
       "      <td>12.966910</td>\n",
       "      <td>77.749350</td>\n",
       "      <td>12.927680</td>\n",
       "      <td>77.626640</td>\n",
       "      <td>0</td>\n",
       "    </tr>\n",
       "    <tr>\n",
       "      <th>2</th>\n",
       "      <td>132514</td>\n",
       "      <td>22178</td>\n",
       "      <td>12</td>\n",
       "      <td>NaN</td>\n",
       "      <td>2</td>\n",
       "      <td>1301.0</td>\n",
       "      <td>1034.0</td>\n",
       "      <td>NaN</td>\n",
       "      <td>NaN</td>\n",
       "      <td>01-01-2013 03:30</td>\n",
       "      <td>NaN</td>\n",
       "      <td>0</td>\n",
       "      <td>0</td>\n",
       "      <td>01-01-2013 03:08</td>\n",
       "      <td>12.937222</td>\n",
       "      <td>77.626915</td>\n",
       "      <td>13.047926</td>\n",
       "      <td>77.597766</td>\n",
       "      <td>0</td>\n",
       "    </tr>\n",
       "    <tr>\n",
       "      <th>3</th>\n",
       "      <td>132515</td>\n",
       "      <td>13034</td>\n",
       "      <td>12</td>\n",
       "      <td>NaN</td>\n",
       "      <td>2</td>\n",
       "      <td>768.0</td>\n",
       "      <td>398.0</td>\n",
       "      <td>NaN</td>\n",
       "      <td>NaN</td>\n",
       "      <td>01-01-2013 05:45</td>\n",
       "      <td>NaN</td>\n",
       "      <td>0</td>\n",
       "      <td>0</td>\n",
       "      <td>01-01-2013 04:39</td>\n",
       "      <td>12.989990</td>\n",
       "      <td>77.553320</td>\n",
       "      <td>12.971430</td>\n",
       "      <td>77.639140</td>\n",
       "      <td>0</td>\n",
       "    </tr>\n",
       "    <tr>\n",
       "      <th>4</th>\n",
       "      <td>132517</td>\n",
       "      <td>22180</td>\n",
       "      <td>12</td>\n",
       "      <td>NaN</td>\n",
       "      <td>2</td>\n",
       "      <td>1365.0</td>\n",
       "      <td>849.0</td>\n",
       "      <td>NaN</td>\n",
       "      <td>NaN</td>\n",
       "      <td>01-01-2013 09:00</td>\n",
       "      <td>NaN</td>\n",
       "      <td>0</td>\n",
       "      <td>0</td>\n",
       "      <td>01-01-2013 07:53</td>\n",
       "      <td>12.845653</td>\n",
       "      <td>77.677925</td>\n",
       "      <td>12.954340</td>\n",
       "      <td>77.600720</td>\n",
       "      <td>0</td>\n",
       "    </tr>\n",
       "  </tbody>\n",
       "</table>\n",
       "</div>"
      ],
      "text/plain": [
       "       id  user_id  vehicle_model_id  package_id  travel_type_id  \\\n",
       "0  132512    22177                28         NaN               2   \n",
       "1  132513    21413                12         NaN               2   \n",
       "2  132514    22178                12         NaN               2   \n",
       "3  132515    13034                12         NaN               2   \n",
       "4  132517    22180                12         NaN               2   \n",
       "\n",
       "   from_area_id  to_area_id  from_city_id  to_city_id         from_date  \\\n",
       "0          83.0       448.0           NaN         NaN  01-01-2013 02:00   \n",
       "1        1010.0       540.0           NaN         NaN  01-01-2013 09:00   \n",
       "2        1301.0      1034.0           NaN         NaN  01-01-2013 03:30   \n",
       "3         768.0       398.0           NaN         NaN  01-01-2013 05:45   \n",
       "4        1365.0       849.0           NaN         NaN  01-01-2013 09:00   \n",
       "\n",
       "   to_date  online_booking  mobile_site_booking   booking_created   from_lat  \\\n",
       "0      NaN               0                    0  01-01-2013 01:39  12.924150   \n",
       "1      NaN               0                    0  01-01-2013 02:25  12.966910   \n",
       "2      NaN               0                    0  01-01-2013 03:08  12.937222   \n",
       "3      NaN               0                    0  01-01-2013 04:39  12.989990   \n",
       "4      NaN               0                    0  01-01-2013 07:53  12.845653   \n",
       "\n",
       "   from_long     to_lat    to_long  Car_Cancellation  \n",
       "0  77.672290  12.927320  77.635750                 0  \n",
       "1  77.749350  12.927680  77.626640                 0  \n",
       "2  77.626915  13.047926  77.597766                 0  \n",
       "3  77.553320  12.971430  77.639140                 0  \n",
       "4  77.677925  12.954340  77.600720                 0  "
      ]
     },
     "execution_count": 2,
     "metadata": {},
     "output_type": "execute_result"
    }
   ],
   "source": [
    "data=pd.read_csv(r'C:\\Users\\dell\\Desktop\\python specialclass\\machinelearning\\capstoneproject\\YourCabs-Capstone.csv')\n",
    "data.head()"
   ]
  },
  {
   "cell_type": "code",
   "execution_count": 3,
   "id": "f5dbb474",
   "metadata": {},
   "outputs": [
    {
     "data": {
      "text/html": [
       "<div>\n",
       "<style scoped>\n",
       "    .dataframe tbody tr th:only-of-type {\n",
       "        vertical-align: middle;\n",
       "    }\n",
       "\n",
       "    .dataframe tbody tr th {\n",
       "        vertical-align: top;\n",
       "    }\n",
       "\n",
       "    .dataframe thead th {\n",
       "        text-align: right;\n",
       "    }\n",
       "</style>\n",
       "<table border=\"1\" class=\"dataframe\">\n",
       "  <thead>\n",
       "    <tr style=\"text-align: right;\">\n",
       "      <th></th>\n",
       "      <th>id</th>\n",
       "      <th>user_id</th>\n",
       "      <th>vehicle_model_id</th>\n",
       "      <th>package_id</th>\n",
       "      <th>travel_type_id</th>\n",
       "      <th>from_area_id</th>\n",
       "      <th>to_area_id</th>\n",
       "      <th>from_city_id</th>\n",
       "      <th>to_city_id</th>\n",
       "      <th>from_date</th>\n",
       "      <th>to_date</th>\n",
       "      <th>online_booking</th>\n",
       "      <th>mobile_site_booking</th>\n",
       "      <th>booking_created</th>\n",
       "      <th>from_lat</th>\n",
       "      <th>from_long</th>\n",
       "      <th>to_lat</th>\n",
       "      <th>to_long</th>\n",
       "      <th>Car_Cancellation</th>\n",
       "    </tr>\n",
       "  </thead>\n",
       "  <tbody>\n",
       "    <tr>\n",
       "      <th>6</th>\n",
       "      <td>132519</td>\n",
       "      <td>22172</td>\n",
       "      <td>12</td>\n",
       "      <td>NaN</td>\n",
       "      <td>1</td>\n",
       "      <td>571.0</td>\n",
       "      <td>NaN</td>\n",
       "      <td>15.0</td>\n",
       "      <td>108.0</td>\n",
       "      <td>01-01-2013 09:45</td>\n",
       "      <td>41275.40625</td>\n",
       "      <td>0</td>\n",
       "      <td>0</td>\n",
       "      <td>01-01-2013 09:21</td>\n",
       "      <td>12.951850</td>\n",
       "      <td>77.696420</td>\n",
       "      <td>NaN</td>\n",
       "      <td>NaN</td>\n",
       "      <td>0</td>\n",
       "    </tr>\n",
       "    <tr>\n",
       "      <th>17</th>\n",
       "      <td>132531</td>\n",
       "      <td>22189</td>\n",
       "      <td>24</td>\n",
       "      <td>NaN</td>\n",
       "      <td>1</td>\n",
       "      <td>1383.0</td>\n",
       "      <td>NaN</td>\n",
       "      <td>NaN</td>\n",
       "      <td>32.0</td>\n",
       "      <td>01-12-2013 08:00</td>\n",
       "      <td>41288.00000</td>\n",
       "      <td>1</td>\n",
       "      <td>0</td>\n",
       "      <td>01-01-2013 12:17</td>\n",
       "      <td>12.930451</td>\n",
       "      <td>77.685822</td>\n",
       "      <td>NaN</td>\n",
       "      <td>NaN</td>\n",
       "      <td>0</td>\n",
       "    </tr>\n",
       "    <tr>\n",
       "      <th>24</th>\n",
       "      <td>132539</td>\n",
       "      <td>22192</td>\n",
       "      <td>54</td>\n",
       "      <td>NaN</td>\n",
       "      <td>1</td>\n",
       "      <td>515.0</td>\n",
       "      <td>NaN</td>\n",
       "      <td>15.0</td>\n",
       "      <td>32.0</td>\n",
       "      <td>01-05-2013 08:30</td>\n",
       "      <td>41279.00000</td>\n",
       "      <td>0</td>\n",
       "      <td>0</td>\n",
       "      <td>01-01-2013 14:40</td>\n",
       "      <td>12.978960</td>\n",
       "      <td>77.673450</td>\n",
       "      <td>NaN</td>\n",
       "      <td>NaN</td>\n",
       "      <td>0</td>\n",
       "    </tr>\n",
       "    <tr>\n",
       "      <th>158</th>\n",
       "      <td>132697</td>\n",
       "      <td>22275</td>\n",
       "      <td>28</td>\n",
       "      <td>NaN</td>\n",
       "      <td>1</td>\n",
       "      <td>136.0</td>\n",
       "      <td>NaN</td>\n",
       "      <td>1.0</td>\n",
       "      <td>152.0</td>\n",
       "      <td>01-04-2013 09:30</td>\n",
       "      <td>41278.39583</td>\n",
       "      <td>1</td>\n",
       "      <td>0</td>\n",
       "      <td>01-03-2013 12:19</td>\n",
       "      <td>12.907960</td>\n",
       "      <td>77.624180</td>\n",
       "      <td>NaN</td>\n",
       "      <td>NaN</td>\n",
       "      <td>0</td>\n",
       "    </tr>\n",
       "    <tr>\n",
       "      <th>216</th>\n",
       "      <td>132760</td>\n",
       "      <td>22310</td>\n",
       "      <td>87</td>\n",
       "      <td>NaN</td>\n",
       "      <td>1</td>\n",
       "      <td>1118.0</td>\n",
       "      <td>NaN</td>\n",
       "      <td>NaN</td>\n",
       "      <td>32.0</td>\n",
       "      <td>01-06-2013 07:30</td>\n",
       "      <td>41280.00000</td>\n",
       "      <td>1</td>\n",
       "      <td>0</td>\n",
       "      <td>01-04-2013 09:32</td>\n",
       "      <td>12.930220</td>\n",
       "      <td>77.560390</td>\n",
       "      <td>NaN</td>\n",
       "      <td>NaN</td>\n",
       "      <td>0</td>\n",
       "    </tr>\n",
       "  </tbody>\n",
       "</table>\n",
       "</div>"
      ],
      "text/plain": [
       "         id  user_id  vehicle_model_id  package_id  travel_type_id  \\\n",
       "6    132519    22172                12         NaN               1   \n",
       "17   132531    22189                24         NaN               1   \n",
       "24   132539    22192                54         NaN               1   \n",
       "158  132697    22275                28         NaN               1   \n",
       "216  132760    22310                87         NaN               1   \n",
       "\n",
       "     from_area_id  to_area_id  from_city_id  to_city_id         from_date  \\\n",
       "6           571.0         NaN          15.0       108.0  01-01-2013 09:45   \n",
       "17         1383.0         NaN           NaN        32.0  01-12-2013 08:00   \n",
       "24          515.0         NaN          15.0        32.0  01-05-2013 08:30   \n",
       "158         136.0         NaN           1.0       152.0  01-04-2013 09:30   \n",
       "216        1118.0         NaN           NaN        32.0  01-06-2013 07:30   \n",
       "\n",
       "         to_date  online_booking  mobile_site_booking   booking_created  \\\n",
       "6    41275.40625               0                    0  01-01-2013 09:21   \n",
       "17   41288.00000               1                    0  01-01-2013 12:17   \n",
       "24   41279.00000               0                    0  01-01-2013 14:40   \n",
       "158  41278.39583               1                    0  01-03-2013 12:19   \n",
       "216  41280.00000               1                    0  01-04-2013 09:32   \n",
       "\n",
       "      from_lat  from_long  to_lat  to_long  Car_Cancellation  \n",
       "6    12.951850  77.696420     NaN      NaN                 0  \n",
       "17   12.930451  77.685822     NaN      NaN                 0  \n",
       "24   12.978960  77.673450     NaN      NaN                 0  \n",
       "158  12.907960  77.624180     NaN      NaN                 0  \n",
       "216  12.930220  77.560390     NaN      NaN                 0  "
      ]
     },
     "execution_count": 3,
     "metadata": {},
     "output_type": "execute_result"
    }
   ],
   "source": [
    "df1=data[data.travel_type_id==1]\n",
    "df1.head()"
   ]
  },
  {
   "cell_type": "code",
   "execution_count": 4,
   "id": "f21e9f85",
   "metadata": {},
   "outputs": [
    {
     "data": {
      "text/plain": [
       "(1589, 19)"
      ]
     },
     "execution_count": 4,
     "metadata": {},
     "output_type": "execute_result"
    }
   ],
   "source": [
    "df1.shape"
   ]
  },
  {
   "cell_type": "code",
   "execution_count": 5,
   "id": "3784b352",
   "metadata": {},
   "outputs": [
    {
     "data": {
      "text/plain": [
       "1589"
      ]
     },
     "execution_count": 5,
     "metadata": {},
     "output_type": "execute_result"
    }
   ],
   "source": [
    "df1.shape[0]"
   ]
  },
  {
   "cell_type": "code",
   "execution_count": 6,
   "id": "e8ef9f93",
   "metadata": {},
   "outputs": [
    {
     "data": {
      "text/plain": [
       "array([1], dtype=int64)"
      ]
     },
     "execution_count": 6,
     "metadata": {},
     "output_type": "execute_result"
    }
   ],
   "source": [
    "df1['travel_type_id'].unique()"
   ]
  },
  {
   "cell_type": "code",
   "execution_count": 7,
   "id": "da19a502",
   "metadata": {},
   "outputs": [
    {
     "data": {
      "text/plain": [
       "1589"
      ]
     },
     "execution_count": 7,
     "metadata": {},
     "output_type": "execute_result"
    }
   ],
   "source": [
    "df1['id'].value_counts().sum()\n",
    "# All unique values here, so drop it. Also user_id reflects personal info hence drop it"
   ]
  },
  {
   "cell_type": "code",
   "execution_count": 8,
   "id": "3d426699",
   "metadata": {},
   "outputs": [],
   "source": [
    "df1=df1.drop(['id','user_id'],axis=1)"
   ]
  },
  {
   "cell_type": "code",
   "execution_count": 9,
   "id": "69c2efea",
   "metadata": {},
   "outputs": [
    {
     "data": {
      "text/html": [
       "<div>\n",
       "<style scoped>\n",
       "    .dataframe tbody tr th:only-of-type {\n",
       "        vertical-align: middle;\n",
       "    }\n",
       "\n",
       "    .dataframe tbody tr th {\n",
       "        vertical-align: top;\n",
       "    }\n",
       "\n",
       "    .dataframe thead th {\n",
       "        text-align: right;\n",
       "    }\n",
       "</style>\n",
       "<table border=\"1\" class=\"dataframe\">\n",
       "  <thead>\n",
       "    <tr style=\"text-align: right;\">\n",
       "      <th></th>\n",
       "      <th>vehicle_model_id</th>\n",
       "      <th>package_id</th>\n",
       "      <th>travel_type_id</th>\n",
       "      <th>from_area_id</th>\n",
       "      <th>to_area_id</th>\n",
       "      <th>from_city_id</th>\n",
       "      <th>to_city_id</th>\n",
       "      <th>from_date</th>\n",
       "      <th>to_date</th>\n",
       "      <th>online_booking</th>\n",
       "      <th>mobile_site_booking</th>\n",
       "      <th>booking_created</th>\n",
       "      <th>from_lat</th>\n",
       "      <th>from_long</th>\n",
       "      <th>to_lat</th>\n",
       "      <th>to_long</th>\n",
       "      <th>Car_Cancellation</th>\n",
       "    </tr>\n",
       "  </thead>\n",
       "  <tbody>\n",
       "    <tr>\n",
       "      <th>6</th>\n",
       "      <td>12</td>\n",
       "      <td>NaN</td>\n",
       "      <td>1</td>\n",
       "      <td>571.0</td>\n",
       "      <td>NaN</td>\n",
       "      <td>15.0</td>\n",
       "      <td>108.0</td>\n",
       "      <td>01-01-2013 09:45</td>\n",
       "      <td>41275.40625</td>\n",
       "      <td>0</td>\n",
       "      <td>0</td>\n",
       "      <td>01-01-2013 09:21</td>\n",
       "      <td>12.951850</td>\n",
       "      <td>77.696420</td>\n",
       "      <td>NaN</td>\n",
       "      <td>NaN</td>\n",
       "      <td>0</td>\n",
       "    </tr>\n",
       "    <tr>\n",
       "      <th>17</th>\n",
       "      <td>24</td>\n",
       "      <td>NaN</td>\n",
       "      <td>1</td>\n",
       "      <td>1383.0</td>\n",
       "      <td>NaN</td>\n",
       "      <td>NaN</td>\n",
       "      <td>32.0</td>\n",
       "      <td>01-12-2013 08:00</td>\n",
       "      <td>41288.00000</td>\n",
       "      <td>1</td>\n",
       "      <td>0</td>\n",
       "      <td>01-01-2013 12:17</td>\n",
       "      <td>12.930451</td>\n",
       "      <td>77.685822</td>\n",
       "      <td>NaN</td>\n",
       "      <td>NaN</td>\n",
       "      <td>0</td>\n",
       "    </tr>\n",
       "    <tr>\n",
       "      <th>24</th>\n",
       "      <td>54</td>\n",
       "      <td>NaN</td>\n",
       "      <td>1</td>\n",
       "      <td>515.0</td>\n",
       "      <td>NaN</td>\n",
       "      <td>15.0</td>\n",
       "      <td>32.0</td>\n",
       "      <td>01-05-2013 08:30</td>\n",
       "      <td>41279.00000</td>\n",
       "      <td>0</td>\n",
       "      <td>0</td>\n",
       "      <td>01-01-2013 14:40</td>\n",
       "      <td>12.978960</td>\n",
       "      <td>77.673450</td>\n",
       "      <td>NaN</td>\n",
       "      <td>NaN</td>\n",
       "      <td>0</td>\n",
       "    </tr>\n",
       "    <tr>\n",
       "      <th>158</th>\n",
       "      <td>28</td>\n",
       "      <td>NaN</td>\n",
       "      <td>1</td>\n",
       "      <td>136.0</td>\n",
       "      <td>NaN</td>\n",
       "      <td>1.0</td>\n",
       "      <td>152.0</td>\n",
       "      <td>01-04-2013 09:30</td>\n",
       "      <td>41278.39583</td>\n",
       "      <td>1</td>\n",
       "      <td>0</td>\n",
       "      <td>01-03-2013 12:19</td>\n",
       "      <td>12.907960</td>\n",
       "      <td>77.624180</td>\n",
       "      <td>NaN</td>\n",
       "      <td>NaN</td>\n",
       "      <td>0</td>\n",
       "    </tr>\n",
       "    <tr>\n",
       "      <th>216</th>\n",
       "      <td>87</td>\n",
       "      <td>NaN</td>\n",
       "      <td>1</td>\n",
       "      <td>1118.0</td>\n",
       "      <td>NaN</td>\n",
       "      <td>NaN</td>\n",
       "      <td>32.0</td>\n",
       "      <td>01-06-2013 07:30</td>\n",
       "      <td>41280.00000</td>\n",
       "      <td>1</td>\n",
       "      <td>0</td>\n",
       "      <td>01-04-2013 09:32</td>\n",
       "      <td>12.930220</td>\n",
       "      <td>77.560390</td>\n",
       "      <td>NaN</td>\n",
       "      <td>NaN</td>\n",
       "      <td>0</td>\n",
       "    </tr>\n",
       "  </tbody>\n",
       "</table>\n",
       "</div>"
      ],
      "text/plain": [
       "     vehicle_model_id  package_id  travel_type_id  from_area_id  to_area_id  \\\n",
       "6                  12         NaN               1         571.0         NaN   \n",
       "17                 24         NaN               1        1383.0         NaN   \n",
       "24                 54         NaN               1         515.0         NaN   \n",
       "158                28         NaN               1         136.0         NaN   \n",
       "216                87         NaN               1        1118.0         NaN   \n",
       "\n",
       "     from_city_id  to_city_id         from_date      to_date  online_booking  \\\n",
       "6            15.0       108.0  01-01-2013 09:45  41275.40625               0   \n",
       "17            NaN        32.0  01-12-2013 08:00  41288.00000               1   \n",
       "24           15.0        32.0  01-05-2013 08:30  41279.00000               0   \n",
       "158           1.0       152.0  01-04-2013 09:30  41278.39583               1   \n",
       "216           NaN        32.0  01-06-2013 07:30  41280.00000               1   \n",
       "\n",
       "     mobile_site_booking   booking_created   from_lat  from_long  to_lat  \\\n",
       "6                      0  01-01-2013 09:21  12.951850  77.696420     NaN   \n",
       "17                     0  01-01-2013 12:17  12.930451  77.685822     NaN   \n",
       "24                     0  01-01-2013 14:40  12.978960  77.673450     NaN   \n",
       "158                    0  01-03-2013 12:19  12.907960  77.624180     NaN   \n",
       "216                    0  01-04-2013 09:32  12.930220  77.560390     NaN   \n",
       "\n",
       "     to_long  Car_Cancellation  \n",
       "6        NaN                 0  \n",
       "17       NaN                 0  \n",
       "24       NaN                 0  \n",
       "158      NaN                 0  \n",
       "216      NaN                 0  "
      ]
     },
     "execution_count": 9,
     "metadata": {},
     "output_type": "execute_result"
    }
   ],
   "source": [
    "df1.head()"
   ]
  },
  {
   "cell_type": "code",
   "execution_count": 10,
   "id": "a382635f",
   "metadata": {},
   "outputs": [
    {
     "data": {
      "text/plain": [
       "12"
      ]
     },
     "execution_count": 10,
     "metadata": {},
     "output_type": "execute_result"
    }
   ],
   "source": [
    "a=df1['vehicle_model_id'].mode()[0]\n",
    "a\n",
    "# Here, vehicle_model_id has the highest frequency"
   ]
  },
  {
   "cell_type": "code",
   "execution_count": 11,
   "id": "eb193968",
   "metadata": {},
   "outputs": [
    {
     "data": {
      "text/plain": [
       "734"
      ]
     },
     "execution_count": 11,
     "metadata": {},
     "output_type": "execute_result"
    }
   ],
   "source": [
    "b=df1['vehicle_model_id'].value_counts()[a]\n",
    "b\n",
    "# 734 rows with 12 out of 1589"
   ]
  },
  {
   "cell_type": "code",
   "execution_count": 12,
   "id": "efab7531",
   "metadata": {},
   "outputs": [
    {
     "data": {
      "text/plain": [
       "46.19257394587791"
      ]
     },
     "execution_count": 12,
     "metadata": {},
     "output_type": "execute_result"
    }
   ],
   "source": [
    "c=(b/df1.shape[0])*100\n",
    "c\n",
    "# Since, 12 appears here for 46% hence it will create bias so drop this column vehicle_model_id"
   ]
  },
  {
   "cell_type": "code",
   "execution_count": 13,
   "id": "9d8886ed",
   "metadata": {},
   "outputs": [
    {
     "data": {
      "text/plain": [
       "NaN    1589\n",
       "Name: package_id, dtype: int64"
      ]
     },
     "execution_count": 13,
     "metadata": {},
     "output_type": "execute_result"
    }
   ],
   "source": [
    "df1['package_id'].value_counts(dropna=False)\n",
    "# Drop this column also as it has all null values."
   ]
  },
  {
   "cell_type": "code",
   "execution_count": 14,
   "id": "fe7191eb",
   "metadata": {},
   "outputs": [
    {
     "data": {
      "text/html": [
       "<div>\n",
       "<style scoped>\n",
       "    .dataframe tbody tr th:only-of-type {\n",
       "        vertical-align: middle;\n",
       "    }\n",
       "\n",
       "    .dataframe tbody tr th {\n",
       "        vertical-align: top;\n",
       "    }\n",
       "\n",
       "    .dataframe thead th {\n",
       "        text-align: right;\n",
       "    }\n",
       "</style>\n",
       "<table border=\"1\" class=\"dataframe\">\n",
       "  <thead>\n",
       "    <tr style=\"text-align: right;\">\n",
       "      <th></th>\n",
       "      <th>travel_type_id</th>\n",
       "      <th>from_area_id</th>\n",
       "      <th>to_area_id</th>\n",
       "      <th>from_city_id</th>\n",
       "      <th>to_city_id</th>\n",
       "      <th>from_date</th>\n",
       "      <th>to_date</th>\n",
       "      <th>online_booking</th>\n",
       "      <th>mobile_site_booking</th>\n",
       "      <th>booking_created</th>\n",
       "      <th>from_lat</th>\n",
       "      <th>from_long</th>\n",
       "      <th>to_lat</th>\n",
       "      <th>to_long</th>\n",
       "      <th>Car_Cancellation</th>\n",
       "    </tr>\n",
       "  </thead>\n",
       "  <tbody>\n",
       "    <tr>\n",
       "      <th>6</th>\n",
       "      <td>1</td>\n",
       "      <td>571.0</td>\n",
       "      <td>NaN</td>\n",
       "      <td>15.0</td>\n",
       "      <td>108.0</td>\n",
       "      <td>01-01-2013 09:45</td>\n",
       "      <td>41275.40625</td>\n",
       "      <td>0</td>\n",
       "      <td>0</td>\n",
       "      <td>01-01-2013 09:21</td>\n",
       "      <td>12.951850</td>\n",
       "      <td>77.696420</td>\n",
       "      <td>NaN</td>\n",
       "      <td>NaN</td>\n",
       "      <td>0</td>\n",
       "    </tr>\n",
       "    <tr>\n",
       "      <th>17</th>\n",
       "      <td>1</td>\n",
       "      <td>1383.0</td>\n",
       "      <td>NaN</td>\n",
       "      <td>NaN</td>\n",
       "      <td>32.0</td>\n",
       "      <td>01-12-2013 08:00</td>\n",
       "      <td>41288.00000</td>\n",
       "      <td>1</td>\n",
       "      <td>0</td>\n",
       "      <td>01-01-2013 12:17</td>\n",
       "      <td>12.930451</td>\n",
       "      <td>77.685822</td>\n",
       "      <td>NaN</td>\n",
       "      <td>NaN</td>\n",
       "      <td>0</td>\n",
       "    </tr>\n",
       "    <tr>\n",
       "      <th>24</th>\n",
       "      <td>1</td>\n",
       "      <td>515.0</td>\n",
       "      <td>NaN</td>\n",
       "      <td>15.0</td>\n",
       "      <td>32.0</td>\n",
       "      <td>01-05-2013 08:30</td>\n",
       "      <td>41279.00000</td>\n",
       "      <td>0</td>\n",
       "      <td>0</td>\n",
       "      <td>01-01-2013 14:40</td>\n",
       "      <td>12.978960</td>\n",
       "      <td>77.673450</td>\n",
       "      <td>NaN</td>\n",
       "      <td>NaN</td>\n",
       "      <td>0</td>\n",
       "    </tr>\n",
       "    <tr>\n",
       "      <th>158</th>\n",
       "      <td>1</td>\n",
       "      <td>136.0</td>\n",
       "      <td>NaN</td>\n",
       "      <td>1.0</td>\n",
       "      <td>152.0</td>\n",
       "      <td>01-04-2013 09:30</td>\n",
       "      <td>41278.39583</td>\n",
       "      <td>1</td>\n",
       "      <td>0</td>\n",
       "      <td>01-03-2013 12:19</td>\n",
       "      <td>12.907960</td>\n",
       "      <td>77.624180</td>\n",
       "      <td>NaN</td>\n",
       "      <td>NaN</td>\n",
       "      <td>0</td>\n",
       "    </tr>\n",
       "    <tr>\n",
       "      <th>216</th>\n",
       "      <td>1</td>\n",
       "      <td>1118.0</td>\n",
       "      <td>NaN</td>\n",
       "      <td>NaN</td>\n",
       "      <td>32.0</td>\n",
       "      <td>01-06-2013 07:30</td>\n",
       "      <td>41280.00000</td>\n",
       "      <td>1</td>\n",
       "      <td>0</td>\n",
       "      <td>01-04-2013 09:32</td>\n",
       "      <td>12.930220</td>\n",
       "      <td>77.560390</td>\n",
       "      <td>NaN</td>\n",
       "      <td>NaN</td>\n",
       "      <td>0</td>\n",
       "    </tr>\n",
       "  </tbody>\n",
       "</table>\n",
       "</div>"
      ],
      "text/plain": [
       "     travel_type_id  from_area_id  to_area_id  from_city_id  to_city_id  \\\n",
       "6                 1         571.0         NaN          15.0       108.0   \n",
       "17                1        1383.0         NaN           NaN        32.0   \n",
       "24                1         515.0         NaN          15.0        32.0   \n",
       "158               1         136.0         NaN           1.0       152.0   \n",
       "216               1        1118.0         NaN           NaN        32.0   \n",
       "\n",
       "            from_date      to_date  online_booking  mobile_site_booking  \\\n",
       "6    01-01-2013 09:45  41275.40625               0                    0   \n",
       "17   01-12-2013 08:00  41288.00000               1                    0   \n",
       "24   01-05-2013 08:30  41279.00000               0                    0   \n",
       "158  01-04-2013 09:30  41278.39583               1                    0   \n",
       "216  01-06-2013 07:30  41280.00000               1                    0   \n",
       "\n",
       "      booking_created   from_lat  from_long  to_lat  to_long  Car_Cancellation  \n",
       "6    01-01-2013 09:21  12.951850  77.696420     NaN      NaN                 0  \n",
       "17   01-01-2013 12:17  12.930451  77.685822     NaN      NaN                 0  \n",
       "24   01-01-2013 14:40  12.978960  77.673450     NaN      NaN                 0  \n",
       "158  01-03-2013 12:19  12.907960  77.624180     NaN      NaN                 0  \n",
       "216  01-04-2013 09:32  12.930220  77.560390     NaN      NaN                 0  "
      ]
     },
     "execution_count": 14,
     "metadata": {},
     "output_type": "execute_result"
    }
   ],
   "source": [
    "df1=df1.drop(['vehicle_model_id','package_id'],axis=1)\n",
    "df1.head()"
   ]
  },
  {
   "cell_type": "code",
   "execution_count": 15,
   "id": "34de8080",
   "metadata": {},
   "outputs": [
    {
     "data": {
      "text/plain": [
       "array([1], dtype=int64)"
      ]
     },
     "execution_count": 15,
     "metadata": {},
     "output_type": "execute_result"
    }
   ],
   "source": [
    "df1['travel_type_id'].unique()\n",
    "# All are 1 so drop"
   ]
  },
  {
   "cell_type": "code",
   "execution_count": 16,
   "id": "9a691de6",
   "metadata": {},
   "outputs": [
    {
     "data": {
      "text/plain": [
       "NaN       1588\n",
       "1080.0       1\n",
       "Name: to_area_id, dtype: int64"
      ]
     },
     "execution_count": 16,
     "metadata": {},
     "output_type": "execute_result"
    }
   ],
   "source": [
    "df1['to_area_id'].value_counts(dropna=False)\n",
    "# All are Null, except 1080 which appears once out of 1589 rows, so drop"
   ]
  },
  {
   "cell_type": "code",
   "execution_count": 17,
   "id": "8e2c3241",
   "metadata": {},
   "outputs": [
    {
     "data": {
      "text/html": [
       "<div>\n",
       "<style scoped>\n",
       "    .dataframe tbody tr th:only-of-type {\n",
       "        vertical-align: middle;\n",
       "    }\n",
       "\n",
       "    .dataframe tbody tr th {\n",
       "        vertical-align: top;\n",
       "    }\n",
       "\n",
       "    .dataframe thead th {\n",
       "        text-align: right;\n",
       "    }\n",
       "</style>\n",
       "<table border=\"1\" class=\"dataframe\">\n",
       "  <thead>\n",
       "    <tr style=\"text-align: right;\">\n",
       "      <th></th>\n",
       "      <th>from_area_id</th>\n",
       "      <th>from_city_id</th>\n",
       "      <th>to_city_id</th>\n",
       "      <th>from_date</th>\n",
       "      <th>to_date</th>\n",
       "      <th>online_booking</th>\n",
       "      <th>mobile_site_booking</th>\n",
       "      <th>booking_created</th>\n",
       "      <th>from_lat</th>\n",
       "      <th>from_long</th>\n",
       "      <th>to_lat</th>\n",
       "      <th>to_long</th>\n",
       "      <th>Car_Cancellation</th>\n",
       "    </tr>\n",
       "  </thead>\n",
       "  <tbody>\n",
       "    <tr>\n",
       "      <th>6</th>\n",
       "      <td>571.0</td>\n",
       "      <td>15.0</td>\n",
       "      <td>108.0</td>\n",
       "      <td>01-01-2013 09:45</td>\n",
       "      <td>41275.40625</td>\n",
       "      <td>0</td>\n",
       "      <td>0</td>\n",
       "      <td>01-01-2013 09:21</td>\n",
       "      <td>12.951850</td>\n",
       "      <td>77.696420</td>\n",
       "      <td>NaN</td>\n",
       "      <td>NaN</td>\n",
       "      <td>0</td>\n",
       "    </tr>\n",
       "    <tr>\n",
       "      <th>17</th>\n",
       "      <td>1383.0</td>\n",
       "      <td>NaN</td>\n",
       "      <td>32.0</td>\n",
       "      <td>01-12-2013 08:00</td>\n",
       "      <td>41288.00000</td>\n",
       "      <td>1</td>\n",
       "      <td>0</td>\n",
       "      <td>01-01-2013 12:17</td>\n",
       "      <td>12.930451</td>\n",
       "      <td>77.685822</td>\n",
       "      <td>NaN</td>\n",
       "      <td>NaN</td>\n",
       "      <td>0</td>\n",
       "    </tr>\n",
       "    <tr>\n",
       "      <th>24</th>\n",
       "      <td>515.0</td>\n",
       "      <td>15.0</td>\n",
       "      <td>32.0</td>\n",
       "      <td>01-05-2013 08:30</td>\n",
       "      <td>41279.00000</td>\n",
       "      <td>0</td>\n",
       "      <td>0</td>\n",
       "      <td>01-01-2013 14:40</td>\n",
       "      <td>12.978960</td>\n",
       "      <td>77.673450</td>\n",
       "      <td>NaN</td>\n",
       "      <td>NaN</td>\n",
       "      <td>0</td>\n",
       "    </tr>\n",
       "    <tr>\n",
       "      <th>158</th>\n",
       "      <td>136.0</td>\n",
       "      <td>1.0</td>\n",
       "      <td>152.0</td>\n",
       "      <td>01-04-2013 09:30</td>\n",
       "      <td>41278.39583</td>\n",
       "      <td>1</td>\n",
       "      <td>0</td>\n",
       "      <td>01-03-2013 12:19</td>\n",
       "      <td>12.907960</td>\n",
       "      <td>77.624180</td>\n",
       "      <td>NaN</td>\n",
       "      <td>NaN</td>\n",
       "      <td>0</td>\n",
       "    </tr>\n",
       "    <tr>\n",
       "      <th>216</th>\n",
       "      <td>1118.0</td>\n",
       "      <td>NaN</td>\n",
       "      <td>32.0</td>\n",
       "      <td>01-06-2013 07:30</td>\n",
       "      <td>41280.00000</td>\n",
       "      <td>1</td>\n",
       "      <td>0</td>\n",
       "      <td>01-04-2013 09:32</td>\n",
       "      <td>12.930220</td>\n",
       "      <td>77.560390</td>\n",
       "      <td>NaN</td>\n",
       "      <td>NaN</td>\n",
       "      <td>0</td>\n",
       "    </tr>\n",
       "  </tbody>\n",
       "</table>\n",
       "</div>"
      ],
      "text/plain": [
       "     from_area_id  from_city_id  to_city_id         from_date      to_date  \\\n",
       "6           571.0          15.0       108.0  01-01-2013 09:45  41275.40625   \n",
       "17         1383.0           NaN        32.0  01-12-2013 08:00  41288.00000   \n",
       "24          515.0          15.0        32.0  01-05-2013 08:30  41279.00000   \n",
       "158         136.0           1.0       152.0  01-04-2013 09:30  41278.39583   \n",
       "216        1118.0           NaN        32.0  01-06-2013 07:30  41280.00000   \n",
       "\n",
       "     online_booking  mobile_site_booking   booking_created   from_lat  \\\n",
       "6                 0                    0  01-01-2013 09:21  12.951850   \n",
       "17                1                    0  01-01-2013 12:17  12.930451   \n",
       "24                0                    0  01-01-2013 14:40  12.978960   \n",
       "158               1                    0  01-03-2013 12:19  12.907960   \n",
       "216               1                    0  01-04-2013 09:32  12.930220   \n",
       "\n",
       "     from_long  to_lat  to_long  Car_Cancellation  \n",
       "6    77.696420     NaN      NaN                 0  \n",
       "17   77.685822     NaN      NaN                 0  \n",
       "24   77.673450     NaN      NaN                 0  \n",
       "158  77.624180     NaN      NaN                 0  \n",
       "216  77.560390     NaN      NaN                 0  "
      ]
     },
     "execution_count": 17,
     "metadata": {},
     "output_type": "execute_result"
    }
   ],
   "source": [
    "df1=df1.drop(['travel_type_id','to_area_id'],axis=1)\n",
    "df1.head()"
   ]
  },
  {
   "cell_type": "code",
   "execution_count": 18,
   "id": "fdbb8952",
   "metadata": {},
   "outputs": [
    {
     "data": {
      "text/plain": [
       "196"
      ]
     },
     "execution_count": 18,
     "metadata": {},
     "output_type": "execute_result"
    }
   ],
   "source": [
    "df1['from_city_id'].isna().sum()\n",
    "# 196 null values, so fill them up using mode, since it is a categorical column"
   ]
  },
  {
   "cell_type": "code",
   "execution_count": 19,
   "id": "5515016b",
   "metadata": {},
   "outputs": [
    {
     "data": {
      "text/plain": [
       "15.0"
      ]
     },
     "execution_count": 19,
     "metadata": {},
     "output_type": "execute_result"
    }
   ],
   "source": [
    "mode_value=df1['from_city_id'].mode()[0]\n",
    "mode_value"
   ]
  },
  {
   "cell_type": "code",
   "execution_count": 20,
   "id": "ecd2006d",
   "metadata": {},
   "outputs": [],
   "source": [
    "df1['from_city_id'].fillna(mode_value,inplace=True)"
   ]
  },
  {
   "cell_type": "code",
   "execution_count": 21,
   "id": "cca235f1",
   "metadata": {},
   "outputs": [
    {
     "data": {
      "text/plain": [
       "0"
      ]
     },
     "execution_count": 21,
     "metadata": {},
     "output_type": "execute_result"
    }
   ],
   "source": [
    "df1['from_city_id'].isna().sum()"
   ]
  },
  {
   "cell_type": "code",
   "execution_count": 22,
   "id": "d0008489",
   "metadata": {},
   "outputs": [
    {
     "data": {
      "text/plain": [
       "1"
      ]
     },
     "execution_count": 22,
     "metadata": {},
     "output_type": "execute_result"
    }
   ],
   "source": [
    "df1['to_city_id'].isna().sum()"
   ]
  },
  {
   "cell_type": "code",
   "execution_count": 23,
   "id": "b894f7ee",
   "metadata": {},
   "outputs": [
    {
     "data": {
      "text/plain": [
       "32.0"
      ]
     },
     "execution_count": 23,
     "metadata": {},
     "output_type": "execute_result"
    }
   ],
   "source": [
    "mode_value=df1['to_city_id'].mode()[0]\n",
    "mode_value"
   ]
  },
  {
   "cell_type": "code",
   "execution_count": 24,
   "id": "3aa9ad06",
   "metadata": {},
   "outputs": [],
   "source": [
    "df1['to_city_id'].fillna(mode_value,inplace=True)"
   ]
  },
  {
   "cell_type": "code",
   "execution_count": 25,
   "id": "933bd97f",
   "metadata": {},
   "outputs": [
    {
     "data": {
      "text/plain": [
       "0"
      ]
     },
     "execution_count": 25,
     "metadata": {},
     "output_type": "execute_result"
    }
   ],
   "source": [
    "df1['to_city_id'].isna().sum()"
   ]
  },
  {
   "cell_type": "code",
   "execution_count": 26,
   "id": "91b4baae",
   "metadata": {},
   "outputs": [
    {
     "name": "stdout",
     "output_type": "stream",
     "text": [
      "1588\n",
      "1588\n"
     ]
    }
   ],
   "source": [
    "# to_lat, to_long\n",
    "print(df1['to_lat'].isna().sum())\n",
    "# Out of 1589 rows, 1588 are null. So drop\n",
    "print(df1['to_long'].isna().sum())\n",
    "# Out of 1589 rows, 1588 are null. So drop"
   ]
  },
  {
   "cell_type": "code",
   "execution_count": 27,
   "id": "54f2ce31",
   "metadata": {},
   "outputs": [
    {
     "data": {
      "text/html": [
       "<div>\n",
       "<style scoped>\n",
       "    .dataframe tbody tr th:only-of-type {\n",
       "        vertical-align: middle;\n",
       "    }\n",
       "\n",
       "    .dataframe tbody tr th {\n",
       "        vertical-align: top;\n",
       "    }\n",
       "\n",
       "    .dataframe thead th {\n",
       "        text-align: right;\n",
       "    }\n",
       "</style>\n",
       "<table border=\"1\" class=\"dataframe\">\n",
       "  <thead>\n",
       "    <tr style=\"text-align: right;\">\n",
       "      <th></th>\n",
       "      <th>from_area_id</th>\n",
       "      <th>from_city_id</th>\n",
       "      <th>to_city_id</th>\n",
       "      <th>from_date</th>\n",
       "      <th>to_date</th>\n",
       "      <th>online_booking</th>\n",
       "      <th>mobile_site_booking</th>\n",
       "      <th>booking_created</th>\n",
       "      <th>from_lat</th>\n",
       "      <th>from_long</th>\n",
       "      <th>Car_Cancellation</th>\n",
       "    </tr>\n",
       "  </thead>\n",
       "  <tbody>\n",
       "    <tr>\n",
       "      <th>6</th>\n",
       "      <td>571.0</td>\n",
       "      <td>15.0</td>\n",
       "      <td>108.0</td>\n",
       "      <td>01-01-2013 09:45</td>\n",
       "      <td>41275.40625</td>\n",
       "      <td>0</td>\n",
       "      <td>0</td>\n",
       "      <td>01-01-2013 09:21</td>\n",
       "      <td>12.951850</td>\n",
       "      <td>77.696420</td>\n",
       "      <td>0</td>\n",
       "    </tr>\n",
       "    <tr>\n",
       "      <th>17</th>\n",
       "      <td>1383.0</td>\n",
       "      <td>15.0</td>\n",
       "      <td>32.0</td>\n",
       "      <td>01-12-2013 08:00</td>\n",
       "      <td>41288.00000</td>\n",
       "      <td>1</td>\n",
       "      <td>0</td>\n",
       "      <td>01-01-2013 12:17</td>\n",
       "      <td>12.930451</td>\n",
       "      <td>77.685822</td>\n",
       "      <td>0</td>\n",
       "    </tr>\n",
       "    <tr>\n",
       "      <th>24</th>\n",
       "      <td>515.0</td>\n",
       "      <td>15.0</td>\n",
       "      <td>32.0</td>\n",
       "      <td>01-05-2013 08:30</td>\n",
       "      <td>41279.00000</td>\n",
       "      <td>0</td>\n",
       "      <td>0</td>\n",
       "      <td>01-01-2013 14:40</td>\n",
       "      <td>12.978960</td>\n",
       "      <td>77.673450</td>\n",
       "      <td>0</td>\n",
       "    </tr>\n",
       "    <tr>\n",
       "      <th>158</th>\n",
       "      <td>136.0</td>\n",
       "      <td>1.0</td>\n",
       "      <td>152.0</td>\n",
       "      <td>01-04-2013 09:30</td>\n",
       "      <td>41278.39583</td>\n",
       "      <td>1</td>\n",
       "      <td>0</td>\n",
       "      <td>01-03-2013 12:19</td>\n",
       "      <td>12.907960</td>\n",
       "      <td>77.624180</td>\n",
       "      <td>0</td>\n",
       "    </tr>\n",
       "    <tr>\n",
       "      <th>216</th>\n",
       "      <td>1118.0</td>\n",
       "      <td>15.0</td>\n",
       "      <td>32.0</td>\n",
       "      <td>01-06-2013 07:30</td>\n",
       "      <td>41280.00000</td>\n",
       "      <td>1</td>\n",
       "      <td>0</td>\n",
       "      <td>01-04-2013 09:32</td>\n",
       "      <td>12.930220</td>\n",
       "      <td>77.560390</td>\n",
       "      <td>0</td>\n",
       "    </tr>\n",
       "  </tbody>\n",
       "</table>\n",
       "</div>"
      ],
      "text/plain": [
       "     from_area_id  from_city_id  to_city_id         from_date      to_date  \\\n",
       "6           571.0          15.0       108.0  01-01-2013 09:45  41275.40625   \n",
       "17         1383.0          15.0        32.0  01-12-2013 08:00  41288.00000   \n",
       "24          515.0          15.0        32.0  01-05-2013 08:30  41279.00000   \n",
       "158         136.0           1.0       152.0  01-04-2013 09:30  41278.39583   \n",
       "216        1118.0          15.0        32.0  01-06-2013 07:30  41280.00000   \n",
       "\n",
       "     online_booking  mobile_site_booking   booking_created   from_lat  \\\n",
       "6                 0                    0  01-01-2013 09:21  12.951850   \n",
       "17                1                    0  01-01-2013 12:17  12.930451   \n",
       "24                0                    0  01-01-2013 14:40  12.978960   \n",
       "158               1                    0  01-03-2013 12:19  12.907960   \n",
       "216               1                    0  01-04-2013 09:32  12.930220   \n",
       "\n",
       "     from_long  Car_Cancellation  \n",
       "6    77.696420                 0  \n",
       "17   77.685822                 0  \n",
       "24   77.673450                 0  \n",
       "158  77.624180                 0  \n",
       "216  77.560390                 0  "
      ]
     },
     "execution_count": 27,
     "metadata": {},
     "output_type": "execute_result"
    }
   ],
   "source": [
    "df1=df1.drop(['to_lat','to_long'],axis=1)\n",
    "df1.head()"
   ]
  },
  {
   "cell_type": "code",
   "execution_count": 28,
   "id": "73e48892",
   "metadata": {},
   "outputs": [
    {
     "data": {
      "text/html": [
       "<div>\n",
       "<style scoped>\n",
       "    .dataframe tbody tr th:only-of-type {\n",
       "        vertical-align: middle;\n",
       "    }\n",
       "\n",
       "    .dataframe tbody tr th {\n",
       "        vertical-align: top;\n",
       "    }\n",
       "\n",
       "    .dataframe thead th {\n",
       "        text-align: right;\n",
       "    }\n",
       "</style>\n",
       "<table border=\"1\" class=\"dataframe\">\n",
       "  <thead>\n",
       "    <tr style=\"text-align: right;\">\n",
       "      <th></th>\n",
       "      <th>from_area_id</th>\n",
       "      <th>from_city_id</th>\n",
       "      <th>to_city_id</th>\n",
       "      <th>from_date</th>\n",
       "      <th>to_date</th>\n",
       "      <th>online_booking</th>\n",
       "      <th>mobile_site_booking</th>\n",
       "      <th>booking_created</th>\n",
       "      <th>Car_Cancellation</th>\n",
       "    </tr>\n",
       "  </thead>\n",
       "  <tbody>\n",
       "    <tr>\n",
       "      <th>6</th>\n",
       "      <td>571.0</td>\n",
       "      <td>15.0</td>\n",
       "      <td>108.0</td>\n",
       "      <td>01-01-2013 09:45</td>\n",
       "      <td>41275.40625</td>\n",
       "      <td>0</td>\n",
       "      <td>0</td>\n",
       "      <td>01-01-2013 09:21</td>\n",
       "      <td>0</td>\n",
       "    </tr>\n",
       "    <tr>\n",
       "      <th>17</th>\n",
       "      <td>1383.0</td>\n",
       "      <td>15.0</td>\n",
       "      <td>32.0</td>\n",
       "      <td>01-12-2013 08:00</td>\n",
       "      <td>41288.00000</td>\n",
       "      <td>1</td>\n",
       "      <td>0</td>\n",
       "      <td>01-01-2013 12:17</td>\n",
       "      <td>0</td>\n",
       "    </tr>\n",
       "    <tr>\n",
       "      <th>24</th>\n",
       "      <td>515.0</td>\n",
       "      <td>15.0</td>\n",
       "      <td>32.0</td>\n",
       "      <td>01-05-2013 08:30</td>\n",
       "      <td>41279.00000</td>\n",
       "      <td>0</td>\n",
       "      <td>0</td>\n",
       "      <td>01-01-2013 14:40</td>\n",
       "      <td>0</td>\n",
       "    </tr>\n",
       "    <tr>\n",
       "      <th>158</th>\n",
       "      <td>136.0</td>\n",
       "      <td>1.0</td>\n",
       "      <td>152.0</td>\n",
       "      <td>01-04-2013 09:30</td>\n",
       "      <td>41278.39583</td>\n",
       "      <td>1</td>\n",
       "      <td>0</td>\n",
       "      <td>01-03-2013 12:19</td>\n",
       "      <td>0</td>\n",
       "    </tr>\n",
       "    <tr>\n",
       "      <th>216</th>\n",
       "      <td>1118.0</td>\n",
       "      <td>15.0</td>\n",
       "      <td>32.0</td>\n",
       "      <td>01-06-2013 07:30</td>\n",
       "      <td>41280.00000</td>\n",
       "      <td>1</td>\n",
       "      <td>0</td>\n",
       "      <td>01-04-2013 09:32</td>\n",
       "      <td>0</td>\n",
       "    </tr>\n",
       "  </tbody>\n",
       "</table>\n",
       "</div>"
      ],
      "text/plain": [
       "     from_area_id  from_city_id  to_city_id         from_date      to_date  \\\n",
       "6           571.0          15.0       108.0  01-01-2013 09:45  41275.40625   \n",
       "17         1383.0          15.0        32.0  01-12-2013 08:00  41288.00000   \n",
       "24          515.0          15.0        32.0  01-05-2013 08:30  41279.00000   \n",
       "158         136.0           1.0       152.0  01-04-2013 09:30  41278.39583   \n",
       "216        1118.0          15.0        32.0  01-06-2013 07:30  41280.00000   \n",
       "\n",
       "     online_booking  mobile_site_booking   booking_created  Car_Cancellation  \n",
       "6                 0                    0  01-01-2013 09:21                 0  \n",
       "17                1                    0  01-01-2013 12:17                 0  \n",
       "24                0                    0  01-01-2013 14:40                 0  \n",
       "158               1                    0  01-03-2013 12:19                 0  \n",
       "216               1                    0  01-04-2013 09:32                 0  "
      ]
     },
     "execution_count": 28,
     "metadata": {},
     "output_type": "execute_result"
    }
   ],
   "source": [
    "# Since 'to_lat','to_long' have been dropped hence there is no requirement of from_lat and from_long, so drop them also.\n",
    "df1=df1.drop(['from_lat','from_long'],axis=1)\n",
    "df1.head()"
   ]
  },
  {
   "cell_type": "code",
   "execution_count": 29,
   "id": "5886cca0",
   "metadata": {},
   "outputs": [
    {
     "data": {
      "text/plain": [
       "85"
      ]
     },
     "execution_count": 29,
     "metadata": {},
     "output_type": "execute_result"
    }
   ],
   "source": [
    "df1['to_date'].isna().sum()\n",
    "# 85 null values, so fill up the mean value."
   ]
  },
  {
   "cell_type": "code",
   "execution_count": 30,
   "id": "adadaac8",
   "metadata": {},
   "outputs": [
    {
     "data": {
      "text/plain": [
       "41364.5134281189"
      ]
     },
     "execution_count": 30,
     "metadata": {},
     "output_type": "execute_result"
    }
   ],
   "source": [
    "mean_value=df1['to_date'].mean()\n",
    "mean_value"
   ]
  },
  {
   "cell_type": "code",
   "execution_count": 31,
   "id": "ba3d31f8",
   "metadata": {},
   "outputs": [],
   "source": [
    "df1['to_date'].fillna(mean_value,inplace=True)"
   ]
  },
  {
   "cell_type": "code",
   "execution_count": 32,
   "id": "c15e2eb1",
   "metadata": {},
   "outputs": [
    {
     "data": {
      "text/plain": [
       "0"
      ]
     },
     "execution_count": 32,
     "metadata": {},
     "output_type": "execute_result"
    }
   ],
   "source": [
    "df1['to_date'].isna().sum()"
   ]
  },
  {
   "cell_type": "code",
   "execution_count": 33,
   "id": "ce3ce321",
   "metadata": {},
   "outputs": [],
   "source": [
    "df1['to_date']=pd.to_datetime(df1['to_date'])"
   ]
  },
  {
   "cell_type": "code",
   "execution_count": 34,
   "id": "711d7bde",
   "metadata": {},
   "outputs": [
    {
     "data": {
      "text/plain": [
       "6     1970-01-01 00:00:00.000041275\n",
       "17    1970-01-01 00:00:00.000041288\n",
       "24    1970-01-01 00:00:00.000041279\n",
       "158   1970-01-01 00:00:00.000041278\n",
       "216   1970-01-01 00:00:00.000041280\n",
       "Name: to_date, dtype: datetime64[ns]"
      ]
     },
     "execution_count": 34,
     "metadata": {},
     "output_type": "execute_result"
    }
   ],
   "source": [
    "df1['to_date'].head()\n",
    "# We don't want this extra part 00:00:00.000041275"
   ]
  },
  {
   "cell_type": "code",
   "execution_count": 35,
   "id": "77b0ed2a",
   "metadata": {},
   "outputs": [
    {
     "data": {
      "text/plain": [
       "6      1970-01-01\n",
       "17     1970-01-01\n",
       "24     1970-01-01\n",
       "158    1970-01-01\n",
       "216    1970-01-01\n",
       "Name: to_date, dtype: object"
      ]
     },
     "execution_count": 35,
     "metadata": {},
     "output_type": "execute_result"
    }
   ],
   "source": [
    "df1['to_date']=df1['to_date'].dt.date\n",
    "df1['to_date'].head()\n",
    "# Its in object format so convert it back to datetime"
   ]
  },
  {
   "cell_type": "code",
   "execution_count": 36,
   "id": "66acceff",
   "metadata": {},
   "outputs": [
    {
     "data": {
      "text/plain": [
       "6     1970-01-01\n",
       "17    1970-01-01\n",
       "24    1970-01-01\n",
       "158   1970-01-01\n",
       "216   1970-01-01\n",
       "Name: to_date, dtype: datetime64[ns]"
      ]
     },
     "execution_count": 36,
     "metadata": {},
     "output_type": "execute_result"
    }
   ],
   "source": [
    "df1['to_date']=pd.to_datetime(df1['to_date'])\n",
    "df1['to_date'].head()"
   ]
  },
  {
   "cell_type": "code",
   "execution_count": 37,
   "id": "5c5dcd50",
   "metadata": {},
   "outputs": [],
   "source": [
    "df1['from_date']=pd.to_datetime(df1['from_date'])"
   ]
  },
  {
   "cell_type": "code",
   "execution_count": 38,
   "id": "e2e057d6",
   "metadata": {},
   "outputs": [
    {
     "data": {
      "text/plain": [
       "6     2013-01-01 09:45:00\n",
       "17    2013-01-12 08:00:00\n",
       "24    2013-01-05 08:30:00\n",
       "158   2013-01-04 09:30:00\n",
       "216   2013-01-06 07:30:00\n",
       "Name: from_date, dtype: datetime64[ns]"
      ]
     },
     "execution_count": 38,
     "metadata": {},
     "output_type": "execute_result"
    }
   ],
   "source": [
    "df1['from_date'].head()"
   ]
  },
  {
   "cell_type": "code",
   "execution_count": 39,
   "id": "9fbc3dfa",
   "metadata": {},
   "outputs": [
    {
     "name": "stdout",
     "output_type": "stream",
     "text": [
      "2013-01-01 09:45:00\n",
      "2014-01-06 05:00:00\n"
     ]
    }
   ],
   "source": [
    "print(df1['from_date'].min())\n",
    "print(df1['from_date'].max())"
   ]
  },
  {
   "cell_type": "code",
   "execution_count": 40,
   "id": "f95437af",
   "metadata": {},
   "outputs": [
    {
     "name": "stdout",
     "output_type": "stream",
     "text": [
      "1970-01-01 00:00:00\n",
      "1970-01-01 00:00:00\n"
     ]
    }
   ],
   "source": [
    "print(df1['to_date'].min())\n",
    "print(df1['to_date'].max())"
   ]
  },
  {
   "cell_type": "code",
   "execution_count": 41,
   "id": "51ca75fe",
   "metadata": {},
   "outputs": [],
   "source": [
    "# Now calculate the number of days spent in travel by using the formula: days_travelled = to_date - from_date\n",
    "df1['days_travelled']=abs(df1['to_date']-df1['from_date']).dt.days"
   ]
  },
  {
   "cell_type": "code",
   "execution_count": 42,
   "id": "a66049c0",
   "metadata": {},
   "outputs": [
    {
     "data": {
      "text/plain": [
       "6      15706\n",
       "17     15717\n",
       "24     15710\n",
       "158    15709\n",
       "216    15711\n",
       "233    15710\n",
       "234    15710\n",
       "243    15714\n",
       "328    15710\n",
       "332    15711\n",
       "374    15711\n",
       "422    15724\n",
       "485    15715\n",
       "610    15714\n",
       "668    15718\n",
       "669    15717\n",
       "704    15716\n",
       "717    15744\n",
       "738    15717\n",
       "779    15717\n",
       "Name: days_travelled, dtype: int64"
      ]
     },
     "execution_count": 42,
     "metadata": {},
     "output_type": "execute_result"
    }
   ],
   "source": [
    "df1['days_travelled'].head(20)"
   ]
  },
  {
   "cell_type": "code",
   "execution_count": 43,
   "id": "5ee3c1c3",
   "metadata": {},
   "outputs": [],
   "source": [
    "# wE can drop the to_date and days_travelled columns because to_date refers to 1970s and days_travelled means days spent in\n",
    "# travel between 1970s and 2013s, which here is meaningless. So drop these two columns."
   ]
  },
  {
   "cell_type": "code",
   "execution_count": 44,
   "id": "c5578044",
   "metadata": {},
   "outputs": [],
   "source": [
    "df1=df1.drop(['to_date','days_travelled'],axis=1)"
   ]
  },
  {
   "cell_type": "code",
   "execution_count": 45,
   "id": "6a70700e",
   "metadata": {},
   "outputs": [
    {
     "data": {
      "text/html": [
       "<div>\n",
       "<style scoped>\n",
       "    .dataframe tbody tr th:only-of-type {\n",
       "        vertical-align: middle;\n",
       "    }\n",
       "\n",
       "    .dataframe tbody tr th {\n",
       "        vertical-align: top;\n",
       "    }\n",
       "\n",
       "    .dataframe thead th {\n",
       "        text-align: right;\n",
       "    }\n",
       "</style>\n",
       "<table border=\"1\" class=\"dataframe\">\n",
       "  <thead>\n",
       "    <tr style=\"text-align: right;\">\n",
       "      <th></th>\n",
       "      <th>from_area_id</th>\n",
       "      <th>from_city_id</th>\n",
       "      <th>to_city_id</th>\n",
       "      <th>from_date</th>\n",
       "      <th>online_booking</th>\n",
       "      <th>mobile_site_booking</th>\n",
       "      <th>booking_created</th>\n",
       "      <th>Car_Cancellation</th>\n",
       "    </tr>\n",
       "  </thead>\n",
       "  <tbody>\n",
       "    <tr>\n",
       "      <th>6</th>\n",
       "      <td>571.0</td>\n",
       "      <td>15.0</td>\n",
       "      <td>108.0</td>\n",
       "      <td>2013-01-01 09:45:00</td>\n",
       "      <td>0</td>\n",
       "      <td>0</td>\n",
       "      <td>01-01-2013 09:21</td>\n",
       "      <td>0</td>\n",
       "    </tr>\n",
       "    <tr>\n",
       "      <th>17</th>\n",
       "      <td>1383.0</td>\n",
       "      <td>15.0</td>\n",
       "      <td>32.0</td>\n",
       "      <td>2013-01-12 08:00:00</td>\n",
       "      <td>1</td>\n",
       "      <td>0</td>\n",
       "      <td>01-01-2013 12:17</td>\n",
       "      <td>0</td>\n",
       "    </tr>\n",
       "    <tr>\n",
       "      <th>24</th>\n",
       "      <td>515.0</td>\n",
       "      <td>15.0</td>\n",
       "      <td>32.0</td>\n",
       "      <td>2013-01-05 08:30:00</td>\n",
       "      <td>0</td>\n",
       "      <td>0</td>\n",
       "      <td>01-01-2013 14:40</td>\n",
       "      <td>0</td>\n",
       "    </tr>\n",
       "    <tr>\n",
       "      <th>158</th>\n",
       "      <td>136.0</td>\n",
       "      <td>1.0</td>\n",
       "      <td>152.0</td>\n",
       "      <td>2013-01-04 09:30:00</td>\n",
       "      <td>1</td>\n",
       "      <td>0</td>\n",
       "      <td>01-03-2013 12:19</td>\n",
       "      <td>0</td>\n",
       "    </tr>\n",
       "    <tr>\n",
       "      <th>216</th>\n",
       "      <td>1118.0</td>\n",
       "      <td>15.0</td>\n",
       "      <td>32.0</td>\n",
       "      <td>2013-01-06 07:30:00</td>\n",
       "      <td>1</td>\n",
       "      <td>0</td>\n",
       "      <td>01-04-2013 09:32</td>\n",
       "      <td>0</td>\n",
       "    </tr>\n",
       "  </tbody>\n",
       "</table>\n",
       "</div>"
      ],
      "text/plain": [
       "     from_area_id  from_city_id  to_city_id           from_date  \\\n",
       "6           571.0          15.0       108.0 2013-01-01 09:45:00   \n",
       "17         1383.0          15.0        32.0 2013-01-12 08:00:00   \n",
       "24          515.0          15.0        32.0 2013-01-05 08:30:00   \n",
       "158         136.0           1.0       152.0 2013-01-04 09:30:00   \n",
       "216        1118.0          15.0        32.0 2013-01-06 07:30:00   \n",
       "\n",
       "     online_booking  mobile_site_booking   booking_created  Car_Cancellation  \n",
       "6                 0                    0  01-01-2013 09:21                 0  \n",
       "17                1                    0  01-01-2013 12:17                 0  \n",
       "24                0                    0  01-01-2013 14:40                 0  \n",
       "158               1                    0  01-03-2013 12:19                 0  \n",
       "216               1                    0  01-04-2013 09:32                 0  "
      ]
     },
     "execution_count": 45,
     "metadata": {},
     "output_type": "execute_result"
    }
   ],
   "source": [
    "df1.head()"
   ]
  },
  {
   "cell_type": "code",
   "execution_count": 46,
   "id": "38ce423c",
   "metadata": {},
   "outputs": [
    {
     "name": "stdout",
     "output_type": "stream",
     "text": [
      "<class 'pandas.core.frame.DataFrame'>\n",
      "Int64Index: 1589 entries, 6 to 43407\n",
      "Data columns (total 8 columns):\n",
      " #   Column               Non-Null Count  Dtype         \n",
      "---  ------               --------------  -----         \n",
      " 0   from_area_id         1501 non-null   float64       \n",
      " 1   from_city_id         1589 non-null   float64       \n",
      " 2   to_city_id           1589 non-null   float64       \n",
      " 3   from_date            1589 non-null   datetime64[ns]\n",
      " 4   online_booking       1589 non-null   int64         \n",
      " 5   mobile_site_booking  1589 non-null   int64         \n",
      " 6   booking_created      1589 non-null   object        \n",
      " 7   Car_Cancellation     1589 non-null   int64         \n",
      "dtypes: datetime64[ns](1), float64(3), int64(3), object(1)\n",
      "memory usage: 111.7+ KB\n"
     ]
    }
   ],
   "source": [
    "df1.info()"
   ]
  },
  {
   "cell_type": "code",
   "execution_count": 47,
   "id": "49856dd9",
   "metadata": {},
   "outputs": [],
   "source": [
    "df1['booking_created']=pd.to_datetime(df1['booking_created'])"
   ]
  },
  {
   "cell_type": "code",
   "execution_count": 48,
   "id": "8185f006",
   "metadata": {},
   "outputs": [
    {
     "name": "stdout",
     "output_type": "stream",
     "text": [
      "<class 'pandas.core.frame.DataFrame'>\n",
      "Int64Index: 1589 entries, 6 to 43407\n",
      "Data columns (total 8 columns):\n",
      " #   Column               Non-Null Count  Dtype         \n",
      "---  ------               --------------  -----         \n",
      " 0   from_area_id         1501 non-null   float64       \n",
      " 1   from_city_id         1589 non-null   float64       \n",
      " 2   to_city_id           1589 non-null   float64       \n",
      " 3   from_date            1589 non-null   datetime64[ns]\n",
      " 4   online_booking       1589 non-null   int64         \n",
      " 5   mobile_site_booking  1589 non-null   int64         \n",
      " 6   booking_created      1589 non-null   datetime64[ns]\n",
      " 7   Car_Cancellation     1589 non-null   int64         \n",
      "dtypes: datetime64[ns](2), float64(3), int64(3)\n",
      "memory usage: 111.7 KB\n"
     ]
    }
   ],
   "source": [
    "df1.info()"
   ]
  },
  {
   "cell_type": "code",
   "execution_count": 49,
   "id": "eba2c6b0",
   "metadata": {},
   "outputs": [
    {
     "data": {
      "text/plain": [
       "88"
      ]
     },
     "execution_count": 49,
     "metadata": {},
     "output_type": "execute_result"
    }
   ],
   "source": [
    "df1['from_area_id'].isna().sum()\n",
    "# 88 null values, so impute them by mode"
   ]
  },
  {
   "cell_type": "code",
   "execution_count": 50,
   "id": "2fe503ca",
   "metadata": {},
   "outputs": [
    {
     "data": {
      "text/plain": [
       "393.0"
      ]
     },
     "execution_count": 50,
     "metadata": {},
     "output_type": "execute_result"
    }
   ],
   "source": [
    "mode_value=df1['from_area_id'].mode()[0]\n",
    "mode_value"
   ]
  },
  {
   "cell_type": "code",
   "execution_count": 51,
   "id": "71ce8f8a",
   "metadata": {},
   "outputs": [],
   "source": [
    "df1['from_area_id'].fillna(mode_value,inplace=True)"
   ]
  },
  {
   "cell_type": "code",
   "execution_count": 52,
   "id": "5265a243",
   "metadata": {},
   "outputs": [
    {
     "data": {
      "text/plain": [
       "0"
      ]
     },
     "execution_count": 52,
     "metadata": {},
     "output_type": "execute_result"
    }
   ],
   "source": [
    "df1['from_area_id'].isna().sum()"
   ]
  },
  {
   "cell_type": "code",
   "execution_count": 53,
   "id": "6621b89d",
   "metadata": {},
   "outputs": [],
   "source": [
    "df1['from_area_id']=df1['from_area_id'].astype('int')"
   ]
  },
  {
   "cell_type": "code",
   "execution_count": 54,
   "id": "e8f30748",
   "metadata": {},
   "outputs": [],
   "source": [
    "df1['from_area_id']=df1['from_area_id'].astype('str')"
   ]
  },
  {
   "cell_type": "code",
   "execution_count": 55,
   "id": "cacc7f4f",
   "metadata": {},
   "outputs": [
    {
     "name": "stdout",
     "output_type": "stream",
     "text": [
      "<class 'pandas.core.frame.DataFrame'>\n",
      "Int64Index: 1589 entries, 6 to 43407\n",
      "Data columns (total 8 columns):\n",
      " #   Column               Non-Null Count  Dtype         \n",
      "---  ------               --------------  -----         \n",
      " 0   from_area_id         1589 non-null   object        \n",
      " 1   from_city_id         1589 non-null   float64       \n",
      " 2   to_city_id           1589 non-null   float64       \n",
      " 3   from_date            1589 non-null   datetime64[ns]\n",
      " 4   online_booking       1589 non-null   int64         \n",
      " 5   mobile_site_booking  1589 non-null   int64         \n",
      " 6   booking_created      1589 non-null   datetime64[ns]\n",
      " 7   Car_Cancellation     1589 non-null   int64         \n",
      "dtypes: datetime64[ns](2), float64(2), int64(3), object(1)\n",
      "memory usage: 111.7+ KB\n"
     ]
    }
   ],
   "source": [
    "df1.info()"
   ]
  },
  {
   "cell_type": "code",
   "execution_count": 56,
   "id": "280589d4",
   "metadata": {},
   "outputs": [],
   "source": [
    "df1['route_from_area_id']=df1['from_area_id']+'-->'"
   ]
  },
  {
   "cell_type": "code",
   "execution_count": 57,
   "id": "e46f722b",
   "metadata": {},
   "outputs": [
    {
     "data": {
      "text/html": [
       "<div>\n",
       "<style scoped>\n",
       "    .dataframe tbody tr th:only-of-type {\n",
       "        vertical-align: middle;\n",
       "    }\n",
       "\n",
       "    .dataframe tbody tr th {\n",
       "        vertical-align: top;\n",
       "    }\n",
       "\n",
       "    .dataframe thead th {\n",
       "        text-align: right;\n",
       "    }\n",
       "</style>\n",
       "<table border=\"1\" class=\"dataframe\">\n",
       "  <thead>\n",
       "    <tr style=\"text-align: right;\">\n",
       "      <th></th>\n",
       "      <th>from_area_id</th>\n",
       "      <th>from_city_id</th>\n",
       "      <th>to_city_id</th>\n",
       "      <th>from_date</th>\n",
       "      <th>online_booking</th>\n",
       "      <th>mobile_site_booking</th>\n",
       "      <th>booking_created</th>\n",
       "      <th>Car_Cancellation</th>\n",
       "      <th>route_from_area_id</th>\n",
       "    </tr>\n",
       "  </thead>\n",
       "  <tbody>\n",
       "    <tr>\n",
       "      <th>6</th>\n",
       "      <td>571</td>\n",
       "      <td>15.0</td>\n",
       "      <td>108.0</td>\n",
       "      <td>2013-01-01 09:45:00</td>\n",
       "      <td>0</td>\n",
       "      <td>0</td>\n",
       "      <td>2013-01-01 09:21:00</td>\n",
       "      <td>0</td>\n",
       "      <td>571--&gt;</td>\n",
       "    </tr>\n",
       "    <tr>\n",
       "      <th>17</th>\n",
       "      <td>1383</td>\n",
       "      <td>15.0</td>\n",
       "      <td>32.0</td>\n",
       "      <td>2013-01-12 08:00:00</td>\n",
       "      <td>1</td>\n",
       "      <td>0</td>\n",
       "      <td>2013-01-01 12:17:00</td>\n",
       "      <td>0</td>\n",
       "      <td>1383--&gt;</td>\n",
       "    </tr>\n",
       "    <tr>\n",
       "      <th>24</th>\n",
       "      <td>515</td>\n",
       "      <td>15.0</td>\n",
       "      <td>32.0</td>\n",
       "      <td>2013-01-05 08:30:00</td>\n",
       "      <td>0</td>\n",
       "      <td>0</td>\n",
       "      <td>2013-01-01 14:40:00</td>\n",
       "      <td>0</td>\n",
       "      <td>515--&gt;</td>\n",
       "    </tr>\n",
       "    <tr>\n",
       "      <th>158</th>\n",
       "      <td>136</td>\n",
       "      <td>1.0</td>\n",
       "      <td>152.0</td>\n",
       "      <td>2013-01-04 09:30:00</td>\n",
       "      <td>1</td>\n",
       "      <td>0</td>\n",
       "      <td>2013-01-03 12:19:00</td>\n",
       "      <td>0</td>\n",
       "      <td>136--&gt;</td>\n",
       "    </tr>\n",
       "    <tr>\n",
       "      <th>216</th>\n",
       "      <td>1118</td>\n",
       "      <td>15.0</td>\n",
       "      <td>32.0</td>\n",
       "      <td>2013-01-06 07:30:00</td>\n",
       "      <td>1</td>\n",
       "      <td>0</td>\n",
       "      <td>2013-01-04 09:32:00</td>\n",
       "      <td>0</td>\n",
       "      <td>1118--&gt;</td>\n",
       "    </tr>\n",
       "  </tbody>\n",
       "</table>\n",
       "</div>"
      ],
      "text/plain": [
       "    from_area_id  from_city_id  to_city_id           from_date  \\\n",
       "6            571          15.0       108.0 2013-01-01 09:45:00   \n",
       "17          1383          15.0        32.0 2013-01-12 08:00:00   \n",
       "24           515          15.0        32.0 2013-01-05 08:30:00   \n",
       "158          136           1.0       152.0 2013-01-04 09:30:00   \n",
       "216         1118          15.0        32.0 2013-01-06 07:30:00   \n",
       "\n",
       "     online_booking  mobile_site_booking     booking_created  \\\n",
       "6                 0                    0 2013-01-01 09:21:00   \n",
       "17                1                    0 2013-01-01 12:17:00   \n",
       "24                0                    0 2013-01-01 14:40:00   \n",
       "158               1                    0 2013-01-03 12:19:00   \n",
       "216               1                    0 2013-01-04 09:32:00   \n",
       "\n",
       "     Car_Cancellation route_from_area_id  \n",
       "6                   0             571-->  \n",
       "17                  0            1383-->  \n",
       "24                  0             515-->  \n",
       "158                 0             136-->  \n",
       "216                 0            1118-->  "
      ]
     },
     "execution_count": 57,
     "metadata": {},
     "output_type": "execute_result"
    }
   ],
   "source": [
    "df1.head()"
   ]
  },
  {
   "cell_type": "code",
   "execution_count": 58,
   "id": "520678bc",
   "metadata": {},
   "outputs": [
    {
     "data": {
      "text/plain": [
       "route_from_area_id\n",
       "1010-->    0.0\n",
       "1012-->    0.0\n",
       "1013-->    0.0\n",
       "1017-->    0.0\n",
       "1021-->    0.0\n",
       "          ... \n",
       "949-->     0.0\n",
       "953-->     0.0\n",
       "974-->     0.0\n",
       "977-->     0.0\n",
       "988-->     0.0\n",
       "Name: Car_Cancellation, Length: 297, dtype: float64"
      ]
     },
     "execution_count": 58,
     "metadata": {},
     "output_type": "execute_result"
    }
   ],
   "source": [
    "# Cancellation percentages\n",
    "canc_route_from_area_mean=df1.groupby('route_from_area_id').mean()['Car_Cancellation']\n",
    "canc_route_from_area_mean"
   ]
  },
  {
   "cell_type": "code",
   "execution_count": 59,
   "id": "d8276b73",
   "metadata": {},
   "outputs": [
    {
     "data": {
      "text/html": [
       "<div>\n",
       "<style scoped>\n",
       "    .dataframe tbody tr th:only-of-type {\n",
       "        vertical-align: middle;\n",
       "    }\n",
       "\n",
       "    .dataframe tbody tr th {\n",
       "        vertical-align: top;\n",
       "    }\n",
       "\n",
       "    .dataframe thead th {\n",
       "        text-align: right;\n",
       "    }\n",
       "</style>\n",
       "<table border=\"1\" class=\"dataframe\">\n",
       "  <thead>\n",
       "    <tr style=\"text-align: right;\">\n",
       "      <th></th>\n",
       "      <th>from_area_id</th>\n",
       "      <th>from_city_id</th>\n",
       "      <th>to_city_id</th>\n",
       "      <th>from_date</th>\n",
       "      <th>online_booking</th>\n",
       "      <th>mobile_site_booking</th>\n",
       "      <th>booking_created</th>\n",
       "      <th>Car_Cancellation</th>\n",
       "      <th>route_from_area_id</th>\n",
       "      <th>canc_route_from_area_mean</th>\n",
       "    </tr>\n",
       "  </thead>\n",
       "  <tbody>\n",
       "    <tr>\n",
       "      <th>6</th>\n",
       "      <td>571</td>\n",
       "      <td>15.0</td>\n",
       "      <td>108.0</td>\n",
       "      <td>2013-01-01 09:45:00</td>\n",
       "      <td>0</td>\n",
       "      <td>0</td>\n",
       "      <td>2013-01-01 09:21:00</td>\n",
       "      <td>0</td>\n",
       "      <td>571--&gt;</td>\n",
       "      <td>0.020408</td>\n",
       "    </tr>\n",
       "    <tr>\n",
       "      <th>17</th>\n",
       "      <td>1383</td>\n",
       "      <td>15.0</td>\n",
       "      <td>32.0</td>\n",
       "      <td>2013-01-12 08:00:00</td>\n",
       "      <td>1</td>\n",
       "      <td>0</td>\n",
       "      <td>2013-01-01 12:17:00</td>\n",
       "      <td>0</td>\n",
       "      <td>1383--&gt;</td>\n",
       "      <td>0.000000</td>\n",
       "    </tr>\n",
       "    <tr>\n",
       "      <th>24</th>\n",
       "      <td>515</td>\n",
       "      <td>15.0</td>\n",
       "      <td>32.0</td>\n",
       "      <td>2013-01-05 08:30:00</td>\n",
       "      <td>0</td>\n",
       "      <td>0</td>\n",
       "      <td>2013-01-01 14:40:00</td>\n",
       "      <td>0</td>\n",
       "      <td>515--&gt;</td>\n",
       "      <td>0.000000</td>\n",
       "    </tr>\n",
       "    <tr>\n",
       "      <th>158</th>\n",
       "      <td>136</td>\n",
       "      <td>1.0</td>\n",
       "      <td>152.0</td>\n",
       "      <td>2013-01-04 09:30:00</td>\n",
       "      <td>1</td>\n",
       "      <td>0</td>\n",
       "      <td>2013-01-03 12:19:00</td>\n",
       "      <td>0</td>\n",
       "      <td>136--&gt;</td>\n",
       "      <td>0.000000</td>\n",
       "    </tr>\n",
       "    <tr>\n",
       "      <th>216</th>\n",
       "      <td>1118</td>\n",
       "      <td>15.0</td>\n",
       "      <td>32.0</td>\n",
       "      <td>2013-01-06 07:30:00</td>\n",
       "      <td>1</td>\n",
       "      <td>0</td>\n",
       "      <td>2013-01-04 09:32:00</td>\n",
       "      <td>0</td>\n",
       "      <td>1118--&gt;</td>\n",
       "      <td>0.000000</td>\n",
       "    </tr>\n",
       "  </tbody>\n",
       "</table>\n",
       "</div>"
      ],
      "text/plain": [
       "    from_area_id  from_city_id  to_city_id           from_date  \\\n",
       "6            571          15.0       108.0 2013-01-01 09:45:00   \n",
       "17          1383          15.0        32.0 2013-01-12 08:00:00   \n",
       "24           515          15.0        32.0 2013-01-05 08:30:00   \n",
       "158          136           1.0       152.0 2013-01-04 09:30:00   \n",
       "216         1118          15.0        32.0 2013-01-06 07:30:00   \n",
       "\n",
       "     online_booking  mobile_site_booking     booking_created  \\\n",
       "6                 0                    0 2013-01-01 09:21:00   \n",
       "17                1                    0 2013-01-01 12:17:00   \n",
       "24                0                    0 2013-01-01 14:40:00   \n",
       "158               1                    0 2013-01-03 12:19:00   \n",
       "216               1                    0 2013-01-04 09:32:00   \n",
       "\n",
       "     Car_Cancellation route_from_area_id  canc_route_from_area_mean  \n",
       "6                   0             571-->                   0.020408  \n",
       "17                  0            1383-->                   0.000000  \n",
       "24                  0             515-->                   0.000000  \n",
       "158                 0             136-->                   0.000000  \n",
       "216                 0            1118-->                   0.000000  "
      ]
     },
     "execution_count": 59,
     "metadata": {},
     "output_type": "execute_result"
    }
   ],
   "source": [
    "df1['canc_route_from_area_mean']=df1['route_from_area_id'].map(canc_route_from_area_mean)\n",
    "df1.head()"
   ]
  },
  {
   "cell_type": "code",
   "execution_count": 60,
   "id": "9e7d90a7",
   "metadata": {},
   "outputs": [],
   "source": [
    "df1['canc_route_from_area_perc']=df1['canc_route_from_area_mean']*100"
   ]
  },
  {
   "cell_type": "code",
   "execution_count": 61,
   "id": "545ea62d",
   "metadata": {},
   "outputs": [],
   "source": [
    "df1.drop('canc_route_from_area_mean',axis=1,inplace=True)"
   ]
  },
  {
   "cell_type": "code",
   "execution_count": 62,
   "id": "167053a1",
   "metadata": {},
   "outputs": [
    {
     "data": {
      "text/html": [
       "<div>\n",
       "<style scoped>\n",
       "    .dataframe tbody tr th:only-of-type {\n",
       "        vertical-align: middle;\n",
       "    }\n",
       "\n",
       "    .dataframe tbody tr th {\n",
       "        vertical-align: top;\n",
       "    }\n",
       "\n",
       "    .dataframe thead th {\n",
       "        text-align: right;\n",
       "    }\n",
       "</style>\n",
       "<table border=\"1\" class=\"dataframe\">\n",
       "  <thead>\n",
       "    <tr style=\"text-align: right;\">\n",
       "      <th></th>\n",
       "      <th>from_area_id</th>\n",
       "      <th>from_city_id</th>\n",
       "      <th>to_city_id</th>\n",
       "      <th>from_date</th>\n",
       "      <th>online_booking</th>\n",
       "      <th>mobile_site_booking</th>\n",
       "      <th>booking_created</th>\n",
       "      <th>Car_Cancellation</th>\n",
       "      <th>route_from_area_id</th>\n",
       "      <th>canc_route_from_area_perc</th>\n",
       "    </tr>\n",
       "  </thead>\n",
       "  <tbody>\n",
       "    <tr>\n",
       "      <th>6</th>\n",
       "      <td>571</td>\n",
       "      <td>15.0</td>\n",
       "      <td>108.0</td>\n",
       "      <td>2013-01-01 09:45:00</td>\n",
       "      <td>0</td>\n",
       "      <td>0</td>\n",
       "      <td>2013-01-01 09:21:00</td>\n",
       "      <td>0</td>\n",
       "      <td>571--&gt;</td>\n",
       "      <td>2.040816</td>\n",
       "    </tr>\n",
       "    <tr>\n",
       "      <th>17</th>\n",
       "      <td>1383</td>\n",
       "      <td>15.0</td>\n",
       "      <td>32.0</td>\n",
       "      <td>2013-01-12 08:00:00</td>\n",
       "      <td>1</td>\n",
       "      <td>0</td>\n",
       "      <td>2013-01-01 12:17:00</td>\n",
       "      <td>0</td>\n",
       "      <td>1383--&gt;</td>\n",
       "      <td>0.000000</td>\n",
       "    </tr>\n",
       "    <tr>\n",
       "      <th>24</th>\n",
       "      <td>515</td>\n",
       "      <td>15.0</td>\n",
       "      <td>32.0</td>\n",
       "      <td>2013-01-05 08:30:00</td>\n",
       "      <td>0</td>\n",
       "      <td>0</td>\n",
       "      <td>2013-01-01 14:40:00</td>\n",
       "      <td>0</td>\n",
       "      <td>515--&gt;</td>\n",
       "      <td>0.000000</td>\n",
       "    </tr>\n",
       "    <tr>\n",
       "      <th>158</th>\n",
       "      <td>136</td>\n",
       "      <td>1.0</td>\n",
       "      <td>152.0</td>\n",
       "      <td>2013-01-04 09:30:00</td>\n",
       "      <td>1</td>\n",
       "      <td>0</td>\n",
       "      <td>2013-01-03 12:19:00</td>\n",
       "      <td>0</td>\n",
       "      <td>136--&gt;</td>\n",
       "      <td>0.000000</td>\n",
       "    </tr>\n",
       "    <tr>\n",
       "      <th>216</th>\n",
       "      <td>1118</td>\n",
       "      <td>15.0</td>\n",
       "      <td>32.0</td>\n",
       "      <td>2013-01-06 07:30:00</td>\n",
       "      <td>1</td>\n",
       "      <td>0</td>\n",
       "      <td>2013-01-04 09:32:00</td>\n",
       "      <td>0</td>\n",
       "      <td>1118--&gt;</td>\n",
       "      <td>0.000000</td>\n",
       "    </tr>\n",
       "  </tbody>\n",
       "</table>\n",
       "</div>"
      ],
      "text/plain": [
       "    from_area_id  from_city_id  to_city_id           from_date  \\\n",
       "6            571          15.0       108.0 2013-01-01 09:45:00   \n",
       "17          1383          15.0        32.0 2013-01-12 08:00:00   \n",
       "24           515          15.0        32.0 2013-01-05 08:30:00   \n",
       "158          136           1.0       152.0 2013-01-04 09:30:00   \n",
       "216         1118          15.0        32.0 2013-01-06 07:30:00   \n",
       "\n",
       "     online_booking  mobile_site_booking     booking_created  \\\n",
       "6                 0                    0 2013-01-01 09:21:00   \n",
       "17                1                    0 2013-01-01 12:17:00   \n",
       "24                0                    0 2013-01-01 14:40:00   \n",
       "158               1                    0 2013-01-03 12:19:00   \n",
       "216               1                    0 2013-01-04 09:32:00   \n",
       "\n",
       "     Car_Cancellation route_from_area_id  canc_route_from_area_perc  \n",
       "6                   0             571-->                   2.040816  \n",
       "17                  0            1383-->                   0.000000  \n",
       "24                  0             515-->                   0.000000  \n",
       "158                 0             136-->                   0.000000  \n",
       "216                 0            1118-->                   0.000000  "
      ]
     },
     "execution_count": 62,
     "metadata": {},
     "output_type": "execute_result"
    }
   ],
   "source": [
    "df1.head()"
   ]
  },
  {
   "cell_type": "code",
   "execution_count": 63,
   "id": "3a6d0f4f",
   "metadata": {},
   "outputs": [
    {
     "data": {
      "text/html": [
       "<div>\n",
       "<style scoped>\n",
       "    .dataframe tbody tr th:only-of-type {\n",
       "        vertical-align: middle;\n",
       "    }\n",
       "\n",
       "    .dataframe tbody tr th {\n",
       "        vertical-align: top;\n",
       "    }\n",
       "\n",
       "    .dataframe thead th {\n",
       "        text-align: right;\n",
       "    }\n",
       "</style>\n",
       "<table border=\"1\" class=\"dataframe\">\n",
       "  <thead>\n",
       "    <tr style=\"text-align: right;\">\n",
       "      <th></th>\n",
       "      <th>from_city_id</th>\n",
       "      <th>to_city_id</th>\n",
       "      <th>online_booking</th>\n",
       "      <th>mobile_site_booking</th>\n",
       "      <th>Car_Cancellation</th>\n",
       "      <th>canc_route_from_area_perc</th>\n",
       "    </tr>\n",
       "  </thead>\n",
       "  <tbody>\n",
       "    <tr>\n",
       "      <th>count</th>\n",
       "      <td>1589.000000</td>\n",
       "      <td>1589.000000</td>\n",
       "      <td>1589.000000</td>\n",
       "      <td>1589.000000</td>\n",
       "      <td>1589.000000</td>\n",
       "      <td>1589.000000</td>\n",
       "    </tr>\n",
       "    <tr>\n",
       "      <th>mean</th>\n",
       "      <td>14.126495</td>\n",
       "      <td>68.514789</td>\n",
       "      <td>0.427313</td>\n",
       "      <td>0.018880</td>\n",
       "      <td>0.013216</td>\n",
       "      <td>1.321586</td>\n",
       "    </tr>\n",
       "    <tr>\n",
       "      <th>std</th>\n",
       "      <td>3.645118</td>\n",
       "      <td>49.873448</td>\n",
       "      <td>0.494844</td>\n",
       "      <td>0.136143</td>\n",
       "      <td>0.114234</td>\n",
       "      <td>4.423861</td>\n",
       "    </tr>\n",
       "    <tr>\n",
       "      <th>min</th>\n",
       "      <td>1.000000</td>\n",
       "      <td>4.000000</td>\n",
       "      <td>0.000000</td>\n",
       "      <td>0.000000</td>\n",
       "      <td>0.000000</td>\n",
       "      <td>0.000000</td>\n",
       "    </tr>\n",
       "    <tr>\n",
       "      <th>25%</th>\n",
       "      <td>15.000000</td>\n",
       "      <td>32.000000</td>\n",
       "      <td>0.000000</td>\n",
       "      <td>0.000000</td>\n",
       "      <td>0.000000</td>\n",
       "      <td>0.000000</td>\n",
       "    </tr>\n",
       "    <tr>\n",
       "      <th>50%</th>\n",
       "      <td>15.000000</td>\n",
       "      <td>49.000000</td>\n",
       "      <td>0.000000</td>\n",
       "      <td>0.000000</td>\n",
       "      <td>0.000000</td>\n",
       "      <td>0.000000</td>\n",
       "    </tr>\n",
       "    <tr>\n",
       "      <th>75%</th>\n",
       "      <td>15.000000</td>\n",
       "      <td>108.000000</td>\n",
       "      <td>1.000000</td>\n",
       "      <td>0.000000</td>\n",
       "      <td>0.000000</td>\n",
       "      <td>0.869565</td>\n",
       "    </tr>\n",
       "    <tr>\n",
       "      <th>max</th>\n",
       "      <td>31.000000</td>\n",
       "      <td>203.000000</td>\n",
       "      <td>1.000000</td>\n",
       "      <td>1.000000</td>\n",
       "      <td>1.000000</td>\n",
       "      <td>50.000000</td>\n",
       "    </tr>\n",
       "  </tbody>\n",
       "</table>\n",
       "</div>"
      ],
      "text/plain": [
       "       from_city_id   to_city_id  online_booking  mobile_site_booking  \\\n",
       "count   1589.000000  1589.000000     1589.000000          1589.000000   \n",
       "mean      14.126495    68.514789        0.427313             0.018880   \n",
       "std        3.645118    49.873448        0.494844             0.136143   \n",
       "min        1.000000     4.000000        0.000000             0.000000   \n",
       "25%       15.000000    32.000000        0.000000             0.000000   \n",
       "50%       15.000000    49.000000        0.000000             0.000000   \n",
       "75%       15.000000   108.000000        1.000000             0.000000   \n",
       "max       31.000000   203.000000        1.000000             1.000000   \n",
       "\n",
       "       Car_Cancellation  canc_route_from_area_perc  \n",
       "count       1589.000000                1589.000000  \n",
       "mean           0.013216                   1.321586  \n",
       "std            0.114234                   4.423861  \n",
       "min            0.000000                   0.000000  \n",
       "25%            0.000000                   0.000000  \n",
       "50%            0.000000                   0.000000  \n",
       "75%            0.000000                   0.869565  \n",
       "max            1.000000                  50.000000  "
      ]
     },
     "execution_count": 63,
     "metadata": {},
     "output_type": "execute_result"
    }
   ],
   "source": [
    "df1.describe()"
   ]
  },
  {
   "cell_type": "code",
   "execution_count": 64,
   "id": "bee0bad5",
   "metadata": {},
   "outputs": [],
   "source": [
    "# Now out of 1589 rows some 20 odd rows have 1 value only that is cancellations are very few here. \n",
    "# Min is 0% cancellations, 25% of the routes have 0% cancellations, 50% of the routes have 0% cancellations, 75% of the routes have\n",
    "# 0.87% cancellations and max cancellation of a route/routes is 50%."
   ]
  },
  {
   "cell_type": "code",
   "execution_count": 65,
   "id": "19204321",
   "metadata": {},
   "outputs": [],
   "source": [
    "# Now, create tags\n",
    "def percentage(x):\n",
    "    if x==0:\n",
    "        return 'Zero'\n",
    "    elif x<=0.87:\n",
    "        return 'Low'\n",
    "    elif x<=25:\n",
    "        return 'Medium'\n",
    "    else:\n",
    "        return 'High'"
   ]
  },
  {
   "cell_type": "code",
   "execution_count": 66,
   "id": "a11fb89c",
   "metadata": {},
   "outputs": [],
   "source": [
    "df1['Canc_Tags_from_area']=df1['canc_route_from_area_perc'].apply(percentage)"
   ]
  },
  {
   "cell_type": "code",
   "execution_count": 67,
   "id": "659640cd",
   "metadata": {},
   "outputs": [
    {
     "data": {
      "text/html": [
       "<div>\n",
       "<style scoped>\n",
       "    .dataframe tbody tr th:only-of-type {\n",
       "        vertical-align: middle;\n",
       "    }\n",
       "\n",
       "    .dataframe tbody tr th {\n",
       "        vertical-align: top;\n",
       "    }\n",
       "\n",
       "    .dataframe thead th {\n",
       "        text-align: right;\n",
       "    }\n",
       "</style>\n",
       "<table border=\"1\" class=\"dataframe\">\n",
       "  <thead>\n",
       "    <tr style=\"text-align: right;\">\n",
       "      <th></th>\n",
       "      <th>from_area_id</th>\n",
       "      <th>from_city_id</th>\n",
       "      <th>to_city_id</th>\n",
       "      <th>from_date</th>\n",
       "      <th>online_booking</th>\n",
       "      <th>mobile_site_booking</th>\n",
       "      <th>booking_created</th>\n",
       "      <th>Car_Cancellation</th>\n",
       "      <th>route_from_area_id</th>\n",
       "      <th>canc_route_from_area_perc</th>\n",
       "      <th>Canc_Tags_from_area</th>\n",
       "    </tr>\n",
       "  </thead>\n",
       "  <tbody>\n",
       "    <tr>\n",
       "      <th>6</th>\n",
       "      <td>571</td>\n",
       "      <td>15.0</td>\n",
       "      <td>108.0</td>\n",
       "      <td>2013-01-01 09:45:00</td>\n",
       "      <td>0</td>\n",
       "      <td>0</td>\n",
       "      <td>2013-01-01 09:21:00</td>\n",
       "      <td>0</td>\n",
       "      <td>571--&gt;</td>\n",
       "      <td>2.040816</td>\n",
       "      <td>Medium</td>\n",
       "    </tr>\n",
       "    <tr>\n",
       "      <th>17</th>\n",
       "      <td>1383</td>\n",
       "      <td>15.0</td>\n",
       "      <td>32.0</td>\n",
       "      <td>2013-01-12 08:00:00</td>\n",
       "      <td>1</td>\n",
       "      <td>0</td>\n",
       "      <td>2013-01-01 12:17:00</td>\n",
       "      <td>0</td>\n",
       "      <td>1383--&gt;</td>\n",
       "      <td>0.000000</td>\n",
       "      <td>Zero</td>\n",
       "    </tr>\n",
       "    <tr>\n",
       "      <th>24</th>\n",
       "      <td>515</td>\n",
       "      <td>15.0</td>\n",
       "      <td>32.0</td>\n",
       "      <td>2013-01-05 08:30:00</td>\n",
       "      <td>0</td>\n",
       "      <td>0</td>\n",
       "      <td>2013-01-01 14:40:00</td>\n",
       "      <td>0</td>\n",
       "      <td>515--&gt;</td>\n",
       "      <td>0.000000</td>\n",
       "      <td>Zero</td>\n",
       "    </tr>\n",
       "    <tr>\n",
       "      <th>158</th>\n",
       "      <td>136</td>\n",
       "      <td>1.0</td>\n",
       "      <td>152.0</td>\n",
       "      <td>2013-01-04 09:30:00</td>\n",
       "      <td>1</td>\n",
       "      <td>0</td>\n",
       "      <td>2013-01-03 12:19:00</td>\n",
       "      <td>0</td>\n",
       "      <td>136--&gt;</td>\n",
       "      <td>0.000000</td>\n",
       "      <td>Zero</td>\n",
       "    </tr>\n",
       "    <tr>\n",
       "      <th>216</th>\n",
       "      <td>1118</td>\n",
       "      <td>15.0</td>\n",
       "      <td>32.0</td>\n",
       "      <td>2013-01-06 07:30:00</td>\n",
       "      <td>1</td>\n",
       "      <td>0</td>\n",
       "      <td>2013-01-04 09:32:00</td>\n",
       "      <td>0</td>\n",
       "      <td>1118--&gt;</td>\n",
       "      <td>0.000000</td>\n",
       "      <td>Zero</td>\n",
       "    </tr>\n",
       "  </tbody>\n",
       "</table>\n",
       "</div>"
      ],
      "text/plain": [
       "    from_area_id  from_city_id  to_city_id           from_date  \\\n",
       "6            571          15.0       108.0 2013-01-01 09:45:00   \n",
       "17          1383          15.0        32.0 2013-01-12 08:00:00   \n",
       "24           515          15.0        32.0 2013-01-05 08:30:00   \n",
       "158          136           1.0       152.0 2013-01-04 09:30:00   \n",
       "216         1118          15.0        32.0 2013-01-06 07:30:00   \n",
       "\n",
       "     online_booking  mobile_site_booking     booking_created  \\\n",
       "6                 0                    0 2013-01-01 09:21:00   \n",
       "17                1                    0 2013-01-01 12:17:00   \n",
       "24                0                    0 2013-01-01 14:40:00   \n",
       "158               1                    0 2013-01-03 12:19:00   \n",
       "216               1                    0 2013-01-04 09:32:00   \n",
       "\n",
       "     Car_Cancellation route_from_area_id  canc_route_from_area_perc  \\\n",
       "6                   0             571-->                   2.040816   \n",
       "17                  0            1383-->                   0.000000   \n",
       "24                  0             515-->                   0.000000   \n",
       "158                 0             136-->                   0.000000   \n",
       "216                 0            1118-->                   0.000000   \n",
       "\n",
       "    Canc_Tags_from_area  \n",
       "6                Medium  \n",
       "17                 Zero  \n",
       "24                 Zero  \n",
       "158                Zero  \n",
       "216                Zero  "
      ]
     },
     "execution_count": 67,
     "metadata": {},
     "output_type": "execute_result"
    }
   ],
   "source": [
    "df1.head()"
   ]
  },
  {
   "cell_type": "code",
   "execution_count": 68,
   "id": "85f2c038",
   "metadata": {},
   "outputs": [],
   "source": [
    "df1.drop('canc_route_from_area_perc',axis=1,inplace=True)"
   ]
  },
  {
   "cell_type": "code",
   "execution_count": 69,
   "id": "cb766057",
   "metadata": {},
   "outputs": [
    {
     "data": {
      "text/html": [
       "<div>\n",
       "<style scoped>\n",
       "    .dataframe tbody tr th:only-of-type {\n",
       "        vertical-align: middle;\n",
       "    }\n",
       "\n",
       "    .dataframe tbody tr th {\n",
       "        vertical-align: top;\n",
       "    }\n",
       "\n",
       "    .dataframe thead th {\n",
       "        text-align: right;\n",
       "    }\n",
       "</style>\n",
       "<table border=\"1\" class=\"dataframe\">\n",
       "  <thead>\n",
       "    <tr style=\"text-align: right;\">\n",
       "      <th></th>\n",
       "      <th>from_area_id</th>\n",
       "      <th>from_city_id</th>\n",
       "      <th>to_city_id</th>\n",
       "      <th>from_date</th>\n",
       "      <th>online_booking</th>\n",
       "      <th>mobile_site_booking</th>\n",
       "      <th>booking_created</th>\n",
       "      <th>Car_Cancellation</th>\n",
       "      <th>route_from_area_id</th>\n",
       "      <th>Canc_Tags_from_area</th>\n",
       "    </tr>\n",
       "  </thead>\n",
       "  <tbody>\n",
       "    <tr>\n",
       "      <th>6</th>\n",
       "      <td>571</td>\n",
       "      <td>15.0</td>\n",
       "      <td>108.0</td>\n",
       "      <td>2013-01-01 09:45:00</td>\n",
       "      <td>0</td>\n",
       "      <td>0</td>\n",
       "      <td>2013-01-01 09:21:00</td>\n",
       "      <td>0</td>\n",
       "      <td>571--&gt;</td>\n",
       "      <td>Medium</td>\n",
       "    </tr>\n",
       "    <tr>\n",
       "      <th>17</th>\n",
       "      <td>1383</td>\n",
       "      <td>15.0</td>\n",
       "      <td>32.0</td>\n",
       "      <td>2013-01-12 08:00:00</td>\n",
       "      <td>1</td>\n",
       "      <td>0</td>\n",
       "      <td>2013-01-01 12:17:00</td>\n",
       "      <td>0</td>\n",
       "      <td>1383--&gt;</td>\n",
       "      <td>Zero</td>\n",
       "    </tr>\n",
       "    <tr>\n",
       "      <th>24</th>\n",
       "      <td>515</td>\n",
       "      <td>15.0</td>\n",
       "      <td>32.0</td>\n",
       "      <td>2013-01-05 08:30:00</td>\n",
       "      <td>0</td>\n",
       "      <td>0</td>\n",
       "      <td>2013-01-01 14:40:00</td>\n",
       "      <td>0</td>\n",
       "      <td>515--&gt;</td>\n",
       "      <td>Zero</td>\n",
       "    </tr>\n",
       "    <tr>\n",
       "      <th>158</th>\n",
       "      <td>136</td>\n",
       "      <td>1.0</td>\n",
       "      <td>152.0</td>\n",
       "      <td>2013-01-04 09:30:00</td>\n",
       "      <td>1</td>\n",
       "      <td>0</td>\n",
       "      <td>2013-01-03 12:19:00</td>\n",
       "      <td>0</td>\n",
       "      <td>136--&gt;</td>\n",
       "      <td>Zero</td>\n",
       "    </tr>\n",
       "    <tr>\n",
       "      <th>216</th>\n",
       "      <td>1118</td>\n",
       "      <td>15.0</td>\n",
       "      <td>32.0</td>\n",
       "      <td>2013-01-06 07:30:00</td>\n",
       "      <td>1</td>\n",
       "      <td>0</td>\n",
       "      <td>2013-01-04 09:32:00</td>\n",
       "      <td>0</td>\n",
       "      <td>1118--&gt;</td>\n",
       "      <td>Zero</td>\n",
       "    </tr>\n",
       "  </tbody>\n",
       "</table>\n",
       "</div>"
      ],
      "text/plain": [
       "    from_area_id  from_city_id  to_city_id           from_date  \\\n",
       "6            571          15.0       108.0 2013-01-01 09:45:00   \n",
       "17          1383          15.0        32.0 2013-01-12 08:00:00   \n",
       "24           515          15.0        32.0 2013-01-05 08:30:00   \n",
       "158          136           1.0       152.0 2013-01-04 09:30:00   \n",
       "216         1118          15.0        32.0 2013-01-06 07:30:00   \n",
       "\n",
       "     online_booking  mobile_site_booking     booking_created  \\\n",
       "6                 0                    0 2013-01-01 09:21:00   \n",
       "17                1                    0 2013-01-01 12:17:00   \n",
       "24                0                    0 2013-01-01 14:40:00   \n",
       "158               1                    0 2013-01-03 12:19:00   \n",
       "216               1                    0 2013-01-04 09:32:00   \n",
       "\n",
       "     Car_Cancellation route_from_area_id Canc_Tags_from_area  \n",
       "6                   0             571-->              Medium  \n",
       "17                  0            1383-->                Zero  \n",
       "24                  0             515-->                Zero  \n",
       "158                 0             136-->                Zero  \n",
       "216                 0            1118-->                Zero  "
      ]
     },
     "execution_count": 69,
     "metadata": {},
     "output_type": "execute_result"
    }
   ],
   "source": [
    "df1.head()"
   ]
  },
  {
   "cell_type": "code",
   "execution_count": 70,
   "id": "4f0c378b",
   "metadata": {},
   "outputs": [
    {
     "data": {
      "text/plain": [
       "route_from_area_id\n",
       "1010-->    1.321586\n",
       "1012-->    0.251731\n",
       "1013-->    0.251731\n",
       "1017-->    0.251731\n",
       "1021-->    0.251731\n",
       "             ...   \n",
       "949-->     0.314663\n",
       "953-->     0.062933\n",
       "974-->     0.251731\n",
       "977-->     0.377596\n",
       "988-->     0.188798\n",
       "Name: from_area_id, Length: 297, dtype: float64"
      ]
     },
     "execution_count": 70,
     "metadata": {},
     "output_type": "execute_result"
    }
   ],
   "source": [
    "# booking percentages per route\n",
    "book_route_from_area_perc=(df1.groupby('route_from_area_id').count()['from_area_id']/df1.shape[0])*100\n",
    "book_route_from_area_perc"
   ]
  },
  {
   "cell_type": "code",
   "execution_count": 71,
   "id": "a9e6d804",
   "metadata": {},
   "outputs": [],
   "source": [
    "df1['book_route_from_area_perc']=df1['route_from_area_id'].map(book_route_from_area_perc)"
   ]
  },
  {
   "cell_type": "code",
   "execution_count": 72,
   "id": "c8584a6b",
   "metadata": {},
   "outputs": [
    {
     "data": {
      "text/html": [
       "<div>\n",
       "<style scoped>\n",
       "    .dataframe tbody tr th:only-of-type {\n",
       "        vertical-align: middle;\n",
       "    }\n",
       "\n",
       "    .dataframe tbody tr th {\n",
       "        vertical-align: top;\n",
       "    }\n",
       "\n",
       "    .dataframe thead th {\n",
       "        text-align: right;\n",
       "    }\n",
       "</style>\n",
       "<table border=\"1\" class=\"dataframe\">\n",
       "  <thead>\n",
       "    <tr style=\"text-align: right;\">\n",
       "      <th></th>\n",
       "      <th>from_area_id</th>\n",
       "      <th>from_city_id</th>\n",
       "      <th>to_city_id</th>\n",
       "      <th>from_date</th>\n",
       "      <th>online_booking</th>\n",
       "      <th>mobile_site_booking</th>\n",
       "      <th>booking_created</th>\n",
       "      <th>Car_Cancellation</th>\n",
       "      <th>route_from_area_id</th>\n",
       "      <th>Canc_Tags_from_area</th>\n",
       "      <th>book_route_from_area_perc</th>\n",
       "    </tr>\n",
       "  </thead>\n",
       "  <tbody>\n",
       "    <tr>\n",
       "      <th>6</th>\n",
       "      <td>571</td>\n",
       "      <td>15.0</td>\n",
       "      <td>108.0</td>\n",
       "      <td>2013-01-01 09:45:00</td>\n",
       "      <td>0</td>\n",
       "      <td>0</td>\n",
       "      <td>2013-01-01 09:21:00</td>\n",
       "      <td>0</td>\n",
       "      <td>571--&gt;</td>\n",
       "      <td>Medium</td>\n",
       "      <td>6.167401</td>\n",
       "    </tr>\n",
       "    <tr>\n",
       "      <th>17</th>\n",
       "      <td>1383</td>\n",
       "      <td>15.0</td>\n",
       "      <td>32.0</td>\n",
       "      <td>2013-01-12 08:00:00</td>\n",
       "      <td>1</td>\n",
       "      <td>0</td>\n",
       "      <td>2013-01-01 12:17:00</td>\n",
       "      <td>0</td>\n",
       "      <td>1383--&gt;</td>\n",
       "      <td>Zero</td>\n",
       "      <td>0.251731</td>\n",
       "    </tr>\n",
       "    <tr>\n",
       "      <th>24</th>\n",
       "      <td>515</td>\n",
       "      <td>15.0</td>\n",
       "      <td>32.0</td>\n",
       "      <td>2013-01-05 08:30:00</td>\n",
       "      <td>0</td>\n",
       "      <td>0</td>\n",
       "      <td>2013-01-01 14:40:00</td>\n",
       "      <td>0</td>\n",
       "      <td>515--&gt;</td>\n",
       "      <td>Zero</td>\n",
       "      <td>0.503461</td>\n",
       "    </tr>\n",
       "    <tr>\n",
       "      <th>158</th>\n",
       "      <td>136</td>\n",
       "      <td>1.0</td>\n",
       "      <td>152.0</td>\n",
       "      <td>2013-01-04 09:30:00</td>\n",
       "      <td>1</td>\n",
       "      <td>0</td>\n",
       "      <td>2013-01-03 12:19:00</td>\n",
       "      <td>0</td>\n",
       "      <td>136--&gt;</td>\n",
       "      <td>Zero</td>\n",
       "      <td>0.503461</td>\n",
       "    </tr>\n",
       "    <tr>\n",
       "      <th>216</th>\n",
       "      <td>1118</td>\n",
       "      <td>15.0</td>\n",
       "      <td>32.0</td>\n",
       "      <td>2013-01-06 07:30:00</td>\n",
       "      <td>1</td>\n",
       "      <td>0</td>\n",
       "      <td>2013-01-04 09:32:00</td>\n",
       "      <td>0</td>\n",
       "      <td>1118--&gt;</td>\n",
       "      <td>Zero</td>\n",
       "      <td>0.062933</td>\n",
       "    </tr>\n",
       "  </tbody>\n",
       "</table>\n",
       "</div>"
      ],
      "text/plain": [
       "    from_area_id  from_city_id  to_city_id           from_date  \\\n",
       "6            571          15.0       108.0 2013-01-01 09:45:00   \n",
       "17          1383          15.0        32.0 2013-01-12 08:00:00   \n",
       "24           515          15.0        32.0 2013-01-05 08:30:00   \n",
       "158          136           1.0       152.0 2013-01-04 09:30:00   \n",
       "216         1118          15.0        32.0 2013-01-06 07:30:00   \n",
       "\n",
       "     online_booking  mobile_site_booking     booking_created  \\\n",
       "6                 0                    0 2013-01-01 09:21:00   \n",
       "17                1                    0 2013-01-01 12:17:00   \n",
       "24                0                    0 2013-01-01 14:40:00   \n",
       "158               1                    0 2013-01-03 12:19:00   \n",
       "216               1                    0 2013-01-04 09:32:00   \n",
       "\n",
       "     Car_Cancellation route_from_area_id Canc_Tags_from_area  \\\n",
       "6                   0             571-->              Medium   \n",
       "17                  0            1383-->                Zero   \n",
       "24                  0             515-->                Zero   \n",
       "158                 0             136-->                Zero   \n",
       "216                 0            1118-->                Zero   \n",
       "\n",
       "     book_route_from_area_perc  \n",
       "6                     6.167401  \n",
       "17                    0.251731  \n",
       "24                    0.503461  \n",
       "158                   0.503461  \n",
       "216                   0.062933  "
      ]
     },
     "execution_count": 72,
     "metadata": {},
     "output_type": "execute_result"
    }
   ],
   "source": [
    "df1.head()"
   ]
  },
  {
   "cell_type": "code",
   "execution_count": 73,
   "id": "34163b55",
   "metadata": {},
   "outputs": [
    {
     "data": {
      "text/html": [
       "<div>\n",
       "<style scoped>\n",
       "    .dataframe tbody tr th:only-of-type {\n",
       "        vertical-align: middle;\n",
       "    }\n",
       "\n",
       "    .dataframe tbody tr th {\n",
       "        vertical-align: top;\n",
       "    }\n",
       "\n",
       "    .dataframe thead th {\n",
       "        text-align: right;\n",
       "    }\n",
       "</style>\n",
       "<table border=\"1\" class=\"dataframe\">\n",
       "  <thead>\n",
       "    <tr style=\"text-align: right;\">\n",
       "      <th></th>\n",
       "      <th>from_city_id</th>\n",
       "      <th>to_city_id</th>\n",
       "      <th>online_booking</th>\n",
       "      <th>mobile_site_booking</th>\n",
       "      <th>Car_Cancellation</th>\n",
       "      <th>book_route_from_area_perc</th>\n",
       "    </tr>\n",
       "  </thead>\n",
       "  <tbody>\n",
       "    <tr>\n",
       "      <th>count</th>\n",
       "      <td>1589.000000</td>\n",
       "      <td>1589.000000</td>\n",
       "      <td>1589.000000</td>\n",
       "      <td>1589.000000</td>\n",
       "      <td>1589.000000</td>\n",
       "      <td>1589.000000</td>\n",
       "    </tr>\n",
       "    <tr>\n",
       "      <th>mean</th>\n",
       "      <td>14.126495</td>\n",
       "      <td>68.514789</td>\n",
       "      <td>0.427313</td>\n",
       "      <td>0.018880</td>\n",
       "      <td>0.013216</td>\n",
       "      <td>5.628255</td>\n",
       "    </tr>\n",
       "    <tr>\n",
       "      <th>std</th>\n",
       "      <td>3.645118</td>\n",
       "      <td>49.873448</td>\n",
       "      <td>0.494844</td>\n",
       "      <td>0.136143</td>\n",
       "      <td>0.114234</td>\n",
       "      <td>8.597704</td>\n",
       "    </tr>\n",
       "    <tr>\n",
       "      <th>min</th>\n",
       "      <td>1.000000</td>\n",
       "      <td>4.000000</td>\n",
       "      <td>0.000000</td>\n",
       "      <td>0.000000</td>\n",
       "      <td>0.000000</td>\n",
       "      <td>0.062933</td>\n",
       "    </tr>\n",
       "    <tr>\n",
       "      <th>25%</th>\n",
       "      <td>15.000000</td>\n",
       "      <td>32.000000</td>\n",
       "      <td>0.000000</td>\n",
       "      <td>0.000000</td>\n",
       "      <td>0.000000</td>\n",
       "      <td>0.251731</td>\n",
       "    </tr>\n",
       "    <tr>\n",
       "      <th>50%</th>\n",
       "      <td>15.000000</td>\n",
       "      <td>49.000000</td>\n",
       "      <td>0.000000</td>\n",
       "      <td>0.000000</td>\n",
       "      <td>0.000000</td>\n",
       "      <td>0.692259</td>\n",
       "    </tr>\n",
       "    <tr>\n",
       "      <th>75%</th>\n",
       "      <td>15.000000</td>\n",
       "      <td>108.000000</td>\n",
       "      <td>1.000000</td>\n",
       "      <td>0.000000</td>\n",
       "      <td>0.000000</td>\n",
       "      <td>6.167401</td>\n",
       "    </tr>\n",
       "    <tr>\n",
       "      <th>max</th>\n",
       "      <td>31.000000</td>\n",
       "      <td>203.000000</td>\n",
       "      <td>1.000000</td>\n",
       "      <td>1.000000</td>\n",
       "      <td>1.000000</td>\n",
       "      <td>21.711768</td>\n",
       "    </tr>\n",
       "  </tbody>\n",
       "</table>\n",
       "</div>"
      ],
      "text/plain": [
       "       from_city_id   to_city_id  online_booking  mobile_site_booking  \\\n",
       "count   1589.000000  1589.000000     1589.000000          1589.000000   \n",
       "mean      14.126495    68.514789        0.427313             0.018880   \n",
       "std        3.645118    49.873448        0.494844             0.136143   \n",
       "min        1.000000     4.000000        0.000000             0.000000   \n",
       "25%       15.000000    32.000000        0.000000             0.000000   \n",
       "50%       15.000000    49.000000        0.000000             0.000000   \n",
       "75%       15.000000   108.000000        1.000000             0.000000   \n",
       "max       31.000000   203.000000        1.000000             1.000000   \n",
       "\n",
       "       Car_Cancellation  book_route_from_area_perc  \n",
       "count       1589.000000                1589.000000  \n",
       "mean           0.013216                   5.628255  \n",
       "std            0.114234                   8.597704  \n",
       "min            0.000000                   0.062933  \n",
       "25%            0.000000                   0.251731  \n",
       "50%            0.000000                   0.692259  \n",
       "75%            0.000000                   6.167401  \n",
       "max            1.000000                  21.711768  "
      ]
     },
     "execution_count": 73,
     "metadata": {},
     "output_type": "execute_result"
    }
   ],
   "source": [
    "df1.describe()"
   ]
  },
  {
   "cell_type": "code",
   "execution_count": 74,
   "id": "f988709b",
   "metadata": {},
   "outputs": [],
   "source": [
    "def create_tags(x):\n",
    "    if x<=0.251731:\n",
    "        return 'Low'\n",
    "    elif x<=6.167401:\n",
    "        return 'Medium'\n",
    "    else:\n",
    "        return 'High'"
   ]
  },
  {
   "cell_type": "code",
   "execution_count": 75,
   "id": "e13a005c",
   "metadata": {},
   "outputs": [],
   "source": [
    "df1['Booking_Tags_from_area']=df1['book_route_from_area_perc'].apply(create_tags)"
   ]
  },
  {
   "cell_type": "code",
   "execution_count": 76,
   "id": "e84f1c71",
   "metadata": {},
   "outputs": [
    {
     "data": {
      "text/html": [
       "<div>\n",
       "<style scoped>\n",
       "    .dataframe tbody tr th:only-of-type {\n",
       "        vertical-align: middle;\n",
       "    }\n",
       "\n",
       "    .dataframe tbody tr th {\n",
       "        vertical-align: top;\n",
       "    }\n",
       "\n",
       "    .dataframe thead th {\n",
       "        text-align: right;\n",
       "    }\n",
       "</style>\n",
       "<table border=\"1\" class=\"dataframe\">\n",
       "  <thead>\n",
       "    <tr style=\"text-align: right;\">\n",
       "      <th></th>\n",
       "      <th>from_area_id</th>\n",
       "      <th>from_city_id</th>\n",
       "      <th>to_city_id</th>\n",
       "      <th>from_date</th>\n",
       "      <th>online_booking</th>\n",
       "      <th>mobile_site_booking</th>\n",
       "      <th>booking_created</th>\n",
       "      <th>Car_Cancellation</th>\n",
       "      <th>route_from_area_id</th>\n",
       "      <th>Canc_Tags_from_area</th>\n",
       "      <th>book_route_from_area_perc</th>\n",
       "      <th>Booking_Tags_from_area</th>\n",
       "    </tr>\n",
       "  </thead>\n",
       "  <tbody>\n",
       "    <tr>\n",
       "      <th>6</th>\n",
       "      <td>571</td>\n",
       "      <td>15.0</td>\n",
       "      <td>108.0</td>\n",
       "      <td>2013-01-01 09:45:00</td>\n",
       "      <td>0</td>\n",
       "      <td>0</td>\n",
       "      <td>2013-01-01 09:21:00</td>\n",
       "      <td>0</td>\n",
       "      <td>571--&gt;</td>\n",
       "      <td>Medium</td>\n",
       "      <td>6.167401</td>\n",
       "      <td>Medium</td>\n",
       "    </tr>\n",
       "    <tr>\n",
       "      <th>17</th>\n",
       "      <td>1383</td>\n",
       "      <td>15.0</td>\n",
       "      <td>32.0</td>\n",
       "      <td>2013-01-12 08:00:00</td>\n",
       "      <td>1</td>\n",
       "      <td>0</td>\n",
       "      <td>2013-01-01 12:17:00</td>\n",
       "      <td>0</td>\n",
       "      <td>1383--&gt;</td>\n",
       "      <td>Zero</td>\n",
       "      <td>0.251731</td>\n",
       "      <td>Low</td>\n",
       "    </tr>\n",
       "    <tr>\n",
       "      <th>24</th>\n",
       "      <td>515</td>\n",
       "      <td>15.0</td>\n",
       "      <td>32.0</td>\n",
       "      <td>2013-01-05 08:30:00</td>\n",
       "      <td>0</td>\n",
       "      <td>0</td>\n",
       "      <td>2013-01-01 14:40:00</td>\n",
       "      <td>0</td>\n",
       "      <td>515--&gt;</td>\n",
       "      <td>Zero</td>\n",
       "      <td>0.503461</td>\n",
       "      <td>Medium</td>\n",
       "    </tr>\n",
       "    <tr>\n",
       "      <th>158</th>\n",
       "      <td>136</td>\n",
       "      <td>1.0</td>\n",
       "      <td>152.0</td>\n",
       "      <td>2013-01-04 09:30:00</td>\n",
       "      <td>1</td>\n",
       "      <td>0</td>\n",
       "      <td>2013-01-03 12:19:00</td>\n",
       "      <td>0</td>\n",
       "      <td>136--&gt;</td>\n",
       "      <td>Zero</td>\n",
       "      <td>0.503461</td>\n",
       "      <td>Medium</td>\n",
       "    </tr>\n",
       "    <tr>\n",
       "      <th>216</th>\n",
       "      <td>1118</td>\n",
       "      <td>15.0</td>\n",
       "      <td>32.0</td>\n",
       "      <td>2013-01-06 07:30:00</td>\n",
       "      <td>1</td>\n",
       "      <td>0</td>\n",
       "      <td>2013-01-04 09:32:00</td>\n",
       "      <td>0</td>\n",
       "      <td>1118--&gt;</td>\n",
       "      <td>Zero</td>\n",
       "      <td>0.062933</td>\n",
       "      <td>Low</td>\n",
       "    </tr>\n",
       "  </tbody>\n",
       "</table>\n",
       "</div>"
      ],
      "text/plain": [
       "    from_area_id  from_city_id  to_city_id           from_date  \\\n",
       "6            571          15.0       108.0 2013-01-01 09:45:00   \n",
       "17          1383          15.0        32.0 2013-01-12 08:00:00   \n",
       "24           515          15.0        32.0 2013-01-05 08:30:00   \n",
       "158          136           1.0       152.0 2013-01-04 09:30:00   \n",
       "216         1118          15.0        32.0 2013-01-06 07:30:00   \n",
       "\n",
       "     online_booking  mobile_site_booking     booking_created  \\\n",
       "6                 0                    0 2013-01-01 09:21:00   \n",
       "17                1                    0 2013-01-01 12:17:00   \n",
       "24                0                    0 2013-01-01 14:40:00   \n",
       "158               1                    0 2013-01-03 12:19:00   \n",
       "216               1                    0 2013-01-04 09:32:00   \n",
       "\n",
       "     Car_Cancellation route_from_area_id Canc_Tags_from_area  \\\n",
       "6                   0             571-->              Medium   \n",
       "17                  0            1383-->                Zero   \n",
       "24                  0             515-->                Zero   \n",
       "158                 0             136-->                Zero   \n",
       "216                 0            1118-->                Zero   \n",
       "\n",
       "     book_route_from_area_perc Booking_Tags_from_area  \n",
       "6                     6.167401                 Medium  \n",
       "17                    0.251731                    Low  \n",
       "24                    0.503461                 Medium  \n",
       "158                   0.503461                 Medium  \n",
       "216                   0.062933                    Low  "
      ]
     },
     "execution_count": 76,
     "metadata": {},
     "output_type": "execute_result"
    }
   ],
   "source": [
    "df1.head()"
   ]
  },
  {
   "cell_type": "code",
   "execution_count": 77,
   "id": "61327506",
   "metadata": {},
   "outputs": [],
   "source": [
    "# Now, drop from_area_id, route_from_area_id, book_route_from_area_perc"
   ]
  },
  {
   "cell_type": "code",
   "execution_count": 78,
   "id": "e971525c",
   "metadata": {},
   "outputs": [],
   "source": [
    "df1.drop(['from_area_id', 'route_from_area_id', 'book_route_from_area_perc'],axis=1,inplace=True)"
   ]
  },
  {
   "cell_type": "code",
   "execution_count": 79,
   "id": "60c27e8f",
   "metadata": {},
   "outputs": [
    {
     "data": {
      "text/html": [
       "<div>\n",
       "<style scoped>\n",
       "    .dataframe tbody tr th:only-of-type {\n",
       "        vertical-align: middle;\n",
       "    }\n",
       "\n",
       "    .dataframe tbody tr th {\n",
       "        vertical-align: top;\n",
       "    }\n",
       "\n",
       "    .dataframe thead th {\n",
       "        text-align: right;\n",
       "    }\n",
       "</style>\n",
       "<table border=\"1\" class=\"dataframe\">\n",
       "  <thead>\n",
       "    <tr style=\"text-align: right;\">\n",
       "      <th></th>\n",
       "      <th>from_city_id</th>\n",
       "      <th>to_city_id</th>\n",
       "      <th>from_date</th>\n",
       "      <th>online_booking</th>\n",
       "      <th>mobile_site_booking</th>\n",
       "      <th>booking_created</th>\n",
       "      <th>Car_Cancellation</th>\n",
       "      <th>Canc_Tags_from_area</th>\n",
       "      <th>Booking_Tags_from_area</th>\n",
       "    </tr>\n",
       "  </thead>\n",
       "  <tbody>\n",
       "    <tr>\n",
       "      <th>6</th>\n",
       "      <td>15.0</td>\n",
       "      <td>108.0</td>\n",
       "      <td>2013-01-01 09:45:00</td>\n",
       "      <td>0</td>\n",
       "      <td>0</td>\n",
       "      <td>2013-01-01 09:21:00</td>\n",
       "      <td>0</td>\n",
       "      <td>Medium</td>\n",
       "      <td>Medium</td>\n",
       "    </tr>\n",
       "    <tr>\n",
       "      <th>17</th>\n",
       "      <td>15.0</td>\n",
       "      <td>32.0</td>\n",
       "      <td>2013-01-12 08:00:00</td>\n",
       "      <td>1</td>\n",
       "      <td>0</td>\n",
       "      <td>2013-01-01 12:17:00</td>\n",
       "      <td>0</td>\n",
       "      <td>Zero</td>\n",
       "      <td>Low</td>\n",
       "    </tr>\n",
       "    <tr>\n",
       "      <th>24</th>\n",
       "      <td>15.0</td>\n",
       "      <td>32.0</td>\n",
       "      <td>2013-01-05 08:30:00</td>\n",
       "      <td>0</td>\n",
       "      <td>0</td>\n",
       "      <td>2013-01-01 14:40:00</td>\n",
       "      <td>0</td>\n",
       "      <td>Zero</td>\n",
       "      <td>Medium</td>\n",
       "    </tr>\n",
       "    <tr>\n",
       "      <th>158</th>\n",
       "      <td>1.0</td>\n",
       "      <td>152.0</td>\n",
       "      <td>2013-01-04 09:30:00</td>\n",
       "      <td>1</td>\n",
       "      <td>0</td>\n",
       "      <td>2013-01-03 12:19:00</td>\n",
       "      <td>0</td>\n",
       "      <td>Zero</td>\n",
       "      <td>Medium</td>\n",
       "    </tr>\n",
       "    <tr>\n",
       "      <th>216</th>\n",
       "      <td>15.0</td>\n",
       "      <td>32.0</td>\n",
       "      <td>2013-01-06 07:30:00</td>\n",
       "      <td>1</td>\n",
       "      <td>0</td>\n",
       "      <td>2013-01-04 09:32:00</td>\n",
       "      <td>0</td>\n",
       "      <td>Zero</td>\n",
       "      <td>Low</td>\n",
       "    </tr>\n",
       "  </tbody>\n",
       "</table>\n",
       "</div>"
      ],
      "text/plain": [
       "     from_city_id  to_city_id           from_date  online_booking  \\\n",
       "6            15.0       108.0 2013-01-01 09:45:00               0   \n",
       "17           15.0        32.0 2013-01-12 08:00:00               1   \n",
       "24           15.0        32.0 2013-01-05 08:30:00               0   \n",
       "158           1.0       152.0 2013-01-04 09:30:00               1   \n",
       "216          15.0        32.0 2013-01-06 07:30:00               1   \n",
       "\n",
       "     mobile_site_booking     booking_created  Car_Cancellation  \\\n",
       "6                      0 2013-01-01 09:21:00                 0   \n",
       "17                     0 2013-01-01 12:17:00                 0   \n",
       "24                     0 2013-01-01 14:40:00                 0   \n",
       "158                    0 2013-01-03 12:19:00                 0   \n",
       "216                    0 2013-01-04 09:32:00                 0   \n",
       "\n",
       "    Canc_Tags_from_area Booking_Tags_from_area  \n",
       "6                Medium                 Medium  \n",
       "17                 Zero                    Low  \n",
       "24                 Zero                 Medium  \n",
       "158                Zero                 Medium  \n",
       "216                Zero                    Low  "
      ]
     },
     "execution_count": 79,
     "metadata": {},
     "output_type": "execute_result"
    }
   ],
   "source": [
    "df1.head()"
   ]
  },
  {
   "cell_type": "code",
   "execution_count": 80,
   "id": "b62e568c",
   "metadata": {},
   "outputs": [
    {
     "name": "stdout",
     "output_type": "stream",
     "text": [
      "<class 'pandas.core.frame.DataFrame'>\n",
      "Int64Index: 1589 entries, 6 to 43407\n",
      "Data columns (total 9 columns):\n",
      " #   Column                  Non-Null Count  Dtype         \n",
      "---  ------                  --------------  -----         \n",
      " 0   from_city_id            1589 non-null   float64       \n",
      " 1   to_city_id              1589 non-null   float64       \n",
      " 2   from_date               1589 non-null   datetime64[ns]\n",
      " 3   online_booking          1589 non-null   int64         \n",
      " 4   mobile_site_booking     1589 non-null   int64         \n",
      " 5   booking_created         1589 non-null   datetime64[ns]\n",
      " 6   Car_Cancellation        1589 non-null   int64         \n",
      " 7   Canc_Tags_from_area     1589 non-null   object        \n",
      " 8   Booking_Tags_from_area  1589 non-null   object        \n",
      "dtypes: datetime64[ns](2), float64(2), int64(3), object(2)\n",
      "memory usage: 124.1+ KB\n"
     ]
    }
   ],
   "source": [
    "df1.info()"
   ]
  },
  {
   "cell_type": "code",
   "execution_count": 81,
   "id": "17aa407d",
   "metadata": {},
   "outputs": [
    {
     "name": "stdout",
     "output_type": "stream",
     "text": [
      "0\n",
      "0\n"
     ]
    }
   ],
   "source": [
    "print(df1['from_city_id'].isna().sum())\n",
    "print(df1['to_city_id'].isna().sum())"
   ]
  },
  {
   "cell_type": "code",
   "execution_count": 82,
   "id": "d8887caf",
   "metadata": {},
   "outputs": [],
   "source": [
    "df1['from_city_id']=df1['from_city_id'].astype('int')\n",
    "df1['to_city_id']=df1['to_city_id'].astype('int')"
   ]
  },
  {
   "cell_type": "code",
   "execution_count": 83,
   "id": "58a2a399",
   "metadata": {},
   "outputs": [],
   "source": [
    "df1['from_city_id']=df1['from_city_id'].astype('str')\n",
    "df1['to_city_id']=df1['to_city_id'].astype('str')"
   ]
  },
  {
   "cell_type": "code",
   "execution_count": 84,
   "id": "357b5e5e",
   "metadata": {},
   "outputs": [
    {
     "name": "stdout",
     "output_type": "stream",
     "text": [
      "<class 'pandas.core.frame.DataFrame'>\n",
      "Int64Index: 1589 entries, 6 to 43407\n",
      "Data columns (total 9 columns):\n",
      " #   Column                  Non-Null Count  Dtype         \n",
      "---  ------                  --------------  -----         \n",
      " 0   from_city_id            1589 non-null   object        \n",
      " 1   to_city_id              1589 non-null   object        \n",
      " 2   from_date               1589 non-null   datetime64[ns]\n",
      " 3   online_booking          1589 non-null   int64         \n",
      " 4   mobile_site_booking     1589 non-null   int64         \n",
      " 5   booking_created         1589 non-null   datetime64[ns]\n",
      " 6   Car_Cancellation        1589 non-null   int64         \n",
      " 7   Canc_Tags_from_area     1589 non-null   object        \n",
      " 8   Booking_Tags_from_area  1589 non-null   object        \n",
      "dtypes: datetime64[ns](2), int64(3), object(4)\n",
      "memory usage: 124.1+ KB\n"
     ]
    }
   ],
   "source": [
    "df1.info()"
   ]
  },
  {
   "cell_type": "code",
   "execution_count": 85,
   "id": "a2ab180e",
   "metadata": {},
   "outputs": [],
   "source": [
    "df1['route_from_to_city']=df1['from_city_id']+'-->'+df1['to_city_id']"
   ]
  },
  {
   "cell_type": "code",
   "execution_count": 86,
   "id": "afb544cc",
   "metadata": {},
   "outputs": [
    {
     "data": {
      "text/html": [
       "<div>\n",
       "<style scoped>\n",
       "    .dataframe tbody tr th:only-of-type {\n",
       "        vertical-align: middle;\n",
       "    }\n",
       "\n",
       "    .dataframe tbody tr th {\n",
       "        vertical-align: top;\n",
       "    }\n",
       "\n",
       "    .dataframe thead th {\n",
       "        text-align: right;\n",
       "    }\n",
       "</style>\n",
       "<table border=\"1\" class=\"dataframe\">\n",
       "  <thead>\n",
       "    <tr style=\"text-align: right;\">\n",
       "      <th></th>\n",
       "      <th>from_city_id</th>\n",
       "      <th>to_city_id</th>\n",
       "      <th>from_date</th>\n",
       "      <th>online_booking</th>\n",
       "      <th>mobile_site_booking</th>\n",
       "      <th>booking_created</th>\n",
       "      <th>Car_Cancellation</th>\n",
       "      <th>Canc_Tags_from_area</th>\n",
       "      <th>Booking_Tags_from_area</th>\n",
       "      <th>route_from_to_city</th>\n",
       "    </tr>\n",
       "  </thead>\n",
       "  <tbody>\n",
       "    <tr>\n",
       "      <th>6</th>\n",
       "      <td>15</td>\n",
       "      <td>108</td>\n",
       "      <td>2013-01-01 09:45:00</td>\n",
       "      <td>0</td>\n",
       "      <td>0</td>\n",
       "      <td>2013-01-01 09:21:00</td>\n",
       "      <td>0</td>\n",
       "      <td>Medium</td>\n",
       "      <td>Medium</td>\n",
       "      <td>15--&gt;108</td>\n",
       "    </tr>\n",
       "    <tr>\n",
       "      <th>17</th>\n",
       "      <td>15</td>\n",
       "      <td>32</td>\n",
       "      <td>2013-01-12 08:00:00</td>\n",
       "      <td>1</td>\n",
       "      <td>0</td>\n",
       "      <td>2013-01-01 12:17:00</td>\n",
       "      <td>0</td>\n",
       "      <td>Zero</td>\n",
       "      <td>Low</td>\n",
       "      <td>15--&gt;32</td>\n",
       "    </tr>\n",
       "    <tr>\n",
       "      <th>24</th>\n",
       "      <td>15</td>\n",
       "      <td>32</td>\n",
       "      <td>2013-01-05 08:30:00</td>\n",
       "      <td>0</td>\n",
       "      <td>0</td>\n",
       "      <td>2013-01-01 14:40:00</td>\n",
       "      <td>0</td>\n",
       "      <td>Zero</td>\n",
       "      <td>Medium</td>\n",
       "      <td>15--&gt;32</td>\n",
       "    </tr>\n",
       "    <tr>\n",
       "      <th>158</th>\n",
       "      <td>1</td>\n",
       "      <td>152</td>\n",
       "      <td>2013-01-04 09:30:00</td>\n",
       "      <td>1</td>\n",
       "      <td>0</td>\n",
       "      <td>2013-01-03 12:19:00</td>\n",
       "      <td>0</td>\n",
       "      <td>Zero</td>\n",
       "      <td>Medium</td>\n",
       "      <td>1--&gt;152</td>\n",
       "    </tr>\n",
       "    <tr>\n",
       "      <th>216</th>\n",
       "      <td>15</td>\n",
       "      <td>32</td>\n",
       "      <td>2013-01-06 07:30:00</td>\n",
       "      <td>1</td>\n",
       "      <td>0</td>\n",
       "      <td>2013-01-04 09:32:00</td>\n",
       "      <td>0</td>\n",
       "      <td>Zero</td>\n",
       "      <td>Low</td>\n",
       "      <td>15--&gt;32</td>\n",
       "    </tr>\n",
       "  </tbody>\n",
       "</table>\n",
       "</div>"
      ],
      "text/plain": [
       "    from_city_id to_city_id           from_date  online_booking  \\\n",
       "6             15        108 2013-01-01 09:45:00               0   \n",
       "17            15         32 2013-01-12 08:00:00               1   \n",
       "24            15         32 2013-01-05 08:30:00               0   \n",
       "158            1        152 2013-01-04 09:30:00               1   \n",
       "216           15         32 2013-01-06 07:30:00               1   \n",
       "\n",
       "     mobile_site_booking     booking_created  Car_Cancellation  \\\n",
       "6                      0 2013-01-01 09:21:00                 0   \n",
       "17                     0 2013-01-01 12:17:00                 0   \n",
       "24                     0 2013-01-01 14:40:00                 0   \n",
       "158                    0 2013-01-03 12:19:00                 0   \n",
       "216                    0 2013-01-04 09:32:00                 0   \n",
       "\n",
       "    Canc_Tags_from_area Booking_Tags_from_area route_from_to_city  \n",
       "6                Medium                 Medium           15-->108  \n",
       "17                 Zero                    Low            15-->32  \n",
       "24                 Zero                 Medium            15-->32  \n",
       "158                Zero                 Medium            1-->152  \n",
       "216                Zero                    Low            15-->32  "
      ]
     },
     "execution_count": 86,
     "metadata": {},
     "output_type": "execute_result"
    }
   ],
   "source": [
    "df1.head()"
   ]
  },
  {
   "cell_type": "code",
   "execution_count": 87,
   "id": "d901cfc3",
   "metadata": {},
   "outputs": [],
   "source": [
    "canc_route_fr_to_mean=df1.groupby('route_from_to_city').mean()['Car_Cancellation']"
   ]
  },
  {
   "cell_type": "code",
   "execution_count": 88,
   "id": "a413242e",
   "metadata": {},
   "outputs": [
    {
     "data": {
      "text/plain": [
       "route_from_to_city\n",
       "1-->108     0.0\n",
       "1-->113     0.0\n",
       "1-->116     0.0\n",
       "1-->12      0.0\n",
       "1-->125     0.0\n",
       "           ... \n",
       "15-->89     0.0\n",
       "15-->97     0.0\n",
       "31-->132    0.0\n",
       "31-->29     0.0\n",
       "31-->44     0.0\n",
       "Name: Car_Cancellation, Length: 152, dtype: float64"
      ]
     },
     "execution_count": 88,
     "metadata": {},
     "output_type": "execute_result"
    }
   ],
   "source": [
    "canc_route_fr_to_mean"
   ]
  },
  {
   "cell_type": "code",
   "execution_count": 89,
   "id": "78841737",
   "metadata": {},
   "outputs": [],
   "source": [
    "df1['canc_route_fr_to_mean']=df1['route_from_to_city'].map(canc_route_fr_to_mean)"
   ]
  },
  {
   "cell_type": "code",
   "execution_count": 90,
   "id": "be33c2ca",
   "metadata": {},
   "outputs": [
    {
     "data": {
      "text/html": [
       "<div>\n",
       "<style scoped>\n",
       "    .dataframe tbody tr th:only-of-type {\n",
       "        vertical-align: middle;\n",
       "    }\n",
       "\n",
       "    .dataframe tbody tr th {\n",
       "        vertical-align: top;\n",
       "    }\n",
       "\n",
       "    .dataframe thead th {\n",
       "        text-align: right;\n",
       "    }\n",
       "</style>\n",
       "<table border=\"1\" class=\"dataframe\">\n",
       "  <thead>\n",
       "    <tr style=\"text-align: right;\">\n",
       "      <th></th>\n",
       "      <th>from_city_id</th>\n",
       "      <th>to_city_id</th>\n",
       "      <th>from_date</th>\n",
       "      <th>online_booking</th>\n",
       "      <th>mobile_site_booking</th>\n",
       "      <th>booking_created</th>\n",
       "      <th>Car_Cancellation</th>\n",
       "      <th>Canc_Tags_from_area</th>\n",
       "      <th>Booking_Tags_from_area</th>\n",
       "      <th>route_from_to_city</th>\n",
       "      <th>canc_route_fr_to_mean</th>\n",
       "    </tr>\n",
       "  </thead>\n",
       "  <tbody>\n",
       "    <tr>\n",
       "      <th>6</th>\n",
       "      <td>15</td>\n",
       "      <td>108</td>\n",
       "      <td>2013-01-01 09:45:00</td>\n",
       "      <td>0</td>\n",
       "      <td>0</td>\n",
       "      <td>2013-01-01 09:21:00</td>\n",
       "      <td>0</td>\n",
       "      <td>Medium</td>\n",
       "      <td>Medium</td>\n",
       "      <td>15--&gt;108</td>\n",
       "      <td>0.016129</td>\n",
       "    </tr>\n",
       "    <tr>\n",
       "      <th>17</th>\n",
       "      <td>15</td>\n",
       "      <td>32</td>\n",
       "      <td>2013-01-12 08:00:00</td>\n",
       "      <td>1</td>\n",
       "      <td>0</td>\n",
       "      <td>2013-01-01 12:17:00</td>\n",
       "      <td>0</td>\n",
       "      <td>Zero</td>\n",
       "      <td>Low</td>\n",
       "      <td>15--&gt;32</td>\n",
       "      <td>0.017937</td>\n",
       "    </tr>\n",
       "    <tr>\n",
       "      <th>24</th>\n",
       "      <td>15</td>\n",
       "      <td>32</td>\n",
       "      <td>2013-01-05 08:30:00</td>\n",
       "      <td>0</td>\n",
       "      <td>0</td>\n",
       "      <td>2013-01-01 14:40:00</td>\n",
       "      <td>0</td>\n",
       "      <td>Zero</td>\n",
       "      <td>Medium</td>\n",
       "      <td>15--&gt;32</td>\n",
       "      <td>0.017937</td>\n",
       "    </tr>\n",
       "    <tr>\n",
       "      <th>158</th>\n",
       "      <td>1</td>\n",
       "      <td>152</td>\n",
       "      <td>2013-01-04 09:30:00</td>\n",
       "      <td>1</td>\n",
       "      <td>0</td>\n",
       "      <td>2013-01-03 12:19:00</td>\n",
       "      <td>0</td>\n",
       "      <td>Zero</td>\n",
       "      <td>Medium</td>\n",
       "      <td>1--&gt;152</td>\n",
       "      <td>0.000000</td>\n",
       "    </tr>\n",
       "    <tr>\n",
       "      <th>216</th>\n",
       "      <td>15</td>\n",
       "      <td>32</td>\n",
       "      <td>2013-01-06 07:30:00</td>\n",
       "      <td>1</td>\n",
       "      <td>0</td>\n",
       "      <td>2013-01-04 09:32:00</td>\n",
       "      <td>0</td>\n",
       "      <td>Zero</td>\n",
       "      <td>Low</td>\n",
       "      <td>15--&gt;32</td>\n",
       "      <td>0.017937</td>\n",
       "    </tr>\n",
       "  </tbody>\n",
       "</table>\n",
       "</div>"
      ],
      "text/plain": [
       "    from_city_id to_city_id           from_date  online_booking  \\\n",
       "6             15        108 2013-01-01 09:45:00               0   \n",
       "17            15         32 2013-01-12 08:00:00               1   \n",
       "24            15         32 2013-01-05 08:30:00               0   \n",
       "158            1        152 2013-01-04 09:30:00               1   \n",
       "216           15         32 2013-01-06 07:30:00               1   \n",
       "\n",
       "     mobile_site_booking     booking_created  Car_Cancellation  \\\n",
       "6                      0 2013-01-01 09:21:00                 0   \n",
       "17                     0 2013-01-01 12:17:00                 0   \n",
       "24                     0 2013-01-01 14:40:00                 0   \n",
       "158                    0 2013-01-03 12:19:00                 0   \n",
       "216                    0 2013-01-04 09:32:00                 0   \n",
       "\n",
       "    Canc_Tags_from_area Booking_Tags_from_area route_from_to_city  \\\n",
       "6                Medium                 Medium           15-->108   \n",
       "17                 Zero                    Low            15-->32   \n",
       "24                 Zero                 Medium            15-->32   \n",
       "158                Zero                 Medium            1-->152   \n",
       "216                Zero                    Low            15-->32   \n",
       "\n",
       "     canc_route_fr_to_mean  \n",
       "6                 0.016129  \n",
       "17                0.017937  \n",
       "24                0.017937  \n",
       "158               0.000000  \n",
       "216               0.017937  "
      ]
     },
     "execution_count": 90,
     "metadata": {},
     "output_type": "execute_result"
    }
   ],
   "source": [
    "df1.head()"
   ]
  },
  {
   "cell_type": "code",
   "execution_count": 91,
   "id": "d48c7145",
   "metadata": {},
   "outputs": [],
   "source": [
    "df1['canc_route_fr_to_perc']=df1['canc_route_fr_to_mean']*100"
   ]
  },
  {
   "cell_type": "code",
   "execution_count": 92,
   "id": "0b80d9ea",
   "metadata": {},
   "outputs": [
    {
     "data": {
      "text/html": [
       "<div>\n",
       "<style scoped>\n",
       "    .dataframe tbody tr th:only-of-type {\n",
       "        vertical-align: middle;\n",
       "    }\n",
       "\n",
       "    .dataframe tbody tr th {\n",
       "        vertical-align: top;\n",
       "    }\n",
       "\n",
       "    .dataframe thead th {\n",
       "        text-align: right;\n",
       "    }\n",
       "</style>\n",
       "<table border=\"1\" class=\"dataframe\">\n",
       "  <thead>\n",
       "    <tr style=\"text-align: right;\">\n",
       "      <th></th>\n",
       "      <th>from_city_id</th>\n",
       "      <th>to_city_id</th>\n",
       "      <th>from_date</th>\n",
       "      <th>online_booking</th>\n",
       "      <th>mobile_site_booking</th>\n",
       "      <th>booking_created</th>\n",
       "      <th>Car_Cancellation</th>\n",
       "      <th>Canc_Tags_from_area</th>\n",
       "      <th>Booking_Tags_from_area</th>\n",
       "      <th>route_from_to_city</th>\n",
       "      <th>canc_route_fr_to_mean</th>\n",
       "      <th>canc_route_fr_to_perc</th>\n",
       "    </tr>\n",
       "  </thead>\n",
       "  <tbody>\n",
       "    <tr>\n",
       "      <th>6</th>\n",
       "      <td>15</td>\n",
       "      <td>108</td>\n",
       "      <td>2013-01-01 09:45:00</td>\n",
       "      <td>0</td>\n",
       "      <td>0</td>\n",
       "      <td>2013-01-01 09:21:00</td>\n",
       "      <td>0</td>\n",
       "      <td>Medium</td>\n",
       "      <td>Medium</td>\n",
       "      <td>15--&gt;108</td>\n",
       "      <td>0.016129</td>\n",
       "      <td>1.612903</td>\n",
       "    </tr>\n",
       "    <tr>\n",
       "      <th>17</th>\n",
       "      <td>15</td>\n",
       "      <td>32</td>\n",
       "      <td>2013-01-12 08:00:00</td>\n",
       "      <td>1</td>\n",
       "      <td>0</td>\n",
       "      <td>2013-01-01 12:17:00</td>\n",
       "      <td>0</td>\n",
       "      <td>Zero</td>\n",
       "      <td>Low</td>\n",
       "      <td>15--&gt;32</td>\n",
       "      <td>0.017937</td>\n",
       "      <td>1.793722</td>\n",
       "    </tr>\n",
       "    <tr>\n",
       "      <th>24</th>\n",
       "      <td>15</td>\n",
       "      <td>32</td>\n",
       "      <td>2013-01-05 08:30:00</td>\n",
       "      <td>0</td>\n",
       "      <td>0</td>\n",
       "      <td>2013-01-01 14:40:00</td>\n",
       "      <td>0</td>\n",
       "      <td>Zero</td>\n",
       "      <td>Medium</td>\n",
       "      <td>15--&gt;32</td>\n",
       "      <td>0.017937</td>\n",
       "      <td>1.793722</td>\n",
       "    </tr>\n",
       "    <tr>\n",
       "      <th>158</th>\n",
       "      <td>1</td>\n",
       "      <td>152</td>\n",
       "      <td>2013-01-04 09:30:00</td>\n",
       "      <td>1</td>\n",
       "      <td>0</td>\n",
       "      <td>2013-01-03 12:19:00</td>\n",
       "      <td>0</td>\n",
       "      <td>Zero</td>\n",
       "      <td>Medium</td>\n",
       "      <td>1--&gt;152</td>\n",
       "      <td>0.000000</td>\n",
       "      <td>0.000000</td>\n",
       "    </tr>\n",
       "    <tr>\n",
       "      <th>216</th>\n",
       "      <td>15</td>\n",
       "      <td>32</td>\n",
       "      <td>2013-01-06 07:30:00</td>\n",
       "      <td>1</td>\n",
       "      <td>0</td>\n",
       "      <td>2013-01-04 09:32:00</td>\n",
       "      <td>0</td>\n",
       "      <td>Zero</td>\n",
       "      <td>Low</td>\n",
       "      <td>15--&gt;32</td>\n",
       "      <td>0.017937</td>\n",
       "      <td>1.793722</td>\n",
       "    </tr>\n",
       "  </tbody>\n",
       "</table>\n",
       "</div>"
      ],
      "text/plain": [
       "    from_city_id to_city_id           from_date  online_booking  \\\n",
       "6             15        108 2013-01-01 09:45:00               0   \n",
       "17            15         32 2013-01-12 08:00:00               1   \n",
       "24            15         32 2013-01-05 08:30:00               0   \n",
       "158            1        152 2013-01-04 09:30:00               1   \n",
       "216           15         32 2013-01-06 07:30:00               1   \n",
       "\n",
       "     mobile_site_booking     booking_created  Car_Cancellation  \\\n",
       "6                      0 2013-01-01 09:21:00                 0   \n",
       "17                     0 2013-01-01 12:17:00                 0   \n",
       "24                     0 2013-01-01 14:40:00                 0   \n",
       "158                    0 2013-01-03 12:19:00                 0   \n",
       "216                    0 2013-01-04 09:32:00                 0   \n",
       "\n",
       "    Canc_Tags_from_area Booking_Tags_from_area route_from_to_city  \\\n",
       "6                Medium                 Medium           15-->108   \n",
       "17                 Zero                    Low            15-->32   \n",
       "24                 Zero                 Medium            15-->32   \n",
       "158                Zero                 Medium            1-->152   \n",
       "216                Zero                    Low            15-->32   \n",
       "\n",
       "     canc_route_fr_to_mean  canc_route_fr_to_perc  \n",
       "6                 0.016129               1.612903  \n",
       "17                0.017937               1.793722  \n",
       "24                0.017937               1.793722  \n",
       "158               0.000000               0.000000  \n",
       "216               0.017937               1.793722  "
      ]
     },
     "execution_count": 92,
     "metadata": {},
     "output_type": "execute_result"
    }
   ],
   "source": [
    "df1.head()"
   ]
  },
  {
   "cell_type": "code",
   "execution_count": 93,
   "id": "96e6c773",
   "metadata": {},
   "outputs": [],
   "source": [
    "df1.drop('canc_route_fr_to_mean',axis=1,inplace=True)"
   ]
  },
  {
   "cell_type": "code",
   "execution_count": 94,
   "id": "b1f21065",
   "metadata": {},
   "outputs": [
    {
     "data": {
      "text/html": [
       "<div>\n",
       "<style scoped>\n",
       "    .dataframe tbody tr th:only-of-type {\n",
       "        vertical-align: middle;\n",
       "    }\n",
       "\n",
       "    .dataframe tbody tr th {\n",
       "        vertical-align: top;\n",
       "    }\n",
       "\n",
       "    .dataframe thead th {\n",
       "        text-align: right;\n",
       "    }\n",
       "</style>\n",
       "<table border=\"1\" class=\"dataframe\">\n",
       "  <thead>\n",
       "    <tr style=\"text-align: right;\">\n",
       "      <th></th>\n",
       "      <th>from_city_id</th>\n",
       "      <th>to_city_id</th>\n",
       "      <th>from_date</th>\n",
       "      <th>online_booking</th>\n",
       "      <th>mobile_site_booking</th>\n",
       "      <th>booking_created</th>\n",
       "      <th>Car_Cancellation</th>\n",
       "      <th>Canc_Tags_from_area</th>\n",
       "      <th>Booking_Tags_from_area</th>\n",
       "      <th>route_from_to_city</th>\n",
       "      <th>canc_route_fr_to_perc</th>\n",
       "    </tr>\n",
       "  </thead>\n",
       "  <tbody>\n",
       "    <tr>\n",
       "      <th>6</th>\n",
       "      <td>15</td>\n",
       "      <td>108</td>\n",
       "      <td>2013-01-01 09:45:00</td>\n",
       "      <td>0</td>\n",
       "      <td>0</td>\n",
       "      <td>2013-01-01 09:21:00</td>\n",
       "      <td>0</td>\n",
       "      <td>Medium</td>\n",
       "      <td>Medium</td>\n",
       "      <td>15--&gt;108</td>\n",
       "      <td>1.612903</td>\n",
       "    </tr>\n",
       "  </tbody>\n",
       "</table>\n",
       "</div>"
      ],
      "text/plain": [
       "  from_city_id to_city_id           from_date  online_booking  \\\n",
       "6           15        108 2013-01-01 09:45:00               0   \n",
       "\n",
       "   mobile_site_booking     booking_created  Car_Cancellation  \\\n",
       "6                    0 2013-01-01 09:21:00                 0   \n",
       "\n",
       "  Canc_Tags_from_area Booking_Tags_from_area route_from_to_city  \\\n",
       "6              Medium                 Medium           15-->108   \n",
       "\n",
       "   canc_route_fr_to_perc  \n",
       "6               1.612903  "
      ]
     },
     "execution_count": 94,
     "metadata": {},
     "output_type": "execute_result"
    }
   ],
   "source": [
    "df1.head(1)"
   ]
  },
  {
   "cell_type": "code",
   "execution_count": 95,
   "id": "7490878a",
   "metadata": {},
   "outputs": [
    {
     "data": {
      "text/html": [
       "<div>\n",
       "<style scoped>\n",
       "    .dataframe tbody tr th:only-of-type {\n",
       "        vertical-align: middle;\n",
       "    }\n",
       "\n",
       "    .dataframe tbody tr th {\n",
       "        vertical-align: top;\n",
       "    }\n",
       "\n",
       "    .dataframe thead th {\n",
       "        text-align: right;\n",
       "    }\n",
       "</style>\n",
       "<table border=\"1\" class=\"dataframe\">\n",
       "  <thead>\n",
       "    <tr style=\"text-align: right;\">\n",
       "      <th></th>\n",
       "      <th>online_booking</th>\n",
       "      <th>mobile_site_booking</th>\n",
       "      <th>Car_Cancellation</th>\n",
       "      <th>canc_route_fr_to_perc</th>\n",
       "    </tr>\n",
       "  </thead>\n",
       "  <tbody>\n",
       "    <tr>\n",
       "      <th>count</th>\n",
       "      <td>1589.000000</td>\n",
       "      <td>1589.000000</td>\n",
       "      <td>1589.000000</td>\n",
       "      <td>1589.000000</td>\n",
       "    </tr>\n",
       "    <tr>\n",
       "      <th>mean</th>\n",
       "      <td>0.427313</td>\n",
       "      <td>0.018880</td>\n",
       "      <td>0.013216</td>\n",
       "      <td>1.321586</td>\n",
       "    </tr>\n",
       "    <tr>\n",
       "      <th>std</th>\n",
       "      <td>0.494844</td>\n",
       "      <td>0.136143</td>\n",
       "      <td>0.114234</td>\n",
       "      <td>1.912082</td>\n",
       "    </tr>\n",
       "    <tr>\n",
       "      <th>min</th>\n",
       "      <td>0.000000</td>\n",
       "      <td>0.000000</td>\n",
       "      <td>0.000000</td>\n",
       "      <td>0.000000</td>\n",
       "    </tr>\n",
       "    <tr>\n",
       "      <th>25%</th>\n",
       "      <td>0.000000</td>\n",
       "      <td>0.000000</td>\n",
       "      <td>0.000000</td>\n",
       "      <td>0.000000</td>\n",
       "    </tr>\n",
       "    <tr>\n",
       "      <th>50%</th>\n",
       "      <td>0.000000</td>\n",
       "      <td>0.000000</td>\n",
       "      <td>0.000000</td>\n",
       "      <td>0.000000</td>\n",
       "    </tr>\n",
       "    <tr>\n",
       "      <th>75%</th>\n",
       "      <td>1.000000</td>\n",
       "      <td>0.000000</td>\n",
       "      <td>0.000000</td>\n",
       "      <td>1.793722</td>\n",
       "    </tr>\n",
       "    <tr>\n",
       "      <th>max</th>\n",
       "      <td>1.000000</td>\n",
       "      <td>1.000000</td>\n",
       "      <td>1.000000</td>\n",
       "      <td>8.695652</td>\n",
       "    </tr>\n",
       "  </tbody>\n",
       "</table>\n",
       "</div>"
      ],
      "text/plain": [
       "       online_booking  mobile_site_booking  Car_Cancellation  \\\n",
       "count     1589.000000          1589.000000       1589.000000   \n",
       "mean         0.427313             0.018880          0.013216   \n",
       "std          0.494844             0.136143          0.114234   \n",
       "min          0.000000             0.000000          0.000000   \n",
       "25%          0.000000             0.000000          0.000000   \n",
       "50%          0.000000             0.000000          0.000000   \n",
       "75%          1.000000             0.000000          0.000000   \n",
       "max          1.000000             1.000000          1.000000   \n",
       "\n",
       "       canc_route_fr_to_perc  \n",
       "count            1589.000000  \n",
       "mean                1.321586  \n",
       "std                 1.912082  \n",
       "min                 0.000000  \n",
       "25%                 0.000000  \n",
       "50%                 0.000000  \n",
       "75%                 1.793722  \n",
       "max                 8.695652  "
      ]
     },
     "execution_count": 95,
     "metadata": {},
     "output_type": "execute_result"
    }
   ],
   "source": [
    "df1.describe()"
   ]
  },
  {
   "cell_type": "code",
   "execution_count": 96,
   "id": "99b3331f",
   "metadata": {},
   "outputs": [],
   "source": [
    "def percent1(x):\n",
    "    if x==0:\n",
    "        return 'Zero'\n",
    "    elif x<=1.793722:\n",
    "        return 'Low'\n",
    "    elif x<=4:\n",
    "        return 'Medium'\n",
    "    else:\n",
    "        return 'High'"
   ]
  },
  {
   "cell_type": "code",
   "execution_count": 97,
   "id": "69906d2f",
   "metadata": {},
   "outputs": [],
   "source": [
    "df1['canc_Tags_fr_to_perc']=df1['canc_route_fr_to_perc'].apply(percent1)"
   ]
  },
  {
   "cell_type": "code",
   "execution_count": 98,
   "id": "09aa9df8",
   "metadata": {},
   "outputs": [
    {
     "data": {
      "text/html": [
       "<div>\n",
       "<style scoped>\n",
       "    .dataframe tbody tr th:only-of-type {\n",
       "        vertical-align: middle;\n",
       "    }\n",
       "\n",
       "    .dataframe tbody tr th {\n",
       "        vertical-align: top;\n",
       "    }\n",
       "\n",
       "    .dataframe thead th {\n",
       "        text-align: right;\n",
       "    }\n",
       "</style>\n",
       "<table border=\"1\" class=\"dataframe\">\n",
       "  <thead>\n",
       "    <tr style=\"text-align: right;\">\n",
       "      <th></th>\n",
       "      <th>from_city_id</th>\n",
       "      <th>to_city_id</th>\n",
       "      <th>from_date</th>\n",
       "      <th>online_booking</th>\n",
       "      <th>mobile_site_booking</th>\n",
       "      <th>booking_created</th>\n",
       "      <th>Car_Cancellation</th>\n",
       "      <th>Canc_Tags_from_area</th>\n",
       "      <th>Booking_Tags_from_area</th>\n",
       "      <th>route_from_to_city</th>\n",
       "      <th>canc_route_fr_to_perc</th>\n",
       "      <th>canc_Tags_fr_to_perc</th>\n",
       "    </tr>\n",
       "  </thead>\n",
       "  <tbody>\n",
       "    <tr>\n",
       "      <th>6</th>\n",
       "      <td>15</td>\n",
       "      <td>108</td>\n",
       "      <td>2013-01-01 09:45:00</td>\n",
       "      <td>0</td>\n",
       "      <td>0</td>\n",
       "      <td>2013-01-01 09:21:00</td>\n",
       "      <td>0</td>\n",
       "      <td>Medium</td>\n",
       "      <td>Medium</td>\n",
       "      <td>15--&gt;108</td>\n",
       "      <td>1.612903</td>\n",
       "      <td>Low</td>\n",
       "    </tr>\n",
       "    <tr>\n",
       "      <th>17</th>\n",
       "      <td>15</td>\n",
       "      <td>32</td>\n",
       "      <td>2013-01-12 08:00:00</td>\n",
       "      <td>1</td>\n",
       "      <td>0</td>\n",
       "      <td>2013-01-01 12:17:00</td>\n",
       "      <td>0</td>\n",
       "      <td>Zero</td>\n",
       "      <td>Low</td>\n",
       "      <td>15--&gt;32</td>\n",
       "      <td>1.793722</td>\n",
       "      <td>Low</td>\n",
       "    </tr>\n",
       "    <tr>\n",
       "      <th>24</th>\n",
       "      <td>15</td>\n",
       "      <td>32</td>\n",
       "      <td>2013-01-05 08:30:00</td>\n",
       "      <td>0</td>\n",
       "      <td>0</td>\n",
       "      <td>2013-01-01 14:40:00</td>\n",
       "      <td>0</td>\n",
       "      <td>Zero</td>\n",
       "      <td>Medium</td>\n",
       "      <td>15--&gt;32</td>\n",
       "      <td>1.793722</td>\n",
       "      <td>Low</td>\n",
       "    </tr>\n",
       "    <tr>\n",
       "      <th>158</th>\n",
       "      <td>1</td>\n",
       "      <td>152</td>\n",
       "      <td>2013-01-04 09:30:00</td>\n",
       "      <td>1</td>\n",
       "      <td>0</td>\n",
       "      <td>2013-01-03 12:19:00</td>\n",
       "      <td>0</td>\n",
       "      <td>Zero</td>\n",
       "      <td>Medium</td>\n",
       "      <td>1--&gt;152</td>\n",
       "      <td>0.000000</td>\n",
       "      <td>Zero</td>\n",
       "    </tr>\n",
       "    <tr>\n",
       "      <th>216</th>\n",
       "      <td>15</td>\n",
       "      <td>32</td>\n",
       "      <td>2013-01-06 07:30:00</td>\n",
       "      <td>1</td>\n",
       "      <td>0</td>\n",
       "      <td>2013-01-04 09:32:00</td>\n",
       "      <td>0</td>\n",
       "      <td>Zero</td>\n",
       "      <td>Low</td>\n",
       "      <td>15--&gt;32</td>\n",
       "      <td>1.793722</td>\n",
       "      <td>Low</td>\n",
       "    </tr>\n",
       "  </tbody>\n",
       "</table>\n",
       "</div>"
      ],
      "text/plain": [
       "    from_city_id to_city_id           from_date  online_booking  \\\n",
       "6             15        108 2013-01-01 09:45:00               0   \n",
       "17            15         32 2013-01-12 08:00:00               1   \n",
       "24            15         32 2013-01-05 08:30:00               0   \n",
       "158            1        152 2013-01-04 09:30:00               1   \n",
       "216           15         32 2013-01-06 07:30:00               1   \n",
       "\n",
       "     mobile_site_booking     booking_created  Car_Cancellation  \\\n",
       "6                      0 2013-01-01 09:21:00                 0   \n",
       "17                     0 2013-01-01 12:17:00                 0   \n",
       "24                     0 2013-01-01 14:40:00                 0   \n",
       "158                    0 2013-01-03 12:19:00                 0   \n",
       "216                    0 2013-01-04 09:32:00                 0   \n",
       "\n",
       "    Canc_Tags_from_area Booking_Tags_from_area route_from_to_city  \\\n",
       "6                Medium                 Medium           15-->108   \n",
       "17                 Zero                    Low            15-->32   \n",
       "24                 Zero                 Medium            15-->32   \n",
       "158                Zero                 Medium            1-->152   \n",
       "216                Zero                    Low            15-->32   \n",
       "\n",
       "     canc_route_fr_to_perc canc_Tags_fr_to_perc  \n",
       "6                 1.612903                  Low  \n",
       "17                1.793722                  Low  \n",
       "24                1.793722                  Low  \n",
       "158               0.000000                 Zero  \n",
       "216               1.793722                  Low  "
      ]
     },
     "execution_count": 98,
     "metadata": {},
     "output_type": "execute_result"
    }
   ],
   "source": [
    "df1.head()"
   ]
  },
  {
   "cell_type": "code",
   "execution_count": 99,
   "id": "93ab7041",
   "metadata": {},
   "outputs": [],
   "source": [
    "# Now, create the booking tags.\n",
    "booking_route_fr_to_perc=(df1.groupby('route_from_to_city').count()['from_city_id']/df1.shape[0])*100"
   ]
  },
  {
   "cell_type": "code",
   "execution_count": 100,
   "id": "d71f2aee",
   "metadata": {},
   "outputs": [
    {
     "data": {
      "text/plain": [
       "route_from_to_city\n",
       "1-->108     0.125865\n",
       "1-->113     0.062933\n",
       "1-->116     0.062933\n",
       "1-->12      0.062933\n",
       "1-->125     0.062933\n",
       "              ...   \n",
       "15-->89     0.503461\n",
       "15-->97     0.062933\n",
       "31-->132    0.125865\n",
       "31-->29     0.125865\n",
       "31-->44     0.125865\n",
       "Name: from_city_id, Length: 152, dtype: float64"
      ]
     },
     "execution_count": 100,
     "metadata": {},
     "output_type": "execute_result"
    }
   ],
   "source": [
    "booking_route_fr_to_perc"
   ]
  },
  {
   "cell_type": "code",
   "execution_count": 101,
   "id": "e47c730c",
   "metadata": {},
   "outputs": [
    {
     "data": {
      "text/html": [
       "<div>\n",
       "<style scoped>\n",
       "    .dataframe tbody tr th:only-of-type {\n",
       "        vertical-align: middle;\n",
       "    }\n",
       "\n",
       "    .dataframe tbody tr th {\n",
       "        vertical-align: top;\n",
       "    }\n",
       "\n",
       "    .dataframe thead th {\n",
       "        text-align: right;\n",
       "    }\n",
       "</style>\n",
       "<table border=\"1\" class=\"dataframe\">\n",
       "  <thead>\n",
       "    <tr style=\"text-align: right;\">\n",
       "      <th></th>\n",
       "      <th>from_city_id</th>\n",
       "      <th>to_city_id</th>\n",
       "      <th>from_date</th>\n",
       "      <th>online_booking</th>\n",
       "      <th>mobile_site_booking</th>\n",
       "      <th>booking_created</th>\n",
       "      <th>Car_Cancellation</th>\n",
       "      <th>Canc_Tags_from_area</th>\n",
       "      <th>Booking_Tags_from_area</th>\n",
       "      <th>route_from_to_city</th>\n",
       "      <th>canc_route_fr_to_perc</th>\n",
       "      <th>canc_Tags_fr_to_perc</th>\n",
       "      <th>booking_route_fr_to_perc</th>\n",
       "    </tr>\n",
       "  </thead>\n",
       "  <tbody>\n",
       "    <tr>\n",
       "      <th>6</th>\n",
       "      <td>15</td>\n",
       "      <td>108</td>\n",
       "      <td>2013-01-01 09:45:00</td>\n",
       "      <td>0</td>\n",
       "      <td>0</td>\n",
       "      <td>2013-01-01 09:21:00</td>\n",
       "      <td>0</td>\n",
       "      <td>Medium</td>\n",
       "      <td>Medium</td>\n",
       "      <td>15--&gt;108</td>\n",
       "      <td>1.612903</td>\n",
       "      <td>Low</td>\n",
       "      <td>3.901825</td>\n",
       "    </tr>\n",
       "    <tr>\n",
       "      <th>17</th>\n",
       "      <td>15</td>\n",
       "      <td>32</td>\n",
       "      <td>2013-01-12 08:00:00</td>\n",
       "      <td>1</td>\n",
       "      <td>0</td>\n",
       "      <td>2013-01-01 12:17:00</td>\n",
       "      <td>0</td>\n",
       "      <td>Zero</td>\n",
       "      <td>Low</td>\n",
       "      <td>15--&gt;32</td>\n",
       "      <td>1.793722</td>\n",
       "      <td>Low</td>\n",
       "      <td>28.067967</td>\n",
       "    </tr>\n",
       "    <tr>\n",
       "      <th>24</th>\n",
       "      <td>15</td>\n",
       "      <td>32</td>\n",
       "      <td>2013-01-05 08:30:00</td>\n",
       "      <td>0</td>\n",
       "      <td>0</td>\n",
       "      <td>2013-01-01 14:40:00</td>\n",
       "      <td>0</td>\n",
       "      <td>Zero</td>\n",
       "      <td>Medium</td>\n",
       "      <td>15--&gt;32</td>\n",
       "      <td>1.793722</td>\n",
       "      <td>Low</td>\n",
       "      <td>28.067967</td>\n",
       "    </tr>\n",
       "    <tr>\n",
       "      <th>158</th>\n",
       "      <td>1</td>\n",
       "      <td>152</td>\n",
       "      <td>2013-01-04 09:30:00</td>\n",
       "      <td>1</td>\n",
       "      <td>0</td>\n",
       "      <td>2013-01-03 12:19:00</td>\n",
       "      <td>0</td>\n",
       "      <td>Zero</td>\n",
       "      <td>Medium</td>\n",
       "      <td>1--&gt;152</td>\n",
       "      <td>0.000000</td>\n",
       "      <td>Zero</td>\n",
       "      <td>0.251731</td>\n",
       "    </tr>\n",
       "    <tr>\n",
       "      <th>216</th>\n",
       "      <td>15</td>\n",
       "      <td>32</td>\n",
       "      <td>2013-01-06 07:30:00</td>\n",
       "      <td>1</td>\n",
       "      <td>0</td>\n",
       "      <td>2013-01-04 09:32:00</td>\n",
       "      <td>0</td>\n",
       "      <td>Zero</td>\n",
       "      <td>Low</td>\n",
       "      <td>15--&gt;32</td>\n",
       "      <td>1.793722</td>\n",
       "      <td>Low</td>\n",
       "      <td>28.067967</td>\n",
       "    </tr>\n",
       "  </tbody>\n",
       "</table>\n",
       "</div>"
      ],
      "text/plain": [
       "    from_city_id to_city_id           from_date  online_booking  \\\n",
       "6             15        108 2013-01-01 09:45:00               0   \n",
       "17            15         32 2013-01-12 08:00:00               1   \n",
       "24            15         32 2013-01-05 08:30:00               0   \n",
       "158            1        152 2013-01-04 09:30:00               1   \n",
       "216           15         32 2013-01-06 07:30:00               1   \n",
       "\n",
       "     mobile_site_booking     booking_created  Car_Cancellation  \\\n",
       "6                      0 2013-01-01 09:21:00                 0   \n",
       "17                     0 2013-01-01 12:17:00                 0   \n",
       "24                     0 2013-01-01 14:40:00                 0   \n",
       "158                    0 2013-01-03 12:19:00                 0   \n",
       "216                    0 2013-01-04 09:32:00                 0   \n",
       "\n",
       "    Canc_Tags_from_area Booking_Tags_from_area route_from_to_city  \\\n",
       "6                Medium                 Medium           15-->108   \n",
       "17                 Zero                    Low            15-->32   \n",
       "24                 Zero                 Medium            15-->32   \n",
       "158                Zero                 Medium            1-->152   \n",
       "216                Zero                    Low            15-->32   \n",
       "\n",
       "     canc_route_fr_to_perc canc_Tags_fr_to_perc  booking_route_fr_to_perc  \n",
       "6                 1.612903                  Low                  3.901825  \n",
       "17                1.793722                  Low                 28.067967  \n",
       "24                1.793722                  Low                 28.067967  \n",
       "158               0.000000                 Zero                  0.251731  \n",
       "216               1.793722                  Low                 28.067967  "
      ]
     },
     "execution_count": 101,
     "metadata": {},
     "output_type": "execute_result"
    }
   ],
   "source": [
    "df1['booking_route_fr_to_perc']=df1['route_from_to_city'].map(booking_route_fr_to_perc)\n",
    "df1.head()"
   ]
  },
  {
   "cell_type": "code",
   "execution_count": 102,
   "id": "94c15bc1",
   "metadata": {},
   "outputs": [
    {
     "data": {
      "text/html": [
       "<div>\n",
       "<style scoped>\n",
       "    .dataframe tbody tr th:only-of-type {\n",
       "        vertical-align: middle;\n",
       "    }\n",
       "\n",
       "    .dataframe tbody tr th {\n",
       "        vertical-align: top;\n",
       "    }\n",
       "\n",
       "    .dataframe thead th {\n",
       "        text-align: right;\n",
       "    }\n",
       "</style>\n",
       "<table border=\"1\" class=\"dataframe\">\n",
       "  <thead>\n",
       "    <tr style=\"text-align: right;\">\n",
       "      <th></th>\n",
       "      <th>online_booking</th>\n",
       "      <th>mobile_site_booking</th>\n",
       "      <th>Car_Cancellation</th>\n",
       "      <th>canc_route_fr_to_perc</th>\n",
       "      <th>booking_route_fr_to_perc</th>\n",
       "    </tr>\n",
       "  </thead>\n",
       "  <tbody>\n",
       "    <tr>\n",
       "      <th>count</th>\n",
       "      <td>1589.000000</td>\n",
       "      <td>1589.000000</td>\n",
       "      <td>1589.000000</td>\n",
       "      <td>1589.000000</td>\n",
       "      <td>1589.000000</td>\n",
       "    </tr>\n",
       "    <tr>\n",
       "      <th>mean</th>\n",
       "      <td>0.427313</td>\n",
       "      <td>0.018880</td>\n",
       "      <td>0.013216</td>\n",
       "      <td>1.321586</td>\n",
       "      <td>10.208359</td>\n",
       "    </tr>\n",
       "    <tr>\n",
       "      <th>std</th>\n",
       "      <td>0.494844</td>\n",
       "      <td>0.136143</td>\n",
       "      <td>0.114234</td>\n",
       "      <td>1.912082</td>\n",
       "      <td>11.566780</td>\n",
       "    </tr>\n",
       "    <tr>\n",
       "      <th>min</th>\n",
       "      <td>0.000000</td>\n",
       "      <td>0.000000</td>\n",
       "      <td>0.000000</td>\n",
       "      <td>0.000000</td>\n",
       "      <td>0.062933</td>\n",
       "    </tr>\n",
       "    <tr>\n",
       "      <th>25%</th>\n",
       "      <td>0.000000</td>\n",
       "      <td>0.000000</td>\n",
       "      <td>0.000000</td>\n",
       "      <td>0.000000</td>\n",
       "      <td>0.755192</td>\n",
       "    </tr>\n",
       "    <tr>\n",
       "      <th>50%</th>\n",
       "      <td>0.000000</td>\n",
       "      <td>0.000000</td>\n",
       "      <td>0.000000</td>\n",
       "      <td>0.000000</td>\n",
       "      <td>5.223411</td>\n",
       "    </tr>\n",
       "    <tr>\n",
       "      <th>75%</th>\n",
       "      <td>1.000000</td>\n",
       "      <td>0.000000</td>\n",
       "      <td>0.000000</td>\n",
       "      <td>1.793722</td>\n",
       "      <td>28.067967</td>\n",
       "    </tr>\n",
       "    <tr>\n",
       "      <th>max</th>\n",
       "      <td>1.000000</td>\n",
       "      <td>1.000000</td>\n",
       "      <td>1.000000</td>\n",
       "      <td>8.695652</td>\n",
       "      <td>28.067967</td>\n",
       "    </tr>\n",
       "  </tbody>\n",
       "</table>\n",
       "</div>"
      ],
      "text/plain": [
       "       online_booking  mobile_site_booking  Car_Cancellation  \\\n",
       "count     1589.000000          1589.000000       1589.000000   \n",
       "mean         0.427313             0.018880          0.013216   \n",
       "std          0.494844             0.136143          0.114234   \n",
       "min          0.000000             0.000000          0.000000   \n",
       "25%          0.000000             0.000000          0.000000   \n",
       "50%          0.000000             0.000000          0.000000   \n",
       "75%          1.000000             0.000000          0.000000   \n",
       "max          1.000000             1.000000          1.000000   \n",
       "\n",
       "       canc_route_fr_to_perc  booking_route_fr_to_perc  \n",
       "count            1589.000000               1589.000000  \n",
       "mean                1.321586                 10.208359  \n",
       "std                 1.912082                 11.566780  \n",
       "min                 0.000000                  0.062933  \n",
       "25%                 0.000000                  0.755192  \n",
       "50%                 0.000000                  5.223411  \n",
       "75%                 1.793722                 28.067967  \n",
       "max                 8.695652                 28.067967  "
      ]
     },
     "execution_count": 102,
     "metadata": {},
     "output_type": "execute_result"
    }
   ],
   "source": [
    "df1.describe()"
   ]
  },
  {
   "cell_type": "code",
   "execution_count": 103,
   "id": "21563aa9",
   "metadata": {},
   "outputs": [],
   "source": [
    "def tags1(x):\n",
    "    if x<=0.755192:\n",
    "        return 'Low'\n",
    "    elif x<=5.223411:\n",
    "        return 'Medium'\n",
    "    else:\n",
    "        return 'High'"
   ]
  },
  {
   "cell_type": "code",
   "execution_count": 104,
   "id": "360310e6",
   "metadata": {},
   "outputs": [],
   "source": [
    "df1['booking_Tags_fr_to_city']=df1['booking_route_fr_to_perc'].apply(tags1)"
   ]
  },
  {
   "cell_type": "code",
   "execution_count": 105,
   "id": "f3cadf3e",
   "metadata": {},
   "outputs": [
    {
     "data": {
      "text/html": [
       "<div>\n",
       "<style scoped>\n",
       "    .dataframe tbody tr th:only-of-type {\n",
       "        vertical-align: middle;\n",
       "    }\n",
       "\n",
       "    .dataframe tbody tr th {\n",
       "        vertical-align: top;\n",
       "    }\n",
       "\n",
       "    .dataframe thead th {\n",
       "        text-align: right;\n",
       "    }\n",
       "</style>\n",
       "<table border=\"1\" class=\"dataframe\">\n",
       "  <thead>\n",
       "    <tr style=\"text-align: right;\">\n",
       "      <th></th>\n",
       "      <th>from_city_id</th>\n",
       "      <th>to_city_id</th>\n",
       "      <th>from_date</th>\n",
       "      <th>online_booking</th>\n",
       "      <th>mobile_site_booking</th>\n",
       "      <th>booking_created</th>\n",
       "      <th>Car_Cancellation</th>\n",
       "      <th>Canc_Tags_from_area</th>\n",
       "      <th>Booking_Tags_from_area</th>\n",
       "      <th>route_from_to_city</th>\n",
       "      <th>canc_route_fr_to_perc</th>\n",
       "      <th>canc_Tags_fr_to_perc</th>\n",
       "      <th>booking_route_fr_to_perc</th>\n",
       "      <th>booking_Tags_fr_to_city</th>\n",
       "    </tr>\n",
       "  </thead>\n",
       "  <tbody>\n",
       "    <tr>\n",
       "      <th>6</th>\n",
       "      <td>15</td>\n",
       "      <td>108</td>\n",
       "      <td>2013-01-01 09:45:00</td>\n",
       "      <td>0</td>\n",
       "      <td>0</td>\n",
       "      <td>2013-01-01 09:21:00</td>\n",
       "      <td>0</td>\n",
       "      <td>Medium</td>\n",
       "      <td>Medium</td>\n",
       "      <td>15--&gt;108</td>\n",
       "      <td>1.612903</td>\n",
       "      <td>Low</td>\n",
       "      <td>3.901825</td>\n",
       "      <td>Medium</td>\n",
       "    </tr>\n",
       "    <tr>\n",
       "      <th>17</th>\n",
       "      <td>15</td>\n",
       "      <td>32</td>\n",
       "      <td>2013-01-12 08:00:00</td>\n",
       "      <td>1</td>\n",
       "      <td>0</td>\n",
       "      <td>2013-01-01 12:17:00</td>\n",
       "      <td>0</td>\n",
       "      <td>Zero</td>\n",
       "      <td>Low</td>\n",
       "      <td>15--&gt;32</td>\n",
       "      <td>1.793722</td>\n",
       "      <td>Low</td>\n",
       "      <td>28.067967</td>\n",
       "      <td>High</td>\n",
       "    </tr>\n",
       "    <tr>\n",
       "      <th>24</th>\n",
       "      <td>15</td>\n",
       "      <td>32</td>\n",
       "      <td>2013-01-05 08:30:00</td>\n",
       "      <td>0</td>\n",
       "      <td>0</td>\n",
       "      <td>2013-01-01 14:40:00</td>\n",
       "      <td>0</td>\n",
       "      <td>Zero</td>\n",
       "      <td>Medium</td>\n",
       "      <td>15--&gt;32</td>\n",
       "      <td>1.793722</td>\n",
       "      <td>Low</td>\n",
       "      <td>28.067967</td>\n",
       "      <td>High</td>\n",
       "    </tr>\n",
       "    <tr>\n",
       "      <th>158</th>\n",
       "      <td>1</td>\n",
       "      <td>152</td>\n",
       "      <td>2013-01-04 09:30:00</td>\n",
       "      <td>1</td>\n",
       "      <td>0</td>\n",
       "      <td>2013-01-03 12:19:00</td>\n",
       "      <td>0</td>\n",
       "      <td>Zero</td>\n",
       "      <td>Medium</td>\n",
       "      <td>1--&gt;152</td>\n",
       "      <td>0.000000</td>\n",
       "      <td>Zero</td>\n",
       "      <td>0.251731</td>\n",
       "      <td>Low</td>\n",
       "    </tr>\n",
       "    <tr>\n",
       "      <th>216</th>\n",
       "      <td>15</td>\n",
       "      <td>32</td>\n",
       "      <td>2013-01-06 07:30:00</td>\n",
       "      <td>1</td>\n",
       "      <td>0</td>\n",
       "      <td>2013-01-04 09:32:00</td>\n",
       "      <td>0</td>\n",
       "      <td>Zero</td>\n",
       "      <td>Low</td>\n",
       "      <td>15--&gt;32</td>\n",
       "      <td>1.793722</td>\n",
       "      <td>Low</td>\n",
       "      <td>28.067967</td>\n",
       "      <td>High</td>\n",
       "    </tr>\n",
       "  </tbody>\n",
       "</table>\n",
       "</div>"
      ],
      "text/plain": [
       "    from_city_id to_city_id           from_date  online_booking  \\\n",
       "6             15        108 2013-01-01 09:45:00               0   \n",
       "17            15         32 2013-01-12 08:00:00               1   \n",
       "24            15         32 2013-01-05 08:30:00               0   \n",
       "158            1        152 2013-01-04 09:30:00               1   \n",
       "216           15         32 2013-01-06 07:30:00               1   \n",
       "\n",
       "     mobile_site_booking     booking_created  Car_Cancellation  \\\n",
       "6                      0 2013-01-01 09:21:00                 0   \n",
       "17                     0 2013-01-01 12:17:00                 0   \n",
       "24                     0 2013-01-01 14:40:00                 0   \n",
       "158                    0 2013-01-03 12:19:00                 0   \n",
       "216                    0 2013-01-04 09:32:00                 0   \n",
       "\n",
       "    Canc_Tags_from_area Booking_Tags_from_area route_from_to_city  \\\n",
       "6                Medium                 Medium           15-->108   \n",
       "17                 Zero                    Low            15-->32   \n",
       "24                 Zero                 Medium            15-->32   \n",
       "158                Zero                 Medium            1-->152   \n",
       "216                Zero                    Low            15-->32   \n",
       "\n",
       "     canc_route_fr_to_perc canc_Tags_fr_to_perc  booking_route_fr_to_perc  \\\n",
       "6                 1.612903                  Low                  3.901825   \n",
       "17                1.793722                  Low                 28.067967   \n",
       "24                1.793722                  Low                 28.067967   \n",
       "158               0.000000                 Zero                  0.251731   \n",
       "216               1.793722                  Low                 28.067967   \n",
       "\n",
       "    booking_Tags_fr_to_city  \n",
       "6                    Medium  \n",
       "17                     High  \n",
       "24                     High  \n",
       "158                     Low  \n",
       "216                    High  "
      ]
     },
     "execution_count": 105,
     "metadata": {},
     "output_type": "execute_result"
    }
   ],
   "source": [
    "df1.head()"
   ]
  },
  {
   "cell_type": "code",
   "execution_count": 106,
   "id": "be20eff2",
   "metadata": {},
   "outputs": [],
   "source": [
    "df1.drop(['route_from_to_city','canc_route_fr_to_perc','booking_route_fr_to_perc'],axis=1,inplace=True)"
   ]
  },
  {
   "cell_type": "code",
   "execution_count": 107,
   "id": "86ab6987",
   "metadata": {},
   "outputs": [
    {
     "data": {
      "text/html": [
       "<div>\n",
       "<style scoped>\n",
       "    .dataframe tbody tr th:only-of-type {\n",
       "        vertical-align: middle;\n",
       "    }\n",
       "\n",
       "    .dataframe tbody tr th {\n",
       "        vertical-align: top;\n",
       "    }\n",
       "\n",
       "    .dataframe thead th {\n",
       "        text-align: right;\n",
       "    }\n",
       "</style>\n",
       "<table border=\"1\" class=\"dataframe\">\n",
       "  <thead>\n",
       "    <tr style=\"text-align: right;\">\n",
       "      <th></th>\n",
       "      <th>from_city_id</th>\n",
       "      <th>to_city_id</th>\n",
       "      <th>from_date</th>\n",
       "      <th>online_booking</th>\n",
       "      <th>mobile_site_booking</th>\n",
       "      <th>booking_created</th>\n",
       "      <th>Car_Cancellation</th>\n",
       "      <th>Canc_Tags_from_area</th>\n",
       "      <th>Booking_Tags_from_area</th>\n",
       "      <th>canc_Tags_fr_to_perc</th>\n",
       "      <th>booking_Tags_fr_to_city</th>\n",
       "    </tr>\n",
       "  </thead>\n",
       "  <tbody>\n",
       "    <tr>\n",
       "      <th>6</th>\n",
       "      <td>15</td>\n",
       "      <td>108</td>\n",
       "      <td>2013-01-01 09:45:00</td>\n",
       "      <td>0</td>\n",
       "      <td>0</td>\n",
       "      <td>2013-01-01 09:21:00</td>\n",
       "      <td>0</td>\n",
       "      <td>Medium</td>\n",
       "      <td>Medium</td>\n",
       "      <td>Low</td>\n",
       "      <td>Medium</td>\n",
       "    </tr>\n",
       "    <tr>\n",
       "      <th>17</th>\n",
       "      <td>15</td>\n",
       "      <td>32</td>\n",
       "      <td>2013-01-12 08:00:00</td>\n",
       "      <td>1</td>\n",
       "      <td>0</td>\n",
       "      <td>2013-01-01 12:17:00</td>\n",
       "      <td>0</td>\n",
       "      <td>Zero</td>\n",
       "      <td>Low</td>\n",
       "      <td>Low</td>\n",
       "      <td>High</td>\n",
       "    </tr>\n",
       "    <tr>\n",
       "      <th>24</th>\n",
       "      <td>15</td>\n",
       "      <td>32</td>\n",
       "      <td>2013-01-05 08:30:00</td>\n",
       "      <td>0</td>\n",
       "      <td>0</td>\n",
       "      <td>2013-01-01 14:40:00</td>\n",
       "      <td>0</td>\n",
       "      <td>Zero</td>\n",
       "      <td>Medium</td>\n",
       "      <td>Low</td>\n",
       "      <td>High</td>\n",
       "    </tr>\n",
       "    <tr>\n",
       "      <th>158</th>\n",
       "      <td>1</td>\n",
       "      <td>152</td>\n",
       "      <td>2013-01-04 09:30:00</td>\n",
       "      <td>1</td>\n",
       "      <td>0</td>\n",
       "      <td>2013-01-03 12:19:00</td>\n",
       "      <td>0</td>\n",
       "      <td>Zero</td>\n",
       "      <td>Medium</td>\n",
       "      <td>Zero</td>\n",
       "      <td>Low</td>\n",
       "    </tr>\n",
       "    <tr>\n",
       "      <th>216</th>\n",
       "      <td>15</td>\n",
       "      <td>32</td>\n",
       "      <td>2013-01-06 07:30:00</td>\n",
       "      <td>1</td>\n",
       "      <td>0</td>\n",
       "      <td>2013-01-04 09:32:00</td>\n",
       "      <td>0</td>\n",
       "      <td>Zero</td>\n",
       "      <td>Low</td>\n",
       "      <td>Low</td>\n",
       "      <td>High</td>\n",
       "    </tr>\n",
       "  </tbody>\n",
       "</table>\n",
       "</div>"
      ],
      "text/plain": [
       "    from_city_id to_city_id           from_date  online_booking  \\\n",
       "6             15        108 2013-01-01 09:45:00               0   \n",
       "17            15         32 2013-01-12 08:00:00               1   \n",
       "24            15         32 2013-01-05 08:30:00               0   \n",
       "158            1        152 2013-01-04 09:30:00               1   \n",
       "216           15         32 2013-01-06 07:30:00               1   \n",
       "\n",
       "     mobile_site_booking     booking_created  Car_Cancellation  \\\n",
       "6                      0 2013-01-01 09:21:00                 0   \n",
       "17                     0 2013-01-01 12:17:00                 0   \n",
       "24                     0 2013-01-01 14:40:00                 0   \n",
       "158                    0 2013-01-03 12:19:00                 0   \n",
       "216                    0 2013-01-04 09:32:00                 0   \n",
       "\n",
       "    Canc_Tags_from_area Booking_Tags_from_area canc_Tags_fr_to_perc  \\\n",
       "6                Medium                 Medium                  Low   \n",
       "17                 Zero                    Low                  Low   \n",
       "24                 Zero                 Medium                  Low   \n",
       "158                Zero                 Medium                 Zero   \n",
       "216                Zero                    Low                  Low   \n",
       "\n",
       "    booking_Tags_fr_to_city  \n",
       "6                    Medium  \n",
       "17                     High  \n",
       "24                     High  \n",
       "158                     Low  \n",
       "216                    High  "
      ]
     },
     "execution_count": 107,
     "metadata": {},
     "output_type": "execute_result"
    }
   ],
   "source": [
    "df1.head()"
   ]
  },
  {
   "cell_type": "code",
   "execution_count": 108,
   "id": "fe09d872",
   "metadata": {},
   "outputs": [
    {
     "name": "stdout",
     "output_type": "stream",
     "text": [
      "['Medium' 'Zero' 'Low' 'High']\n",
      "['Medium' 'Low' 'High']\n",
      "['Low' 'Zero' 'Medium' 'High']\n",
      "['Medium' 'High' 'Low']\n"
     ]
    }
   ],
   "source": [
    "print(df1['Canc_Tags_from_area'].unique())\n",
    "print(df1['Booking_Tags_from_area'].unique())\n",
    "print(df1['canc_Tags_fr_to_perc'].unique())\n",
    "print(df1['booking_Tags_fr_to_city'].unique())"
   ]
  },
  {
   "cell_type": "code",
   "execution_count": 109,
   "id": "4965e0e3",
   "metadata": {},
   "outputs": [],
   "source": [
    "# Canc_Tags_from_area\tBooking_Tags_from_area\tcanc_Tags_fr_to_perc\tbooking_Tags_fr_to_city\n",
    "df1['Canc_Tags_from_area']=df1['Canc_Tags_from_area'].map({'Zero':0,'Low':1,'Medium':2,'High':3})\n",
    "df1['Booking_Tags_from_area']=df1['Booking_Tags_from_area'].map({'Low':1,'Medium':2,'High':3})\n",
    "df1['canc_Tags_fr_to_perc']=df1['canc_Tags_fr_to_perc'].map({'Zero':0,'Low':1,'Medium':2,'High':3})\n",
    "df1['booking_Tags_fr_to_city']=df1['booking_Tags_fr_to_city'].map({'Low':1,'Medium':2,'High':3})"
   ]
  },
  {
   "cell_type": "code",
   "execution_count": 110,
   "id": "ea8c9e41",
   "metadata": {},
   "outputs": [
    {
     "data": {
      "text/html": [
       "<div>\n",
       "<style scoped>\n",
       "    .dataframe tbody tr th:only-of-type {\n",
       "        vertical-align: middle;\n",
       "    }\n",
       "\n",
       "    .dataframe tbody tr th {\n",
       "        vertical-align: top;\n",
       "    }\n",
       "\n",
       "    .dataframe thead th {\n",
       "        text-align: right;\n",
       "    }\n",
       "</style>\n",
       "<table border=\"1\" class=\"dataframe\">\n",
       "  <thead>\n",
       "    <tr style=\"text-align: right;\">\n",
       "      <th></th>\n",
       "      <th>from_city_id</th>\n",
       "      <th>to_city_id</th>\n",
       "      <th>from_date</th>\n",
       "      <th>online_booking</th>\n",
       "      <th>mobile_site_booking</th>\n",
       "      <th>booking_created</th>\n",
       "      <th>Car_Cancellation</th>\n",
       "      <th>Canc_Tags_from_area</th>\n",
       "      <th>Booking_Tags_from_area</th>\n",
       "      <th>canc_Tags_fr_to_perc</th>\n",
       "      <th>booking_Tags_fr_to_city</th>\n",
       "    </tr>\n",
       "  </thead>\n",
       "  <tbody>\n",
       "    <tr>\n",
       "      <th>6</th>\n",
       "      <td>15</td>\n",
       "      <td>108</td>\n",
       "      <td>2013-01-01 09:45:00</td>\n",
       "      <td>0</td>\n",
       "      <td>0</td>\n",
       "      <td>2013-01-01 09:21:00</td>\n",
       "      <td>0</td>\n",
       "      <td>2</td>\n",
       "      <td>2</td>\n",
       "      <td>1</td>\n",
       "      <td>2</td>\n",
       "    </tr>\n",
       "    <tr>\n",
       "      <th>17</th>\n",
       "      <td>15</td>\n",
       "      <td>32</td>\n",
       "      <td>2013-01-12 08:00:00</td>\n",
       "      <td>1</td>\n",
       "      <td>0</td>\n",
       "      <td>2013-01-01 12:17:00</td>\n",
       "      <td>0</td>\n",
       "      <td>0</td>\n",
       "      <td>1</td>\n",
       "      <td>1</td>\n",
       "      <td>3</td>\n",
       "    </tr>\n",
       "    <tr>\n",
       "      <th>24</th>\n",
       "      <td>15</td>\n",
       "      <td>32</td>\n",
       "      <td>2013-01-05 08:30:00</td>\n",
       "      <td>0</td>\n",
       "      <td>0</td>\n",
       "      <td>2013-01-01 14:40:00</td>\n",
       "      <td>0</td>\n",
       "      <td>0</td>\n",
       "      <td>2</td>\n",
       "      <td>1</td>\n",
       "      <td>3</td>\n",
       "    </tr>\n",
       "    <tr>\n",
       "      <th>158</th>\n",
       "      <td>1</td>\n",
       "      <td>152</td>\n",
       "      <td>2013-01-04 09:30:00</td>\n",
       "      <td>1</td>\n",
       "      <td>0</td>\n",
       "      <td>2013-01-03 12:19:00</td>\n",
       "      <td>0</td>\n",
       "      <td>0</td>\n",
       "      <td>2</td>\n",
       "      <td>0</td>\n",
       "      <td>1</td>\n",
       "    </tr>\n",
       "    <tr>\n",
       "      <th>216</th>\n",
       "      <td>15</td>\n",
       "      <td>32</td>\n",
       "      <td>2013-01-06 07:30:00</td>\n",
       "      <td>1</td>\n",
       "      <td>0</td>\n",
       "      <td>2013-01-04 09:32:00</td>\n",
       "      <td>0</td>\n",
       "      <td>0</td>\n",
       "      <td>1</td>\n",
       "      <td>1</td>\n",
       "      <td>3</td>\n",
       "    </tr>\n",
       "  </tbody>\n",
       "</table>\n",
       "</div>"
      ],
      "text/plain": [
       "    from_city_id to_city_id           from_date  online_booking  \\\n",
       "6             15        108 2013-01-01 09:45:00               0   \n",
       "17            15         32 2013-01-12 08:00:00               1   \n",
       "24            15         32 2013-01-05 08:30:00               0   \n",
       "158            1        152 2013-01-04 09:30:00               1   \n",
       "216           15         32 2013-01-06 07:30:00               1   \n",
       "\n",
       "     mobile_site_booking     booking_created  Car_Cancellation  \\\n",
       "6                      0 2013-01-01 09:21:00                 0   \n",
       "17                     0 2013-01-01 12:17:00                 0   \n",
       "24                     0 2013-01-01 14:40:00                 0   \n",
       "158                    0 2013-01-03 12:19:00                 0   \n",
       "216                    0 2013-01-04 09:32:00                 0   \n",
       "\n",
       "     Canc_Tags_from_area  Booking_Tags_from_area  canc_Tags_fr_to_perc  \\\n",
       "6                      2                       2                     1   \n",
       "17                     0                       1                     1   \n",
       "24                     0                       2                     1   \n",
       "158                    0                       2                     0   \n",
       "216                    0                       1                     1   \n",
       "\n",
       "     booking_Tags_fr_to_city  \n",
       "6                          2  \n",
       "17                         3  \n",
       "24                         3  \n",
       "158                        1  \n",
       "216                        3  "
      ]
     },
     "execution_count": 110,
     "metadata": {},
     "output_type": "execute_result"
    }
   ],
   "source": [
    "df1.head()"
   ]
  },
  {
   "cell_type": "code",
   "execution_count": 111,
   "id": "f574d398",
   "metadata": {},
   "outputs": [],
   "source": [
    "df1.drop(['from_city_id','to_city_id'],axis=1,inplace=True)"
   ]
  },
  {
   "cell_type": "code",
   "execution_count": 112,
   "id": "cae4d58a",
   "metadata": {},
   "outputs": [
    {
     "data": {
      "text/html": [
       "<div>\n",
       "<style scoped>\n",
       "    .dataframe tbody tr th:only-of-type {\n",
       "        vertical-align: middle;\n",
       "    }\n",
       "\n",
       "    .dataframe tbody tr th {\n",
       "        vertical-align: top;\n",
       "    }\n",
       "\n",
       "    .dataframe thead th {\n",
       "        text-align: right;\n",
       "    }\n",
       "</style>\n",
       "<table border=\"1\" class=\"dataframe\">\n",
       "  <thead>\n",
       "    <tr style=\"text-align: right;\">\n",
       "      <th></th>\n",
       "      <th>from_date</th>\n",
       "      <th>online_booking</th>\n",
       "      <th>mobile_site_booking</th>\n",
       "      <th>booking_created</th>\n",
       "      <th>Car_Cancellation</th>\n",
       "      <th>Canc_Tags_from_area</th>\n",
       "      <th>Booking_Tags_from_area</th>\n",
       "      <th>canc_Tags_fr_to_perc</th>\n",
       "      <th>booking_Tags_fr_to_city</th>\n",
       "    </tr>\n",
       "  </thead>\n",
       "  <tbody>\n",
       "    <tr>\n",
       "      <th>6</th>\n",
       "      <td>2013-01-01 09:45:00</td>\n",
       "      <td>0</td>\n",
       "      <td>0</td>\n",
       "      <td>2013-01-01 09:21:00</td>\n",
       "      <td>0</td>\n",
       "      <td>2</td>\n",
       "      <td>2</td>\n",
       "      <td>1</td>\n",
       "      <td>2</td>\n",
       "    </tr>\n",
       "    <tr>\n",
       "      <th>17</th>\n",
       "      <td>2013-01-12 08:00:00</td>\n",
       "      <td>1</td>\n",
       "      <td>0</td>\n",
       "      <td>2013-01-01 12:17:00</td>\n",
       "      <td>0</td>\n",
       "      <td>0</td>\n",
       "      <td>1</td>\n",
       "      <td>1</td>\n",
       "      <td>3</td>\n",
       "    </tr>\n",
       "    <tr>\n",
       "      <th>24</th>\n",
       "      <td>2013-01-05 08:30:00</td>\n",
       "      <td>0</td>\n",
       "      <td>0</td>\n",
       "      <td>2013-01-01 14:40:00</td>\n",
       "      <td>0</td>\n",
       "      <td>0</td>\n",
       "      <td>2</td>\n",
       "      <td>1</td>\n",
       "      <td>3</td>\n",
       "    </tr>\n",
       "    <tr>\n",
       "      <th>158</th>\n",
       "      <td>2013-01-04 09:30:00</td>\n",
       "      <td>1</td>\n",
       "      <td>0</td>\n",
       "      <td>2013-01-03 12:19:00</td>\n",
       "      <td>0</td>\n",
       "      <td>0</td>\n",
       "      <td>2</td>\n",
       "      <td>0</td>\n",
       "      <td>1</td>\n",
       "    </tr>\n",
       "    <tr>\n",
       "      <th>216</th>\n",
       "      <td>2013-01-06 07:30:00</td>\n",
       "      <td>1</td>\n",
       "      <td>0</td>\n",
       "      <td>2013-01-04 09:32:00</td>\n",
       "      <td>0</td>\n",
       "      <td>0</td>\n",
       "      <td>1</td>\n",
       "      <td>1</td>\n",
       "      <td>3</td>\n",
       "    </tr>\n",
       "  </tbody>\n",
       "</table>\n",
       "</div>"
      ],
      "text/plain": [
       "              from_date  online_booking  mobile_site_booking  \\\n",
       "6   2013-01-01 09:45:00               0                    0   \n",
       "17  2013-01-12 08:00:00               1                    0   \n",
       "24  2013-01-05 08:30:00               0                    0   \n",
       "158 2013-01-04 09:30:00               1                    0   \n",
       "216 2013-01-06 07:30:00               1                    0   \n",
       "\n",
       "        booking_created  Car_Cancellation  Canc_Tags_from_area  \\\n",
       "6   2013-01-01 09:21:00                 0                    2   \n",
       "17  2013-01-01 12:17:00                 0                    0   \n",
       "24  2013-01-01 14:40:00                 0                    0   \n",
       "158 2013-01-03 12:19:00                 0                    0   \n",
       "216 2013-01-04 09:32:00                 0                    0   \n",
       "\n",
       "     Booking_Tags_from_area  canc_Tags_fr_to_perc  booking_Tags_fr_to_city  \n",
       "6                         2                     1                        2  \n",
       "17                        1                     1                        3  \n",
       "24                        2                     1                        3  \n",
       "158                       2                     0                        1  \n",
       "216                       1                     1                        3  "
      ]
     },
     "execution_count": 112,
     "metadata": {},
     "output_type": "execute_result"
    }
   ],
   "source": [
    "df1.head()"
   ]
  },
  {
   "cell_type": "code",
   "execution_count": 113,
   "id": "5b37e2de",
   "metadata": {},
   "outputs": [
    {
     "name": "stdout",
     "output_type": "stream",
     "text": [
      "<class 'pandas.core.frame.DataFrame'>\n",
      "Int64Index: 1589 entries, 6 to 43407\n",
      "Data columns (total 9 columns):\n",
      " #   Column                   Non-Null Count  Dtype         \n",
      "---  ------                   --------------  -----         \n",
      " 0   from_date                1589 non-null   datetime64[ns]\n",
      " 1   online_booking           1589 non-null   int64         \n",
      " 2   mobile_site_booking      1589 non-null   int64         \n",
      " 3   booking_created          1589 non-null   datetime64[ns]\n",
      " 4   Car_Cancellation         1589 non-null   int64         \n",
      " 5   Canc_Tags_from_area      1589 non-null   int64         \n",
      " 6   Booking_Tags_from_area   1589 non-null   int64         \n",
      " 7   canc_Tags_fr_to_perc     1589 non-null   int64         \n",
      " 8   booking_Tags_fr_to_city  1589 non-null   int64         \n",
      "dtypes: datetime64[ns](2), int64(7)\n",
      "memory usage: 124.1 KB\n"
     ]
    }
   ],
   "source": [
    "df1.info()"
   ]
  },
  {
   "cell_type": "code",
   "execution_count": 114,
   "id": "b5579d3f",
   "metadata": {},
   "outputs": [],
   "source": [
    "df1['DayofWeek']=df1['from_date'].dt.day_name()"
   ]
  },
  {
   "cell_type": "code",
   "execution_count": 115,
   "id": "7f5df75c",
   "metadata": {},
   "outputs": [],
   "source": [
    "df1['Month']=df1['from_date'].dt.month"
   ]
  },
  {
   "cell_type": "code",
   "execution_count": 116,
   "id": "b2bebd7d",
   "metadata": {},
   "outputs": [],
   "source": [
    "df1['Weekday/Weekend']=df1['from_date'].dt.dayofweek//5"
   ]
  },
  {
   "cell_type": "code",
   "execution_count": 117,
   "id": "19585cbc",
   "metadata": {},
   "outputs": [
    {
     "data": {
      "text/html": [
       "<div>\n",
       "<style scoped>\n",
       "    .dataframe tbody tr th:only-of-type {\n",
       "        vertical-align: middle;\n",
       "    }\n",
       "\n",
       "    .dataframe tbody tr th {\n",
       "        vertical-align: top;\n",
       "    }\n",
       "\n",
       "    .dataframe thead th {\n",
       "        text-align: right;\n",
       "    }\n",
       "</style>\n",
       "<table border=\"1\" class=\"dataframe\">\n",
       "  <thead>\n",
       "    <tr style=\"text-align: right;\">\n",
       "      <th></th>\n",
       "      <th>from_date</th>\n",
       "      <th>online_booking</th>\n",
       "      <th>mobile_site_booking</th>\n",
       "      <th>booking_created</th>\n",
       "      <th>Car_Cancellation</th>\n",
       "      <th>Canc_Tags_from_area</th>\n",
       "      <th>Booking_Tags_from_area</th>\n",
       "      <th>canc_Tags_fr_to_perc</th>\n",
       "      <th>booking_Tags_fr_to_city</th>\n",
       "      <th>DayofWeek</th>\n",
       "      <th>Month</th>\n",
       "      <th>Weekday/Weekend</th>\n",
       "    </tr>\n",
       "  </thead>\n",
       "  <tbody>\n",
       "    <tr>\n",
       "      <th>6</th>\n",
       "      <td>2013-01-01 09:45:00</td>\n",
       "      <td>0</td>\n",
       "      <td>0</td>\n",
       "      <td>2013-01-01 09:21:00</td>\n",
       "      <td>0</td>\n",
       "      <td>2</td>\n",
       "      <td>2</td>\n",
       "      <td>1</td>\n",
       "      <td>2</td>\n",
       "      <td>Tuesday</td>\n",
       "      <td>1</td>\n",
       "      <td>0</td>\n",
       "    </tr>\n",
       "    <tr>\n",
       "      <th>17</th>\n",
       "      <td>2013-01-12 08:00:00</td>\n",
       "      <td>1</td>\n",
       "      <td>0</td>\n",
       "      <td>2013-01-01 12:17:00</td>\n",
       "      <td>0</td>\n",
       "      <td>0</td>\n",
       "      <td>1</td>\n",
       "      <td>1</td>\n",
       "      <td>3</td>\n",
       "      <td>Saturday</td>\n",
       "      <td>1</td>\n",
       "      <td>1</td>\n",
       "    </tr>\n",
       "    <tr>\n",
       "      <th>24</th>\n",
       "      <td>2013-01-05 08:30:00</td>\n",
       "      <td>0</td>\n",
       "      <td>0</td>\n",
       "      <td>2013-01-01 14:40:00</td>\n",
       "      <td>0</td>\n",
       "      <td>0</td>\n",
       "      <td>2</td>\n",
       "      <td>1</td>\n",
       "      <td>3</td>\n",
       "      <td>Saturday</td>\n",
       "      <td>1</td>\n",
       "      <td>1</td>\n",
       "    </tr>\n",
       "    <tr>\n",
       "      <th>158</th>\n",
       "      <td>2013-01-04 09:30:00</td>\n",
       "      <td>1</td>\n",
       "      <td>0</td>\n",
       "      <td>2013-01-03 12:19:00</td>\n",
       "      <td>0</td>\n",
       "      <td>0</td>\n",
       "      <td>2</td>\n",
       "      <td>0</td>\n",
       "      <td>1</td>\n",
       "      <td>Friday</td>\n",
       "      <td>1</td>\n",
       "      <td>0</td>\n",
       "    </tr>\n",
       "    <tr>\n",
       "      <th>216</th>\n",
       "      <td>2013-01-06 07:30:00</td>\n",
       "      <td>1</td>\n",
       "      <td>0</td>\n",
       "      <td>2013-01-04 09:32:00</td>\n",
       "      <td>0</td>\n",
       "      <td>0</td>\n",
       "      <td>1</td>\n",
       "      <td>1</td>\n",
       "      <td>3</td>\n",
       "      <td>Sunday</td>\n",
       "      <td>1</td>\n",
       "      <td>1</td>\n",
       "    </tr>\n",
       "  </tbody>\n",
       "</table>\n",
       "</div>"
      ],
      "text/plain": [
       "              from_date  online_booking  mobile_site_booking  \\\n",
       "6   2013-01-01 09:45:00               0                    0   \n",
       "17  2013-01-12 08:00:00               1                    0   \n",
       "24  2013-01-05 08:30:00               0                    0   \n",
       "158 2013-01-04 09:30:00               1                    0   \n",
       "216 2013-01-06 07:30:00               1                    0   \n",
       "\n",
       "        booking_created  Car_Cancellation  Canc_Tags_from_area  \\\n",
       "6   2013-01-01 09:21:00                 0                    2   \n",
       "17  2013-01-01 12:17:00                 0                    0   \n",
       "24  2013-01-01 14:40:00                 0                    0   \n",
       "158 2013-01-03 12:19:00                 0                    0   \n",
       "216 2013-01-04 09:32:00                 0                    0   \n",
       "\n",
       "     Booking_Tags_from_area  canc_Tags_fr_to_perc  booking_Tags_fr_to_city  \\\n",
       "6                         2                     1                        2   \n",
       "17                        1                     1                        3   \n",
       "24                        2                     1                        3   \n",
       "158                       2                     0                        1   \n",
       "216                       1                     1                        3   \n",
       "\n",
       "    DayofWeek  Month  Weekday/Weekend  \n",
       "6     Tuesday      1                0  \n",
       "17   Saturday      1                1  \n",
       "24   Saturday      1                1  \n",
       "158    Friday      1                0  \n",
       "216    Sunday      1                1  "
      ]
     },
     "execution_count": 117,
     "metadata": {},
     "output_type": "execute_result"
    }
   ],
   "source": [
    "df1.head()"
   ]
  },
  {
   "cell_type": "code",
   "execution_count": 118,
   "id": "d63212e5",
   "metadata": {},
   "outputs": [],
   "source": [
    "def transform(hour):\n",
    "    if hour>=6 and hour<12:\n",
    "        return 'Morning'\n",
    "    elif hour>=12 and hour<18:\n",
    "        return 'Afternoon'\n",
    "    elif hour>=18 and hour<24:\n",
    "        return 'Evening'\n",
    "    else:\n",
    "        return 'Night'"
   ]
  },
  {
   "cell_type": "code",
   "execution_count": 119,
   "id": "84754b73",
   "metadata": {},
   "outputs": [],
   "source": [
    "df1['TimeofDay']=df1['from_date'].dt.hour.apply(transform)"
   ]
  },
  {
   "cell_type": "code",
   "execution_count": 120,
   "id": "fe27f264",
   "metadata": {},
   "outputs": [
    {
     "data": {
      "text/html": [
       "<div>\n",
       "<style scoped>\n",
       "    .dataframe tbody tr th:only-of-type {\n",
       "        vertical-align: middle;\n",
       "    }\n",
       "\n",
       "    .dataframe tbody tr th {\n",
       "        vertical-align: top;\n",
       "    }\n",
       "\n",
       "    .dataframe thead th {\n",
       "        text-align: right;\n",
       "    }\n",
       "</style>\n",
       "<table border=\"1\" class=\"dataframe\">\n",
       "  <thead>\n",
       "    <tr style=\"text-align: right;\">\n",
       "      <th></th>\n",
       "      <th>from_date</th>\n",
       "      <th>online_booking</th>\n",
       "      <th>mobile_site_booking</th>\n",
       "      <th>booking_created</th>\n",
       "      <th>Car_Cancellation</th>\n",
       "      <th>Canc_Tags_from_area</th>\n",
       "      <th>Booking_Tags_from_area</th>\n",
       "      <th>canc_Tags_fr_to_perc</th>\n",
       "      <th>booking_Tags_fr_to_city</th>\n",
       "      <th>DayofWeek</th>\n",
       "      <th>Month</th>\n",
       "      <th>Weekday/Weekend</th>\n",
       "      <th>TimeofDay</th>\n",
       "    </tr>\n",
       "  </thead>\n",
       "  <tbody>\n",
       "    <tr>\n",
       "      <th>6</th>\n",
       "      <td>2013-01-01 09:45:00</td>\n",
       "      <td>0</td>\n",
       "      <td>0</td>\n",
       "      <td>2013-01-01 09:21:00</td>\n",
       "      <td>0</td>\n",
       "      <td>2</td>\n",
       "      <td>2</td>\n",
       "      <td>1</td>\n",
       "      <td>2</td>\n",
       "      <td>Tuesday</td>\n",
       "      <td>1</td>\n",
       "      <td>0</td>\n",
       "      <td>Morning</td>\n",
       "    </tr>\n",
       "    <tr>\n",
       "      <th>17</th>\n",
       "      <td>2013-01-12 08:00:00</td>\n",
       "      <td>1</td>\n",
       "      <td>0</td>\n",
       "      <td>2013-01-01 12:17:00</td>\n",
       "      <td>0</td>\n",
       "      <td>0</td>\n",
       "      <td>1</td>\n",
       "      <td>1</td>\n",
       "      <td>3</td>\n",
       "      <td>Saturday</td>\n",
       "      <td>1</td>\n",
       "      <td>1</td>\n",
       "      <td>Morning</td>\n",
       "    </tr>\n",
       "    <tr>\n",
       "      <th>24</th>\n",
       "      <td>2013-01-05 08:30:00</td>\n",
       "      <td>0</td>\n",
       "      <td>0</td>\n",
       "      <td>2013-01-01 14:40:00</td>\n",
       "      <td>0</td>\n",
       "      <td>0</td>\n",
       "      <td>2</td>\n",
       "      <td>1</td>\n",
       "      <td>3</td>\n",
       "      <td>Saturday</td>\n",
       "      <td>1</td>\n",
       "      <td>1</td>\n",
       "      <td>Morning</td>\n",
       "    </tr>\n",
       "    <tr>\n",
       "      <th>158</th>\n",
       "      <td>2013-01-04 09:30:00</td>\n",
       "      <td>1</td>\n",
       "      <td>0</td>\n",
       "      <td>2013-01-03 12:19:00</td>\n",
       "      <td>0</td>\n",
       "      <td>0</td>\n",
       "      <td>2</td>\n",
       "      <td>0</td>\n",
       "      <td>1</td>\n",
       "      <td>Friday</td>\n",
       "      <td>1</td>\n",
       "      <td>0</td>\n",
       "      <td>Morning</td>\n",
       "    </tr>\n",
       "    <tr>\n",
       "      <th>216</th>\n",
       "      <td>2013-01-06 07:30:00</td>\n",
       "      <td>1</td>\n",
       "      <td>0</td>\n",
       "      <td>2013-01-04 09:32:00</td>\n",
       "      <td>0</td>\n",
       "      <td>0</td>\n",
       "      <td>1</td>\n",
       "      <td>1</td>\n",
       "      <td>3</td>\n",
       "      <td>Sunday</td>\n",
       "      <td>1</td>\n",
       "      <td>1</td>\n",
       "      <td>Morning</td>\n",
       "    </tr>\n",
       "  </tbody>\n",
       "</table>\n",
       "</div>"
      ],
      "text/plain": [
       "              from_date  online_booking  mobile_site_booking  \\\n",
       "6   2013-01-01 09:45:00               0                    0   \n",
       "17  2013-01-12 08:00:00               1                    0   \n",
       "24  2013-01-05 08:30:00               0                    0   \n",
       "158 2013-01-04 09:30:00               1                    0   \n",
       "216 2013-01-06 07:30:00               1                    0   \n",
       "\n",
       "        booking_created  Car_Cancellation  Canc_Tags_from_area  \\\n",
       "6   2013-01-01 09:21:00                 0                    2   \n",
       "17  2013-01-01 12:17:00                 0                    0   \n",
       "24  2013-01-01 14:40:00                 0                    0   \n",
       "158 2013-01-03 12:19:00                 0                    0   \n",
       "216 2013-01-04 09:32:00                 0                    0   \n",
       "\n",
       "     Booking_Tags_from_area  canc_Tags_fr_to_perc  booking_Tags_fr_to_city  \\\n",
       "6                         2                     1                        2   \n",
       "17                        1                     1                        3   \n",
       "24                        2                     1                        3   \n",
       "158                       2                     0                        1   \n",
       "216                       1                     1                        3   \n",
       "\n",
       "    DayofWeek  Month  Weekday/Weekend TimeofDay  \n",
       "6     Tuesday      1                0   Morning  \n",
       "17   Saturday      1                1   Morning  \n",
       "24   Saturday      1                1   Morning  \n",
       "158    Friday      1                0   Morning  \n",
       "216    Sunday      1                1   Morning  "
      ]
     },
     "execution_count": 120,
     "metadata": {},
     "output_type": "execute_result"
    }
   ],
   "source": [
    "df1.head()"
   ]
  },
  {
   "cell_type": "code",
   "execution_count": 121,
   "id": "c2f0bc04",
   "metadata": {},
   "outputs": [],
   "source": [
    "df1['Book_DayofWeek']=df1['booking_created'].dt.day_name()"
   ]
  },
  {
   "cell_type": "code",
   "execution_count": 122,
   "id": "0228d5f0",
   "metadata": {},
   "outputs": [],
   "source": [
    "df1['Book_Month']=df1['booking_created'].dt.month"
   ]
  },
  {
   "cell_type": "code",
   "execution_count": 123,
   "id": "7ad0423f",
   "metadata": {},
   "outputs": [],
   "source": [
    "df1['Book_Weekday/Weekend']=df1['booking_created'].dt.dayofweek//5"
   ]
  },
  {
   "cell_type": "code",
   "execution_count": 124,
   "id": "0e94ef22",
   "metadata": {},
   "outputs": [
    {
     "data": {
      "text/html": [
       "<div>\n",
       "<style scoped>\n",
       "    .dataframe tbody tr th:only-of-type {\n",
       "        vertical-align: middle;\n",
       "    }\n",
       "\n",
       "    .dataframe tbody tr th {\n",
       "        vertical-align: top;\n",
       "    }\n",
       "\n",
       "    .dataframe thead th {\n",
       "        text-align: right;\n",
       "    }\n",
       "</style>\n",
       "<table border=\"1\" class=\"dataframe\">\n",
       "  <thead>\n",
       "    <tr style=\"text-align: right;\">\n",
       "      <th></th>\n",
       "      <th>from_date</th>\n",
       "      <th>online_booking</th>\n",
       "      <th>mobile_site_booking</th>\n",
       "      <th>booking_created</th>\n",
       "      <th>Car_Cancellation</th>\n",
       "      <th>Canc_Tags_from_area</th>\n",
       "      <th>Booking_Tags_from_area</th>\n",
       "      <th>canc_Tags_fr_to_perc</th>\n",
       "      <th>booking_Tags_fr_to_city</th>\n",
       "      <th>DayofWeek</th>\n",
       "      <th>Month</th>\n",
       "      <th>Weekday/Weekend</th>\n",
       "      <th>TimeofDay</th>\n",
       "      <th>Book_DayofWeek</th>\n",
       "      <th>Book_Month</th>\n",
       "      <th>Book_Weekday/Weekend</th>\n",
       "    </tr>\n",
       "  </thead>\n",
       "  <tbody>\n",
       "    <tr>\n",
       "      <th>6</th>\n",
       "      <td>2013-01-01 09:45:00</td>\n",
       "      <td>0</td>\n",
       "      <td>0</td>\n",
       "      <td>2013-01-01 09:21:00</td>\n",
       "      <td>0</td>\n",
       "      <td>2</td>\n",
       "      <td>2</td>\n",
       "      <td>1</td>\n",
       "      <td>2</td>\n",
       "      <td>Tuesday</td>\n",
       "      <td>1</td>\n",
       "      <td>0</td>\n",
       "      <td>Morning</td>\n",
       "      <td>Tuesday</td>\n",
       "      <td>1</td>\n",
       "      <td>0</td>\n",
       "    </tr>\n",
       "    <tr>\n",
       "      <th>17</th>\n",
       "      <td>2013-01-12 08:00:00</td>\n",
       "      <td>1</td>\n",
       "      <td>0</td>\n",
       "      <td>2013-01-01 12:17:00</td>\n",
       "      <td>0</td>\n",
       "      <td>0</td>\n",
       "      <td>1</td>\n",
       "      <td>1</td>\n",
       "      <td>3</td>\n",
       "      <td>Saturday</td>\n",
       "      <td>1</td>\n",
       "      <td>1</td>\n",
       "      <td>Morning</td>\n",
       "      <td>Tuesday</td>\n",
       "      <td>1</td>\n",
       "      <td>0</td>\n",
       "    </tr>\n",
       "    <tr>\n",
       "      <th>24</th>\n",
       "      <td>2013-01-05 08:30:00</td>\n",
       "      <td>0</td>\n",
       "      <td>0</td>\n",
       "      <td>2013-01-01 14:40:00</td>\n",
       "      <td>0</td>\n",
       "      <td>0</td>\n",
       "      <td>2</td>\n",
       "      <td>1</td>\n",
       "      <td>3</td>\n",
       "      <td>Saturday</td>\n",
       "      <td>1</td>\n",
       "      <td>1</td>\n",
       "      <td>Morning</td>\n",
       "      <td>Tuesday</td>\n",
       "      <td>1</td>\n",
       "      <td>0</td>\n",
       "    </tr>\n",
       "    <tr>\n",
       "      <th>158</th>\n",
       "      <td>2013-01-04 09:30:00</td>\n",
       "      <td>1</td>\n",
       "      <td>0</td>\n",
       "      <td>2013-01-03 12:19:00</td>\n",
       "      <td>0</td>\n",
       "      <td>0</td>\n",
       "      <td>2</td>\n",
       "      <td>0</td>\n",
       "      <td>1</td>\n",
       "      <td>Friday</td>\n",
       "      <td>1</td>\n",
       "      <td>0</td>\n",
       "      <td>Morning</td>\n",
       "      <td>Thursday</td>\n",
       "      <td>1</td>\n",
       "      <td>0</td>\n",
       "    </tr>\n",
       "    <tr>\n",
       "      <th>216</th>\n",
       "      <td>2013-01-06 07:30:00</td>\n",
       "      <td>1</td>\n",
       "      <td>0</td>\n",
       "      <td>2013-01-04 09:32:00</td>\n",
       "      <td>0</td>\n",
       "      <td>0</td>\n",
       "      <td>1</td>\n",
       "      <td>1</td>\n",
       "      <td>3</td>\n",
       "      <td>Sunday</td>\n",
       "      <td>1</td>\n",
       "      <td>1</td>\n",
       "      <td>Morning</td>\n",
       "      <td>Friday</td>\n",
       "      <td>1</td>\n",
       "      <td>0</td>\n",
       "    </tr>\n",
       "  </tbody>\n",
       "</table>\n",
       "</div>"
      ],
      "text/plain": [
       "              from_date  online_booking  mobile_site_booking  \\\n",
       "6   2013-01-01 09:45:00               0                    0   \n",
       "17  2013-01-12 08:00:00               1                    0   \n",
       "24  2013-01-05 08:30:00               0                    0   \n",
       "158 2013-01-04 09:30:00               1                    0   \n",
       "216 2013-01-06 07:30:00               1                    0   \n",
       "\n",
       "        booking_created  Car_Cancellation  Canc_Tags_from_area  \\\n",
       "6   2013-01-01 09:21:00                 0                    2   \n",
       "17  2013-01-01 12:17:00                 0                    0   \n",
       "24  2013-01-01 14:40:00                 0                    0   \n",
       "158 2013-01-03 12:19:00                 0                    0   \n",
       "216 2013-01-04 09:32:00                 0                    0   \n",
       "\n",
       "     Booking_Tags_from_area  canc_Tags_fr_to_perc  booking_Tags_fr_to_city  \\\n",
       "6                         2                     1                        2   \n",
       "17                        1                     1                        3   \n",
       "24                        2                     1                        3   \n",
       "158                       2                     0                        1   \n",
       "216                       1                     1                        3   \n",
       "\n",
       "    DayofWeek  Month  Weekday/Weekend TimeofDay Book_DayofWeek  Book_Month  \\\n",
       "6     Tuesday      1                0   Morning        Tuesday           1   \n",
       "17   Saturday      1                1   Morning        Tuesday           1   \n",
       "24   Saturday      1                1   Morning        Tuesday           1   \n",
       "158    Friday      1                0   Morning       Thursday           1   \n",
       "216    Sunday      1                1   Morning         Friday           1   \n",
       "\n",
       "     Book_Weekday/Weekend  \n",
       "6                       0  \n",
       "17                      0  \n",
       "24                      0  \n",
       "158                     0  \n",
       "216                     0  "
      ]
     },
     "execution_count": 124,
     "metadata": {},
     "output_type": "execute_result"
    }
   ],
   "source": [
    "df1.head()"
   ]
  },
  {
   "cell_type": "code",
   "execution_count": 125,
   "id": "c14e9d2a",
   "metadata": {},
   "outputs": [],
   "source": [
    "def transform1(hour):\n",
    "    if hour>=6 and hour<12:\n",
    "        return 'Morning'\n",
    "    elif hour>=12 and hour<18:\n",
    "        return 'Afternoon'\n",
    "    elif hour>=18 and hour<24:\n",
    "        return 'Evening'\n",
    "    else:\n",
    "        return 'Night'"
   ]
  },
  {
   "cell_type": "code",
   "execution_count": 126,
   "id": "05309a9f",
   "metadata": {},
   "outputs": [],
   "source": [
    "df1['Book_TimeofDay']=df1['booking_created'].dt.hour.apply(transform1)"
   ]
  },
  {
   "cell_type": "code",
   "execution_count": 127,
   "id": "21e9d177",
   "metadata": {},
   "outputs": [
    {
     "data": {
      "text/html": [
       "<div>\n",
       "<style scoped>\n",
       "    .dataframe tbody tr th:only-of-type {\n",
       "        vertical-align: middle;\n",
       "    }\n",
       "\n",
       "    .dataframe tbody tr th {\n",
       "        vertical-align: top;\n",
       "    }\n",
       "\n",
       "    .dataframe thead th {\n",
       "        text-align: right;\n",
       "    }\n",
       "</style>\n",
       "<table border=\"1\" class=\"dataframe\">\n",
       "  <thead>\n",
       "    <tr style=\"text-align: right;\">\n",
       "      <th></th>\n",
       "      <th>from_date</th>\n",
       "      <th>online_booking</th>\n",
       "      <th>mobile_site_booking</th>\n",
       "      <th>booking_created</th>\n",
       "      <th>Car_Cancellation</th>\n",
       "      <th>Canc_Tags_from_area</th>\n",
       "      <th>Booking_Tags_from_area</th>\n",
       "      <th>canc_Tags_fr_to_perc</th>\n",
       "      <th>booking_Tags_fr_to_city</th>\n",
       "      <th>DayofWeek</th>\n",
       "      <th>Month</th>\n",
       "      <th>Weekday/Weekend</th>\n",
       "      <th>TimeofDay</th>\n",
       "      <th>Book_DayofWeek</th>\n",
       "      <th>Book_Month</th>\n",
       "      <th>Book_Weekday/Weekend</th>\n",
       "      <th>Book_TimeofDay</th>\n",
       "    </tr>\n",
       "  </thead>\n",
       "  <tbody>\n",
       "    <tr>\n",
       "      <th>6</th>\n",
       "      <td>2013-01-01 09:45:00</td>\n",
       "      <td>0</td>\n",
       "      <td>0</td>\n",
       "      <td>2013-01-01 09:21:00</td>\n",
       "      <td>0</td>\n",
       "      <td>2</td>\n",
       "      <td>2</td>\n",
       "      <td>1</td>\n",
       "      <td>2</td>\n",
       "      <td>Tuesday</td>\n",
       "      <td>1</td>\n",
       "      <td>0</td>\n",
       "      <td>Morning</td>\n",
       "      <td>Tuesday</td>\n",
       "      <td>1</td>\n",
       "      <td>0</td>\n",
       "      <td>Morning</td>\n",
       "    </tr>\n",
       "    <tr>\n",
       "      <th>17</th>\n",
       "      <td>2013-01-12 08:00:00</td>\n",
       "      <td>1</td>\n",
       "      <td>0</td>\n",
       "      <td>2013-01-01 12:17:00</td>\n",
       "      <td>0</td>\n",
       "      <td>0</td>\n",
       "      <td>1</td>\n",
       "      <td>1</td>\n",
       "      <td>3</td>\n",
       "      <td>Saturday</td>\n",
       "      <td>1</td>\n",
       "      <td>1</td>\n",
       "      <td>Morning</td>\n",
       "      <td>Tuesday</td>\n",
       "      <td>1</td>\n",
       "      <td>0</td>\n",
       "      <td>Afternoon</td>\n",
       "    </tr>\n",
       "    <tr>\n",
       "      <th>24</th>\n",
       "      <td>2013-01-05 08:30:00</td>\n",
       "      <td>0</td>\n",
       "      <td>0</td>\n",
       "      <td>2013-01-01 14:40:00</td>\n",
       "      <td>0</td>\n",
       "      <td>0</td>\n",
       "      <td>2</td>\n",
       "      <td>1</td>\n",
       "      <td>3</td>\n",
       "      <td>Saturday</td>\n",
       "      <td>1</td>\n",
       "      <td>1</td>\n",
       "      <td>Morning</td>\n",
       "      <td>Tuesday</td>\n",
       "      <td>1</td>\n",
       "      <td>0</td>\n",
       "      <td>Afternoon</td>\n",
       "    </tr>\n",
       "    <tr>\n",
       "      <th>158</th>\n",
       "      <td>2013-01-04 09:30:00</td>\n",
       "      <td>1</td>\n",
       "      <td>0</td>\n",
       "      <td>2013-01-03 12:19:00</td>\n",
       "      <td>0</td>\n",
       "      <td>0</td>\n",
       "      <td>2</td>\n",
       "      <td>0</td>\n",
       "      <td>1</td>\n",
       "      <td>Friday</td>\n",
       "      <td>1</td>\n",
       "      <td>0</td>\n",
       "      <td>Morning</td>\n",
       "      <td>Thursday</td>\n",
       "      <td>1</td>\n",
       "      <td>0</td>\n",
       "      <td>Afternoon</td>\n",
       "    </tr>\n",
       "    <tr>\n",
       "      <th>216</th>\n",
       "      <td>2013-01-06 07:30:00</td>\n",
       "      <td>1</td>\n",
       "      <td>0</td>\n",
       "      <td>2013-01-04 09:32:00</td>\n",
       "      <td>0</td>\n",
       "      <td>0</td>\n",
       "      <td>1</td>\n",
       "      <td>1</td>\n",
       "      <td>3</td>\n",
       "      <td>Sunday</td>\n",
       "      <td>1</td>\n",
       "      <td>1</td>\n",
       "      <td>Morning</td>\n",
       "      <td>Friday</td>\n",
       "      <td>1</td>\n",
       "      <td>0</td>\n",
       "      <td>Morning</td>\n",
       "    </tr>\n",
       "  </tbody>\n",
       "</table>\n",
       "</div>"
      ],
      "text/plain": [
       "              from_date  online_booking  mobile_site_booking  \\\n",
       "6   2013-01-01 09:45:00               0                    0   \n",
       "17  2013-01-12 08:00:00               1                    0   \n",
       "24  2013-01-05 08:30:00               0                    0   \n",
       "158 2013-01-04 09:30:00               1                    0   \n",
       "216 2013-01-06 07:30:00               1                    0   \n",
       "\n",
       "        booking_created  Car_Cancellation  Canc_Tags_from_area  \\\n",
       "6   2013-01-01 09:21:00                 0                    2   \n",
       "17  2013-01-01 12:17:00                 0                    0   \n",
       "24  2013-01-01 14:40:00                 0                    0   \n",
       "158 2013-01-03 12:19:00                 0                    0   \n",
       "216 2013-01-04 09:32:00                 0                    0   \n",
       "\n",
       "     Booking_Tags_from_area  canc_Tags_fr_to_perc  booking_Tags_fr_to_city  \\\n",
       "6                         2                     1                        2   \n",
       "17                        1                     1                        3   \n",
       "24                        2                     1                        3   \n",
       "158                       2                     0                        1   \n",
       "216                       1                     1                        3   \n",
       "\n",
       "    DayofWeek  Month  Weekday/Weekend TimeofDay Book_DayofWeek  Book_Month  \\\n",
       "6     Tuesday      1                0   Morning        Tuesday           1   \n",
       "17   Saturday      1                1   Morning        Tuesday           1   \n",
       "24   Saturday      1                1   Morning        Tuesday           1   \n",
       "158    Friday      1                0   Morning       Thursday           1   \n",
       "216    Sunday      1                1   Morning         Friday           1   \n",
       "\n",
       "     Book_Weekday/Weekend Book_TimeofDay  \n",
       "6                       0        Morning  \n",
       "17                      0      Afternoon  \n",
       "24                      0      Afternoon  \n",
       "158                     0      Afternoon  \n",
       "216                     0        Morning  "
      ]
     },
     "execution_count": 127,
     "metadata": {},
     "output_type": "execute_result"
    }
   ],
   "source": [
    "df1.head()"
   ]
  },
  {
   "cell_type": "code",
   "execution_count": 128,
   "id": "23807fb2",
   "metadata": {},
   "outputs": [],
   "source": [
    "df1['Time_gap_hours']=(df1['from_date']-df1['booking_created']).dt.total_seconds()/3600"
   ]
  },
  {
   "cell_type": "code",
   "execution_count": 129,
   "id": "20287375",
   "metadata": {},
   "outputs": [
    {
     "data": {
      "text/html": [
       "<div>\n",
       "<style scoped>\n",
       "    .dataframe tbody tr th:only-of-type {\n",
       "        vertical-align: middle;\n",
       "    }\n",
       "\n",
       "    .dataframe tbody tr th {\n",
       "        vertical-align: top;\n",
       "    }\n",
       "\n",
       "    .dataframe thead th {\n",
       "        text-align: right;\n",
       "    }\n",
       "</style>\n",
       "<table border=\"1\" class=\"dataframe\">\n",
       "  <thead>\n",
       "    <tr style=\"text-align: right;\">\n",
       "      <th></th>\n",
       "      <th>from_date</th>\n",
       "      <th>online_booking</th>\n",
       "      <th>mobile_site_booking</th>\n",
       "      <th>booking_created</th>\n",
       "      <th>Car_Cancellation</th>\n",
       "      <th>Canc_Tags_from_area</th>\n",
       "      <th>Booking_Tags_from_area</th>\n",
       "      <th>canc_Tags_fr_to_perc</th>\n",
       "      <th>booking_Tags_fr_to_city</th>\n",
       "      <th>DayofWeek</th>\n",
       "      <th>Month</th>\n",
       "      <th>Weekday/Weekend</th>\n",
       "      <th>TimeofDay</th>\n",
       "      <th>Book_DayofWeek</th>\n",
       "      <th>Book_Month</th>\n",
       "      <th>Book_Weekday/Weekend</th>\n",
       "      <th>Book_TimeofDay</th>\n",
       "      <th>Time_gap_hours</th>\n",
       "    </tr>\n",
       "  </thead>\n",
       "  <tbody>\n",
       "    <tr>\n",
       "      <th>6</th>\n",
       "      <td>2013-01-01 09:45:00</td>\n",
       "      <td>0</td>\n",
       "      <td>0</td>\n",
       "      <td>2013-01-01 09:21:00</td>\n",
       "      <td>0</td>\n",
       "      <td>2</td>\n",
       "      <td>2</td>\n",
       "      <td>1</td>\n",
       "      <td>2</td>\n",
       "      <td>Tuesday</td>\n",
       "      <td>1</td>\n",
       "      <td>0</td>\n",
       "      <td>Morning</td>\n",
       "      <td>Tuesday</td>\n",
       "      <td>1</td>\n",
       "      <td>0</td>\n",
       "      <td>Morning</td>\n",
       "      <td>0.400000</td>\n",
       "    </tr>\n",
       "    <tr>\n",
       "      <th>17</th>\n",
       "      <td>2013-01-12 08:00:00</td>\n",
       "      <td>1</td>\n",
       "      <td>0</td>\n",
       "      <td>2013-01-01 12:17:00</td>\n",
       "      <td>0</td>\n",
       "      <td>0</td>\n",
       "      <td>1</td>\n",
       "      <td>1</td>\n",
       "      <td>3</td>\n",
       "      <td>Saturday</td>\n",
       "      <td>1</td>\n",
       "      <td>1</td>\n",
       "      <td>Morning</td>\n",
       "      <td>Tuesday</td>\n",
       "      <td>1</td>\n",
       "      <td>0</td>\n",
       "      <td>Afternoon</td>\n",
       "      <td>259.716667</td>\n",
       "    </tr>\n",
       "    <tr>\n",
       "      <th>24</th>\n",
       "      <td>2013-01-05 08:30:00</td>\n",
       "      <td>0</td>\n",
       "      <td>0</td>\n",
       "      <td>2013-01-01 14:40:00</td>\n",
       "      <td>0</td>\n",
       "      <td>0</td>\n",
       "      <td>2</td>\n",
       "      <td>1</td>\n",
       "      <td>3</td>\n",
       "      <td>Saturday</td>\n",
       "      <td>1</td>\n",
       "      <td>1</td>\n",
       "      <td>Morning</td>\n",
       "      <td>Tuesday</td>\n",
       "      <td>1</td>\n",
       "      <td>0</td>\n",
       "      <td>Afternoon</td>\n",
       "      <td>89.833333</td>\n",
       "    </tr>\n",
       "    <tr>\n",
       "      <th>158</th>\n",
       "      <td>2013-01-04 09:30:00</td>\n",
       "      <td>1</td>\n",
       "      <td>0</td>\n",
       "      <td>2013-01-03 12:19:00</td>\n",
       "      <td>0</td>\n",
       "      <td>0</td>\n",
       "      <td>2</td>\n",
       "      <td>0</td>\n",
       "      <td>1</td>\n",
       "      <td>Friday</td>\n",
       "      <td>1</td>\n",
       "      <td>0</td>\n",
       "      <td>Morning</td>\n",
       "      <td>Thursday</td>\n",
       "      <td>1</td>\n",
       "      <td>0</td>\n",
       "      <td>Afternoon</td>\n",
       "      <td>21.183333</td>\n",
       "    </tr>\n",
       "    <tr>\n",
       "      <th>216</th>\n",
       "      <td>2013-01-06 07:30:00</td>\n",
       "      <td>1</td>\n",
       "      <td>0</td>\n",
       "      <td>2013-01-04 09:32:00</td>\n",
       "      <td>0</td>\n",
       "      <td>0</td>\n",
       "      <td>1</td>\n",
       "      <td>1</td>\n",
       "      <td>3</td>\n",
       "      <td>Sunday</td>\n",
       "      <td>1</td>\n",
       "      <td>1</td>\n",
       "      <td>Morning</td>\n",
       "      <td>Friday</td>\n",
       "      <td>1</td>\n",
       "      <td>0</td>\n",
       "      <td>Morning</td>\n",
       "      <td>45.966667</td>\n",
       "    </tr>\n",
       "  </tbody>\n",
       "</table>\n",
       "</div>"
      ],
      "text/plain": [
       "              from_date  online_booking  mobile_site_booking  \\\n",
       "6   2013-01-01 09:45:00               0                    0   \n",
       "17  2013-01-12 08:00:00               1                    0   \n",
       "24  2013-01-05 08:30:00               0                    0   \n",
       "158 2013-01-04 09:30:00               1                    0   \n",
       "216 2013-01-06 07:30:00               1                    0   \n",
       "\n",
       "        booking_created  Car_Cancellation  Canc_Tags_from_area  \\\n",
       "6   2013-01-01 09:21:00                 0                    2   \n",
       "17  2013-01-01 12:17:00                 0                    0   \n",
       "24  2013-01-01 14:40:00                 0                    0   \n",
       "158 2013-01-03 12:19:00                 0                    0   \n",
       "216 2013-01-04 09:32:00                 0                    0   \n",
       "\n",
       "     Booking_Tags_from_area  canc_Tags_fr_to_perc  booking_Tags_fr_to_city  \\\n",
       "6                         2                     1                        2   \n",
       "17                        1                     1                        3   \n",
       "24                        2                     1                        3   \n",
       "158                       2                     0                        1   \n",
       "216                       1                     1                        3   \n",
       "\n",
       "    DayofWeek  Month  Weekday/Weekend TimeofDay Book_DayofWeek  Book_Month  \\\n",
       "6     Tuesday      1                0   Morning        Tuesday           1   \n",
       "17   Saturday      1                1   Morning        Tuesday           1   \n",
       "24   Saturday      1                1   Morning        Tuesday           1   \n",
       "158    Friday      1                0   Morning       Thursday           1   \n",
       "216    Sunday      1                1   Morning         Friday           1   \n",
       "\n",
       "     Book_Weekday/Weekend Book_TimeofDay  Time_gap_hours  \n",
       "6                       0        Morning        0.400000  \n",
       "17                      0      Afternoon      259.716667  \n",
       "24                      0      Afternoon       89.833333  \n",
       "158                     0      Afternoon       21.183333  \n",
       "216                     0        Morning       45.966667  "
      ]
     },
     "execution_count": 129,
     "metadata": {},
     "output_type": "execute_result"
    }
   ],
   "source": [
    "df1.head()"
   ]
  },
  {
   "cell_type": "code",
   "execution_count": 130,
   "id": "75bedb8a",
   "metadata": {},
   "outputs": [
    {
     "data": {
      "text/plain": [
       "array(['Tuesday', 'Saturday', 'Friday', 'Sunday', 'Wednesday', 'Thursday',\n",
       "       'Monday'], dtype=object)"
      ]
     },
     "execution_count": 130,
     "metadata": {},
     "output_type": "execute_result"
    }
   ],
   "source": [
    "df1['DayofWeek'].unique()"
   ]
  },
  {
   "cell_type": "code",
   "execution_count": 131,
   "id": "3dded244",
   "metadata": {},
   "outputs": [
    {
     "data": {
      "text/plain": [
       "array(['Morning', 'Evening', 'Afternoon', 'Night'], dtype=object)"
      ]
     },
     "execution_count": 131,
     "metadata": {},
     "output_type": "execute_result"
    }
   ],
   "source": [
    "df1['TimeofDay'].unique()"
   ]
  },
  {
   "cell_type": "code",
   "execution_count": 132,
   "id": "38bbeb79",
   "metadata": {},
   "outputs": [],
   "source": [
    "# Since these types of categorical variables represent that they are nominal and not ordinal, hence better to apply one hot encoding only."
   ]
  },
  {
   "cell_type": "code",
   "execution_count": 133,
   "id": "4dd3090b",
   "metadata": {},
   "outputs": [],
   "source": [
    "DayofWeek_Encoded=pd.get_dummies(df1['DayofWeek'],prefix='day')\n",
    "df1=pd.concat((df1,DayofWeek_Encoded),axis=1)\n",
    "df1.drop('DayofWeek',axis=1,inplace=True)"
   ]
  },
  {
   "cell_type": "code",
   "execution_count": 134,
   "id": "9fd158d7",
   "metadata": {},
   "outputs": [],
   "source": [
    "TimeofDay_Encoded=pd.get_dummies(df1['TimeofDay'],prefix='time')\n",
    "df1=pd.concat((df1,TimeofDay_Encoded),axis=1)\n",
    "df1.drop('TimeofDay',axis=1,inplace=True)"
   ]
  },
  {
   "cell_type": "code",
   "execution_count": 135,
   "id": "59e97770",
   "metadata": {},
   "outputs": [],
   "source": [
    "Book_DayofWeek_Encoded=pd.get_dummies(df1['Book_DayofWeek'],prefix='bookday')\n",
    "df1=pd.concat((df1,Book_DayofWeek_Encoded),axis=1)\n",
    "df1.drop('Book_DayofWeek',axis=1,inplace=True)"
   ]
  },
  {
   "cell_type": "code",
   "execution_count": 136,
   "id": "94f928d0",
   "metadata": {},
   "outputs": [],
   "source": [
    "Book_TimeofDay_Encoded=pd.get_dummies(df1['Book_TimeofDay'],prefix='booktime')\n",
    "df1=pd.concat((df1,Book_TimeofDay_Encoded),axis=1)\n",
    "df1.drop('Book_TimeofDay',axis=1,inplace=True)"
   ]
  },
  {
   "cell_type": "code",
   "execution_count": 137,
   "id": "d12bc937",
   "metadata": {},
   "outputs": [
    {
     "data": {
      "text/html": [
       "<div>\n",
       "<style scoped>\n",
       "    .dataframe tbody tr th:only-of-type {\n",
       "        vertical-align: middle;\n",
       "    }\n",
       "\n",
       "    .dataframe tbody tr th {\n",
       "        vertical-align: top;\n",
       "    }\n",
       "\n",
       "    .dataframe thead th {\n",
       "        text-align: right;\n",
       "    }\n",
       "</style>\n",
       "<table border=\"1\" class=\"dataframe\">\n",
       "  <thead>\n",
       "    <tr style=\"text-align: right;\">\n",
       "      <th></th>\n",
       "      <th>from_date</th>\n",
       "      <th>online_booking</th>\n",
       "      <th>mobile_site_booking</th>\n",
       "      <th>booking_created</th>\n",
       "      <th>Car_Cancellation</th>\n",
       "      <th>Canc_Tags_from_area</th>\n",
       "      <th>Booking_Tags_from_area</th>\n",
       "      <th>canc_Tags_fr_to_perc</th>\n",
       "      <th>booking_Tags_fr_to_city</th>\n",
       "      <th>Month</th>\n",
       "      <th>...</th>\n",
       "      <th>bookday_Monday</th>\n",
       "      <th>bookday_Saturday</th>\n",
       "      <th>bookday_Sunday</th>\n",
       "      <th>bookday_Thursday</th>\n",
       "      <th>bookday_Tuesday</th>\n",
       "      <th>bookday_Wednesday</th>\n",
       "      <th>booktime_Afternoon</th>\n",
       "      <th>booktime_Evening</th>\n",
       "      <th>booktime_Morning</th>\n",
       "      <th>booktime_Night</th>\n",
       "    </tr>\n",
       "  </thead>\n",
       "  <tbody>\n",
       "    <tr>\n",
       "      <th>6</th>\n",
       "      <td>2013-01-01 09:45:00</td>\n",
       "      <td>0</td>\n",
       "      <td>0</td>\n",
       "      <td>2013-01-01 09:21:00</td>\n",
       "      <td>0</td>\n",
       "      <td>2</td>\n",
       "      <td>2</td>\n",
       "      <td>1</td>\n",
       "      <td>2</td>\n",
       "      <td>1</td>\n",
       "      <td>...</td>\n",
       "      <td>0</td>\n",
       "      <td>0</td>\n",
       "      <td>0</td>\n",
       "      <td>0</td>\n",
       "      <td>1</td>\n",
       "      <td>0</td>\n",
       "      <td>0</td>\n",
       "      <td>0</td>\n",
       "      <td>1</td>\n",
       "      <td>0</td>\n",
       "    </tr>\n",
       "    <tr>\n",
       "      <th>17</th>\n",
       "      <td>2013-01-12 08:00:00</td>\n",
       "      <td>1</td>\n",
       "      <td>0</td>\n",
       "      <td>2013-01-01 12:17:00</td>\n",
       "      <td>0</td>\n",
       "      <td>0</td>\n",
       "      <td>1</td>\n",
       "      <td>1</td>\n",
       "      <td>3</td>\n",
       "      <td>1</td>\n",
       "      <td>...</td>\n",
       "      <td>0</td>\n",
       "      <td>0</td>\n",
       "      <td>0</td>\n",
       "      <td>0</td>\n",
       "      <td>1</td>\n",
       "      <td>0</td>\n",
       "      <td>1</td>\n",
       "      <td>0</td>\n",
       "      <td>0</td>\n",
       "      <td>0</td>\n",
       "    </tr>\n",
       "    <tr>\n",
       "      <th>24</th>\n",
       "      <td>2013-01-05 08:30:00</td>\n",
       "      <td>0</td>\n",
       "      <td>0</td>\n",
       "      <td>2013-01-01 14:40:00</td>\n",
       "      <td>0</td>\n",
       "      <td>0</td>\n",
       "      <td>2</td>\n",
       "      <td>1</td>\n",
       "      <td>3</td>\n",
       "      <td>1</td>\n",
       "      <td>...</td>\n",
       "      <td>0</td>\n",
       "      <td>0</td>\n",
       "      <td>0</td>\n",
       "      <td>0</td>\n",
       "      <td>1</td>\n",
       "      <td>0</td>\n",
       "      <td>1</td>\n",
       "      <td>0</td>\n",
       "      <td>0</td>\n",
       "      <td>0</td>\n",
       "    </tr>\n",
       "    <tr>\n",
       "      <th>158</th>\n",
       "      <td>2013-01-04 09:30:00</td>\n",
       "      <td>1</td>\n",
       "      <td>0</td>\n",
       "      <td>2013-01-03 12:19:00</td>\n",
       "      <td>0</td>\n",
       "      <td>0</td>\n",
       "      <td>2</td>\n",
       "      <td>0</td>\n",
       "      <td>1</td>\n",
       "      <td>1</td>\n",
       "      <td>...</td>\n",
       "      <td>0</td>\n",
       "      <td>0</td>\n",
       "      <td>0</td>\n",
       "      <td>1</td>\n",
       "      <td>0</td>\n",
       "      <td>0</td>\n",
       "      <td>1</td>\n",
       "      <td>0</td>\n",
       "      <td>0</td>\n",
       "      <td>0</td>\n",
       "    </tr>\n",
       "    <tr>\n",
       "      <th>216</th>\n",
       "      <td>2013-01-06 07:30:00</td>\n",
       "      <td>1</td>\n",
       "      <td>0</td>\n",
       "      <td>2013-01-04 09:32:00</td>\n",
       "      <td>0</td>\n",
       "      <td>0</td>\n",
       "      <td>1</td>\n",
       "      <td>1</td>\n",
       "      <td>3</td>\n",
       "      <td>1</td>\n",
       "      <td>...</td>\n",
       "      <td>0</td>\n",
       "      <td>0</td>\n",
       "      <td>0</td>\n",
       "      <td>0</td>\n",
       "      <td>0</td>\n",
       "      <td>0</td>\n",
       "      <td>0</td>\n",
       "      <td>0</td>\n",
       "      <td>1</td>\n",
       "      <td>0</td>\n",
       "    </tr>\n",
       "  </tbody>\n",
       "</table>\n",
       "<p>5 rows × 36 columns</p>\n",
       "</div>"
      ],
      "text/plain": [
       "              from_date  online_booking  mobile_site_booking  \\\n",
       "6   2013-01-01 09:45:00               0                    0   \n",
       "17  2013-01-12 08:00:00               1                    0   \n",
       "24  2013-01-05 08:30:00               0                    0   \n",
       "158 2013-01-04 09:30:00               1                    0   \n",
       "216 2013-01-06 07:30:00               1                    0   \n",
       "\n",
       "        booking_created  Car_Cancellation  Canc_Tags_from_area  \\\n",
       "6   2013-01-01 09:21:00                 0                    2   \n",
       "17  2013-01-01 12:17:00                 0                    0   \n",
       "24  2013-01-01 14:40:00                 0                    0   \n",
       "158 2013-01-03 12:19:00                 0                    0   \n",
       "216 2013-01-04 09:32:00                 0                    0   \n",
       "\n",
       "     Booking_Tags_from_area  canc_Tags_fr_to_perc  booking_Tags_fr_to_city  \\\n",
       "6                         2                     1                        2   \n",
       "17                        1                     1                        3   \n",
       "24                        2                     1                        3   \n",
       "158                       2                     0                        1   \n",
       "216                       1                     1                        3   \n",
       "\n",
       "     Month  ...  bookday_Monday  bookday_Saturday  bookday_Sunday  \\\n",
       "6        1  ...               0                 0               0   \n",
       "17       1  ...               0                 0               0   \n",
       "24       1  ...               0                 0               0   \n",
       "158      1  ...               0                 0               0   \n",
       "216      1  ...               0                 0               0   \n",
       "\n",
       "     bookday_Thursday  bookday_Tuesday  bookday_Wednesday  booktime_Afternoon  \\\n",
       "6                   0                1                  0                   0   \n",
       "17                  0                1                  0                   1   \n",
       "24                  0                1                  0                   1   \n",
       "158                 1                0                  0                   1   \n",
       "216                 0                0                  0                   0   \n",
       "\n",
       "     booktime_Evening  booktime_Morning  booktime_Night  \n",
       "6                   0                 1               0  \n",
       "17                  0                 0               0  \n",
       "24                  0                 0               0  \n",
       "158                 0                 0               0  \n",
       "216                 0                 1               0  \n",
       "\n",
       "[5 rows x 36 columns]"
      ]
     },
     "execution_count": 137,
     "metadata": {},
     "output_type": "execute_result"
    }
   ],
   "source": [
    "df1.head()"
   ]
  },
  {
   "cell_type": "code",
   "execution_count": 138,
   "id": "bff9d929",
   "metadata": {},
   "outputs": [],
   "source": [
    "df1=df1.drop(['from_date','booking_created'],axis=1)"
   ]
  },
  {
   "cell_type": "code",
   "execution_count": 139,
   "id": "4a61d750",
   "metadata": {},
   "outputs": [],
   "source": [
    "#X=df1.drop('Car_Cancellation',axis=1)\n",
    "#Y=df1['Car_Cancellation']"
   ]
  },
  {
   "cell_type": "code",
   "execution_count": 140,
   "id": "02ed32b2",
   "metadata": {},
   "outputs": [],
   "source": [
    "#X.shape"
   ]
  },
  {
   "cell_type": "code",
   "execution_count": 141,
   "id": "f01b175f",
   "metadata": {},
   "outputs": [],
   "source": [
    "#Y.shape"
   ]
  },
  {
   "cell_type": "code",
   "execution_count": 142,
   "id": "491898a0",
   "metadata": {},
   "outputs": [],
   "source": [
    "#Y.value_counts()"
   ]
  },
  {
   "cell_type": "code",
   "execution_count": 143,
   "id": "5b2bfe21",
   "metadata": {},
   "outputs": [],
   "source": [
    "# There is data imbalancing here, so need to apply OverSampling"
   ]
  },
  {
   "cell_type": "code",
   "execution_count": 144,
   "id": "ffaa9b6d",
   "metadata": {},
   "outputs": [],
   "source": [
    "#from imblearn.over_sampling import SMOTE"
   ]
  },
  {
   "cell_type": "code",
   "execution_count": 145,
   "id": "5074611c",
   "metadata": {},
   "outputs": [],
   "source": [
    "#smote=SMOTE()"
   ]
  },
  {
   "cell_type": "code",
   "execution_count": 146,
   "id": "07ad4088",
   "metadata": {},
   "outputs": [],
   "source": [
    "#X_resampled,Y_resampled=smote.fit_resample(X,Y)"
   ]
  },
  {
   "cell_type": "code",
   "execution_count": 147,
   "id": "3ffc9f24",
   "metadata": {},
   "outputs": [],
   "source": [
    "#X_resampled.head()"
   ]
  },
  {
   "cell_type": "code",
   "execution_count": 148,
   "id": "43f0b06f",
   "metadata": {},
   "outputs": [],
   "source": [
    "##Y_resampled.head()"
   ]
  },
  {
   "cell_type": "code",
   "execution_count": 149,
   "id": "e1ec9532",
   "metadata": {},
   "outputs": [],
   "source": [
    "#Y_resampled.value_counts()"
   ]
  },
  {
   "cell_type": "code",
   "execution_count": 150,
   "id": "87922a83",
   "metadata": {},
   "outputs": [],
   "source": [
    "#df1_new=pd.concat((X_resampled,Y_resampled),axis=1)"
   ]
  },
  {
   "cell_type": "code",
   "execution_count": 151,
   "id": "96b4532c",
   "metadata": {},
   "outputs": [],
   "source": [
    "#df1_new.head()"
   ]
  },
  {
   "cell_type": "code",
   "execution_count": 152,
   "id": "04a05c47",
   "metadata": {},
   "outputs": [],
   "source": [
    "#df1_new['Car_Cancellation'].value_counts()"
   ]
  },
  {
   "cell_type": "code",
   "execution_count": 153,
   "id": "094c155c",
   "metadata": {},
   "outputs": [
    {
     "data": {
      "text/plain": [
       "(1589, 34)"
      ]
     },
     "execution_count": 153,
     "metadata": {},
     "output_type": "execute_result"
    }
   ],
   "source": [
    "df1_new=df1\n",
    "df1_new.shape"
   ]
  },
  {
   "cell_type": "code",
   "execution_count": 154,
   "id": "ddcd681c",
   "metadata": {},
   "outputs": [
    {
     "data": {
      "text/plain": [
       "Index(['online_booking', 'mobile_site_booking', 'Car_Cancellation',\n",
       "       'Canc_Tags_from_area', 'Booking_Tags_from_area', 'canc_Tags_fr_to_perc',\n",
       "       'booking_Tags_fr_to_city', 'Month', 'Weekday/Weekend', 'Book_Month',\n",
       "       'Book_Weekday/Weekend', 'Time_gap_hours', 'day_Friday', 'day_Monday',\n",
       "       'day_Saturday', 'day_Sunday', 'day_Thursday', 'day_Tuesday',\n",
       "       'day_Wednesday', 'time_Afternoon', 'time_Evening', 'time_Morning',\n",
       "       'time_Night', 'bookday_Friday', 'bookday_Monday', 'bookday_Saturday',\n",
       "       'bookday_Sunday', 'bookday_Thursday', 'bookday_Tuesday',\n",
       "       'bookday_Wednesday', 'booktime_Afternoon', 'booktime_Evening',\n",
       "       'booktime_Morning', 'booktime_Night'],\n",
       "      dtype='object')"
      ]
     },
     "execution_count": 154,
     "metadata": {},
     "output_type": "execute_result"
    }
   ],
   "source": [
    "df1_new.columns"
   ]
  },
  {
   "cell_type": "code",
   "execution_count": 155,
   "id": "33d78cb1",
   "metadata": {},
   "outputs": [],
   "source": [
    "data_subset=df1_new[['day_Friday','day_Monday','day_Saturday','day_Sunday','day_Thursday','day_Tuesday','day_Wednesday',\n",
    "                    'bookday_Friday','bookday_Monday','bookday_Saturday','bookday_Sunday','bookday_Thursday','bookday_Tuesday',\n",
    "                    'bookday_Wednesday','Car_Cancellation']]"
   ]
  },
  {
   "cell_type": "code",
   "execution_count": 156,
   "id": "47bf8c8b",
   "metadata": {},
   "outputs": [],
   "source": [
    "corr_matrix=data_subset.corr()"
   ]
  },
  {
   "cell_type": "code",
   "execution_count": 157,
   "id": "d79a3dbc",
   "metadata": {},
   "outputs": [
    {
     "data": {
      "text/html": [
       "<div>\n",
       "<style scoped>\n",
       "    .dataframe tbody tr th:only-of-type {\n",
       "        vertical-align: middle;\n",
       "    }\n",
       "\n",
       "    .dataframe tbody tr th {\n",
       "        vertical-align: top;\n",
       "    }\n",
       "\n",
       "    .dataframe thead th {\n",
       "        text-align: right;\n",
       "    }\n",
       "</style>\n",
       "<table border=\"1\" class=\"dataframe\">\n",
       "  <thead>\n",
       "    <tr style=\"text-align: right;\">\n",
       "      <th></th>\n",
       "      <th>day_Friday</th>\n",
       "      <th>day_Monday</th>\n",
       "      <th>day_Saturday</th>\n",
       "      <th>day_Sunday</th>\n",
       "      <th>day_Thursday</th>\n",
       "      <th>day_Tuesday</th>\n",
       "      <th>day_Wednesday</th>\n",
       "      <th>bookday_Friday</th>\n",
       "      <th>bookday_Monday</th>\n",
       "      <th>bookday_Saturday</th>\n",
       "      <th>bookday_Sunday</th>\n",
       "      <th>bookday_Thursday</th>\n",
       "      <th>bookday_Tuesday</th>\n",
       "      <th>bookday_Wednesday</th>\n",
       "      <th>Car_Cancellation</th>\n",
       "    </tr>\n",
       "  </thead>\n",
       "  <tbody>\n",
       "    <tr>\n",
       "      <th>day_Friday</th>\n",
       "      <td>1.000000</td>\n",
       "      <td>-0.137633</td>\n",
       "      <td>-0.276841</td>\n",
       "      <td>-0.220694</td>\n",
       "      <td>-0.141722</td>\n",
       "      <td>-0.119273</td>\n",
       "      <td>-0.129212</td>\n",
       "      <td>0.016388</td>\n",
       "      <td>-0.077747</td>\n",
       "      <td>-0.171008</td>\n",
       "      <td>-0.120172</td>\n",
       "      <td>0.325394</td>\n",
       "      <td>-0.044077</td>\n",
       "      <td>0.067844</td>\n",
       "      <td>-0.004408</td>\n",
       "    </tr>\n",
       "    <tr>\n",
       "      <th>day_Monday</th>\n",
       "      <td>-0.137633</td>\n",
       "      <td>1.000000</td>\n",
       "      <td>-0.205050</td>\n",
       "      <td>-0.163463</td>\n",
       "      <td>-0.104971</td>\n",
       "      <td>-0.088343</td>\n",
       "      <td>-0.095705</td>\n",
       "      <td>-0.139763</td>\n",
       "      <td>0.077516</td>\n",
       "      <td>-0.056780</td>\n",
       "      <td>0.409984</td>\n",
       "      <td>-0.077089</td>\n",
       "      <td>-0.051932</td>\n",
       "      <td>-0.094372</td>\n",
       "      <td>0.096187</td>\n",
       "    </tr>\n",
       "    <tr>\n",
       "      <th>day_Saturday</th>\n",
       "      <td>-0.276841</td>\n",
       "      <td>-0.205050</td>\n",
       "      <td>1.000000</td>\n",
       "      <td>-0.328796</td>\n",
       "      <td>-0.211142</td>\n",
       "      <td>-0.177696</td>\n",
       "      <td>-0.192504</td>\n",
       "      <td>0.432490</td>\n",
       "      <td>-0.134651</td>\n",
       "      <td>-0.043364</td>\n",
       "      <td>-0.171052</td>\n",
       "      <td>0.007678</td>\n",
       "      <td>-0.145645</td>\n",
       "      <td>-0.065824</td>\n",
       "      <td>-0.037962</td>\n",
       "    </tr>\n",
       "    <tr>\n",
       "      <th>day_Sunday</th>\n",
       "      <td>-0.220694</td>\n",
       "      <td>-0.163463</td>\n",
       "      <td>-0.328796</td>\n",
       "      <td>1.000000</td>\n",
       "      <td>-0.168320</td>\n",
       "      <td>-0.141658</td>\n",
       "      <td>-0.153462</td>\n",
       "      <td>-0.137859</td>\n",
       "      <td>-0.123442</td>\n",
       "      <td>0.481771</td>\n",
       "      <td>0.157573</td>\n",
       "      <td>-0.133279</td>\n",
       "      <td>-0.157880</td>\n",
       "      <td>-0.150032</td>\n",
       "      <td>0.049434</td>\n",
       "    </tr>\n",
       "    <tr>\n",
       "      <th>day_Thursday</th>\n",
       "      <td>-0.141722</td>\n",
       "      <td>-0.104971</td>\n",
       "      <td>-0.211142</td>\n",
       "      <td>-0.168320</td>\n",
       "      <td>1.000000</td>\n",
       "      <td>-0.090968</td>\n",
       "      <td>-0.098548</td>\n",
       "      <td>-0.129792</td>\n",
       "      <td>0.021998</td>\n",
       "      <td>-0.139044</td>\n",
       "      <td>-0.103321</td>\n",
       "      <td>0.025615</td>\n",
       "      <td>0.057289</td>\n",
       "      <td>0.334663</td>\n",
       "      <td>-0.038048</td>\n",
       "    </tr>\n",
       "    <tr>\n",
       "      <th>day_Tuesday</th>\n",
       "      <td>-0.119273</td>\n",
       "      <td>-0.088343</td>\n",
       "      <td>-0.177696</td>\n",
       "      <td>-0.141658</td>\n",
       "      <td>-0.090968</td>\n",
       "      <td>1.000000</td>\n",
       "      <td>-0.082938</td>\n",
       "      <td>-0.114207</td>\n",
       "      <td>0.384354</td>\n",
       "      <td>-0.104079</td>\n",
       "      <td>-0.059456</td>\n",
       "      <td>-0.093929</td>\n",
       "      <td>0.156990</td>\n",
       "      <td>-0.091825</td>\n",
       "      <td>-0.032021</td>\n",
       "    </tr>\n",
       "    <tr>\n",
       "      <th>day_Wednesday</th>\n",
       "      <td>-0.129212</td>\n",
       "      <td>-0.095705</td>\n",
       "      <td>-0.192504</td>\n",
       "      <td>-0.153462</td>\n",
       "      <td>-0.098548</td>\n",
       "      <td>-0.082938</td>\n",
       "      <td>1.000000</td>\n",
       "      <td>-0.139343</td>\n",
       "      <td>0.042863</td>\n",
       "      <td>-0.105768</td>\n",
       "      <td>-0.055679</td>\n",
       "      <td>-0.104847</td>\n",
       "      <td>0.378095</td>\n",
       "      <td>0.064633</td>\n",
       "      <td>-0.034689</td>\n",
       "    </tr>\n",
       "    <tr>\n",
       "      <th>bookday_Friday</th>\n",
       "      <td>0.016388</td>\n",
       "      <td>-0.139763</td>\n",
       "      <td>0.432490</td>\n",
       "      <td>-0.137859</td>\n",
       "      <td>-0.129792</td>\n",
       "      <td>-0.114207</td>\n",
       "      <td>-0.139343</td>\n",
       "      <td>1.000000</td>\n",
       "      <td>-0.181436</td>\n",
       "      <td>-0.254327</td>\n",
       "      <td>-0.184966</td>\n",
       "      <td>-0.215870</td>\n",
       "      <td>-0.185550</td>\n",
       "      <td>-0.187298</td>\n",
       "      <td>-0.019911</td>\n",
       "    </tr>\n",
       "    <tr>\n",
       "      <th>bookday_Monday</th>\n",
       "      <td>-0.077747</td>\n",
       "      <td>0.077516</td>\n",
       "      <td>-0.134651</td>\n",
       "      <td>-0.123442</td>\n",
       "      <td>0.021998</td>\n",
       "      <td>0.384354</td>\n",
       "      <td>0.042863</td>\n",
       "      <td>-0.181436</td>\n",
       "      <td>1.000000</td>\n",
       "      <td>-0.170148</td>\n",
       "      <td>-0.123744</td>\n",
       "      <td>-0.144420</td>\n",
       "      <td>-0.124136</td>\n",
       "      <td>-0.125305</td>\n",
       "      <td>-0.004845</td>\n",
       "    </tr>\n",
       "    <tr>\n",
       "      <th>bookday_Saturday</th>\n",
       "      <td>-0.171008</td>\n",
       "      <td>-0.056780</td>\n",
       "      <td>-0.043364</td>\n",
       "      <td>0.481771</td>\n",
       "      <td>-0.139044</td>\n",
       "      <td>-0.104079</td>\n",
       "      <td>-0.105768</td>\n",
       "      <td>-0.254327</td>\n",
       "      <td>-0.170148</td>\n",
       "      <td>1.000000</td>\n",
       "      <td>-0.173458</td>\n",
       "      <td>-0.202440</td>\n",
       "      <td>-0.174006</td>\n",
       "      <td>-0.175645</td>\n",
       "      <td>0.027335</td>\n",
       "    </tr>\n",
       "    <tr>\n",
       "      <th>bookday_Sunday</th>\n",
       "      <td>-0.120172</td>\n",
       "      <td>0.409984</td>\n",
       "      <td>-0.171052</td>\n",
       "      <td>0.157573</td>\n",
       "      <td>-0.103321</td>\n",
       "      <td>-0.059456</td>\n",
       "      <td>-0.055679</td>\n",
       "      <td>-0.184966</td>\n",
       "      <td>-0.123744</td>\n",
       "      <td>-0.173458</td>\n",
       "      <td>1.000000</td>\n",
       "      <td>-0.147229</td>\n",
       "      <td>-0.126550</td>\n",
       "      <td>-0.127742</td>\n",
       "      <td>0.081207</td>\n",
       "    </tr>\n",
       "    <tr>\n",
       "      <th>bookday_Thursday</th>\n",
       "      <td>0.325394</td>\n",
       "      <td>-0.077089</td>\n",
       "      <td>0.007678</td>\n",
       "      <td>-0.133279</td>\n",
       "      <td>0.025615</td>\n",
       "      <td>-0.093929</td>\n",
       "      <td>-0.104847</td>\n",
       "      <td>-0.215870</td>\n",
       "      <td>-0.144420</td>\n",
       "      <td>-0.202440</td>\n",
       "      <td>-0.147229</td>\n",
       "      <td>1.000000</td>\n",
       "      <td>-0.147695</td>\n",
       "      <td>-0.149086</td>\n",
       "      <td>-0.032393</td>\n",
       "    </tr>\n",
       "    <tr>\n",
       "      <th>bookday_Tuesday</th>\n",
       "      <td>-0.044077</td>\n",
       "      <td>-0.051932</td>\n",
       "      <td>-0.145645</td>\n",
       "      <td>-0.157880</td>\n",
       "      <td>0.057289</td>\n",
       "      <td>0.156990</td>\n",
       "      <td>0.378095</td>\n",
       "      <td>-0.185550</td>\n",
       "      <td>-0.124136</td>\n",
       "      <td>-0.174006</td>\n",
       "      <td>-0.126550</td>\n",
       "      <td>-0.147695</td>\n",
       "      <td>1.000000</td>\n",
       "      <td>-0.128146</td>\n",
       "      <td>-0.023804</td>\n",
       "    </tr>\n",
       "    <tr>\n",
       "      <th>bookday_Wednesday</th>\n",
       "      <td>0.067844</td>\n",
       "      <td>-0.094372</td>\n",
       "      <td>-0.065824</td>\n",
       "      <td>-0.150032</td>\n",
       "      <td>0.334663</td>\n",
       "      <td>-0.091825</td>\n",
       "      <td>0.064633</td>\n",
       "      <td>-0.187298</td>\n",
       "      <td>-0.125305</td>\n",
       "      <td>-0.175645</td>\n",
       "      <td>-0.127742</td>\n",
       "      <td>-0.149086</td>\n",
       "      <td>-0.128146</td>\n",
       "      <td>1.000000</td>\n",
       "      <td>-0.024318</td>\n",
       "    </tr>\n",
       "    <tr>\n",
       "      <th>Car_Cancellation</th>\n",
       "      <td>-0.004408</td>\n",
       "      <td>0.096187</td>\n",
       "      <td>-0.037962</td>\n",
       "      <td>0.049434</td>\n",
       "      <td>-0.038048</td>\n",
       "      <td>-0.032021</td>\n",
       "      <td>-0.034689</td>\n",
       "      <td>-0.019911</td>\n",
       "      <td>-0.004845</td>\n",
       "      <td>0.027335</td>\n",
       "      <td>0.081207</td>\n",
       "      <td>-0.032393</td>\n",
       "      <td>-0.023804</td>\n",
       "      <td>-0.024318</td>\n",
       "      <td>1.000000</td>\n",
       "    </tr>\n",
       "  </tbody>\n",
       "</table>\n",
       "</div>"
      ],
      "text/plain": [
       "                   day_Friday  day_Monday  day_Saturday  day_Sunday  \\\n",
       "day_Friday           1.000000   -0.137633     -0.276841   -0.220694   \n",
       "day_Monday          -0.137633    1.000000     -0.205050   -0.163463   \n",
       "day_Saturday        -0.276841   -0.205050      1.000000   -0.328796   \n",
       "day_Sunday          -0.220694   -0.163463     -0.328796    1.000000   \n",
       "day_Thursday        -0.141722   -0.104971     -0.211142   -0.168320   \n",
       "day_Tuesday         -0.119273   -0.088343     -0.177696   -0.141658   \n",
       "day_Wednesday       -0.129212   -0.095705     -0.192504   -0.153462   \n",
       "bookday_Friday       0.016388   -0.139763      0.432490   -0.137859   \n",
       "bookday_Monday      -0.077747    0.077516     -0.134651   -0.123442   \n",
       "bookday_Saturday    -0.171008   -0.056780     -0.043364    0.481771   \n",
       "bookday_Sunday      -0.120172    0.409984     -0.171052    0.157573   \n",
       "bookday_Thursday     0.325394   -0.077089      0.007678   -0.133279   \n",
       "bookday_Tuesday     -0.044077   -0.051932     -0.145645   -0.157880   \n",
       "bookday_Wednesday    0.067844   -0.094372     -0.065824   -0.150032   \n",
       "Car_Cancellation    -0.004408    0.096187     -0.037962    0.049434   \n",
       "\n",
       "                   day_Thursday  day_Tuesday  day_Wednesday  bookday_Friday  \\\n",
       "day_Friday            -0.141722    -0.119273      -0.129212        0.016388   \n",
       "day_Monday            -0.104971    -0.088343      -0.095705       -0.139763   \n",
       "day_Saturday          -0.211142    -0.177696      -0.192504        0.432490   \n",
       "day_Sunday            -0.168320    -0.141658      -0.153462       -0.137859   \n",
       "day_Thursday           1.000000    -0.090968      -0.098548       -0.129792   \n",
       "day_Tuesday           -0.090968     1.000000      -0.082938       -0.114207   \n",
       "day_Wednesday         -0.098548    -0.082938       1.000000       -0.139343   \n",
       "bookday_Friday        -0.129792    -0.114207      -0.139343        1.000000   \n",
       "bookday_Monday         0.021998     0.384354       0.042863       -0.181436   \n",
       "bookday_Saturday      -0.139044    -0.104079      -0.105768       -0.254327   \n",
       "bookday_Sunday        -0.103321    -0.059456      -0.055679       -0.184966   \n",
       "bookday_Thursday       0.025615    -0.093929      -0.104847       -0.215870   \n",
       "bookday_Tuesday        0.057289     0.156990       0.378095       -0.185550   \n",
       "bookday_Wednesday      0.334663    -0.091825       0.064633       -0.187298   \n",
       "Car_Cancellation      -0.038048    -0.032021      -0.034689       -0.019911   \n",
       "\n",
       "                   bookday_Monday  bookday_Saturday  bookday_Sunday  \\\n",
       "day_Friday              -0.077747         -0.171008       -0.120172   \n",
       "day_Monday               0.077516         -0.056780        0.409984   \n",
       "day_Saturday            -0.134651         -0.043364       -0.171052   \n",
       "day_Sunday              -0.123442          0.481771        0.157573   \n",
       "day_Thursday             0.021998         -0.139044       -0.103321   \n",
       "day_Tuesday              0.384354         -0.104079       -0.059456   \n",
       "day_Wednesday            0.042863         -0.105768       -0.055679   \n",
       "bookday_Friday          -0.181436         -0.254327       -0.184966   \n",
       "bookday_Monday           1.000000         -0.170148       -0.123744   \n",
       "bookday_Saturday        -0.170148          1.000000       -0.173458   \n",
       "bookday_Sunday          -0.123744         -0.173458        1.000000   \n",
       "bookday_Thursday        -0.144420         -0.202440       -0.147229   \n",
       "bookday_Tuesday         -0.124136         -0.174006       -0.126550   \n",
       "bookday_Wednesday       -0.125305         -0.175645       -0.127742   \n",
       "Car_Cancellation        -0.004845          0.027335        0.081207   \n",
       "\n",
       "                   bookday_Thursday  bookday_Tuesday  bookday_Wednesday  \\\n",
       "day_Friday                 0.325394        -0.044077           0.067844   \n",
       "day_Monday                -0.077089        -0.051932          -0.094372   \n",
       "day_Saturday               0.007678        -0.145645          -0.065824   \n",
       "day_Sunday                -0.133279        -0.157880          -0.150032   \n",
       "day_Thursday               0.025615         0.057289           0.334663   \n",
       "day_Tuesday               -0.093929         0.156990          -0.091825   \n",
       "day_Wednesday             -0.104847         0.378095           0.064633   \n",
       "bookday_Friday            -0.215870        -0.185550          -0.187298   \n",
       "bookday_Monday            -0.144420        -0.124136          -0.125305   \n",
       "bookday_Saturday          -0.202440        -0.174006          -0.175645   \n",
       "bookday_Sunday            -0.147229        -0.126550          -0.127742   \n",
       "bookday_Thursday           1.000000        -0.147695          -0.149086   \n",
       "bookday_Tuesday           -0.147695         1.000000          -0.128146   \n",
       "bookday_Wednesday         -0.149086        -0.128146           1.000000   \n",
       "Car_Cancellation          -0.032393        -0.023804          -0.024318   \n",
       "\n",
       "                   Car_Cancellation  \n",
       "day_Friday                -0.004408  \n",
       "day_Monday                 0.096187  \n",
       "day_Saturday              -0.037962  \n",
       "day_Sunday                 0.049434  \n",
       "day_Thursday              -0.038048  \n",
       "day_Tuesday               -0.032021  \n",
       "day_Wednesday             -0.034689  \n",
       "bookday_Friday            -0.019911  \n",
       "bookday_Monday            -0.004845  \n",
       "bookday_Saturday           0.027335  \n",
       "bookday_Sunday             0.081207  \n",
       "bookday_Thursday          -0.032393  \n",
       "bookday_Tuesday           -0.023804  \n",
       "bookday_Wednesday         -0.024318  \n",
       "Car_Cancellation           1.000000  "
      ]
     },
     "execution_count": 157,
     "metadata": {},
     "output_type": "execute_result"
    }
   ],
   "source": [
    "corr_matrix"
   ]
  },
  {
   "cell_type": "code",
   "execution_count": 158,
   "id": "2e237257",
   "metadata": {},
   "outputs": [
    {
     "data": {
      "image/png": "[encoded data removed]",
      "text/plain": [
       "<Figure size 1000x600 with 2 Axes>"
      ]
     },
     "metadata": {},
     "output_type": "display_data"
    }
   ],
   "source": [
    "plt.figure(figsize=(10,6))\n",
    "sns.heatmap(corr_matrix,annot=True,cmap='coolwarm',fmt='.2f')\n",
    "plt.title('Corr_Matrix')\n",
    "plt.show()"
   ]
  },
  {
   "cell_type": "code",
   "execution_count": 159,
   "id": "c39214e9",
   "metadata": {},
   "outputs": [
    {
     "data": {
      "text/plain": [
       "(1589, 34)"
      ]
     },
     "execution_count": 159,
     "metadata": {},
     "output_type": "execute_result"
    }
   ],
   "source": [
    "df1_new.shape"
   ]
  },
  {
   "cell_type": "code",
   "execution_count": 160,
   "id": "7471300b",
   "metadata": {},
   "outputs": [],
   "source": [
    "data_subset1=df1_new[['Month','Weekday/Weekend','Book_Month','Book_Weekday/Weekend','Car_Cancellation']]"
   ]
  },
  {
   "cell_type": "code",
   "execution_count": 161,
   "id": "19686c2c",
   "metadata": {},
   "outputs": [],
   "source": [
    "corr_matrix1=data_subset1.corr()"
   ]
  },
  {
   "cell_type": "code",
   "execution_count": 162,
   "id": "347e6432",
   "metadata": {},
   "outputs": [
    {
     "data": {
      "text/html": [
       "<div>\n",
       "<style scoped>\n",
       "    .dataframe tbody tr th:only-of-type {\n",
       "        vertical-align: middle;\n",
       "    }\n",
       "\n",
       "    .dataframe tbody tr th {\n",
       "        vertical-align: top;\n",
       "    }\n",
       "\n",
       "    .dataframe thead th {\n",
       "        text-align: right;\n",
       "    }\n",
       "</style>\n",
       "<table border=\"1\" class=\"dataframe\">\n",
       "  <thead>\n",
       "    <tr style=\"text-align: right;\">\n",
       "      <th></th>\n",
       "      <th>Month</th>\n",
       "      <th>Weekday/Weekend</th>\n",
       "      <th>Book_Month</th>\n",
       "      <th>Book_Weekday/Weekend</th>\n",
       "      <th>Car_Cancellation</th>\n",
       "    </tr>\n",
       "  </thead>\n",
       "  <tbody>\n",
       "    <tr>\n",
       "      <th>Month</th>\n",
       "      <td>1.000000</td>\n",
       "      <td>-0.019113</td>\n",
       "      <td>0.991886</td>\n",
       "      <td>-0.005753</td>\n",
       "      <td>0.098343</td>\n",
       "    </tr>\n",
       "    <tr>\n",
       "      <th>Weekday/Weekend</th>\n",
       "      <td>-0.019113</td>\n",
       "      <td>1.000000</td>\n",
       "      <td>-0.017883</td>\n",
       "      <td>0.282101</td>\n",
       "      <td>0.005584</td>\n",
       "    </tr>\n",
       "    <tr>\n",
       "      <th>Book_Month</th>\n",
       "      <td>0.991886</td>\n",
       "      <td>-0.017883</td>\n",
       "      <td>1.000000</td>\n",
       "      <td>-0.002130</td>\n",
       "      <td>0.095794</td>\n",
       "    </tr>\n",
       "    <tr>\n",
       "      <th>Book_Weekday/Weekend</th>\n",
       "      <td>-0.005753</td>\n",
       "      <td>0.282101</td>\n",
       "      <td>-0.002130</td>\n",
       "      <td>1.000000</td>\n",
       "      <td>0.079070</td>\n",
       "    </tr>\n",
       "    <tr>\n",
       "      <th>Car_Cancellation</th>\n",
       "      <td>0.098343</td>\n",
       "      <td>0.005584</td>\n",
       "      <td>0.095794</td>\n",
       "      <td>0.079070</td>\n",
       "      <td>1.000000</td>\n",
       "    </tr>\n",
       "  </tbody>\n",
       "</table>\n",
       "</div>"
      ],
      "text/plain": [
       "                         Month  Weekday/Weekend  Book_Month  \\\n",
       "Month                 1.000000        -0.019113    0.991886   \n",
       "Weekday/Weekend      -0.019113         1.000000   -0.017883   \n",
       "Book_Month            0.991886        -0.017883    1.000000   \n",
       "Book_Weekday/Weekend -0.005753         0.282101   -0.002130   \n",
       "Car_Cancellation      0.098343         0.005584    0.095794   \n",
       "\n",
       "                      Book_Weekday/Weekend  Car_Cancellation  \n",
       "Month                            -0.005753          0.098343  \n",
       "Weekday/Weekend                   0.282101          0.005584  \n",
       "Book_Month                       -0.002130          0.095794  \n",
       "Book_Weekday/Weekend              1.000000          0.079070  \n",
       "Car_Cancellation                  0.079070          1.000000  "
      ]
     },
     "execution_count": 162,
     "metadata": {},
     "output_type": "execute_result"
    }
   ],
   "source": [
    "corr_matrix1"
   ]
  },
  {
   "cell_type": "code",
   "execution_count": 163,
   "id": "d7adc60c",
   "metadata": {},
   "outputs": [],
   "source": [
    "# Drop Book_Month only\n",
    "df1_new=df1_new.drop('Book_Month',axis=1)"
   ]
  },
  {
   "cell_type": "code",
   "execution_count": 164,
   "id": "fcef8909",
   "metadata": {},
   "outputs": [
    {
     "data": {
      "text/plain": [
       "Index(['online_booking', 'mobile_site_booking', 'Car_Cancellation',\n",
       "       'Canc_Tags_from_area', 'Booking_Tags_from_area', 'canc_Tags_fr_to_perc',\n",
       "       'booking_Tags_fr_to_city', 'Month', 'Weekday/Weekend',\n",
       "       'Book_Weekday/Weekend', 'Time_gap_hours', 'day_Friday', 'day_Monday',\n",
       "       'day_Saturday', 'day_Sunday', 'day_Thursday', 'day_Tuesday',\n",
       "       'day_Wednesday', 'time_Afternoon', 'time_Evening', 'time_Morning',\n",
       "       'time_Night', 'bookday_Friday', 'bookday_Monday', 'bookday_Saturday',\n",
       "       'bookday_Sunday', 'bookday_Thursday', 'bookday_Tuesday',\n",
       "       'bookday_Wednesday', 'booktime_Afternoon', 'booktime_Evening',\n",
       "       'booktime_Morning', 'booktime_Night'],\n",
       "      dtype='object')"
      ]
     },
     "execution_count": 164,
     "metadata": {},
     "output_type": "execute_result"
    }
   ],
   "source": [
    "df1_new.columns"
   ]
  },
  {
   "cell_type": "code",
   "execution_count": 165,
   "id": "b11d38c5",
   "metadata": {},
   "outputs": [],
   "source": [
    "data_subset2=df1_new[['time_Afternoon','time_Evening','time_Morning','time_Night','booktime_Afternoon','booktime_Evening','booktime_Morning','booktime_Night','Car_Cancellation']]"
   ]
  },
  {
   "cell_type": "code",
   "execution_count": 166,
   "id": "2a4ecc78",
   "metadata": {},
   "outputs": [],
   "source": [
    "corr_matrix2=data_subset2.corr()"
   ]
  },
  {
   "cell_type": "code",
   "execution_count": 167,
   "id": "0dc6666b",
   "metadata": {},
   "outputs": [
    {
     "data": {
      "text/html": [
       "<div>\n",
       "<style scoped>\n",
       "    .dataframe tbody tr th:only-of-type {\n",
       "        vertical-align: middle;\n",
       "    }\n",
       "\n",
       "    .dataframe tbody tr th {\n",
       "        vertical-align: top;\n",
       "    }\n",
       "\n",
       "    .dataframe thead th {\n",
       "        text-align: right;\n",
       "    }\n",
       "</style>\n",
       "<table border=\"1\" class=\"dataframe\">\n",
       "  <thead>\n",
       "    <tr style=\"text-align: right;\">\n",
       "      <th></th>\n",
       "      <th>time_Afternoon</th>\n",
       "      <th>time_Evening</th>\n",
       "      <th>time_Morning</th>\n",
       "      <th>time_Night</th>\n",
       "      <th>booktime_Afternoon</th>\n",
       "      <th>booktime_Evening</th>\n",
       "      <th>booktime_Morning</th>\n",
       "      <th>booktime_Night</th>\n",
       "      <th>Car_Cancellation</th>\n",
       "    </tr>\n",
       "  </thead>\n",
       "  <tbody>\n",
       "    <tr>\n",
       "      <th>time_Afternoon</th>\n",
       "      <td>1.000000</td>\n",
       "      <td>-0.098353</td>\n",
       "      <td>-0.438864</td>\n",
       "      <td>-0.157994</td>\n",
       "      <td>0.049062</td>\n",
       "      <td>-0.101421</td>\n",
       "      <td>0.086479</td>\n",
       "      <td>-0.039439</td>\n",
       "      <td>-0.020038</td>\n",
       "    </tr>\n",
       "    <tr>\n",
       "      <th>time_Evening</th>\n",
       "      <td>-0.098353</td>\n",
       "      <td>1.000000</td>\n",
       "      <td>-0.390932</td>\n",
       "      <td>-0.140738</td>\n",
       "      <td>0.089687</td>\n",
       "      <td>-0.025593</td>\n",
       "      <td>-0.051948</td>\n",
       "      <td>-0.045379</td>\n",
       "      <td>0.006244</td>\n",
       "    </tr>\n",
       "    <tr>\n",
       "      <th>time_Morning</th>\n",
       "      <td>-0.438864</td>\n",
       "      <td>-0.390932</td>\n",
       "      <td>1.000000</td>\n",
       "      <td>-0.627990</td>\n",
       "      <td>-0.047668</td>\n",
       "      <td>0.034066</td>\n",
       "      <td>0.018481</td>\n",
       "      <td>-0.002117</td>\n",
       "      <td>-0.015436</td>\n",
       "    </tr>\n",
       "    <tr>\n",
       "      <th>time_Night</th>\n",
       "      <td>-0.157994</td>\n",
       "      <td>-0.140738</td>\n",
       "      <td>-0.627990</td>\n",
       "      <td>1.000000</td>\n",
       "      <td>-0.041642</td>\n",
       "      <td>0.053945</td>\n",
       "      <td>-0.053210</td>\n",
       "      <td>0.064906</td>\n",
       "      <td>0.030236</td>\n",
       "    </tr>\n",
       "    <tr>\n",
       "      <th>booktime_Afternoon</th>\n",
       "      <td>0.049062</td>\n",
       "      <td>0.089687</td>\n",
       "      <td>-0.047668</td>\n",
       "      <td>-0.041642</td>\n",
       "      <td>1.000000</td>\n",
       "      <td>-0.594413</td>\n",
       "      <td>-0.387836</td>\n",
       "      <td>-0.199049</td>\n",
       "      <td>-0.068687</td>\n",
       "    </tr>\n",
       "    <tr>\n",
       "      <th>booktime_Evening</th>\n",
       "      <td>-0.101421</td>\n",
       "      <td>-0.025593</td>\n",
       "      <td>0.034066</td>\n",
       "      <td>0.053945</td>\n",
       "      <td>-0.594413</td>\n",
       "      <td>1.000000</td>\n",
       "      <td>-0.369989</td>\n",
       "      <td>-0.189890</td>\n",
       "      <td>0.050469</td>\n",
       "    </tr>\n",
       "    <tr>\n",
       "      <th>booktime_Morning</th>\n",
       "      <td>0.086479</td>\n",
       "      <td>-0.051948</td>\n",
       "      <td>0.018481</td>\n",
       "      <td>-0.053210</td>\n",
       "      <td>-0.387836</td>\n",
       "      <td>-0.369989</td>\n",
       "      <td>1.000000</td>\n",
       "      <td>-0.123897</td>\n",
       "      <td>-0.015089</td>\n",
       "    </tr>\n",
       "    <tr>\n",
       "      <th>booktime_Night</th>\n",
       "      <td>-0.039439</td>\n",
       "      <td>-0.045379</td>\n",
       "      <td>-0.002117</td>\n",
       "      <td>0.064906</td>\n",
       "      <td>-0.199049</td>\n",
       "      <td>-0.189890</td>\n",
       "      <td>-0.123897</td>\n",
       "      <td>1.000000</td>\n",
       "      <td>0.063792</td>\n",
       "    </tr>\n",
       "    <tr>\n",
       "      <th>Car_Cancellation</th>\n",
       "      <td>-0.020038</td>\n",
       "      <td>0.006244</td>\n",
       "      <td>-0.015436</td>\n",
       "      <td>0.030236</td>\n",
       "      <td>-0.068687</td>\n",
       "      <td>0.050469</td>\n",
       "      <td>-0.015089</td>\n",
       "      <td>0.063792</td>\n",
       "      <td>1.000000</td>\n",
       "    </tr>\n",
       "  </tbody>\n",
       "</table>\n",
       "</div>"
      ],
      "text/plain": [
       "                    time_Afternoon  time_Evening  time_Morning  time_Night  \\\n",
       "time_Afternoon            1.000000     -0.098353     -0.438864   -0.157994   \n",
       "time_Evening             -0.098353      1.000000     -0.390932   -0.140738   \n",
       "time_Morning             -0.438864     -0.390932      1.000000   -0.627990   \n",
       "time_Night               -0.157994     -0.140738     -0.627990    1.000000   \n",
       "booktime_Afternoon        0.049062      0.089687     -0.047668   -0.041642   \n",
       "booktime_Evening         -0.101421     -0.025593      0.034066    0.053945   \n",
       "booktime_Morning          0.086479     -0.051948      0.018481   -0.053210   \n",
       "booktime_Night           -0.039439     -0.045379     -0.002117    0.064906   \n",
       "Car_Cancellation         -0.020038      0.006244     -0.015436    0.030236   \n",
       "\n",
       "                    booktime_Afternoon  booktime_Evening  booktime_Morning  \\\n",
       "time_Afternoon                0.049062         -0.101421          0.086479   \n",
       "time_Evening                  0.089687         -0.025593         -0.051948   \n",
       "time_Morning                 -0.047668          0.034066          0.018481   \n",
       "time_Night                   -0.041642          0.053945         -0.053210   \n",
       "booktime_Afternoon            1.000000         -0.594413         -0.387836   \n",
       "booktime_Evening             -0.594413          1.000000         -0.369989   \n",
       "booktime_Morning             -0.387836         -0.369989          1.000000   \n",
       "booktime_Night               -0.199049         -0.189890         -0.123897   \n",
       "Car_Cancellation             -0.068687          0.050469         -0.015089   \n",
       "\n",
       "                    booktime_Night  Car_Cancellation  \n",
       "time_Afternoon           -0.039439         -0.020038  \n",
       "time_Evening             -0.045379          0.006244  \n",
       "time_Morning             -0.002117         -0.015436  \n",
       "time_Night                0.064906          0.030236  \n",
       "booktime_Afternoon       -0.199049         -0.068687  \n",
       "booktime_Evening         -0.189890          0.050469  \n",
       "booktime_Morning         -0.123897         -0.015089  \n",
       "booktime_Night            1.000000          0.063792  \n",
       "Car_Cancellation          0.063792          1.000000  "
      ]
     },
     "execution_count": 167,
     "metadata": {},
     "output_type": "execute_result"
    }
   ],
   "source": [
    "corr_matrix2"
   ]
  },
  {
   "cell_type": "code",
   "execution_count": 168,
   "id": "4aeb6961",
   "metadata": {},
   "outputs": [
    {
     "data": {
      "image/png": "[encoded data removed]",
      "text/plain": [
       "<Figure size 1000x400 with 2 Axes>"
      ]
     },
     "metadata": {},
     "output_type": "display_data"
    }
   ],
   "source": [
    "plt.figure(figsize=(10,4))\n",
    "sns.heatmap(corr_matrix2,annot=True,cmap='coolwarm',fmt='.2f')\n",
    "plt.title('Corr_Matrix2')\n",
    "plt.show()"
   ]
  },
  {
   "cell_type": "code",
   "execution_count": 169,
   "id": "89940701",
   "metadata": {},
   "outputs": [],
   "source": [
    "# Can drop time_Evening due to its low correlation with the target variable.\n",
    "# Between time_Morning and time_Night, can drop time_Morning due to comparitively lower correlation with the target.\n",
    "# Between booktime_Afternoon and booktime_Evening, drop booktime_Evening due to its comparitively lower correlation with the target.\n",
    "# Remove booktime_Night."
   ]
  },
  {
   "cell_type": "code",
   "execution_count": 170,
   "id": "8b8e9e25",
   "metadata": {},
   "outputs": [],
   "source": [
    "df1_new=df1_new.drop(['time_Morning','booktime_Afternoon'],axis=1)"
   ]
  },
  {
   "cell_type": "code",
   "execution_count": 171,
   "id": "9a3cef19",
   "metadata": {},
   "outputs": [
    {
     "data": {
      "text/plain": [
       "(1589, 31)"
      ]
     },
     "execution_count": 171,
     "metadata": {},
     "output_type": "execute_result"
    }
   ],
   "source": [
    "df1_new.shape"
   ]
  },
  {
   "cell_type": "code",
   "execution_count": 172,
   "id": "2b8cb01a",
   "metadata": {},
   "outputs": [
    {
     "data": {
      "text/plain": [
       "Index(['online_booking', 'mobile_site_booking', 'Car_Cancellation',\n",
       "       'Canc_Tags_from_area', 'Booking_Tags_from_area', 'canc_Tags_fr_to_perc',\n",
       "       'booking_Tags_fr_to_city', 'Month', 'Weekday/Weekend',\n",
       "       'Book_Weekday/Weekend', 'Time_gap_hours', 'day_Friday', 'day_Monday',\n",
       "       'day_Saturday', 'day_Sunday', 'day_Thursday', 'day_Tuesday',\n",
       "       'day_Wednesday', 'time_Afternoon', 'time_Evening', 'time_Night',\n",
       "       'bookday_Friday', 'bookday_Monday', 'bookday_Saturday',\n",
       "       'bookday_Sunday', 'bookday_Thursday', 'bookday_Tuesday',\n",
       "       'bookday_Wednesday', 'booktime_Evening', 'booktime_Morning',\n",
       "       'booktime_Night'],\n",
       "      dtype='object')"
      ]
     },
     "execution_count": 172,
     "metadata": {},
     "output_type": "execute_result"
    }
   ],
   "source": [
    "df1_new.columns"
   ]
  },
  {
   "cell_type": "code",
   "execution_count": 173,
   "id": "467d4093",
   "metadata": {},
   "outputs": [],
   "source": [
    "data_subset3=df1_new[['Canc_Tags_from_area','Booking_Tags_from_area','canc_Tags_fr_to_perc','booking_Tags_fr_to_city','Car_Cancellation']]"
   ]
  },
  {
   "cell_type": "code",
   "execution_count": 174,
   "id": "a8a08544",
   "metadata": {},
   "outputs": [],
   "source": [
    "corr_matrix3=data_subset3.corr()"
   ]
  },
  {
   "cell_type": "code",
   "execution_count": 175,
   "id": "eb43d7ae",
   "metadata": {},
   "outputs": [
    {
     "data": {
      "text/html": [
       "<div>\n",
       "<style scoped>\n",
       "    .dataframe tbody tr th:only-of-type {\n",
       "        vertical-align: middle;\n",
       "    }\n",
       "\n",
       "    .dataframe tbody tr th {\n",
       "        vertical-align: top;\n",
       "    }\n",
       "\n",
       "    .dataframe thead th {\n",
       "        text-align: right;\n",
       "    }\n",
       "</style>\n",
       "<table border=\"1\" class=\"dataframe\">\n",
       "  <thead>\n",
       "    <tr style=\"text-align: right;\">\n",
       "      <th></th>\n",
       "      <th>Canc_Tags_from_area</th>\n",
       "      <th>Booking_Tags_from_area</th>\n",
       "      <th>canc_Tags_fr_to_perc</th>\n",
       "      <th>booking_Tags_fr_to_city</th>\n",
       "      <th>Car_Cancellation</th>\n",
       "    </tr>\n",
       "  </thead>\n",
       "  <tbody>\n",
       "    <tr>\n",
       "      <th>Canc_Tags_from_area</th>\n",
       "      <td>1.000000</td>\n",
       "      <td>0.419126</td>\n",
       "      <td>0.050292</td>\n",
       "      <td>0.090044</td>\n",
       "      <td>0.222245</td>\n",
       "    </tr>\n",
       "    <tr>\n",
       "      <th>Booking_Tags_from_area</th>\n",
       "      <td>0.419126</td>\n",
       "      <td>1.000000</td>\n",
       "      <td>0.032515</td>\n",
       "      <td>0.067204</td>\n",
       "      <td>-0.000598</td>\n",
       "    </tr>\n",
       "    <tr>\n",
       "      <th>canc_Tags_fr_to_perc</th>\n",
       "      <td>0.050292</td>\n",
       "      <td>0.032515</td>\n",
       "      <td>1.000000</td>\n",
       "      <td>0.308170</td>\n",
       "      <td>0.161335</td>\n",
       "    </tr>\n",
       "    <tr>\n",
       "      <th>booking_Tags_fr_to_city</th>\n",
       "      <td>0.090044</td>\n",
       "      <td>0.067204</td>\n",
       "      <td>0.308170</td>\n",
       "      <td>1.000000</td>\n",
       "      <td>0.032357</td>\n",
       "    </tr>\n",
       "    <tr>\n",
       "      <th>Car_Cancellation</th>\n",
       "      <td>0.222245</td>\n",
       "      <td>-0.000598</td>\n",
       "      <td>0.161335</td>\n",
       "      <td>0.032357</td>\n",
       "      <td>1.000000</td>\n",
       "    </tr>\n",
       "  </tbody>\n",
       "</table>\n",
       "</div>"
      ],
      "text/plain": [
       "                         Canc_Tags_from_area  Booking_Tags_from_area  \\\n",
       "Canc_Tags_from_area                 1.000000                0.419126   \n",
       "Booking_Tags_from_area              0.419126                1.000000   \n",
       "canc_Tags_fr_to_perc                0.050292                0.032515   \n",
       "booking_Tags_fr_to_city             0.090044                0.067204   \n",
       "Car_Cancellation                    0.222245               -0.000598   \n",
       "\n",
       "                         canc_Tags_fr_to_perc  booking_Tags_fr_to_city  \\\n",
       "Canc_Tags_from_area                  0.050292                 0.090044   \n",
       "Booking_Tags_from_area               0.032515                 0.067204   \n",
       "canc_Tags_fr_to_perc                 1.000000                 0.308170   \n",
       "booking_Tags_fr_to_city              0.308170                 1.000000   \n",
       "Car_Cancellation                     0.161335                 0.032357   \n",
       "\n",
       "                         Car_Cancellation  \n",
       "Canc_Tags_from_area              0.222245  \n",
       "Booking_Tags_from_area          -0.000598  \n",
       "canc_Tags_fr_to_perc             0.161335  \n",
       "booking_Tags_fr_to_city          0.032357  \n",
       "Car_Cancellation                 1.000000  "
      ]
     },
     "execution_count": 175,
     "metadata": {},
     "output_type": "execute_result"
    }
   ],
   "source": [
    "corr_matrix3"
   ]
  },
  {
   "cell_type": "code",
   "execution_count": 176,
   "id": "09957b62",
   "metadata": {},
   "outputs": [
    {
     "data": {
      "text/plain": [
       "(1589, 31)"
      ]
     },
     "execution_count": 176,
     "metadata": {},
     "output_type": "execute_result"
    }
   ],
   "source": [
    "df1_new.shape"
   ]
  },
  {
   "cell_type": "code",
   "execution_count": 177,
   "id": "91d0e71e",
   "metadata": {},
   "outputs": [
    {
     "data": {
      "text/plain": [
       "Index(['online_booking', 'mobile_site_booking', 'Car_Cancellation',\n",
       "       'Canc_Tags_from_area', 'Booking_Tags_from_area', 'canc_Tags_fr_to_perc',\n",
       "       'booking_Tags_fr_to_city', 'Month', 'Weekday/Weekend',\n",
       "       'Book_Weekday/Weekend', 'Time_gap_hours', 'day_Friday', 'day_Monday',\n",
       "       'day_Saturday', 'day_Sunday', 'day_Thursday', 'day_Tuesday',\n",
       "       'day_Wednesday', 'time_Afternoon', 'time_Evening', 'time_Night',\n",
       "       'bookday_Friday', 'bookday_Monday', 'bookday_Saturday',\n",
       "       'bookday_Sunday', 'bookday_Thursday', 'bookday_Tuesday',\n",
       "       'bookday_Wednesday', 'booktime_Evening', 'booktime_Morning',\n",
       "       'booktime_Night'],\n",
       "      dtype='object')"
      ]
     },
     "execution_count": 177,
     "metadata": {},
     "output_type": "execute_result"
    }
   ],
   "source": [
    "df1_new.columns"
   ]
  },
  {
   "cell_type": "code",
   "execution_count": 178,
   "id": "f70042a8",
   "metadata": {},
   "outputs": [],
   "source": [
    "data_subset4=df1_new[['online_booking', 'mobile_site_booking','Car_Cancellation']]"
   ]
  },
  {
   "cell_type": "code",
   "execution_count": 179,
   "id": "d634df16",
   "metadata": {},
   "outputs": [
    {
     "data": {
      "text/html": [
       "<div>\n",
       "<style scoped>\n",
       "    .dataframe tbody tr th:only-of-type {\n",
       "        vertical-align: middle;\n",
       "    }\n",
       "\n",
       "    .dataframe tbody tr th {\n",
       "        vertical-align: top;\n",
       "    }\n",
       "\n",
       "    .dataframe thead th {\n",
       "        text-align: right;\n",
       "    }\n",
       "</style>\n",
       "<table border=\"1\" class=\"dataframe\">\n",
       "  <thead>\n",
       "    <tr style=\"text-align: right;\">\n",
       "      <th></th>\n",
       "      <th>online_booking</th>\n",
       "      <th>mobile_site_booking</th>\n",
       "      <th>Car_Cancellation</th>\n",
       "    </tr>\n",
       "  </thead>\n",
       "  <tbody>\n",
       "    <tr>\n",
       "      <th>online_booking</th>\n",
       "      <td>1.000000</td>\n",
       "      <td>-0.119826</td>\n",
       "      <td>0.122835</td>\n",
       "    </tr>\n",
       "    <tr>\n",
       "      <th>mobile_site_booking</th>\n",
       "      <td>-0.119826</td>\n",
       "      <td>1.000000</td>\n",
       "      <td>-0.016054</td>\n",
       "    </tr>\n",
       "    <tr>\n",
       "      <th>Car_Cancellation</th>\n",
       "      <td>0.122835</td>\n",
       "      <td>-0.016054</td>\n",
       "      <td>1.000000</td>\n",
       "    </tr>\n",
       "  </tbody>\n",
       "</table>\n",
       "</div>"
      ],
      "text/plain": [
       "                     online_booking  mobile_site_booking  Car_Cancellation\n",
       "online_booking             1.000000            -0.119826          0.122835\n",
       "mobile_site_booking       -0.119826             1.000000         -0.016054\n",
       "Car_Cancellation           0.122835            -0.016054          1.000000"
      ]
     },
     "execution_count": 179,
     "metadata": {},
     "output_type": "execute_result"
    }
   ],
   "source": [
    "corr_matrix4=data_subset4.corr()\n",
    "corr_matrix4"
   ]
  },
  {
   "cell_type": "code",
   "execution_count": 180,
   "id": "841fe75a",
   "metadata": {},
   "outputs": [
    {
     "data": {
      "text/plain": [
       "(1589, 31)"
      ]
     },
     "execution_count": 180,
     "metadata": {},
     "output_type": "execute_result"
    }
   ],
   "source": [
    "df1_new.shape"
   ]
  },
  {
   "cell_type": "code",
   "execution_count": 181,
   "id": "be332c6d",
   "metadata": {},
   "outputs": [
    {
     "data": {
      "text/plain": [
       "Index(['online_booking', 'mobile_site_booking', 'Car_Cancellation',\n",
       "       'Canc_Tags_from_area', 'Booking_Tags_from_area', 'canc_Tags_fr_to_perc',\n",
       "       'booking_Tags_fr_to_city', 'Month', 'Weekday/Weekend',\n",
       "       'Book_Weekday/Weekend', 'Time_gap_hours', 'day_Friday', 'day_Monday',\n",
       "       'day_Saturday', 'day_Sunday', 'day_Thursday', 'day_Tuesday',\n",
       "       'day_Wednesday', 'time_Afternoon', 'time_Evening', 'time_Night',\n",
       "       'bookday_Friday', 'bookday_Monday', 'bookday_Saturday',\n",
       "       'bookday_Sunday', 'bookday_Thursday', 'bookday_Tuesday',\n",
       "       'bookday_Wednesday', 'booktime_Evening', 'booktime_Morning',\n",
       "       'booktime_Night'],\n",
       "      dtype='object')"
      ]
     },
     "execution_count": 181,
     "metadata": {},
     "output_type": "execute_result"
    }
   ],
   "source": [
    "df1_new.columns"
   ]
  },
  {
   "cell_type": "code",
   "execution_count": 182,
   "id": "de678f2b",
   "metadata": {},
   "outputs": [
    {
     "name": "stdout",
     "output_type": "stream",
     "text": [
      "-7.7\n",
      "1477.1833333333334\n"
     ]
    }
   ],
   "source": [
    "print(df1_new['Time_gap_hours'].min())\n",
    "print(df1_new['Time_gap_hours'].max())"
   ]
  },
  {
   "cell_type": "code",
   "execution_count": 183,
   "id": "2a8ab29b",
   "metadata": {},
   "outputs": [],
   "source": [
    "df1_new['Time_gap_hours']=df1_new['Time_gap_hours'].abs()"
   ]
  },
  {
   "cell_type": "code",
   "execution_count": 184,
   "id": "97fc3b9f",
   "metadata": {},
   "outputs": [
    {
     "data": {
      "image/png": "[encoded data removed]",
      "text/plain": [
       "<Figure size 1000x600 with 1 Axes>"
      ]
     },
     "metadata": {},
     "output_type": "display_data"
    }
   ],
   "source": [
    "plt.figure(figsize=(10,6))\n",
    "plt.hist(df1_new['Time_gap_hours'],bins=30,edgecolor='black')\n",
    "plt.xlabel('Time_gap_hours')\n",
    "plt.ylabel('Frequency')\n",
    "plt.title('Distribution of Time_gap_hours')\n",
    "plt.show()"
   ]
  },
  {
   "cell_type": "code",
   "execution_count": 185,
   "id": "d1675753",
   "metadata": {},
   "outputs": [
    {
     "data": {
      "image/png": "[encoded data removed]",
      "text/plain": [
       "<Figure size 1000x600 with 1 Axes>"
      ]
     },
     "metadata": {},
     "output_type": "display_data"
    }
   ],
   "source": [
    "plt.figure(figsize=(10,6))\n",
    "plt.boxplot(df1_new['Time_gap_hours'])\n",
    "plt.xlabel('Time_gap_hours')\n",
    "plt.title('Boxplot Time_gap_hours')\n",
    "plt.show()"
   ]
  },
  {
   "cell_type": "code",
   "execution_count": 186,
   "id": "ffcca536",
   "metadata": {},
   "outputs": [],
   "source": [
    "#Q1=df1_new['Time_gap_hours'].quantile(0.25)\n",
    "#Q3=df1_new['Time_gap_hours'].quantile(0.75)\n",
    "#IQR=Q3-Q1\n",
    "#LL=Q1-1.5*IQR\n",
    "#LL=max(0,LL) # Because Time cannot be negative\n",
    "#UL=Q3+1.5*IQR\n",
    "#Outliers=df1_new[(df1_new['Time_gap_hours']<LL)|(df1_new['Time_gap_hours']>UL)]\n",
    "#print(\"Q1:\",Q1)\n",
    "#print(\"Q3:\",Q3)\n",
    "#print(\"IQR:\",IQR)\n",
    "#print(\"LL:\",LL)\n",
    "#print(\"UL:\",UL)\n",
    "#print(\"Number of Outliers are:\",len(Outliers))\n",
    "#print(\"Outliers are:\",Outliers)"
   ]
  },
  {
   "cell_type": "code",
   "execution_count": 187,
   "id": "a5d6099f",
   "metadata": {},
   "outputs": [],
   "source": [
    "# Cap the outliers\n",
    "#df1_new['Time_gap_hours']=df1_new['Time_gap_hours'].apply(lambda x:LL if x<LL else(UL if x>UL else x))"
   ]
  },
  {
   "cell_type": "code",
   "execution_count": 188,
   "id": "f98b5cff",
   "metadata": {},
   "outputs": [],
   "source": [
    "#Outliers=df1_new[(df1_new['Time_gap_hours']<LL)|(df1_new['Time_gap_hours']>UL)]\n",
    "#print(\"Number of Outliers:\",len(Outliers))"
   ]
  },
  {
   "cell_type": "code",
   "execution_count": 189,
   "id": "49464332",
   "metadata": {},
   "outputs": [],
   "source": [
    "#df1_new['Time_gap_hours'].describe()"
   ]
  },
  {
   "cell_type": "code",
   "execution_count": 190,
   "id": "d3160813",
   "metadata": {},
   "outputs": [
    {
     "data": {
      "text/plain": [
       "(1589, 31)"
      ]
     },
     "execution_count": 190,
     "metadata": {},
     "output_type": "execute_result"
    }
   ],
   "source": [
    "df1_new.shape"
   ]
  },
  {
   "cell_type": "code",
   "execution_count": 191,
   "id": "b7b304ac",
   "metadata": {},
   "outputs": [
    {
     "data": {
      "text/plain": [
       "0"
      ]
     },
     "execution_count": 191,
     "metadata": {},
     "output_type": "execute_result"
    }
   ],
   "source": [
    "df1_new.isna().sum().sum()"
   ]
  },
  {
   "cell_type": "code",
   "execution_count": 192,
   "id": "9a8d370f",
   "metadata": {},
   "outputs": [],
   "source": [
    "#plt.figure(figsize=(10,6))\n",
    "#plt.boxplot(df1_new['Time_gap_hours'])\n",
    "#plt.xlabel('Time_gap_hours')\n",
    "#plt.title('Boxplot Time_gap_hours')\n",
    "#plt.show()"
   ]
  },
  {
   "cell_type": "code",
   "execution_count": 193,
   "id": "1011a8f5",
   "metadata": {},
   "outputs": [],
   "source": [
    "# Since all the features except Time_gap_hours are already encoded, hence no need to scale them. Only need to scale Time_gap_hours\n",
    "# using StandardScaler or MinMaxScaler."
   ]
  },
  {
   "cell_type": "code",
   "execution_count": 194,
   "id": "3f2703db",
   "metadata": {},
   "outputs": [],
   "source": [
    "from sklearn.model_selection import train_test_split\n",
    "#from sklearn.preprocessing import StandardScaler\n",
    "from sklearn.preprocessing import RobustScaler"
   ]
  },
  {
   "cell_type": "code",
   "execution_count": 195,
   "id": "87fdb4f2",
   "metadata": {},
   "outputs": [],
   "source": [
    "X=df1_new.drop('Car_Cancellation',axis=1)\n",
    "Y=df1_new['Car_Cancellation']"
   ]
  },
  {
   "cell_type": "code",
   "execution_count": 196,
   "id": "4c817135",
   "metadata": {},
   "outputs": [],
   "source": [
    "X_train,X_test,Y_train,Y_test=train_test_split(X,Y,test_size=0.15,stratify=Y,random_state=111)"
   ]
  },
  {
   "cell_type": "code",
   "execution_count": 197,
   "id": "ba2d838a",
   "metadata": {},
   "outputs": [],
   "source": [
    "continous_feature=['Time_gap_hours']"
   ]
  },
  {
   "cell_type": "code",
   "execution_count": 198,
   "id": "038f671a",
   "metadata": {},
   "outputs": [],
   "source": [
    "mms=RobustScaler()"
   ]
  },
  {
   "cell_type": "code",
   "execution_count": 199,
   "id": "f79d5ddc",
   "metadata": {},
   "outputs": [],
   "source": [
    "X_train[continous_feature]=mms.fit_transform(X_train[continous_feature])"
   ]
  },
  {
   "cell_type": "code",
   "execution_count": 200,
   "id": "465828d2",
   "metadata": {},
   "outputs": [],
   "source": [
    "X_test[continous_feature]=mms.transform(X_test[continous_feature])"
   ]
  },
  {
   "cell_type": "code",
   "execution_count": 201,
   "id": "bf1818eb",
   "metadata": {},
   "outputs": [
    {
     "data": {
      "text/html": [
       "<div>\n",
       "<style scoped>\n",
       "    .dataframe tbody tr th:only-of-type {\n",
       "        vertical-align: middle;\n",
       "    }\n",
       "\n",
       "    .dataframe tbody tr th {\n",
       "        vertical-align: top;\n",
       "    }\n",
       "\n",
       "    .dataframe thead th {\n",
       "        text-align: right;\n",
       "    }\n",
       "</style>\n",
       "<table border=\"1\" class=\"dataframe\">\n",
       "  <thead>\n",
       "    <tr style=\"text-align: right;\">\n",
       "      <th></th>\n",
       "      <th>online_booking</th>\n",
       "      <th>mobile_site_booking</th>\n",
       "      <th>Canc_Tags_from_area</th>\n",
       "      <th>Booking_Tags_from_area</th>\n",
       "      <th>canc_Tags_fr_to_perc</th>\n",
       "      <th>booking_Tags_fr_to_city</th>\n",
       "      <th>Month</th>\n",
       "      <th>Weekday/Weekend</th>\n",
       "      <th>Book_Weekday/Weekend</th>\n",
       "      <th>Time_gap_hours</th>\n",
       "      <th>...</th>\n",
       "      <th>bookday_Friday</th>\n",
       "      <th>bookday_Monday</th>\n",
       "      <th>bookday_Saturday</th>\n",
       "      <th>bookday_Sunday</th>\n",
       "      <th>bookday_Thursday</th>\n",
       "      <th>bookday_Tuesday</th>\n",
       "      <th>bookday_Wednesday</th>\n",
       "      <th>booktime_Evening</th>\n",
       "      <th>booktime_Morning</th>\n",
       "      <th>booktime_Night</th>\n",
       "    </tr>\n",
       "  </thead>\n",
       "  <tbody>\n",
       "    <tr>\n",
       "      <th>6477</th>\n",
       "      <td>1</td>\n",
       "      <td>0</td>\n",
       "      <td>0</td>\n",
       "      <td>2</td>\n",
       "      <td>0</td>\n",
       "      <td>1</td>\n",
       "      <td>4</td>\n",
       "      <td>0</td>\n",
       "      <td>0</td>\n",
       "      <td>16.775515</td>\n",
       "      <td>...</td>\n",
       "      <td>1</td>\n",
       "      <td>0</td>\n",
       "      <td>0</td>\n",
       "      <td>0</td>\n",
       "      <td>0</td>\n",
       "      <td>0</td>\n",
       "      <td>0</td>\n",
       "      <td>0</td>\n",
       "      <td>0</td>\n",
       "      <td>0</td>\n",
       "    </tr>\n",
       "    <tr>\n",
       "      <th>8915</th>\n",
       "      <td>1</td>\n",
       "      <td>0</td>\n",
       "      <td>1</td>\n",
       "      <td>3</td>\n",
       "      <td>2</td>\n",
       "      <td>3</td>\n",
       "      <td>4</td>\n",
       "      <td>0</td>\n",
       "      <td>0</td>\n",
       "      <td>-0.395074</td>\n",
       "      <td>...</td>\n",
       "      <td>0</td>\n",
       "      <td>0</td>\n",
       "      <td>0</td>\n",
       "      <td>0</td>\n",
       "      <td>1</td>\n",
       "      <td>0</td>\n",
       "      <td>0</td>\n",
       "      <td>0</td>\n",
       "      <td>1</td>\n",
       "      <td>0</td>\n",
       "    </tr>\n",
       "    <tr>\n",
       "      <th>35450</th>\n",
       "      <td>0</td>\n",
       "      <td>0</td>\n",
       "      <td>1</td>\n",
       "      <td>3</td>\n",
       "      <td>0</td>\n",
       "      <td>1</td>\n",
       "      <td>9</td>\n",
       "      <td>1</td>\n",
       "      <td>1</td>\n",
       "      <td>-0.193635</td>\n",
       "      <td>...</td>\n",
       "      <td>0</td>\n",
       "      <td>0</td>\n",
       "      <td>1</td>\n",
       "      <td>0</td>\n",
       "      <td>0</td>\n",
       "      <td>0</td>\n",
       "      <td>0</td>\n",
       "      <td>1</td>\n",
       "      <td>0</td>\n",
       "      <td>0</td>\n",
       "    </tr>\n",
       "    <tr>\n",
       "      <th>6762</th>\n",
       "      <td>1</td>\n",
       "      <td>0</td>\n",
       "      <td>1</td>\n",
       "      <td>3</td>\n",
       "      <td>0</td>\n",
       "      <td>1</td>\n",
       "      <td>3</td>\n",
       "      <td>0</td>\n",
       "      <td>0</td>\n",
       "      <td>11.601024</td>\n",
       "      <td>...</td>\n",
       "      <td>0</td>\n",
       "      <td>1</td>\n",
       "      <td>0</td>\n",
       "      <td>0</td>\n",
       "      <td>0</td>\n",
       "      <td>0</td>\n",
       "      <td>0</td>\n",
       "      <td>0</td>\n",
       "      <td>0</td>\n",
       "      <td>0</td>\n",
       "    </tr>\n",
       "    <tr>\n",
       "      <th>10317</th>\n",
       "      <td>0</td>\n",
       "      <td>0</td>\n",
       "      <td>1</td>\n",
       "      <td>3</td>\n",
       "      <td>1</td>\n",
       "      <td>2</td>\n",
       "      <td>4</td>\n",
       "      <td>1</td>\n",
       "      <td>0</td>\n",
       "      <td>0.744299</td>\n",
       "      <td>...</td>\n",
       "      <td>0</td>\n",
       "      <td>0</td>\n",
       "      <td>0</td>\n",
       "      <td>0</td>\n",
       "      <td>1</td>\n",
       "      <td>0</td>\n",
       "      <td>0</td>\n",
       "      <td>0</td>\n",
       "      <td>0</td>\n",
       "      <td>0</td>\n",
       "    </tr>\n",
       "    <tr>\n",
       "      <th>...</th>\n",
       "      <td>...</td>\n",
       "      <td>...</td>\n",
       "      <td>...</td>\n",
       "      <td>...</td>\n",
       "      <td>...</td>\n",
       "      <td>...</td>\n",
       "      <td>...</td>\n",
       "      <td>...</td>\n",
       "      <td>...</td>\n",
       "      <td>...</td>\n",
       "      <td>...</td>\n",
       "      <td>...</td>\n",
       "      <td>...</td>\n",
       "      <td>...</td>\n",
       "      <td>...</td>\n",
       "      <td>...</td>\n",
       "      <td>...</td>\n",
       "      <td>...</td>\n",
       "      <td>...</td>\n",
       "      <td>...</td>\n",
       "      <td>...</td>\n",
       "    </tr>\n",
       "    <tr>\n",
       "      <th>13562</th>\n",
       "      <td>1</td>\n",
       "      <td>0</td>\n",
       "      <td>1</td>\n",
       "      <td>3</td>\n",
       "      <td>1</td>\n",
       "      <td>3</td>\n",
       "      <td>5</td>\n",
       "      <td>0</td>\n",
       "      <td>0</td>\n",
       "      <td>-0.406780</td>\n",
       "      <td>...</td>\n",
       "      <td>0</td>\n",
       "      <td>1</td>\n",
       "      <td>0</td>\n",
       "      <td>0</td>\n",
       "      <td>0</td>\n",
       "      <td>0</td>\n",
       "      <td>0</td>\n",
       "      <td>1</td>\n",
       "      <td>0</td>\n",
       "      <td>0</td>\n",
       "    </tr>\n",
       "    <tr>\n",
       "      <th>42846</th>\n",
       "      <td>1</td>\n",
       "      <td>0</td>\n",
       "      <td>1</td>\n",
       "      <td>3</td>\n",
       "      <td>2</td>\n",
       "      <td>3</td>\n",
       "      <td>11</td>\n",
       "      <td>0</td>\n",
       "      <td>0</td>\n",
       "      <td>-0.402878</td>\n",
       "      <td>...</td>\n",
       "      <td>0</td>\n",
       "      <td>0</td>\n",
       "      <td>0</td>\n",
       "      <td>0</td>\n",
       "      <td>0</td>\n",
       "      <td>1</td>\n",
       "      <td>0</td>\n",
       "      <td>0</td>\n",
       "      <td>0</td>\n",
       "      <td>0</td>\n",
       "    </tr>\n",
       "    <tr>\n",
       "      <th>4527</th>\n",
       "      <td>0</td>\n",
       "      <td>0</td>\n",
       "      <td>0</td>\n",
       "      <td>1</td>\n",
       "      <td>1</td>\n",
       "      <td>2</td>\n",
       "      <td>2</td>\n",
       "      <td>0</td>\n",
       "      <td>1</td>\n",
       "      <td>0.870626</td>\n",
       "      <td>...</td>\n",
       "      <td>0</td>\n",
       "      <td>0</td>\n",
       "      <td>1</td>\n",
       "      <td>0</td>\n",
       "      <td>0</td>\n",
       "      <td>0</td>\n",
       "      <td>0</td>\n",
       "      <td>0</td>\n",
       "      <td>1</td>\n",
       "      <td>0</td>\n",
       "    </tr>\n",
       "    <tr>\n",
       "      <th>37840</th>\n",
       "      <td>1</td>\n",
       "      <td>0</td>\n",
       "      <td>0</td>\n",
       "      <td>1</td>\n",
       "      <td>0</td>\n",
       "      <td>2</td>\n",
       "      <td>10</td>\n",
       "      <td>0</td>\n",
       "      <td>0</td>\n",
       "      <td>0.079015</td>\n",
       "      <td>...</td>\n",
       "      <td>0</td>\n",
       "      <td>1</td>\n",
       "      <td>0</td>\n",
       "      <td>0</td>\n",
       "      <td>0</td>\n",
       "      <td>0</td>\n",
       "      <td>0</td>\n",
       "      <td>0</td>\n",
       "      <td>1</td>\n",
       "      <td>0</td>\n",
       "    </tr>\n",
       "    <tr>\n",
       "      <th>11413</th>\n",
       "      <td>0</td>\n",
       "      <td>1</td>\n",
       "      <td>1</td>\n",
       "      <td>3</td>\n",
       "      <td>0</td>\n",
       "      <td>3</td>\n",
       "      <td>4</td>\n",
       "      <td>1</td>\n",
       "      <td>1</td>\n",
       "      <td>-0.298500</td>\n",
       "      <td>...</td>\n",
       "      <td>0</td>\n",
       "      <td>0</td>\n",
       "      <td>0</td>\n",
       "      <td>1</td>\n",
       "      <td>0</td>\n",
       "      <td>0</td>\n",
       "      <td>0</td>\n",
       "      <td>0</td>\n",
       "      <td>0</td>\n",
       "      <td>1</td>\n",
       "    </tr>\n",
       "  </tbody>\n",
       "</table>\n",
       "<p>1350 rows × 30 columns</p>\n",
       "</div>"
      ],
      "text/plain": [
       "       online_booking  mobile_site_booking  Canc_Tags_from_area  \\\n",
       "6477                1                    0                    0   \n",
       "8915                1                    0                    1   \n",
       "35450               0                    0                    1   \n",
       "6762                1                    0                    1   \n",
       "10317               0                    0                    1   \n",
       "...               ...                  ...                  ...   \n",
       "13562               1                    0                    1   \n",
       "42846               1                    0                    1   \n",
       "4527                0                    0                    0   \n",
       "37840               1                    0                    0   \n",
       "11413               0                    1                    1   \n",
       "\n",
       "       Booking_Tags_from_area  canc_Tags_fr_to_perc  booking_Tags_fr_to_city  \\\n",
       "6477                        2                     0                        1   \n",
       "8915                        3                     2                        3   \n",
       "35450                       3                     0                        1   \n",
       "6762                        3                     0                        1   \n",
       "10317                       3                     1                        2   \n",
       "...                       ...                   ...                      ...   \n",
       "13562                       3                     1                        3   \n",
       "42846                       3                     2                        3   \n",
       "4527                        1                     1                        2   \n",
       "37840                       1                     0                        2   \n",
       "11413                       3                     0                        3   \n",
       "\n",
       "       Month  Weekday/Weekend  Book_Weekday/Weekend  Time_gap_hours  ...  \\\n",
       "6477       4                0                     0       16.775515  ...   \n",
       "8915       4                0                     0       -0.395074  ...   \n",
       "35450      9                1                     1       -0.193635  ...   \n",
       "6762       3                0                     0       11.601024  ...   \n",
       "10317      4                1                     0        0.744299  ...   \n",
       "...      ...              ...                   ...             ...  ...   \n",
       "13562      5                0                     0       -0.406780  ...   \n",
       "42846     11                0                     0       -0.402878  ...   \n",
       "4527       2                0                     1        0.870626  ...   \n",
       "37840     10                0                     0        0.079015  ...   \n",
       "11413      4                1                     1       -0.298500  ...   \n",
       "\n",
       "       bookday_Friday  bookday_Monday  bookday_Saturday  bookday_Sunday  \\\n",
       "6477                1               0                 0               0   \n",
       "8915                0               0                 0               0   \n",
       "35450               0               0                 1               0   \n",
       "6762                0               1                 0               0   \n",
       "10317               0               0                 0               0   \n",
       "...               ...             ...               ...             ...   \n",
       "13562               0               1                 0               0   \n",
       "42846               0               0                 0               0   \n",
       "4527                0               0                 1               0   \n",
       "37840               0               1                 0               0   \n",
       "11413               0               0                 0               1   \n",
       "\n",
       "       bookday_Thursday  bookday_Tuesday  bookday_Wednesday  booktime_Evening  \\\n",
       "6477                  0                0                  0                 0   \n",
       "8915                  1                0                  0                 0   \n",
       "35450                 0                0                  0                 1   \n",
       "6762                  0                0                  0                 0   \n",
       "10317                 1                0                  0                 0   \n",
       "...                 ...              ...                ...               ...   \n",
       "13562                 0                0                  0                 1   \n",
       "42846                 0                1                  0                 0   \n",
       "4527                  0                0                  0                 0   \n",
       "37840                 0                0                  0                 0   \n",
       "11413                 0                0                  0                 0   \n",
       "\n",
       "       booktime_Morning  booktime_Night  \n",
       "6477                  0               0  \n",
       "8915                  1               0  \n",
       "35450                 0               0  \n",
       "6762                  0               0  \n",
       "10317                 0               0  \n",
       "...                 ...             ...  \n",
       "13562                 0               0  \n",
       "42846                 0               0  \n",
       "4527                  1               0  \n",
       "37840                 1               0  \n",
       "11413                 0               1  \n",
       "\n",
       "[1350 rows x 30 columns]"
      ]
     },
     "execution_count": 201,
     "metadata": {},
     "output_type": "execute_result"
    }
   ],
   "source": [
    "X_train"
   ]
  },
  {
   "cell_type": "code",
   "execution_count": 202,
   "id": "831eedef",
   "metadata": {},
   "outputs": [],
   "source": [
    "# Here, fitted the scaler on the training data, and used the same scaler for tranforming both the training data and the test\n",
    "# data, to ensure that the test data is unseen during the scaling process, will prevent data leakage."
   ]
  },
  {
   "cell_type": "code",
   "execution_count": 203,
   "id": "93c1ecc0",
   "metadata": {},
   "outputs": [],
   "source": [
    "from sklearn.ensemble import RandomForestClassifier\n",
    "from sklearn.metrics import classification_report,accuracy_score,roc_curve,roc_auc_score,average_precision_score"
   ]
  },
  {
   "cell_type": "code",
   "execution_count": 213,
   "id": "c63ce97e",
   "metadata": {},
   "outputs": [],
   "source": [
    "from imblearn.over_sampling import SMOTE"
   ]
  },
  {
   "cell_type": "code",
   "execution_count": 214,
   "id": "a1067dbb",
   "metadata": {},
   "outputs": [],
   "source": [
    "smote=SMOTE(random_state=111)"
   ]
  },
  {
   "cell_type": "code",
   "execution_count": 215,
   "id": "3ae71a28",
   "metadata": {},
   "outputs": [],
   "source": [
    "X_resampled,Y_resampled=smote.fit_resample(X_train,Y_train)"
   ]
  },
  {
   "cell_type": "code",
   "execution_count": 1,
   "id": "9cde1da0",
   "metadata": {},
   "outputs": [],
   "source": [
    "from sklearn.linear_model import LogisticRegression"
   ]
  },
  {
   "cell_type": "code",
   "execution_count": 217,
   "id": "24b12e04",
   "metadata": {},
   "outputs": [],
   "source": [
    "model_log_reg=LogisticRegression()"
   ]
  },
  {
   "cell_type": "code",
   "execution_count": 218,
   "id": "67b198bb",
   "metadata": {},
   "outputs": [
    {
     "name": "stderr",
     "output_type": "stream",
     "text": [
      "C:\\ProgramData\\Anaconda3\\lib\\site-packages\\sklearn\\linear_model\\_logistic.py:814: ConvergenceWarning: lbfgs failed to converge (status=1):\n",
      "STOP: TOTAL NO. of ITERATIONS REACHED LIMIT.\n",
      "\n",
      "Increase the number of iterations (max_iter) or scale the data as shown in:\n",
      "    https://scikit-learn.org/stable/modules/preprocessing.html\n",
      "Please also refer to the documentation for alternative solver options:\n",
      "    https://scikit-learn.org/stable/modules/linear_model.html#logistic-regression\n",
      "  n_iter_i = _check_optimize_result(\n"
     ]
    },
    {
     "data": {
      "text/plain": [
       "LogisticRegression()"
      ]
     },
     "execution_count": 218,
     "metadata": {},
     "output_type": "execute_result"
    }
   ],
   "source": [
    "model_log_reg.fit(X_resampled,Y_resampled)"
   ]
  },
  {
   "cell_type": "code",
   "execution_count": 219,
   "id": "f4a2157e",
   "metadata": {},
   "outputs": [],
   "source": [
    "Y_pred=model_log_reg.predict(X_test)"
   ]
  },
  {
   "cell_type": "code",
   "execution_count": 220,
   "id": "dad9b5ed",
   "metadata": {},
   "outputs": [
    {
     "name": "stdout",
     "output_type": "stream",
     "text": [
      "              precision    recall  f1-score   support\n",
      "\n",
      "           0       1.00      0.98      0.99       236\n",
      "           1       0.38      1.00      0.55         3\n",
      "\n",
      "    accuracy                           0.98       239\n",
      "   macro avg       0.69      0.99      0.77       239\n",
      "weighted avg       0.99      0.98      0.98       239\n",
      "\n"
     ]
    }
   ],
   "source": [
    "print(classification_report(Y_test,Y_pred))"
   ]
  },
  {
   "cell_type": "code",
   "execution_count": 221,
   "id": "236e0da4",
   "metadata": {},
   "outputs": [],
   "source": [
    "Y_pred_prob=model_log_reg.predict_proba(X_test)[:,1]"
   ]
  },
  {
   "cell_type": "code",
   "execution_count": 222,
   "id": "cc18bd6f",
   "metadata": {},
   "outputs": [
    {
     "name": "stdout",
     "output_type": "stream",
     "text": [
      "0.7666666666666666\n"
     ]
    }
   ],
   "source": [
    "average_precision=average_precision_score(Y_test,Y_pred_proba)\n",
    "print(average_precision)"
   ]
  },
  {
   "cell_type": "markdown",
   "id": "ce05da0e",
   "metadata": {},
   "source": [
    "Low Precision but Higher Average Precision: The low precision for Class 1 (0.27) indicates that when the model predicts a positive class, it is often incorrect. However, the higher average precision (0.79) suggests that across various thresholds, the model is better at distinguishing between the classes. The AP score is higher because it considers how the precision changes with recall, and it reflects the model's ability to rank positive instances higher than negative ones.\n",
    "\n",
    "Class Imbalance Impact: In highly imbalanced datasets, precision alone can be misleading because the model may rarely predict the minority class (Class 1). The AP score, however, provides a more nuanced view by evaluating the model's performance over different thresholds."
   ]
  },
  {
   "cell_type": "code",
   "execution_count": 223,
   "id": "59aa6d5b",
   "metadata": {},
   "outputs": [
    {
     "name": "stdout",
     "output_type": "stream",
     "text": [
      "0.9790794979079498\n"
     ]
    }
   ],
   "source": [
    "accuracy=accuracy_score(Y_test,Y_pred)\n",
    "print(accuracy)"
   ]
  },
  {
   "cell_type": "code",
   "execution_count": 224,
   "id": "2a8835cd",
   "metadata": {},
   "outputs": [
    {
     "name": "stdout",
     "output_type": "stream",
     "text": [
      "0.9901129943502824\n"
     ]
    }
   ],
   "source": [
    "roc_auc=roc_auc_score(Y_test,Y_pred_proba)\n",
    "print(roc_auc)"
   ]
  },
  {
   "cell_type": "code",
   "execution_count": 225,
   "id": "eb073610",
   "metadata": {},
   "outputs": [],
   "source": [
    "from sklearn.svm import SVC"
   ]
  },
  {
   "cell_type": "code",
   "execution_count": 226,
   "id": "97ee60ac",
   "metadata": {},
   "outputs": [],
   "source": [
    "model_svc=SVC(kernel='rbf',C=1.0,gamma='scale',probability=True,random_state=111)"
   ]
  },
  {
   "cell_type": "code",
   "execution_count": 227,
   "id": "a8522874",
   "metadata": {},
   "outputs": [
    {
     "data": {
      "text/plain": [
       "SVC(probability=True, random_state=111)"
      ]
     },
     "execution_count": 227,
     "metadata": {},
     "output_type": "execute_result"
    }
   ],
   "source": [
    "model_svc.fit(X_resampled,Y_resampled)"
   ]
  },
  {
   "cell_type": "code",
   "execution_count": 228,
   "id": "5e5b5e87",
   "metadata": {},
   "outputs": [],
   "source": [
    "Y_pred=model_svc.predict(X_test)"
   ]
  },
  {
   "cell_type": "code",
   "execution_count": 229,
   "id": "ed198de0",
   "metadata": {},
   "outputs": [],
   "source": [
    "Y_pred_proba=model_svc.predict_proba(X_test)[:,1]"
   ]
  },
  {
   "cell_type": "code",
   "execution_count": 230,
   "id": "8bbba614",
   "metadata": {},
   "outputs": [
    {
     "name": "stdout",
     "output_type": "stream",
     "text": [
      "              precision    recall  f1-score   support\n",
      "\n",
      "           0       1.00      0.97      0.98       236\n",
      "           1       0.22      0.67      0.33         3\n",
      "\n",
      "    accuracy                           0.97       239\n",
      "   macro avg       0.61      0.82      0.66       239\n",
      "weighted avg       0.99      0.97      0.97       239\n",
      "\n"
     ]
    }
   ],
   "source": [
    "print(classification_report(Y_test,Y_pred))"
   ]
  },
  {
   "cell_type": "code",
   "execution_count": 231,
   "id": "2ee50dd2",
   "metadata": {},
   "outputs": [
    {
     "name": "stdout",
     "output_type": "stream",
     "text": [
      "0.7083333333333333\n"
     ]
    }
   ],
   "source": [
    "average_precision=average_precision_score(Y_test,Y_pred_proba)\n",
    "print(average_precision)"
   ]
  },
  {
   "cell_type": "code",
   "execution_count": 232,
   "id": "038f0f34",
   "metadata": {},
   "outputs": [
    {
     "name": "stdout",
     "output_type": "stream",
     "text": [
      "0.9665271966527197\n"
     ]
    }
   ],
   "source": [
    "accuracy=accuracy_score(Y_test,Y_pred)\n",
    "print(accuracy)"
   ]
  },
  {
   "cell_type": "code",
   "execution_count": 233,
   "id": "c740ba89",
   "metadata": {},
   "outputs": [
    {
     "name": "stdout",
     "output_type": "stream",
     "text": [
      "0.9703389830508474\n"
     ]
    }
   ],
   "source": [
    "roc_auc=roc_auc_score(Y_test,Y_pred_proba)\n",
    "print(roc_auc)"
   ]
  },
  {
   "cell_type": "code",
   "execution_count": 234,
   "id": "7da111a6",
   "metadata": {},
   "outputs": [],
   "source": [
    "from sklearn.naive_bayes import GaussianNB"
   ]
  },
  {
   "cell_type": "code",
   "execution_count": 235,
   "id": "cb0e651d",
   "metadata": {},
   "outputs": [],
   "source": [
    "model_gnb=GaussianNB()"
   ]
  },
  {
   "cell_type": "code",
   "execution_count": 236,
   "id": "cdff6cf9",
   "metadata": {},
   "outputs": [
    {
     "data": {
      "text/plain": [
       "GaussianNB()"
      ]
     },
     "execution_count": 236,
     "metadata": {},
     "output_type": "execute_result"
    }
   ],
   "source": [
    "model_gnb.fit(X_resampled,Y_resampled)"
   ]
  },
  {
   "cell_type": "code",
   "execution_count": 237,
   "id": "28c31df7",
   "metadata": {},
   "outputs": [],
   "source": [
    "Y_pred=model_gnb.predict(X_test)"
   ]
  },
  {
   "cell_type": "code",
   "execution_count": 238,
   "id": "db59cfc5",
   "metadata": {},
   "outputs": [],
   "source": [
    "Y_pred_proba=model_gnb.predict_proba(X_test)[:,1]"
   ]
  },
  {
   "cell_type": "code",
   "execution_count": 239,
   "id": "e6a0017a",
   "metadata": {},
   "outputs": [
    {
     "name": "stdout",
     "output_type": "stream",
     "text": [
      "              precision    recall  f1-score   support\n",
      "\n",
      "           0       0.99      0.80      0.89       236\n",
      "           1       0.04      0.67      0.08         3\n",
      "\n",
      "    accuracy                           0.80       239\n",
      "   macro avg       0.52      0.73      0.48       239\n",
      "weighted avg       0.98      0.80      0.88       239\n",
      "\n"
     ]
    }
   ],
   "source": [
    "print(classification_report(Y_test,Y_pred))"
   ]
  },
  {
   "cell_type": "code",
   "execution_count": 240,
   "id": "3026fdc1",
   "metadata": {},
   "outputs": [
    {
     "name": "stdout",
     "output_type": "stream",
     "text": [
      "0.05531400966183574\n"
     ]
    }
   ],
   "source": [
    "average_precision=average_precision_score(Y_test,Y_pred_proba)\n",
    "print(average_precision)"
   ]
  },
  {
   "cell_type": "code",
   "execution_count": 241,
   "id": "22faa87f",
   "metadata": {},
   "outputs": [
    {
     "name": "stdout",
     "output_type": "stream",
     "text": [
      "0.799163179916318\n"
     ]
    }
   ],
   "source": [
    "accuracy=accuracy_score(Y_test,Y_pred)\n",
    "print(accuracy)"
   ]
  },
  {
   "cell_type": "code",
   "execution_count": 242,
   "id": "d506d525",
   "metadata": {},
   "outputs": [
    {
     "name": "stdout",
     "output_type": "stream",
     "text": [
      "0.8347457627118644\n"
     ]
    }
   ],
   "source": [
    "roc_auc=roc_auc_score(Y_test,Y_pred_proba)\n",
    "print(roc_auc)"
   ]
  },
  {
   "cell_type": "code",
   "execution_count": 243,
   "id": "7179b7b3",
   "metadata": {},
   "outputs": [],
   "source": [
    "model_res=RandomForestClassifier()"
   ]
  },
  {
   "cell_type": "code",
   "execution_count": 244,
   "id": "87b57216",
   "metadata": {},
   "outputs": [
    {
     "data": {
      "text/plain": [
       "RandomForestClassifier()"
      ]
     },
     "execution_count": 244,
     "metadata": {},
     "output_type": "execute_result"
    }
   ],
   "source": [
    "model_res.fit(X_resampled,Y_resampled)"
   ]
  },
  {
   "cell_type": "code",
   "execution_count": 245,
   "id": "6e75481e",
   "metadata": {},
   "outputs": [],
   "source": [
    "Y_pred=model_res.predict(X_test)"
   ]
  },
  {
   "cell_type": "code",
   "execution_count": 246,
   "id": "5091d8b1",
   "metadata": {},
   "outputs": [
    {
     "name": "stdout",
     "output_type": "stream",
     "text": [
      "              precision    recall  f1-score   support\n",
      "\n",
      "           0       1.00      1.00      1.00       236\n",
      "           1       1.00      0.67      0.80         3\n",
      "\n",
      "    accuracy                           1.00       239\n",
      "   macro avg       1.00      0.83      0.90       239\n",
      "weighted avg       1.00      1.00      1.00       239\n",
      "\n"
     ]
    }
   ],
   "source": [
    "print(classification_report(Y_test,Y_pred))"
   ]
  },
  {
   "cell_type": "code",
   "execution_count": 247,
   "id": "a71b1384",
   "metadata": {},
   "outputs": [],
   "source": [
    "Y_pred_proba=model_res.predict_proba(X_test)[:,1]"
   ]
  },
  {
   "cell_type": "code",
   "execution_count": 248,
   "id": "50f722f9",
   "metadata": {},
   "outputs": [
    {
     "name": "stdout",
     "output_type": "stream",
     "text": [
      "0.7066666666666666\n"
     ]
    }
   ],
   "source": [
    "average_precision=average_precision_score(Y_test,Y_pred_proba)\n",
    "print(average_precision)"
   ]
  },
  {
   "cell_type": "code",
   "execution_count": 249,
   "id": "5698dc4a",
   "metadata": {},
   "outputs": [
    {
     "name": "stdout",
     "output_type": "stream",
     "text": [
      "0.99581589958159\n"
     ]
    }
   ],
   "source": [
    "accuracy=accuracy_score(Y_test,Y_pred)\n",
    "print(accuracy)"
   ]
  },
  {
   "cell_type": "code",
   "execution_count": 250,
   "id": "ab4192a3",
   "metadata": {},
   "outputs": [
    {
     "name": "stdout",
     "output_type": "stream",
     "text": [
      "0.9724576271186441\n"
     ]
    }
   ],
   "source": [
    "roc_auc=roc_auc_score(Y_test,Y_pred_proba)\n",
    "print(roc_auc)"
   ]
  },
  {
   "cell_type": "code",
   "execution_count": 251,
   "id": "4ea7ce97",
   "metadata": {},
   "outputs": [],
   "source": [
    "from sklearn.model_selection import GridSearchCV,StratifiedKFold"
   ]
  },
  {
   "cell_type": "code",
   "execution_count": 252,
   "id": "563d7592",
   "metadata": {},
   "outputs": [],
   "source": [
    "model_res_tuned=RandomForestClassifier()"
   ]
  },
  {
   "cell_type": "code",
   "execution_count": 253,
   "id": "41f39285",
   "metadata": {},
   "outputs": [],
   "source": [
    "cv=StratifiedKFold(n_splits=5,shuffle=True,random_state=111)"
   ]
  },
  {
   "cell_type": "code",
   "execution_count": 254,
   "id": "b752c1ea",
   "metadata": {},
   "outputs": [],
   "source": [
    "param_grid={\n",
    "    'n_estimators':[1,10,30],\n",
    "    'max_depth':[None,10,20,30],\n",
    "    'min_samples_split':[2,5,10],\n",
    "    'min_samples_leaf':[1,2,4],\n",
    "    'bootstrap':[False,True]\n",
    "}"
   ]
  },
  {
   "cell_type": "code",
   "execution_count": 255,
   "id": "24079235",
   "metadata": {},
   "outputs": [],
   "source": [
    "grid_search=GridSearchCV(estimator=model_res_tuned,param_grid=param_grid,cv=cv,n_jobs=-1,verbose=2,scoring='average_precision')"
   ]
  },
  {
   "cell_type": "code",
   "execution_count": 256,
   "id": "921cc024",
   "metadata": {},
   "outputs": [
    {
     "name": "stdout",
     "output_type": "stream",
     "text": [
      "Fitting 5 folds for each of 216 candidates, totalling 1080 fits\n"
     ]
    },
    {
     "data": {
      "text/plain": [
       "GridSearchCV(cv=StratifiedKFold(n_splits=5, random_state=111, shuffle=True),\n",
       "             estimator=RandomForestClassifier(), n_jobs=-1,\n",
       "             param_grid={'bootstrap': [False, True],\n",
       "                         'max_depth': [None, 10, 20, 30],\n",
       "                         'min_samples_leaf': [1, 2, 4],\n",
       "                         'min_samples_split': [2, 5, 10],\n",
       "                         'n_estimators': [1, 10, 30]},\n",
       "             scoring='average_precision', verbose=2)"
      ]
     },
     "execution_count": 256,
     "metadata": {},
     "output_type": "execute_result"
    }
   ],
   "source": [
    "grid_search.fit(X_resampled,Y_resampled)"
   ]
  },
  {
   "cell_type": "code",
   "execution_count": 257,
   "id": "db6baaf3",
   "metadata": {},
   "outputs": [
    {
     "name": "stdout",
     "output_type": "stream",
     "text": [
      "Best hyperparameters are: {'bootstrap': False, 'max_depth': 20, 'min_samples_leaf': 1, 'min_samples_split': 2, 'n_estimators': 30}\n"
     ]
    }
   ],
   "source": [
    "best_model_rfc=grid_search.best_estimator_\n",
    "print(\"Best hyperparameters are:\",grid_search.best_params_)"
   ]
  },
  {
   "cell_type": "code",
   "execution_count": 258,
   "id": "51d27260",
   "metadata": {},
   "outputs": [],
   "source": [
    "Y_pred=best_model_rfc.predict(X_test)"
   ]
  },
  {
   "cell_type": "code",
   "execution_count": 259,
   "id": "32fc5ce6",
   "metadata": {},
   "outputs": [
    {
     "name": "stdout",
     "output_type": "stream",
     "text": [
      "              precision    recall  f1-score   support\n",
      "\n",
      "           0       1.00      1.00      1.00       236\n",
      "           1       1.00      0.67      0.80         3\n",
      "\n",
      "    accuracy                           1.00       239\n",
      "   macro avg       1.00      0.83      0.90       239\n",
      "weighted avg       1.00      1.00      1.00       239\n",
      "\n"
     ]
    }
   ],
   "source": [
    "print(classification_report(Y_test,Y_pred))"
   ]
  },
  {
   "cell_type": "code",
   "execution_count": 260,
   "id": "b161f281",
   "metadata": {},
   "outputs": [],
   "source": [
    "Y_pred_proba=best_model_rfc.predict_proba(X_test)[:,1]"
   ]
  },
  {
   "cell_type": "code",
   "execution_count": 261,
   "id": "7ffe0d05",
   "metadata": {},
   "outputs": [
    {
     "name": "stdout",
     "output_type": "stream",
     "text": [
      "0.6862745098039216\n"
     ]
    }
   ],
   "source": [
    "average_precision=average_precision_score(Y_test,Y_pred_proba)\n",
    "print(average_precision)"
   ]
  },
  {
   "cell_type": "code",
   "execution_count": 262,
   "id": "11b781c1",
   "metadata": {},
   "outputs": [
    {
     "name": "stdout",
     "output_type": "stream",
     "text": [
      "0.99581589958159\n"
     ]
    }
   ],
   "source": [
    "accuracy=accuracy_score(Y_test,Y_pred)\n",
    "print(accuracy)"
   ]
  },
  {
   "cell_type": "code",
   "execution_count": 263,
   "id": "2e74deee",
   "metadata": {},
   "outputs": [
    {
     "name": "stdout",
     "output_type": "stream",
     "text": [
      "0.9519774011299436\n"
     ]
    }
   ],
   "source": [
    "roc_auc=roc_auc_score(Y_test,Y_pred_proba)\n",
    "print(roc_auc)"
   ]
  },
  {
   "cell_type": "code",
   "execution_count": 264,
   "id": "be94fc40",
   "metadata": {},
   "outputs": [],
   "source": [
    "import xgboost as xgb"
   ]
  },
  {
   "cell_type": "code",
   "execution_count": 265,
   "id": "f79e9b6d",
   "metadata": {},
   "outputs": [],
   "source": [
    "xgb_model=xgb.XGBClassifier()"
   ]
  },
  {
   "cell_type": "code",
   "execution_count": 266,
   "id": "c2038275",
   "metadata": {},
   "outputs": [
    {
     "data": {
      "text/plain": [
       "XGBClassifier(base_score=None, booster=None, callbacks=None,\n",
       "              colsample_bylevel=None, colsample_bynode=None,\n",
       "              colsample_bytree=None, device=None, early_stopping_rounds=None,\n",
       "              enable_categorical=False, eval_metric=None, feature_types=None,\n",
       "              gamma=None, grow_policy=None, importance_type=None,\n",
       "              interaction_constraints=None, learning_rate=None, max_bin=None,\n",
       "              max_cat_threshold=None, max_cat_to_onehot=None,\n",
       "              max_delta_step=None, max_depth=None, max_leaves=None,\n",
       "              min_child_weight=None, missing=nan, monotone_constraints=None,\n",
       "              multi_strategy=None, n_estimators=None, n_jobs=None,\n",
       "              num_parallel_tree=None, random_state=None, ...)"
      ]
     },
     "execution_count": 266,
     "metadata": {},
     "output_type": "execute_result"
    }
   ],
   "source": [
    "xgb_model.fit(X_resampled,Y_resampled)"
   ]
  },
  {
   "cell_type": "code",
   "execution_count": 267,
   "id": "3fefef4b",
   "metadata": {},
   "outputs": [],
   "source": [
    "Y_pred=xgb_model.predict(X_test)"
   ]
  },
  {
   "cell_type": "code",
   "execution_count": 268,
   "id": "c0e1a6b9",
   "metadata": {},
   "outputs": [
    {
     "name": "stdout",
     "output_type": "stream",
     "text": [
      "              precision    recall  f1-score   support\n",
      "\n",
      "           0       1.00      1.00      1.00       236\n",
      "           1       0.67      0.67      0.67         3\n",
      "\n",
      "    accuracy                           0.99       239\n",
      "   macro avg       0.83      0.83      0.83       239\n",
      "weighted avg       0.99      0.99      0.99       239\n",
      "\n"
     ]
    }
   ],
   "source": [
    "print(classification_report(Y_test,Y_pred))"
   ]
  },
  {
   "cell_type": "code",
   "execution_count": 269,
   "id": "7dbc9144",
   "metadata": {},
   "outputs": [],
   "source": [
    "Y_pred_proba=xgb_model.predict_proba(X_test)[:,1]"
   ]
  },
  {
   "cell_type": "code",
   "execution_count": 270,
   "id": "d4d09cad",
   "metadata": {},
   "outputs": [
    {
     "name": "stdout",
     "output_type": "stream",
     "text": [
      "0.8666666666666667\n"
     ]
    }
   ],
   "source": [
    "average_precision=average_precision_score(Y_test,Y_pred_proba)\n",
    "print(average_precision)"
   ]
  },
  {
   "cell_type": "code",
   "execution_count": 271,
   "id": "656c6b61",
   "metadata": {},
   "outputs": [
    {
     "name": "stdout",
     "output_type": "stream",
     "text": [
      "0.9916317991631799\n"
     ]
    }
   ],
   "source": [
    "accuracy=accuracy_score(Y_test,Y_pred)\n",
    "print(accuracy)"
   ]
  },
  {
   "cell_type": "code",
   "execution_count": 272,
   "id": "3ea30680",
   "metadata": {},
   "outputs": [
    {
     "name": "stdout",
     "output_type": "stream",
     "text": [
      "0.9971751412429378\n"
     ]
    }
   ],
   "source": [
    "roc_auc=roc_auc_score(Y_test,Y_pred_proba)\n",
    "print(roc_auc)"
   ]
  },
  {
   "cell_type": "code",
   "execution_count": 273,
   "id": "402a3dcc",
   "metadata": {},
   "outputs": [],
   "source": [
    "xgb_model_tuned=xgb.XGBClassifier()"
   ]
  },
  {
   "cell_type": "code",
   "execution_count": 274,
   "id": "c85c12e7",
   "metadata": {},
   "outputs": [],
   "source": [
    "param_grid={\n",
    "    'n_estimators':[1,10,30,70],\n",
    "    'max_depth':[10,20,30,40],\n",
    "    'learning_rate':[0.01,0.3,0.7],\n",
    "    'subsample':[0.5,0.7,1.0],\n",
    "    'colsample_bytree':[0.5,0.7,1.0]\n",
    "}"
   ]
  },
  {
   "cell_type": "code",
   "execution_count": 275,
   "id": "c7666f23",
   "metadata": {},
   "outputs": [],
   "source": [
    "grid_search_xgb=GridSearchCV(estimator=xgb_model_tuned,param_grid=param_grid,cv=cv,n_jobs=-1,verbose=2,scoring='average_precision')"
   ]
  },
  {
   "cell_type": "code",
   "execution_count": 276,
   "id": "bb97d679",
   "metadata": {},
   "outputs": [
    {
     "name": "stdout",
     "output_type": "stream",
     "text": [
      "Fitting 5 folds for each of 432 candidates, totalling 2160 fits\n"
     ]
    },
    {
     "data": {
      "text/plain": [
       "GridSearchCV(cv=StratifiedKFold(n_splits=5, random_state=111, shuffle=True),\n",
       "             estimator=XGBClassifier(base_score=None, booster=None,\n",
       "                                     callbacks=None, colsample_bylevel=None,\n",
       "                                     colsample_bynode=None,\n",
       "                                     colsample_bytree=None, device=None,\n",
       "                                     early_stopping_rounds=None,\n",
       "                                     enable_categorical=False, eval_metric=None,\n",
       "                                     feature_types=None, gamma=None,\n",
       "                                     grow_policy=None, importance_ty...\n",
       "                                     max_leaves=None, min_child_weight=None,\n",
       "                                     missing=nan, monotone_constraints=None,\n",
       "                                     multi_strategy=None, n_estimators=None,\n",
       "                                     n_jobs=None, num_parallel_tree=None,\n",
       "                                     random_state=None, ...),\n",
       "             n_jobs=-1,\n",
       "             param_grid={'colsample_bytree': [0.5, 0.7, 1.0],\n",
       "                         'learning_rate': [0.01, 0.3, 0.7],\n",
       "                         'max_depth': [10, 20, 30, 40],\n",
       "                         'n_estimators': [1, 10, 30, 70],\n",
       "                         'subsample': [0.5, 0.7, 1.0]},\n",
       "             scoring='average_precision', verbose=2)"
      ]
     },
     "execution_count": 276,
     "metadata": {},
     "output_type": "execute_result"
    }
   ],
   "source": [
    "grid_search_xgb.fit(X_resampled,Y_resampled)"
   ]
  },
  {
   "cell_type": "code",
   "execution_count": 277,
   "id": "cfcf9f55",
   "metadata": {},
   "outputs": [
    {
     "name": "stdout",
     "output_type": "stream",
     "text": [
      "Best hyperparameters are: {'colsample_bytree': 0.5, 'learning_rate': 0.7, 'max_depth': 20, 'n_estimators': 30, 'subsample': 0.7}\n"
     ]
    }
   ],
   "source": [
    "best_model_xgb=grid_search_xgb.best_estimator_\n",
    "print(\"Best hyperparameters are:\",grid_search_xgb.best_params_)"
   ]
  },
  {
   "cell_type": "code",
   "execution_count": 278,
   "id": "def61ac6",
   "metadata": {},
   "outputs": [],
   "source": [
    "Y_pred=best_model_xgb.predict(X_test)"
   ]
  },
  {
   "cell_type": "code",
   "execution_count": 279,
   "id": "5f0e5c26",
   "metadata": {},
   "outputs": [
    {
     "name": "stdout",
     "output_type": "stream",
     "text": [
      "              precision    recall  f1-score   support\n",
      "\n",
      "           0       1.00      1.00      1.00       236\n",
      "           1       1.00      0.67      0.80         3\n",
      "\n",
      "    accuracy                           1.00       239\n",
      "   macro avg       1.00      0.83      0.90       239\n",
      "weighted avg       1.00      1.00      1.00       239\n",
      "\n"
     ]
    }
   ],
   "source": [
    "print(classification_report(Y_test,Y_pred))"
   ]
  },
  {
   "cell_type": "code",
   "execution_count": 280,
   "id": "2ca561f6",
   "metadata": {},
   "outputs": [],
   "source": [
    "Y_pred_proba=best_model_xgb.predict_proba(X_test)[:,1]"
   ]
  },
  {
   "cell_type": "code",
   "execution_count": 281,
   "id": "22c6a21b",
   "metadata": {},
   "outputs": [
    {
     "name": "stdout",
     "output_type": "stream",
     "text": [
      "0.7051282051282051\n"
     ]
    }
   ],
   "source": [
    "average_precision=average_precision_score(Y_test,Y_pred_proba)\n",
    "print(average_precision)"
   ]
  },
  {
   "cell_type": "code",
   "execution_count": 282,
   "id": "ec2112cd",
   "metadata": {},
   "outputs": [
    {
     "name": "stdout",
     "output_type": "stream",
     "text": [
      "0.99581589958159\n"
     ]
    }
   ],
   "source": [
    "accuracy=accuracy_score(Y_test,Y_pred)\n",
    "print(accuracy)"
   ]
  },
  {
   "cell_type": "code",
   "execution_count": 283,
   "id": "f879c572",
   "metadata": {},
   "outputs": [
    {
     "name": "stdout",
     "output_type": "stream",
     "text": [
      "0.9675141242937852\n"
     ]
    }
   ],
   "source": [
    "roc_auc=roc_auc_score(Y_test,Y_pred_proba)\n",
    "print(roc_auc)"
   ]
  },
  {
   "cell_type": "code",
   "execution_count": null,
   "id": "42a23d5a",
   "metadata": {},
   "outputs": [],
   "source": []
  }
 ],
 "metadata": {
  "kernelspec": {
   "display_name": "Python 3 (ipykernel)",
   "language": "python",
   "name": "python3"
  },
  "language_info": {
   "codemirror_mode": {
    "name": "ipython",
    "version": 3
   },
   "file_extension": ".py",
   "mimetype": "text/x-python",
   "name": "python",
   "nbconvert_exporter": "python",
   "pygments_lexer": "ipython3",
   "version": "3.9.13"
  }
 },
 "nbformat": 4,
 "nbformat_minor": 5
}
