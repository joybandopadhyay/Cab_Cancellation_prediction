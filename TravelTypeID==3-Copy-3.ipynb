{
 "cells": [
  {
   "cell_type": "code",
   "execution_count": 1,
   "id": "61c7bba7",
   "metadata": {},
   "outputs": [],
   "source": [
    "import numpy as np\n",
    "import pandas as pd\n",
    "import matplotlib.pyplot as plt\n",
    "import seaborn as sns"
   ]
  },
  {
   "cell_type": "code",
   "execution_count": 2,
   "id": "024fc50f",
   "metadata": {},
   "outputs": [
    {
     "data": {
      "text/html": [
       "<div>\n",
       "<style scoped>\n",
       "    .dataframe tbody tr th:only-of-type {\n",
       "        vertical-align: middle;\n",
       "    }\n",
       "\n",
       "    .dataframe tbody tr th {\n",
       "        vertical-align: top;\n",
       "    }\n",
       "\n",
       "    .dataframe thead th {\n",
       "        text-align: right;\n",
       "    }\n",
       "</style>\n",
       "<table border=\"1\" class=\"dataframe\">\n",
       "  <thead>\n",
       "    <tr style=\"text-align: right;\">\n",
       "      <th></th>\n",
       "      <th>id</th>\n",
       "      <th>user_id</th>\n",
       "      <th>vehicle_model_id</th>\n",
       "      <th>package_id</th>\n",
       "      <th>travel_type_id</th>\n",
       "      <th>from_area_id</th>\n",
       "      <th>to_area_id</th>\n",
       "      <th>from_city_id</th>\n",
       "      <th>to_city_id</th>\n",
       "      <th>from_date</th>\n",
       "      <th>to_date</th>\n",
       "      <th>online_booking</th>\n",
       "      <th>mobile_site_booking</th>\n",
       "      <th>booking_created</th>\n",
       "      <th>from_lat</th>\n",
       "      <th>from_long</th>\n",
       "      <th>to_lat</th>\n",
       "      <th>to_long</th>\n",
       "      <th>Car_Cancellation</th>\n",
       "    </tr>\n",
       "  </thead>\n",
       "  <tbody>\n",
       "    <tr>\n",
       "      <th>0</th>\n",
       "      <td>132512</td>\n",
       "      <td>22177</td>\n",
       "      <td>28</td>\n",
       "      <td>NaN</td>\n",
       "      <td>2</td>\n",
       "      <td>83.0</td>\n",
       "      <td>448.0</td>\n",
       "      <td>NaN</td>\n",
       "      <td>NaN</td>\n",
       "      <td>01-01-2013 02:00</td>\n",
       "      <td>NaN</td>\n",
       "      <td>0</td>\n",
       "      <td>0</td>\n",
       "      <td>01-01-2013 01:39</td>\n",
       "      <td>12.924150</td>\n",
       "      <td>77.672290</td>\n",
       "      <td>12.927320</td>\n",
       "      <td>77.635750</td>\n",
       "      <td>0</td>\n",
       "    </tr>\n",
       "    <tr>\n",
       "      <th>1</th>\n",
       "      <td>132513</td>\n",
       "      <td>21413</td>\n",
       "      <td>12</td>\n",
       "      <td>NaN</td>\n",
       "      <td>2</td>\n",
       "      <td>1010.0</td>\n",
       "      <td>540.0</td>\n",
       "      <td>NaN</td>\n",
       "      <td>NaN</td>\n",
       "      <td>01-01-2013 09:00</td>\n",
       "      <td>NaN</td>\n",
       "      <td>0</td>\n",
       "      <td>0</td>\n",
       "      <td>01-01-2013 02:25</td>\n",
       "      <td>12.966910</td>\n",
       "      <td>77.749350</td>\n",
       "      <td>12.927680</td>\n",
       "      <td>77.626640</td>\n",
       "      <td>0</td>\n",
       "    </tr>\n",
       "    <tr>\n",
       "      <th>2</th>\n",
       "      <td>132514</td>\n",
       "      <td>22178</td>\n",
       "      <td>12</td>\n",
       "      <td>NaN</td>\n",
       "      <td>2</td>\n",
       "      <td>1301.0</td>\n",
       "      <td>1034.0</td>\n",
       "      <td>NaN</td>\n",
       "      <td>NaN</td>\n",
       "      <td>01-01-2013 03:30</td>\n",
       "      <td>NaN</td>\n",
       "      <td>0</td>\n",
       "      <td>0</td>\n",
       "      <td>01-01-2013 03:08</td>\n",
       "      <td>12.937222</td>\n",
       "      <td>77.626915</td>\n",
       "      <td>13.047926</td>\n",
       "      <td>77.597766</td>\n",
       "      <td>0</td>\n",
       "    </tr>\n",
       "    <tr>\n",
       "      <th>3</th>\n",
       "      <td>132515</td>\n",
       "      <td>13034</td>\n",
       "      <td>12</td>\n",
       "      <td>NaN</td>\n",
       "      <td>2</td>\n",
       "      <td>768.0</td>\n",
       "      <td>398.0</td>\n",
       "      <td>NaN</td>\n",
       "      <td>NaN</td>\n",
       "      <td>01-01-2013 05:45</td>\n",
       "      <td>NaN</td>\n",
       "      <td>0</td>\n",
       "      <td>0</td>\n",
       "      <td>01-01-2013 04:39</td>\n",
       "      <td>12.989990</td>\n",
       "      <td>77.553320</td>\n",
       "      <td>12.971430</td>\n",
       "      <td>77.639140</td>\n",
       "      <td>0</td>\n",
       "    </tr>\n",
       "    <tr>\n",
       "      <th>4</th>\n",
       "      <td>132517</td>\n",
       "      <td>22180</td>\n",
       "      <td>12</td>\n",
       "      <td>NaN</td>\n",
       "      <td>2</td>\n",
       "      <td>1365.0</td>\n",
       "      <td>849.0</td>\n",
       "      <td>NaN</td>\n",
       "      <td>NaN</td>\n",
       "      <td>01-01-2013 09:00</td>\n",
       "      <td>NaN</td>\n",
       "      <td>0</td>\n",
       "      <td>0</td>\n",
       "      <td>01-01-2013 07:53</td>\n",
       "      <td>12.845653</td>\n",
       "      <td>77.677925</td>\n",
       "      <td>12.954340</td>\n",
       "      <td>77.600720</td>\n",
       "      <td>0</td>\n",
       "    </tr>\n",
       "  </tbody>\n",
       "</table>\n",
       "</div>"
      ],
      "text/plain": [
       "       id  user_id  vehicle_model_id  package_id  travel_type_id  \\\n",
       "0  132512    22177                28         NaN               2   \n",
       "1  132513    21413                12         NaN               2   \n",
       "2  132514    22178                12         NaN               2   \n",
       "3  132515    13034                12         NaN               2   \n",
       "4  132517    22180                12         NaN               2   \n",
       "\n",
       "   from_area_id  to_area_id  from_city_id  to_city_id         from_date  \\\n",
       "0          83.0       448.0           NaN         NaN  01-01-2013 02:00   \n",
       "1        1010.0       540.0           NaN         NaN  01-01-2013 09:00   \n",
       "2        1301.0      1034.0           NaN         NaN  01-01-2013 03:30   \n",
       "3         768.0       398.0           NaN         NaN  01-01-2013 05:45   \n",
       "4        1365.0       849.0           NaN         NaN  01-01-2013 09:00   \n",
       "\n",
       "   to_date  online_booking  mobile_site_booking   booking_created   from_lat  \\\n",
       "0      NaN               0                    0  01-01-2013 01:39  12.924150   \n",
       "1      NaN               0                    0  01-01-2013 02:25  12.966910   \n",
       "2      NaN               0                    0  01-01-2013 03:08  12.937222   \n",
       "3      NaN               0                    0  01-01-2013 04:39  12.989990   \n",
       "4      NaN               0                    0  01-01-2013 07:53  12.845653   \n",
       "\n",
       "   from_long     to_lat    to_long  Car_Cancellation  \n",
       "0  77.672290  12.927320  77.635750                 0  \n",
       "1  77.749350  12.927680  77.626640                 0  \n",
       "2  77.626915  13.047926  77.597766                 0  \n",
       "3  77.553320  12.971430  77.639140                 0  \n",
       "4  77.677925  12.954340  77.600720                 0  "
      ]
     },
     "execution_count": 2,
     "metadata": {},
     "output_type": "execute_result"
    }
   ],
   "source": [
    "data=pd.read_csv(r'C:\\Users\\dell\\Desktop\\python specialclass\\machinelearning\\capstoneproject\\YourCabs-Capstone.csv')\n",
    "data.head()"
   ]
  },
  {
   "cell_type": "code",
   "execution_count": 3,
   "id": "184061d5",
   "metadata": {},
   "outputs": [
    {
     "data": {
      "text/plain": [
       "(43431, 19)"
      ]
     },
     "execution_count": 3,
     "metadata": {},
     "output_type": "execute_result"
    }
   ],
   "source": [
    "data.shape"
   ]
  },
  {
   "cell_type": "code",
   "execution_count": 4,
   "id": "46bd975d",
   "metadata": {},
   "outputs": [
    {
     "data": {
      "text/html": [
       "<div>\n",
       "<style scoped>\n",
       "    .dataframe tbody tr th:only-of-type {\n",
       "        vertical-align: middle;\n",
       "    }\n",
       "\n",
       "    .dataframe tbody tr th {\n",
       "        vertical-align: top;\n",
       "    }\n",
       "\n",
       "    .dataframe thead th {\n",
       "        text-align: right;\n",
       "    }\n",
       "</style>\n",
       "<table border=\"1\" class=\"dataframe\">\n",
       "  <thead>\n",
       "    <tr style=\"text-align: right;\">\n",
       "      <th></th>\n",
       "      <th>id</th>\n",
       "      <th>user_id</th>\n",
       "      <th>vehicle_model_id</th>\n",
       "      <th>package_id</th>\n",
       "      <th>travel_type_id</th>\n",
       "      <th>from_area_id</th>\n",
       "      <th>to_area_id</th>\n",
       "      <th>from_city_id</th>\n",
       "      <th>to_city_id</th>\n",
       "      <th>from_date</th>\n",
       "      <th>to_date</th>\n",
       "      <th>online_booking</th>\n",
       "      <th>mobile_site_booking</th>\n",
       "      <th>booking_created</th>\n",
       "      <th>from_lat</th>\n",
       "      <th>from_long</th>\n",
       "      <th>to_lat</th>\n",
       "      <th>to_long</th>\n",
       "      <th>Car_Cancellation</th>\n",
       "    </tr>\n",
       "  </thead>\n",
       "  <tbody>\n",
       "    <tr>\n",
       "      <th>8</th>\n",
       "      <td>132521</td>\n",
       "      <td>22182</td>\n",
       "      <td>65</td>\n",
       "      <td>2.0</td>\n",
       "      <td>3</td>\n",
       "      <td>448.0</td>\n",
       "      <td>NaN</td>\n",
       "      <td>NaN</td>\n",
       "      <td>NaN</td>\n",
       "      <td>01-01-2013 16:00</td>\n",
       "      <td>NaN</td>\n",
       "      <td>0</td>\n",
       "      <td>0</td>\n",
       "      <td>01-01-2013 09:44</td>\n",
       "      <td>12.927320</td>\n",
       "      <td>77.635750</td>\n",
       "      <td>NaN</td>\n",
       "      <td>NaN</td>\n",
       "      <td>0</td>\n",
       "    </tr>\n",
       "    <tr>\n",
       "      <th>20</th>\n",
       "      <td>132535</td>\n",
       "      <td>22190</td>\n",
       "      <td>87</td>\n",
       "      <td>2.0</td>\n",
       "      <td>3</td>\n",
       "      <td>471.0</td>\n",
       "      <td>NaN</td>\n",
       "      <td>NaN</td>\n",
       "      <td>NaN</td>\n",
       "      <td>01-01-2013 14:30</td>\n",
       "      <td>NaN</td>\n",
       "      <td>0</td>\n",
       "      <td>0</td>\n",
       "      <td>01-01-2013 12:52</td>\n",
       "      <td>13.018540</td>\n",
       "      <td>77.635240</td>\n",
       "      <td>NaN</td>\n",
       "      <td>NaN</td>\n",
       "      <td>0</td>\n",
       "    </tr>\n",
       "    <tr>\n",
       "      <th>23</th>\n",
       "      <td>132538</td>\n",
       "      <td>21995</td>\n",
       "      <td>12</td>\n",
       "      <td>1.0</td>\n",
       "      <td>3</td>\n",
       "      <td>1286.0</td>\n",
       "      <td>NaN</td>\n",
       "      <td>NaN</td>\n",
       "      <td>NaN</td>\n",
       "      <td>01-01-2013 16:30</td>\n",
       "      <td>NaN</td>\n",
       "      <td>0</td>\n",
       "      <td>0</td>\n",
       "      <td>01-01-2013 14:39</td>\n",
       "      <td>12.973448</td>\n",
       "      <td>77.620320</td>\n",
       "      <td>NaN</td>\n",
       "      <td>NaN</td>\n",
       "      <td>0</td>\n",
       "    </tr>\n",
       "    <tr>\n",
       "      <th>34</th>\n",
       "      <td>132552</td>\n",
       "      <td>22201</td>\n",
       "      <td>12</td>\n",
       "      <td>1.0</td>\n",
       "      <td>3</td>\n",
       "      <td>1323.0</td>\n",
       "      <td>NaN</td>\n",
       "      <td>NaN</td>\n",
       "      <td>NaN</td>\n",
       "      <td>01-01-2013 20:00</td>\n",
       "      <td>41275.0</td>\n",
       "      <td>1</td>\n",
       "      <td>0</td>\n",
       "      <td>01-01-2013 17:25</td>\n",
       "      <td>12.869805</td>\n",
       "      <td>77.653211</td>\n",
       "      <td>NaN</td>\n",
       "      <td>NaN</td>\n",
       "      <td>0</td>\n",
       "    </tr>\n",
       "    <tr>\n",
       "      <th>47</th>\n",
       "      <td>132569</td>\n",
       "      <td>15846</td>\n",
       "      <td>12</td>\n",
       "      <td>2.0</td>\n",
       "      <td>3</td>\n",
       "      <td>142.0</td>\n",
       "      <td>NaN</td>\n",
       "      <td>NaN</td>\n",
       "      <td>NaN</td>\n",
       "      <td>01-02-2013 03:00</td>\n",
       "      <td>NaN</td>\n",
       "      <td>0</td>\n",
       "      <td>0</td>\n",
       "      <td>01-01-2013 19:37</td>\n",
       "      <td>12.912810</td>\n",
       "      <td>77.609230</td>\n",
       "      <td>NaN</td>\n",
       "      <td>NaN</td>\n",
       "      <td>0</td>\n",
       "    </tr>\n",
       "  </tbody>\n",
       "</table>\n",
       "</div>"
      ],
      "text/plain": [
       "        id  user_id  vehicle_model_id  package_id  travel_type_id  \\\n",
       "8   132521    22182                65         2.0               3   \n",
       "20  132535    22190                87         2.0               3   \n",
       "23  132538    21995                12         1.0               3   \n",
       "34  132552    22201                12         1.0               3   \n",
       "47  132569    15846                12         2.0               3   \n",
       "\n",
       "    from_area_id  to_area_id  from_city_id  to_city_id         from_date  \\\n",
       "8          448.0         NaN           NaN         NaN  01-01-2013 16:00   \n",
       "20         471.0         NaN           NaN         NaN  01-01-2013 14:30   \n",
       "23        1286.0         NaN           NaN         NaN  01-01-2013 16:30   \n",
       "34        1323.0         NaN           NaN         NaN  01-01-2013 20:00   \n",
       "47         142.0         NaN           NaN         NaN  01-02-2013 03:00   \n",
       "\n",
       "    to_date  online_booking  mobile_site_booking   booking_created   from_lat  \\\n",
       "8       NaN               0                    0  01-01-2013 09:44  12.927320   \n",
       "20      NaN               0                    0  01-01-2013 12:52  13.018540   \n",
       "23      NaN               0                    0  01-01-2013 14:39  12.973448   \n",
       "34  41275.0               1                    0  01-01-2013 17:25  12.869805   \n",
       "47      NaN               0                    0  01-01-2013 19:37  12.912810   \n",
       "\n",
       "    from_long  to_lat  to_long  Car_Cancellation  \n",
       "8   77.635750     NaN      NaN                 0  \n",
       "20  77.635240     NaN      NaN                 0  \n",
       "23  77.620320     NaN      NaN                 0  \n",
       "34  77.653211     NaN      NaN                 0  \n",
       "47  77.609230     NaN      NaN                 0  "
      ]
     },
     "execution_count": 4,
     "metadata": {},
     "output_type": "execute_result"
    }
   ],
   "source": [
    "df3=data[data.travel_type_id==3]\n",
    "df3.head()"
   ]
  },
  {
   "cell_type": "code",
   "execution_count": 5,
   "id": "f0a5f76d",
   "metadata": {},
   "outputs": [
    {
     "data": {
      "text/plain": [
       "3    7550\n",
       "Name: travel_type_id, dtype: int64"
      ]
     },
     "execution_count": 5,
     "metadata": {},
     "output_type": "execute_result"
    }
   ],
   "source": [
    "df3['travel_type_id'].value_counts(dropna=False)"
   ]
  },
  {
   "cell_type": "code",
   "execution_count": 6,
   "id": "e7be0baa",
   "metadata": {},
   "outputs": [],
   "source": [
    "df3=df3.drop('travel_type_id',axis=1)\n",
    "# Drop all are 3"
   ]
  },
  {
   "cell_type": "code",
   "execution_count": 7,
   "id": "46776c51",
   "metadata": {},
   "outputs": [
    {
     "data": {
      "text/plain": [
       "7550"
      ]
     },
     "execution_count": 7,
     "metadata": {},
     "output_type": "execute_result"
    }
   ],
   "source": [
    "df3['id'].value_counts().sum()\n",
    "# All are unique values so drop"
   ]
  },
  {
   "cell_type": "code",
   "execution_count": 8,
   "id": "a856d4af",
   "metadata": {},
   "outputs": [],
   "source": [
    "df3=df3.drop('id',axis=1)"
   ]
  },
  {
   "cell_type": "code",
   "execution_count": 9,
   "id": "edd82ef4",
   "metadata": {},
   "outputs": [],
   "source": [
    "df3=df3.drop('user_id',axis=1)\n",
    "# All are personal info so delete this feature too"
   ]
  },
  {
   "cell_type": "code",
   "execution_count": 10,
   "id": "73bd360d",
   "metadata": {},
   "outputs": [
    {
     "data": {
      "text/html": [
       "<div>\n",
       "<style scoped>\n",
       "    .dataframe tbody tr th:only-of-type {\n",
       "        vertical-align: middle;\n",
       "    }\n",
       "\n",
       "    .dataframe tbody tr th {\n",
       "        vertical-align: top;\n",
       "    }\n",
       "\n",
       "    .dataframe thead th {\n",
       "        text-align: right;\n",
       "    }\n",
       "</style>\n",
       "<table border=\"1\" class=\"dataframe\">\n",
       "  <thead>\n",
       "    <tr style=\"text-align: right;\">\n",
       "      <th></th>\n",
       "      <th>vehicle_model_id</th>\n",
       "      <th>package_id</th>\n",
       "      <th>from_area_id</th>\n",
       "      <th>to_area_id</th>\n",
       "      <th>from_city_id</th>\n",
       "      <th>to_city_id</th>\n",
       "      <th>from_date</th>\n",
       "      <th>to_date</th>\n",
       "      <th>online_booking</th>\n",
       "      <th>mobile_site_booking</th>\n",
       "      <th>booking_created</th>\n",
       "      <th>from_lat</th>\n",
       "      <th>from_long</th>\n",
       "      <th>to_lat</th>\n",
       "      <th>to_long</th>\n",
       "      <th>Car_Cancellation</th>\n",
       "    </tr>\n",
       "  </thead>\n",
       "  <tbody>\n",
       "    <tr>\n",
       "      <th>8</th>\n",
       "      <td>65</td>\n",
       "      <td>2.0</td>\n",
       "      <td>448.0</td>\n",
       "      <td>NaN</td>\n",
       "      <td>NaN</td>\n",
       "      <td>NaN</td>\n",
       "      <td>01-01-2013 16:00</td>\n",
       "      <td>NaN</td>\n",
       "      <td>0</td>\n",
       "      <td>0</td>\n",
       "      <td>01-01-2013 09:44</td>\n",
       "      <td>12.927320</td>\n",
       "      <td>77.635750</td>\n",
       "      <td>NaN</td>\n",
       "      <td>NaN</td>\n",
       "      <td>0</td>\n",
       "    </tr>\n",
       "    <tr>\n",
       "      <th>20</th>\n",
       "      <td>87</td>\n",
       "      <td>2.0</td>\n",
       "      <td>471.0</td>\n",
       "      <td>NaN</td>\n",
       "      <td>NaN</td>\n",
       "      <td>NaN</td>\n",
       "      <td>01-01-2013 14:30</td>\n",
       "      <td>NaN</td>\n",
       "      <td>0</td>\n",
       "      <td>0</td>\n",
       "      <td>01-01-2013 12:52</td>\n",
       "      <td>13.018540</td>\n",
       "      <td>77.635240</td>\n",
       "      <td>NaN</td>\n",
       "      <td>NaN</td>\n",
       "      <td>0</td>\n",
       "    </tr>\n",
       "    <tr>\n",
       "      <th>23</th>\n",
       "      <td>12</td>\n",
       "      <td>1.0</td>\n",
       "      <td>1286.0</td>\n",
       "      <td>NaN</td>\n",
       "      <td>NaN</td>\n",
       "      <td>NaN</td>\n",
       "      <td>01-01-2013 16:30</td>\n",
       "      <td>NaN</td>\n",
       "      <td>0</td>\n",
       "      <td>0</td>\n",
       "      <td>01-01-2013 14:39</td>\n",
       "      <td>12.973448</td>\n",
       "      <td>77.620320</td>\n",
       "      <td>NaN</td>\n",
       "      <td>NaN</td>\n",
       "      <td>0</td>\n",
       "    </tr>\n",
       "    <tr>\n",
       "      <th>34</th>\n",
       "      <td>12</td>\n",
       "      <td>1.0</td>\n",
       "      <td>1323.0</td>\n",
       "      <td>NaN</td>\n",
       "      <td>NaN</td>\n",
       "      <td>NaN</td>\n",
       "      <td>01-01-2013 20:00</td>\n",
       "      <td>41275.0</td>\n",
       "      <td>1</td>\n",
       "      <td>0</td>\n",
       "      <td>01-01-2013 17:25</td>\n",
       "      <td>12.869805</td>\n",
       "      <td>77.653211</td>\n",
       "      <td>NaN</td>\n",
       "      <td>NaN</td>\n",
       "      <td>0</td>\n",
       "    </tr>\n",
       "    <tr>\n",
       "      <th>47</th>\n",
       "      <td>12</td>\n",
       "      <td>2.0</td>\n",
       "      <td>142.0</td>\n",
       "      <td>NaN</td>\n",
       "      <td>NaN</td>\n",
       "      <td>NaN</td>\n",
       "      <td>01-02-2013 03:00</td>\n",
       "      <td>NaN</td>\n",
       "      <td>0</td>\n",
       "      <td>0</td>\n",
       "      <td>01-01-2013 19:37</td>\n",
       "      <td>12.912810</td>\n",
       "      <td>77.609230</td>\n",
       "      <td>NaN</td>\n",
       "      <td>NaN</td>\n",
       "      <td>0</td>\n",
       "    </tr>\n",
       "  </tbody>\n",
       "</table>\n",
       "</div>"
      ],
      "text/plain": [
       "    vehicle_model_id  package_id  from_area_id  to_area_id  from_city_id  \\\n",
       "8                 65         2.0         448.0         NaN           NaN   \n",
       "20                87         2.0         471.0         NaN           NaN   \n",
       "23                12         1.0        1286.0         NaN           NaN   \n",
       "34                12         1.0        1323.0         NaN           NaN   \n",
       "47                12         2.0         142.0         NaN           NaN   \n",
       "\n",
       "    to_city_id         from_date  to_date  online_booking  \\\n",
       "8          NaN  01-01-2013 16:00      NaN               0   \n",
       "20         NaN  01-01-2013 14:30      NaN               0   \n",
       "23         NaN  01-01-2013 16:30      NaN               0   \n",
       "34         NaN  01-01-2013 20:00  41275.0               1   \n",
       "47         NaN  01-02-2013 03:00      NaN               0   \n",
       "\n",
       "    mobile_site_booking   booking_created   from_lat  from_long  to_lat  \\\n",
       "8                     0  01-01-2013 09:44  12.927320  77.635750     NaN   \n",
       "20                    0  01-01-2013 12:52  13.018540  77.635240     NaN   \n",
       "23                    0  01-01-2013 14:39  12.973448  77.620320     NaN   \n",
       "34                    0  01-01-2013 17:25  12.869805  77.653211     NaN   \n",
       "47                    0  01-01-2013 19:37  12.912810  77.609230     NaN   \n",
       "\n",
       "    to_long  Car_Cancellation  \n",
       "8       NaN                 0  \n",
       "20      NaN                 0  \n",
       "23      NaN                 0  \n",
       "34      NaN                 0  \n",
       "47      NaN                 0  "
      ]
     },
     "execution_count": 10,
     "metadata": {},
     "output_type": "execute_result"
    }
   ],
   "source": [
    "df3.head()"
   ]
  },
  {
   "cell_type": "code",
   "execution_count": 11,
   "id": "b8622fde",
   "metadata": {},
   "outputs": [
    {
     "data": {
      "text/plain": [
       "12"
      ]
     },
     "execution_count": 11,
     "metadata": {},
     "output_type": "execute_result"
    }
   ],
   "source": [
    "a=df3['vehicle_model_id'].mode()[0]\n",
    "a"
   ]
  },
  {
   "cell_type": "code",
   "execution_count": 12,
   "id": "3d290123",
   "metadata": {},
   "outputs": [
    {
     "data": {
      "text/plain": [
       "5496"
      ]
     },
     "execution_count": 12,
     "metadata": {},
     "output_type": "execute_result"
    }
   ],
   "source": [
    "b=df3['vehicle_model_id'].value_counts()[a]\n",
    "b"
   ]
  },
  {
   "cell_type": "code",
   "execution_count": 13,
   "id": "b27bcd46",
   "metadata": {},
   "outputs": [
    {
     "data": {
      "text/plain": [
       "72.79470198675496"
      ]
     },
     "execution_count": 13,
     "metadata": {},
     "output_type": "execute_result"
    }
   ],
   "source": [
    "c=(b/df3.shape[0])*100\n",
    "c"
   ]
  },
  {
   "cell_type": "code",
   "execution_count": 14,
   "id": "dbb7a5c9",
   "metadata": {},
   "outputs": [],
   "source": [
    "# Since 12 appears here for 72%, will create a bias, so drop it\n",
    "df3=df3.drop('vehicle_model_id',axis=1)"
   ]
  },
  {
   "cell_type": "code",
   "execution_count": 15,
   "id": "81650aea",
   "metadata": {},
   "outputs": [
    {
     "data": {
      "text/plain": [
       "(7550, 15)"
      ]
     },
     "execution_count": 15,
     "metadata": {},
     "output_type": "execute_result"
    }
   ],
   "source": [
    "df3.shape"
   ]
  },
  {
   "cell_type": "code",
   "execution_count": 16,
   "id": "ccd633c4",
   "metadata": {},
   "outputs": [
    {
     "data": {
      "text/html": [
       "<div>\n",
       "<style scoped>\n",
       "    .dataframe tbody tr th:only-of-type {\n",
       "        vertical-align: middle;\n",
       "    }\n",
       "\n",
       "    .dataframe tbody tr th {\n",
       "        vertical-align: top;\n",
       "    }\n",
       "\n",
       "    .dataframe thead th {\n",
       "        text-align: right;\n",
       "    }\n",
       "</style>\n",
       "<table border=\"1\" class=\"dataframe\">\n",
       "  <thead>\n",
       "    <tr style=\"text-align: right;\">\n",
       "      <th></th>\n",
       "      <th>package_id</th>\n",
       "      <th>from_area_id</th>\n",
       "      <th>to_area_id</th>\n",
       "      <th>from_city_id</th>\n",
       "      <th>to_city_id</th>\n",
       "      <th>from_date</th>\n",
       "      <th>to_date</th>\n",
       "      <th>online_booking</th>\n",
       "      <th>mobile_site_booking</th>\n",
       "      <th>booking_created</th>\n",
       "      <th>from_lat</th>\n",
       "      <th>from_long</th>\n",
       "      <th>to_lat</th>\n",
       "      <th>to_long</th>\n",
       "      <th>Car_Cancellation</th>\n",
       "    </tr>\n",
       "  </thead>\n",
       "  <tbody>\n",
       "    <tr>\n",
       "      <th>8</th>\n",
       "      <td>2.0</td>\n",
       "      <td>448.0</td>\n",
       "      <td>NaN</td>\n",
       "      <td>NaN</td>\n",
       "      <td>NaN</td>\n",
       "      <td>01-01-2013 16:00</td>\n",
       "      <td>NaN</td>\n",
       "      <td>0</td>\n",
       "      <td>0</td>\n",
       "      <td>01-01-2013 09:44</td>\n",
       "      <td>12.927320</td>\n",
       "      <td>77.635750</td>\n",
       "      <td>NaN</td>\n",
       "      <td>NaN</td>\n",
       "      <td>0</td>\n",
       "    </tr>\n",
       "    <tr>\n",
       "      <th>20</th>\n",
       "      <td>2.0</td>\n",
       "      <td>471.0</td>\n",
       "      <td>NaN</td>\n",
       "      <td>NaN</td>\n",
       "      <td>NaN</td>\n",
       "      <td>01-01-2013 14:30</td>\n",
       "      <td>NaN</td>\n",
       "      <td>0</td>\n",
       "      <td>0</td>\n",
       "      <td>01-01-2013 12:52</td>\n",
       "      <td>13.018540</td>\n",
       "      <td>77.635240</td>\n",
       "      <td>NaN</td>\n",
       "      <td>NaN</td>\n",
       "      <td>0</td>\n",
       "    </tr>\n",
       "    <tr>\n",
       "      <th>23</th>\n",
       "      <td>1.0</td>\n",
       "      <td>1286.0</td>\n",
       "      <td>NaN</td>\n",
       "      <td>NaN</td>\n",
       "      <td>NaN</td>\n",
       "      <td>01-01-2013 16:30</td>\n",
       "      <td>NaN</td>\n",
       "      <td>0</td>\n",
       "      <td>0</td>\n",
       "      <td>01-01-2013 14:39</td>\n",
       "      <td>12.973448</td>\n",
       "      <td>77.620320</td>\n",
       "      <td>NaN</td>\n",
       "      <td>NaN</td>\n",
       "      <td>0</td>\n",
       "    </tr>\n",
       "    <tr>\n",
       "      <th>34</th>\n",
       "      <td>1.0</td>\n",
       "      <td>1323.0</td>\n",
       "      <td>NaN</td>\n",
       "      <td>NaN</td>\n",
       "      <td>NaN</td>\n",
       "      <td>01-01-2013 20:00</td>\n",
       "      <td>41275.0</td>\n",
       "      <td>1</td>\n",
       "      <td>0</td>\n",
       "      <td>01-01-2013 17:25</td>\n",
       "      <td>12.869805</td>\n",
       "      <td>77.653211</td>\n",
       "      <td>NaN</td>\n",
       "      <td>NaN</td>\n",
       "      <td>0</td>\n",
       "    </tr>\n",
       "    <tr>\n",
       "      <th>47</th>\n",
       "      <td>2.0</td>\n",
       "      <td>142.0</td>\n",
       "      <td>NaN</td>\n",
       "      <td>NaN</td>\n",
       "      <td>NaN</td>\n",
       "      <td>01-02-2013 03:00</td>\n",
       "      <td>NaN</td>\n",
       "      <td>0</td>\n",
       "      <td>0</td>\n",
       "      <td>01-01-2013 19:37</td>\n",
       "      <td>12.912810</td>\n",
       "      <td>77.609230</td>\n",
       "      <td>NaN</td>\n",
       "      <td>NaN</td>\n",
       "      <td>0</td>\n",
       "    </tr>\n",
       "  </tbody>\n",
       "</table>\n",
       "</div>"
      ],
      "text/plain": [
       "    package_id  from_area_id  to_area_id  from_city_id  to_city_id  \\\n",
       "8          2.0         448.0         NaN           NaN         NaN   \n",
       "20         2.0         471.0         NaN           NaN         NaN   \n",
       "23         1.0        1286.0         NaN           NaN         NaN   \n",
       "34         1.0        1323.0         NaN           NaN         NaN   \n",
       "47         2.0         142.0         NaN           NaN         NaN   \n",
       "\n",
       "           from_date  to_date  online_booking  mobile_site_booking  \\\n",
       "8   01-01-2013 16:00      NaN               0                    0   \n",
       "20  01-01-2013 14:30      NaN               0                    0   \n",
       "23  01-01-2013 16:30      NaN               0                    0   \n",
       "34  01-01-2013 20:00  41275.0               1                    0   \n",
       "47  01-02-2013 03:00      NaN               0                    0   \n",
       "\n",
       "     booking_created   from_lat  from_long  to_lat  to_long  Car_Cancellation  \n",
       "8   01-01-2013 09:44  12.927320  77.635750     NaN      NaN                 0  \n",
       "20  01-01-2013 12:52  13.018540  77.635240     NaN      NaN                 0  \n",
       "23  01-01-2013 14:39  12.973448  77.620320     NaN      NaN                 0  \n",
       "34  01-01-2013 17:25  12.869805  77.653211     NaN      NaN                 0  \n",
       "47  01-01-2013 19:37  12.912810  77.609230     NaN      NaN                 0  "
      ]
     },
     "execution_count": 16,
     "metadata": {},
     "output_type": "execute_result"
    }
   ],
   "source": [
    "df3.head()"
   ]
  },
  {
   "cell_type": "code",
   "execution_count": 17,
   "id": "65b702b8",
   "metadata": {},
   "outputs": [
    {
     "data": {
      "text/plain": [
       "1.0    3503\n",
       "2.0    2651\n",
       "6.0     502\n",
       "4.0     412\n",
       "3.0     375\n",
       "7.0     101\n",
       "5.0       6\n",
       "Name: package_id, dtype: int64"
      ]
     },
     "execution_count": 17,
     "metadata": {},
     "output_type": "execute_result"
    }
   ],
   "source": [
    "df3['package_id'].value_counts(dropna=False)"
   ]
  },
  {
   "cell_type": "code",
   "execution_count": 18,
   "id": "ccd5225f",
   "metadata": {},
   "outputs": [
    {
     "data": {
      "text/plain": [
       "7550"
      ]
     },
     "execution_count": 18,
     "metadata": {},
     "output_type": "execute_result"
    }
   ],
   "source": [
    "df3['to_area_id'].isna().sum()\n",
    "# All are null values so drop"
   ]
  },
  {
   "cell_type": "code",
   "execution_count": 19,
   "id": "f0741ede",
   "metadata": {},
   "outputs": [],
   "source": [
    "df3=df3.drop('to_area_id',axis=1)"
   ]
  },
  {
   "cell_type": "code",
   "execution_count": 20,
   "id": "653d4d7c",
   "metadata": {},
   "outputs": [
    {
     "data": {
      "text/plain": [
       "7102"
      ]
     },
     "execution_count": 20,
     "metadata": {},
     "output_type": "execute_result"
    }
   ],
   "source": [
    "a=df3['from_city_id'].isna().sum()\n",
    "a"
   ]
  },
  {
   "cell_type": "code",
   "execution_count": 21,
   "id": "b322d453",
   "metadata": {},
   "outputs": [
    {
     "data": {
      "text/plain": [
       "94.06622516556291"
      ]
     },
     "execution_count": 21,
     "metadata": {},
     "output_type": "execute_result"
    }
   ],
   "source": [
    "b=(a/df3.shape[0])*100\n",
    "b"
   ]
  },
  {
   "cell_type": "code",
   "execution_count": 22,
   "id": "e8ef5306",
   "metadata": {},
   "outputs": [],
   "source": [
    "# though from_area_id has so many missing values, yet as this is a categorical column, we can replace the missing values \n",
    "# by mode value and keep it, so that we can compute the booking and cancellation percentages for each route. This missing\n",
    "# value can be taken as a human error, since bookings have been created for each row, and in each row, there has to be \n",
    "# value for from_area_id"
   ]
  },
  {
   "cell_type": "code",
   "execution_count": 23,
   "id": "946380d3",
   "metadata": {},
   "outputs": [
    {
     "data": {
      "text/plain": [
       "571.0"
      ]
     },
     "execution_count": 23,
     "metadata": {},
     "output_type": "execute_result"
    }
   ],
   "source": [
    "a=df3['from_area_id'].mode()[0]\n",
    "a"
   ]
  },
  {
   "cell_type": "code",
   "execution_count": 24,
   "id": "efdb0665",
   "metadata": {},
   "outputs": [
    {
     "data": {
      "text/plain": [
       "335"
      ]
     },
     "execution_count": 24,
     "metadata": {},
     "output_type": "execute_result"
    }
   ],
   "source": [
    "b=df3['from_area_id'].value_counts()[a]\n",
    "b"
   ]
  },
  {
   "cell_type": "code",
   "execution_count": 25,
   "id": "28832160",
   "metadata": {},
   "outputs": [],
   "source": [
    "df3['from_area_id'].fillna(a,inplace=True)"
   ]
  },
  {
   "cell_type": "code",
   "execution_count": 26,
   "id": "5def31c6",
   "metadata": {},
   "outputs": [
    {
     "data": {
      "text/plain": [
       "0"
      ]
     },
     "execution_count": 26,
     "metadata": {},
     "output_type": "execute_result"
    }
   ],
   "source": [
    "df3['from_area_id'].isna().sum()"
   ]
  },
  {
   "cell_type": "code",
   "execution_count": 27,
   "id": "b3886b9c",
   "metadata": {},
   "outputs": [
    {
     "name": "stdout",
     "output_type": "stream",
     "text": [
      "7102\n",
      "7550\n"
     ]
    }
   ],
   "source": [
    "# from_city_id\tto_city_id\n",
    "print(df3['from_city_id'].isna().sum())\n",
    "print(df3['to_city_id'].isna().sum())"
   ]
  },
  {
   "cell_type": "code",
   "execution_count": 28,
   "id": "6840ba78",
   "metadata": {},
   "outputs": [],
   "source": [
    "# Since, its travel type id does not refer to point to point travel, and here both have high missing values so drop"
   ]
  },
  {
   "cell_type": "code",
   "execution_count": 29,
   "id": "0f4e4bfb",
   "metadata": {},
   "outputs": [],
   "source": [
    "df3=df3.drop(['from_city_id','to_city_id'],axis=1)"
   ]
  },
  {
   "cell_type": "code",
   "execution_count": 30,
   "id": "40f545d6",
   "metadata": {},
   "outputs": [
    {
     "data": {
      "text/plain": [
       "2620"
      ]
     },
     "execution_count": 30,
     "metadata": {},
     "output_type": "execute_result"
    }
   ],
   "source": [
    "a=df3['to_date'].isna().sum()\n",
    "a"
   ]
  },
  {
   "cell_type": "code",
   "execution_count": 31,
   "id": "fe1245cb",
   "metadata": {},
   "outputs": [
    {
     "data": {
      "text/plain": [
       "34.70198675496688"
      ]
     },
     "execution_count": 31,
     "metadata": {},
     "output_type": "execute_result"
    }
   ],
   "source": [
    "b=(a/df3.shape[0])*100\n",
    "b"
   ]
  },
  {
   "cell_type": "code",
   "execution_count": 32,
   "id": "1b7d5cf1",
   "metadata": {},
   "outputs": [],
   "source": [
    "df3['to_date']=pd.to_datetime(df3['to_date'])\n",
    "# From Julian date to datetime"
   ]
  },
  {
   "cell_type": "code",
   "execution_count": 33,
   "id": "25e450a5",
   "metadata": {},
   "outputs": [
    {
     "name": "stdout",
     "output_type": "stream",
     "text": [
      "<class 'pandas.core.frame.DataFrame'>\n",
      "Int64Index: 7550 entries, 8 to 43428\n",
      "Data columns (total 12 columns):\n",
      " #   Column               Non-Null Count  Dtype         \n",
      "---  ------               --------------  -----         \n",
      " 0   package_id           7550 non-null   float64       \n",
      " 1   from_area_id         7550 non-null   float64       \n",
      " 2   from_date            7550 non-null   object        \n",
      " 3   to_date              4930 non-null   datetime64[ns]\n",
      " 4   online_booking       7550 non-null   int64         \n",
      " 5   mobile_site_booking  7550 non-null   int64         \n",
      " 6   booking_created      7550 non-null   object        \n",
      " 7   from_lat             7550 non-null   float64       \n",
      " 8   from_long            7550 non-null   float64       \n",
      " 9   to_lat               0 non-null      float64       \n",
      " 10  to_long              0 non-null      float64       \n",
      " 11  Car_Cancellation     7550 non-null   int64         \n",
      "dtypes: datetime64[ns](1), float64(6), int64(3), object(2)\n",
      "memory usage: 766.8+ KB\n"
     ]
    }
   ],
   "source": [
    "df3.info()"
   ]
  },
  {
   "cell_type": "code",
   "execution_count": 34,
   "id": "cb64035f",
   "metadata": {},
   "outputs": [],
   "source": [
    "df3['to_date']=df3['to_date'].dt.date"
   ]
  },
  {
   "cell_type": "code",
   "execution_count": 35,
   "id": "48cc0e6c",
   "metadata": {},
   "outputs": [
    {
     "data": {
      "text/plain": [
       "8            NaT\n",
       "20           NaT\n",
       "23           NaT\n",
       "34    1970-01-01\n",
       "47           NaT\n",
       "Name: to_date, dtype: object"
      ]
     },
     "execution_count": 35,
     "metadata": {},
     "output_type": "execute_result"
    }
   ],
   "source": [
    "df3['to_date'].head()"
   ]
  },
  {
   "cell_type": "code",
   "execution_count": 36,
   "id": "b06ef398",
   "metadata": {},
   "outputs": [],
   "source": [
    "df3['to_date']=pd.to_datetime(df3['to_date'])"
   ]
  },
  {
   "cell_type": "code",
   "execution_count": 37,
   "id": "7646ff89",
   "metadata": {},
   "outputs": [
    {
     "data": {
      "text/plain": [
       "8           NaT\n",
       "20          NaT\n",
       "23          NaT\n",
       "34   1970-01-01\n",
       "47          NaT\n",
       "Name: to_date, dtype: datetime64[ns]"
      ]
     },
     "execution_count": 37,
     "metadata": {},
     "output_type": "execute_result"
    }
   ],
   "source": [
    "df3['to_date'].head()"
   ]
  },
  {
   "cell_type": "code",
   "execution_count": 38,
   "id": "88a3cd76",
   "metadata": {},
   "outputs": [
    {
     "name": "stdout",
     "output_type": "stream",
     "text": [
      "1970-01-01 00:00:00\n",
      "1970-01-01 00:00:00\n"
     ]
    }
   ],
   "source": [
    "print(df3['to_date'].min())\n",
    "print(df3['to_date'].max())"
   ]
  },
  {
   "cell_type": "code",
   "execution_count": 39,
   "id": "8777b54b",
   "metadata": {},
   "outputs": [],
   "source": [
    "# Since 34% are null values and belongs to 1970s, number of days between 1970 and 2013 wil be huge, hence not reuqired, so drop this\n",
    "df3=df3.drop('to_date',axis=1)"
   ]
  },
  {
   "cell_type": "code",
   "execution_count": 40,
   "id": "ae893c52",
   "metadata": {},
   "outputs": [
    {
     "data": {
      "text/html": [
       "<div>\n",
       "<style scoped>\n",
       "    .dataframe tbody tr th:only-of-type {\n",
       "        vertical-align: middle;\n",
       "    }\n",
       "\n",
       "    .dataframe tbody tr th {\n",
       "        vertical-align: top;\n",
       "    }\n",
       "\n",
       "    .dataframe thead th {\n",
       "        text-align: right;\n",
       "    }\n",
       "</style>\n",
       "<table border=\"1\" class=\"dataframe\">\n",
       "  <thead>\n",
       "    <tr style=\"text-align: right;\">\n",
       "      <th></th>\n",
       "      <th>package_id</th>\n",
       "      <th>from_area_id</th>\n",
       "      <th>from_date</th>\n",
       "      <th>online_booking</th>\n",
       "      <th>mobile_site_booking</th>\n",
       "      <th>booking_created</th>\n",
       "      <th>from_lat</th>\n",
       "      <th>from_long</th>\n",
       "      <th>to_lat</th>\n",
       "      <th>to_long</th>\n",
       "      <th>Car_Cancellation</th>\n",
       "    </tr>\n",
       "  </thead>\n",
       "  <tbody>\n",
       "    <tr>\n",
       "      <th>8</th>\n",
       "      <td>2.0</td>\n",
       "      <td>448.0</td>\n",
       "      <td>01-01-2013 16:00</td>\n",
       "      <td>0</td>\n",
       "      <td>0</td>\n",
       "      <td>01-01-2013 09:44</td>\n",
       "      <td>12.927320</td>\n",
       "      <td>77.635750</td>\n",
       "      <td>NaN</td>\n",
       "      <td>NaN</td>\n",
       "      <td>0</td>\n",
       "    </tr>\n",
       "    <tr>\n",
       "      <th>20</th>\n",
       "      <td>2.0</td>\n",
       "      <td>471.0</td>\n",
       "      <td>01-01-2013 14:30</td>\n",
       "      <td>0</td>\n",
       "      <td>0</td>\n",
       "      <td>01-01-2013 12:52</td>\n",
       "      <td>13.018540</td>\n",
       "      <td>77.635240</td>\n",
       "      <td>NaN</td>\n",
       "      <td>NaN</td>\n",
       "      <td>0</td>\n",
       "    </tr>\n",
       "    <tr>\n",
       "      <th>23</th>\n",
       "      <td>1.0</td>\n",
       "      <td>1286.0</td>\n",
       "      <td>01-01-2013 16:30</td>\n",
       "      <td>0</td>\n",
       "      <td>0</td>\n",
       "      <td>01-01-2013 14:39</td>\n",
       "      <td>12.973448</td>\n",
       "      <td>77.620320</td>\n",
       "      <td>NaN</td>\n",
       "      <td>NaN</td>\n",
       "      <td>0</td>\n",
       "    </tr>\n",
       "    <tr>\n",
       "      <th>34</th>\n",
       "      <td>1.0</td>\n",
       "      <td>1323.0</td>\n",
       "      <td>01-01-2013 20:00</td>\n",
       "      <td>1</td>\n",
       "      <td>0</td>\n",
       "      <td>01-01-2013 17:25</td>\n",
       "      <td>12.869805</td>\n",
       "      <td>77.653211</td>\n",
       "      <td>NaN</td>\n",
       "      <td>NaN</td>\n",
       "      <td>0</td>\n",
       "    </tr>\n",
       "    <tr>\n",
       "      <th>47</th>\n",
       "      <td>2.0</td>\n",
       "      <td>142.0</td>\n",
       "      <td>01-02-2013 03:00</td>\n",
       "      <td>0</td>\n",
       "      <td>0</td>\n",
       "      <td>01-01-2013 19:37</td>\n",
       "      <td>12.912810</td>\n",
       "      <td>77.609230</td>\n",
       "      <td>NaN</td>\n",
       "      <td>NaN</td>\n",
       "      <td>0</td>\n",
       "    </tr>\n",
       "  </tbody>\n",
       "</table>\n",
       "</div>"
      ],
      "text/plain": [
       "    package_id  from_area_id         from_date  online_booking  \\\n",
       "8          2.0         448.0  01-01-2013 16:00               0   \n",
       "20         2.0         471.0  01-01-2013 14:30               0   \n",
       "23         1.0        1286.0  01-01-2013 16:30               0   \n",
       "34         1.0        1323.0  01-01-2013 20:00               1   \n",
       "47         2.0         142.0  01-02-2013 03:00               0   \n",
       "\n",
       "    mobile_site_booking   booking_created   from_lat  from_long  to_lat  \\\n",
       "8                     0  01-01-2013 09:44  12.927320  77.635750     NaN   \n",
       "20                    0  01-01-2013 12:52  13.018540  77.635240     NaN   \n",
       "23                    0  01-01-2013 14:39  12.973448  77.620320     NaN   \n",
       "34                    0  01-01-2013 17:25  12.869805  77.653211     NaN   \n",
       "47                    0  01-01-2013 19:37  12.912810  77.609230     NaN   \n",
       "\n",
       "    to_long  Car_Cancellation  \n",
       "8       NaN                 0  \n",
       "20      NaN                 0  \n",
       "23      NaN                 0  \n",
       "34      NaN                 0  \n",
       "47      NaN                 0  "
      ]
     },
     "execution_count": 40,
     "metadata": {},
     "output_type": "execute_result"
    }
   ],
   "source": [
    "df3.head()"
   ]
  },
  {
   "cell_type": "code",
   "execution_count": 41,
   "id": "cc3ed2b8",
   "metadata": {},
   "outputs": [
    {
     "data": {
      "text/plain": [
       "7550"
      ]
     },
     "execution_count": 41,
     "metadata": {},
     "output_type": "execute_result"
    }
   ],
   "source": [
    "df3['to_lat'].isna().sum()"
   ]
  },
  {
   "cell_type": "code",
   "execution_count": 42,
   "id": "7695027d",
   "metadata": {},
   "outputs": [
    {
     "data": {
      "text/plain": [
       "7550"
      ]
     },
     "execution_count": 42,
     "metadata": {},
     "output_type": "execute_result"
    }
   ],
   "source": [
    "df3['to_long'].isna().sum()"
   ]
  },
  {
   "cell_type": "code",
   "execution_count": 43,
   "id": "618af734",
   "metadata": {},
   "outputs": [],
   "source": [
    "# Drop to_lat and to_long due to so many null values, and if these are not there hence no point of keeping from_lat and from_long\n",
    "# also, as without to_lat and to_long we can't compute distance.\n",
    "df3=df3.drop(['from_lat','from_long','to_lat','to_long'],axis=1)"
   ]
  },
  {
   "cell_type": "code",
   "execution_count": 44,
   "id": "011d1917",
   "metadata": {},
   "outputs": [
    {
     "data": {
      "text/html": [
       "<div>\n",
       "<style scoped>\n",
       "    .dataframe tbody tr th:only-of-type {\n",
       "        vertical-align: middle;\n",
       "    }\n",
       "\n",
       "    .dataframe tbody tr th {\n",
       "        vertical-align: top;\n",
       "    }\n",
       "\n",
       "    .dataframe thead th {\n",
       "        text-align: right;\n",
       "    }\n",
       "</style>\n",
       "<table border=\"1\" class=\"dataframe\">\n",
       "  <thead>\n",
       "    <tr style=\"text-align: right;\">\n",
       "      <th></th>\n",
       "      <th>package_id</th>\n",
       "      <th>from_area_id</th>\n",
       "      <th>from_date</th>\n",
       "      <th>online_booking</th>\n",
       "      <th>mobile_site_booking</th>\n",
       "      <th>booking_created</th>\n",
       "      <th>Car_Cancellation</th>\n",
       "    </tr>\n",
       "  </thead>\n",
       "  <tbody>\n",
       "    <tr>\n",
       "      <th>8</th>\n",
       "      <td>2.0</td>\n",
       "      <td>448.0</td>\n",
       "      <td>01-01-2013 16:00</td>\n",
       "      <td>0</td>\n",
       "      <td>0</td>\n",
       "      <td>01-01-2013 09:44</td>\n",
       "      <td>0</td>\n",
       "    </tr>\n",
       "    <tr>\n",
       "      <th>20</th>\n",
       "      <td>2.0</td>\n",
       "      <td>471.0</td>\n",
       "      <td>01-01-2013 14:30</td>\n",
       "      <td>0</td>\n",
       "      <td>0</td>\n",
       "      <td>01-01-2013 12:52</td>\n",
       "      <td>0</td>\n",
       "    </tr>\n",
       "    <tr>\n",
       "      <th>23</th>\n",
       "      <td>1.0</td>\n",
       "      <td>1286.0</td>\n",
       "      <td>01-01-2013 16:30</td>\n",
       "      <td>0</td>\n",
       "      <td>0</td>\n",
       "      <td>01-01-2013 14:39</td>\n",
       "      <td>0</td>\n",
       "    </tr>\n",
       "    <tr>\n",
       "      <th>34</th>\n",
       "      <td>1.0</td>\n",
       "      <td>1323.0</td>\n",
       "      <td>01-01-2013 20:00</td>\n",
       "      <td>1</td>\n",
       "      <td>0</td>\n",
       "      <td>01-01-2013 17:25</td>\n",
       "      <td>0</td>\n",
       "    </tr>\n",
       "    <tr>\n",
       "      <th>47</th>\n",
       "      <td>2.0</td>\n",
       "      <td>142.0</td>\n",
       "      <td>01-02-2013 03:00</td>\n",
       "      <td>0</td>\n",
       "      <td>0</td>\n",
       "      <td>01-01-2013 19:37</td>\n",
       "      <td>0</td>\n",
       "    </tr>\n",
       "  </tbody>\n",
       "</table>\n",
       "</div>"
      ],
      "text/plain": [
       "    package_id  from_area_id         from_date  online_booking  \\\n",
       "8          2.0         448.0  01-01-2013 16:00               0   \n",
       "20         2.0         471.0  01-01-2013 14:30               0   \n",
       "23         1.0        1286.0  01-01-2013 16:30               0   \n",
       "34         1.0        1323.0  01-01-2013 20:00               1   \n",
       "47         2.0         142.0  01-02-2013 03:00               0   \n",
       "\n",
       "    mobile_site_booking   booking_created  Car_Cancellation  \n",
       "8                     0  01-01-2013 09:44                 0  \n",
       "20                    0  01-01-2013 12:52                 0  \n",
       "23                    0  01-01-2013 14:39                 0  \n",
       "34                    0  01-01-2013 17:25                 0  \n",
       "47                    0  01-01-2013 19:37                 0  "
      ]
     },
     "execution_count": 44,
     "metadata": {},
     "output_type": "execute_result"
    }
   ],
   "source": [
    "df3.head()"
   ]
  },
  {
   "cell_type": "code",
   "execution_count": 45,
   "id": "799c2903",
   "metadata": {},
   "outputs": [],
   "source": [
    "df3['from_date']=pd.to_datetime(df3['from_date'])"
   ]
  },
  {
   "cell_type": "code",
   "execution_count": 46,
   "id": "27c5bda4",
   "metadata": {},
   "outputs": [],
   "source": [
    "df3['booking_created']=pd.to_datetime(df3['booking_created'])"
   ]
  },
  {
   "cell_type": "code",
   "execution_count": 47,
   "id": "63150adc",
   "metadata": {},
   "outputs": [
    {
     "name": "stdout",
     "output_type": "stream",
     "text": [
      "<class 'pandas.core.frame.DataFrame'>\n",
      "Int64Index: 7550 entries, 8 to 43428\n",
      "Data columns (total 7 columns):\n",
      " #   Column               Non-Null Count  Dtype         \n",
      "---  ------               --------------  -----         \n",
      " 0   package_id           7550 non-null   float64       \n",
      " 1   from_area_id         7550 non-null   float64       \n",
      " 2   from_date            7550 non-null   datetime64[ns]\n",
      " 3   online_booking       7550 non-null   int64         \n",
      " 4   mobile_site_booking  7550 non-null   int64         \n",
      " 5   booking_created      7550 non-null   datetime64[ns]\n",
      " 6   Car_Cancellation     7550 non-null   int64         \n",
      "dtypes: datetime64[ns](2), float64(2), int64(3)\n",
      "memory usage: 471.9 KB\n"
     ]
    }
   ],
   "source": [
    "df3.info()"
   ]
  },
  {
   "cell_type": "code",
   "execution_count": 48,
   "id": "af767bd2",
   "metadata": {},
   "outputs": [
    {
     "data": {
      "text/html": [
       "<div>\n",
       "<style scoped>\n",
       "    .dataframe tbody tr th:only-of-type {\n",
       "        vertical-align: middle;\n",
       "    }\n",
       "\n",
       "    .dataframe tbody tr th {\n",
       "        vertical-align: top;\n",
       "    }\n",
       "\n",
       "    .dataframe thead th {\n",
       "        text-align: right;\n",
       "    }\n",
       "</style>\n",
       "<table border=\"1\" class=\"dataframe\">\n",
       "  <thead>\n",
       "    <tr style=\"text-align: right;\">\n",
       "      <th></th>\n",
       "      <th>package_id</th>\n",
       "      <th>from_area_id</th>\n",
       "      <th>from_date</th>\n",
       "      <th>online_booking</th>\n",
       "      <th>mobile_site_booking</th>\n",
       "      <th>booking_created</th>\n",
       "      <th>Car_Cancellation</th>\n",
       "    </tr>\n",
       "  </thead>\n",
       "  <tbody>\n",
       "    <tr>\n",
       "      <th>8</th>\n",
       "      <td>2.0</td>\n",
       "      <td>448.0</td>\n",
       "      <td>2013-01-01 16:00:00</td>\n",
       "      <td>0</td>\n",
       "      <td>0</td>\n",
       "      <td>2013-01-01 09:44:00</td>\n",
       "      <td>0</td>\n",
       "    </tr>\n",
       "    <tr>\n",
       "      <th>20</th>\n",
       "      <td>2.0</td>\n",
       "      <td>471.0</td>\n",
       "      <td>2013-01-01 14:30:00</td>\n",
       "      <td>0</td>\n",
       "      <td>0</td>\n",
       "      <td>2013-01-01 12:52:00</td>\n",
       "      <td>0</td>\n",
       "    </tr>\n",
       "    <tr>\n",
       "      <th>23</th>\n",
       "      <td>1.0</td>\n",
       "      <td>1286.0</td>\n",
       "      <td>2013-01-01 16:30:00</td>\n",
       "      <td>0</td>\n",
       "      <td>0</td>\n",
       "      <td>2013-01-01 14:39:00</td>\n",
       "      <td>0</td>\n",
       "    </tr>\n",
       "    <tr>\n",
       "      <th>34</th>\n",
       "      <td>1.0</td>\n",
       "      <td>1323.0</td>\n",
       "      <td>2013-01-01 20:00:00</td>\n",
       "      <td>1</td>\n",
       "      <td>0</td>\n",
       "      <td>2013-01-01 17:25:00</td>\n",
       "      <td>0</td>\n",
       "    </tr>\n",
       "    <tr>\n",
       "      <th>47</th>\n",
       "      <td>2.0</td>\n",
       "      <td>142.0</td>\n",
       "      <td>2013-01-02 03:00:00</td>\n",
       "      <td>0</td>\n",
       "      <td>0</td>\n",
       "      <td>2013-01-01 19:37:00</td>\n",
       "      <td>0</td>\n",
       "    </tr>\n",
       "  </tbody>\n",
       "</table>\n",
       "</div>"
      ],
      "text/plain": [
       "    package_id  from_area_id           from_date  online_booking  \\\n",
       "8          2.0         448.0 2013-01-01 16:00:00               0   \n",
       "20         2.0         471.0 2013-01-01 14:30:00               0   \n",
       "23         1.0        1286.0 2013-01-01 16:30:00               0   \n",
       "34         1.0        1323.0 2013-01-01 20:00:00               1   \n",
       "47         2.0         142.0 2013-01-02 03:00:00               0   \n",
       "\n",
       "    mobile_site_booking     booking_created  Car_Cancellation  \n",
       "8                     0 2013-01-01 09:44:00                 0  \n",
       "20                    0 2013-01-01 12:52:00                 0  \n",
       "23                    0 2013-01-01 14:39:00                 0  \n",
       "34                    0 2013-01-01 17:25:00                 0  \n",
       "47                    0 2013-01-01 19:37:00                 0  "
      ]
     },
     "execution_count": 48,
     "metadata": {},
     "output_type": "execute_result"
    }
   ],
   "source": [
    "df3.head()"
   ]
  },
  {
   "cell_type": "code",
   "execution_count": 49,
   "id": "d1bfd147",
   "metadata": {},
   "outputs": [],
   "source": [
    "df3['from_area_id']=df3['from_area_id'].astype('int')"
   ]
  },
  {
   "cell_type": "code",
   "execution_count": 50,
   "id": "7bb34d20",
   "metadata": {},
   "outputs": [],
   "source": [
    "df3['from_area_id']=df3['from_area_id'].astype('str')"
   ]
  },
  {
   "cell_type": "code",
   "execution_count": 51,
   "id": "5a16fec0",
   "metadata": {},
   "outputs": [
    {
     "data": {
      "text/plain": [
       "dtype('O')"
      ]
     },
     "execution_count": 51,
     "metadata": {},
     "output_type": "execute_result"
    }
   ],
   "source": [
    "df3['from_area_id'].dtypes"
   ]
  },
  {
   "cell_type": "code",
   "execution_count": 52,
   "id": "ca1c73da",
   "metadata": {},
   "outputs": [],
   "source": [
    "df3['route']=df3['from_area_id']+'-->'"
   ]
  },
  {
   "cell_type": "code",
   "execution_count": 53,
   "id": "ddd0d97e",
   "metadata": {},
   "outputs": [
    {
     "data": {
      "text/html": [
       "<div>\n",
       "<style scoped>\n",
       "    .dataframe tbody tr th:only-of-type {\n",
       "        vertical-align: middle;\n",
       "    }\n",
       "\n",
       "    .dataframe tbody tr th {\n",
       "        vertical-align: top;\n",
       "    }\n",
       "\n",
       "    .dataframe thead th {\n",
       "        text-align: right;\n",
       "    }\n",
       "</style>\n",
       "<table border=\"1\" class=\"dataframe\">\n",
       "  <thead>\n",
       "    <tr style=\"text-align: right;\">\n",
       "      <th></th>\n",
       "      <th>package_id</th>\n",
       "      <th>from_area_id</th>\n",
       "      <th>from_date</th>\n",
       "      <th>online_booking</th>\n",
       "      <th>mobile_site_booking</th>\n",
       "      <th>booking_created</th>\n",
       "      <th>Car_Cancellation</th>\n",
       "      <th>route</th>\n",
       "    </tr>\n",
       "  </thead>\n",
       "  <tbody>\n",
       "    <tr>\n",
       "      <th>8</th>\n",
       "      <td>2.0</td>\n",
       "      <td>448</td>\n",
       "      <td>2013-01-01 16:00:00</td>\n",
       "      <td>0</td>\n",
       "      <td>0</td>\n",
       "      <td>2013-01-01 09:44:00</td>\n",
       "      <td>0</td>\n",
       "      <td>448--&gt;</td>\n",
       "    </tr>\n",
       "    <tr>\n",
       "      <th>20</th>\n",
       "      <td>2.0</td>\n",
       "      <td>471</td>\n",
       "      <td>2013-01-01 14:30:00</td>\n",
       "      <td>0</td>\n",
       "      <td>0</td>\n",
       "      <td>2013-01-01 12:52:00</td>\n",
       "      <td>0</td>\n",
       "      <td>471--&gt;</td>\n",
       "    </tr>\n",
       "    <tr>\n",
       "      <th>23</th>\n",
       "      <td>1.0</td>\n",
       "      <td>1286</td>\n",
       "      <td>2013-01-01 16:30:00</td>\n",
       "      <td>0</td>\n",
       "      <td>0</td>\n",
       "      <td>2013-01-01 14:39:00</td>\n",
       "      <td>0</td>\n",
       "      <td>1286--&gt;</td>\n",
       "    </tr>\n",
       "    <tr>\n",
       "      <th>34</th>\n",
       "      <td>1.0</td>\n",
       "      <td>1323</td>\n",
       "      <td>2013-01-01 20:00:00</td>\n",
       "      <td>1</td>\n",
       "      <td>0</td>\n",
       "      <td>2013-01-01 17:25:00</td>\n",
       "      <td>0</td>\n",
       "      <td>1323--&gt;</td>\n",
       "    </tr>\n",
       "    <tr>\n",
       "      <th>47</th>\n",
       "      <td>2.0</td>\n",
       "      <td>142</td>\n",
       "      <td>2013-01-02 03:00:00</td>\n",
       "      <td>0</td>\n",
       "      <td>0</td>\n",
       "      <td>2013-01-01 19:37:00</td>\n",
       "      <td>0</td>\n",
       "      <td>142--&gt;</td>\n",
       "    </tr>\n",
       "  </tbody>\n",
       "</table>\n",
       "</div>"
      ],
      "text/plain": [
       "    package_id from_area_id           from_date  online_booking  \\\n",
       "8          2.0          448 2013-01-01 16:00:00               0   \n",
       "20         2.0          471 2013-01-01 14:30:00               0   \n",
       "23         1.0         1286 2013-01-01 16:30:00               0   \n",
       "34         1.0         1323 2013-01-01 20:00:00               1   \n",
       "47         2.0          142 2013-01-02 03:00:00               0   \n",
       "\n",
       "    mobile_site_booking     booking_created  Car_Cancellation    route  \n",
       "8                     0 2013-01-01 09:44:00                 0   448-->  \n",
       "20                    0 2013-01-01 12:52:00                 0   471-->  \n",
       "23                    0 2013-01-01 14:39:00                 0  1286-->  \n",
       "34                    0 2013-01-01 17:25:00                 0  1323-->  \n",
       "47                    0 2013-01-01 19:37:00                 0   142-->  "
      ]
     },
     "execution_count": 53,
     "metadata": {},
     "output_type": "execute_result"
    }
   ],
   "source": [
    "df3.head()"
   ]
  },
  {
   "cell_type": "code",
   "execution_count": 54,
   "id": "7e83b251",
   "metadata": {},
   "outputs": [
    {
     "data": {
      "text/plain": [
       "route\n",
       "1005-->    0.142857\n",
       "1008-->    0.200000\n",
       "1010-->    0.010526\n",
       "1012-->    0.000000\n",
       "1013-->    0.500000\n",
       "             ...   \n",
       "977-->     0.062500\n",
       "988-->     0.000000\n",
       "990-->     0.000000\n",
       "994-->     0.034483\n",
       "995-->     0.000000\n",
       "Name: Car_Cancellation, Length: 482, dtype: float64"
      ]
     },
     "execution_count": 54,
     "metadata": {},
     "output_type": "execute_result"
    }
   ],
   "source": [
    "canc_route_mean=df3.groupby('route').mean()['Car_Cancellation']\n",
    "canc_route_mean"
   ]
  },
  {
   "cell_type": "code",
   "execution_count": 55,
   "id": "81d43b7e",
   "metadata": {},
   "outputs": [
    {
     "data": {
      "text/html": [
       "<div>\n",
       "<style scoped>\n",
       "    .dataframe tbody tr th:only-of-type {\n",
       "        vertical-align: middle;\n",
       "    }\n",
       "\n",
       "    .dataframe tbody tr th {\n",
       "        vertical-align: top;\n",
       "    }\n",
       "\n",
       "    .dataframe thead th {\n",
       "        text-align: right;\n",
       "    }\n",
       "</style>\n",
       "<table border=\"1\" class=\"dataframe\">\n",
       "  <thead>\n",
       "    <tr style=\"text-align: right;\">\n",
       "      <th></th>\n",
       "      <th>package_id</th>\n",
       "      <th>from_area_id</th>\n",
       "      <th>from_date</th>\n",
       "      <th>online_booking</th>\n",
       "      <th>mobile_site_booking</th>\n",
       "      <th>booking_created</th>\n",
       "      <th>Car_Cancellation</th>\n",
       "      <th>route</th>\n",
       "      <th>canc_route_mean</th>\n",
       "    </tr>\n",
       "  </thead>\n",
       "  <tbody>\n",
       "    <tr>\n",
       "      <th>8</th>\n",
       "      <td>2.0</td>\n",
       "      <td>448</td>\n",
       "      <td>2013-01-01 16:00:00</td>\n",
       "      <td>0</td>\n",
       "      <td>0</td>\n",
       "      <td>2013-01-01 09:44:00</td>\n",
       "      <td>0</td>\n",
       "      <td>448--&gt;</td>\n",
       "      <td>0.108696</td>\n",
       "    </tr>\n",
       "    <tr>\n",
       "      <th>20</th>\n",
       "      <td>2.0</td>\n",
       "      <td>471</td>\n",
       "      <td>2013-01-01 14:30:00</td>\n",
       "      <td>0</td>\n",
       "      <td>0</td>\n",
       "      <td>2013-01-01 12:52:00</td>\n",
       "      <td>0</td>\n",
       "      <td>471--&gt;</td>\n",
       "      <td>0.111111</td>\n",
       "    </tr>\n",
       "    <tr>\n",
       "      <th>23</th>\n",
       "      <td>1.0</td>\n",
       "      <td>1286</td>\n",
       "      <td>2013-01-01 16:30:00</td>\n",
       "      <td>0</td>\n",
       "      <td>0</td>\n",
       "      <td>2013-01-01 14:39:00</td>\n",
       "      <td>0</td>\n",
       "      <td>1286--&gt;</td>\n",
       "      <td>0.040000</td>\n",
       "    </tr>\n",
       "    <tr>\n",
       "      <th>34</th>\n",
       "      <td>1.0</td>\n",
       "      <td>1323</td>\n",
       "      <td>2013-01-01 20:00:00</td>\n",
       "      <td>1</td>\n",
       "      <td>0</td>\n",
       "      <td>2013-01-01 17:25:00</td>\n",
       "      <td>0</td>\n",
       "      <td>1323--&gt;</td>\n",
       "      <td>0.115385</td>\n",
       "    </tr>\n",
       "    <tr>\n",
       "      <th>47</th>\n",
       "      <td>2.0</td>\n",
       "      <td>142</td>\n",
       "      <td>2013-01-02 03:00:00</td>\n",
       "      <td>0</td>\n",
       "      <td>0</td>\n",
       "      <td>2013-01-01 19:37:00</td>\n",
       "      <td>0</td>\n",
       "      <td>142--&gt;</td>\n",
       "      <td>0.054545</td>\n",
       "    </tr>\n",
       "  </tbody>\n",
       "</table>\n",
       "</div>"
      ],
      "text/plain": [
       "    package_id from_area_id           from_date  online_booking  \\\n",
       "8          2.0          448 2013-01-01 16:00:00               0   \n",
       "20         2.0          471 2013-01-01 14:30:00               0   \n",
       "23         1.0         1286 2013-01-01 16:30:00               0   \n",
       "34         1.0         1323 2013-01-01 20:00:00               1   \n",
       "47         2.0          142 2013-01-02 03:00:00               0   \n",
       "\n",
       "    mobile_site_booking     booking_created  Car_Cancellation    route  \\\n",
       "8                     0 2013-01-01 09:44:00                 0   448-->   \n",
       "20                    0 2013-01-01 12:52:00                 0   471-->   \n",
       "23                    0 2013-01-01 14:39:00                 0  1286-->   \n",
       "34                    0 2013-01-01 17:25:00                 0  1323-->   \n",
       "47                    0 2013-01-01 19:37:00                 0   142-->   \n",
       "\n",
       "    canc_route_mean  \n",
       "8          0.108696  \n",
       "20         0.111111  \n",
       "23         0.040000  \n",
       "34         0.115385  \n",
       "47         0.054545  "
      ]
     },
     "execution_count": 55,
     "metadata": {},
     "output_type": "execute_result"
    }
   ],
   "source": [
    "df3['canc_route_mean']=df3['route'].map(canc_route_mean)\n",
    "df3.head()"
   ]
  },
  {
   "cell_type": "code",
   "execution_count": 56,
   "id": "453b1ba3",
   "metadata": {},
   "outputs": [
    {
     "data": {
      "text/html": [
       "<div>\n",
       "<style scoped>\n",
       "    .dataframe tbody tr th:only-of-type {\n",
       "        vertical-align: middle;\n",
       "    }\n",
       "\n",
       "    .dataframe tbody tr th {\n",
       "        vertical-align: top;\n",
       "    }\n",
       "\n",
       "    .dataframe thead th {\n",
       "        text-align: right;\n",
       "    }\n",
       "</style>\n",
       "<table border=\"1\" class=\"dataframe\">\n",
       "  <thead>\n",
       "    <tr style=\"text-align: right;\">\n",
       "      <th></th>\n",
       "      <th>package_id</th>\n",
       "      <th>from_area_id</th>\n",
       "      <th>from_date</th>\n",
       "      <th>online_booking</th>\n",
       "      <th>mobile_site_booking</th>\n",
       "      <th>booking_created</th>\n",
       "      <th>Car_Cancellation</th>\n",
       "      <th>route</th>\n",
       "      <th>canc_route_mean</th>\n",
       "      <th>canc_route_perc</th>\n",
       "    </tr>\n",
       "  </thead>\n",
       "  <tbody>\n",
       "    <tr>\n",
       "      <th>8</th>\n",
       "      <td>2.0</td>\n",
       "      <td>448</td>\n",
       "      <td>2013-01-01 16:00:00</td>\n",
       "      <td>0</td>\n",
       "      <td>0</td>\n",
       "      <td>2013-01-01 09:44:00</td>\n",
       "      <td>0</td>\n",
       "      <td>448--&gt;</td>\n",
       "      <td>0.108696</td>\n",
       "      <td>10.869565</td>\n",
       "    </tr>\n",
       "    <tr>\n",
       "      <th>20</th>\n",
       "      <td>2.0</td>\n",
       "      <td>471</td>\n",
       "      <td>2013-01-01 14:30:00</td>\n",
       "      <td>0</td>\n",
       "      <td>0</td>\n",
       "      <td>2013-01-01 12:52:00</td>\n",
       "      <td>0</td>\n",
       "      <td>471--&gt;</td>\n",
       "      <td>0.111111</td>\n",
       "      <td>11.111111</td>\n",
       "    </tr>\n",
       "    <tr>\n",
       "      <th>23</th>\n",
       "      <td>1.0</td>\n",
       "      <td>1286</td>\n",
       "      <td>2013-01-01 16:30:00</td>\n",
       "      <td>0</td>\n",
       "      <td>0</td>\n",
       "      <td>2013-01-01 14:39:00</td>\n",
       "      <td>0</td>\n",
       "      <td>1286--&gt;</td>\n",
       "      <td>0.040000</td>\n",
       "      <td>4.000000</td>\n",
       "    </tr>\n",
       "    <tr>\n",
       "      <th>34</th>\n",
       "      <td>1.0</td>\n",
       "      <td>1323</td>\n",
       "      <td>2013-01-01 20:00:00</td>\n",
       "      <td>1</td>\n",
       "      <td>0</td>\n",
       "      <td>2013-01-01 17:25:00</td>\n",
       "      <td>0</td>\n",
       "      <td>1323--&gt;</td>\n",
       "      <td>0.115385</td>\n",
       "      <td>11.538462</td>\n",
       "    </tr>\n",
       "    <tr>\n",
       "      <th>47</th>\n",
       "      <td>2.0</td>\n",
       "      <td>142</td>\n",
       "      <td>2013-01-02 03:00:00</td>\n",
       "      <td>0</td>\n",
       "      <td>0</td>\n",
       "      <td>2013-01-01 19:37:00</td>\n",
       "      <td>0</td>\n",
       "      <td>142--&gt;</td>\n",
       "      <td>0.054545</td>\n",
       "      <td>5.454545</td>\n",
       "    </tr>\n",
       "  </tbody>\n",
       "</table>\n",
       "</div>"
      ],
      "text/plain": [
       "    package_id from_area_id           from_date  online_booking  \\\n",
       "8          2.0          448 2013-01-01 16:00:00               0   \n",
       "20         2.0          471 2013-01-01 14:30:00               0   \n",
       "23         1.0         1286 2013-01-01 16:30:00               0   \n",
       "34         1.0         1323 2013-01-01 20:00:00               1   \n",
       "47         2.0          142 2013-01-02 03:00:00               0   \n",
       "\n",
       "    mobile_site_booking     booking_created  Car_Cancellation    route  \\\n",
       "8                     0 2013-01-01 09:44:00                 0   448-->   \n",
       "20                    0 2013-01-01 12:52:00                 0   471-->   \n",
       "23                    0 2013-01-01 14:39:00                 0  1286-->   \n",
       "34                    0 2013-01-01 17:25:00                 0  1323-->   \n",
       "47                    0 2013-01-01 19:37:00                 0   142-->   \n",
       "\n",
       "    canc_route_mean  canc_route_perc  \n",
       "8          0.108696        10.869565  \n",
       "20         0.111111        11.111111  \n",
       "23         0.040000         4.000000  \n",
       "34         0.115385        11.538462  \n",
       "47         0.054545         5.454545  "
      ]
     },
     "execution_count": 56,
     "metadata": {},
     "output_type": "execute_result"
    }
   ],
   "source": [
    "df3['canc_route_perc']=df3['canc_route_mean']*100\n",
    "df3.head()"
   ]
  },
  {
   "cell_type": "code",
   "execution_count": 57,
   "id": "dae988a8",
   "metadata": {},
   "outputs": [],
   "source": [
    "df3=df3.drop('canc_route_mean',axis=1)"
   ]
  },
  {
   "cell_type": "code",
   "execution_count": 58,
   "id": "3e99b906",
   "metadata": {},
   "outputs": [
    {
     "data": {
      "text/html": [
       "<div>\n",
       "<style scoped>\n",
       "    .dataframe tbody tr th:only-of-type {\n",
       "        vertical-align: middle;\n",
       "    }\n",
       "\n",
       "    .dataframe tbody tr th {\n",
       "        vertical-align: top;\n",
       "    }\n",
       "\n",
       "    .dataframe thead th {\n",
       "        text-align: right;\n",
       "    }\n",
       "</style>\n",
       "<table border=\"1\" class=\"dataframe\">\n",
       "  <thead>\n",
       "    <tr style=\"text-align: right;\">\n",
       "      <th></th>\n",
       "      <th>package_id</th>\n",
       "      <th>online_booking</th>\n",
       "      <th>mobile_site_booking</th>\n",
       "      <th>Car_Cancellation</th>\n",
       "      <th>canc_route_perc</th>\n",
       "    </tr>\n",
       "  </thead>\n",
       "  <tbody>\n",
       "    <tr>\n",
       "      <th>count</th>\n",
       "      <td>7550.000000</td>\n",
       "      <td>7550.000000</td>\n",
       "      <td>7550.000000</td>\n",
       "      <td>7550.000000</td>\n",
       "      <td>7550.000000</td>\n",
       "    </tr>\n",
       "    <tr>\n",
       "      <th>mean</th>\n",
       "      <td>2.030066</td>\n",
       "      <td>0.283576</td>\n",
       "      <td>0.026358</td>\n",
       "      <td>0.044503</td>\n",
       "      <td>4.450331</td>\n",
       "    </tr>\n",
       "    <tr>\n",
       "      <th>std</th>\n",
       "      <td>1.461756</td>\n",
       "      <td>0.450763</td>\n",
       "      <td>0.160207</td>\n",
       "      <td>0.206224</td>\n",
       "      <td>5.934479</td>\n",
       "    </tr>\n",
       "    <tr>\n",
       "      <th>min</th>\n",
       "      <td>1.000000</td>\n",
       "      <td>0.000000</td>\n",
       "      <td>0.000000</td>\n",
       "      <td>0.000000</td>\n",
       "      <td>0.000000</td>\n",
       "    </tr>\n",
       "    <tr>\n",
       "      <th>25%</th>\n",
       "      <td>1.000000</td>\n",
       "      <td>0.000000</td>\n",
       "      <td>0.000000</td>\n",
       "      <td>0.000000</td>\n",
       "      <td>0.000000</td>\n",
       "    </tr>\n",
       "    <tr>\n",
       "      <th>50%</th>\n",
       "      <td>2.000000</td>\n",
       "      <td>0.000000</td>\n",
       "      <td>0.000000</td>\n",
       "      <td>0.000000</td>\n",
       "      <td>2.985075</td>\n",
       "    </tr>\n",
       "    <tr>\n",
       "      <th>75%</th>\n",
       "      <td>2.000000</td>\n",
       "      <td>1.000000</td>\n",
       "      <td>0.000000</td>\n",
       "      <td>0.000000</td>\n",
       "      <td>6.849315</td>\n",
       "    </tr>\n",
       "    <tr>\n",
       "      <th>max</th>\n",
       "      <td>7.000000</td>\n",
       "      <td>1.000000</td>\n",
       "      <td>1.000000</td>\n",
       "      <td>1.000000</td>\n",
       "      <td>100.000000</td>\n",
       "    </tr>\n",
       "  </tbody>\n",
       "</table>\n",
       "</div>"
      ],
      "text/plain": [
       "        package_id  online_booking  mobile_site_booking  Car_Cancellation  \\\n",
       "count  7550.000000     7550.000000          7550.000000       7550.000000   \n",
       "mean      2.030066        0.283576             0.026358          0.044503   \n",
       "std       1.461756        0.450763             0.160207          0.206224   \n",
       "min       1.000000        0.000000             0.000000          0.000000   \n",
       "25%       1.000000        0.000000             0.000000          0.000000   \n",
       "50%       2.000000        0.000000             0.000000          0.000000   \n",
       "75%       2.000000        1.000000             0.000000          0.000000   \n",
       "max       7.000000        1.000000             1.000000          1.000000   \n",
       "\n",
       "       canc_route_perc  \n",
       "count      7550.000000  \n",
       "mean          4.450331  \n",
       "std           5.934479  \n",
       "min           0.000000  \n",
       "25%           0.000000  \n",
       "50%           2.985075  \n",
       "75%           6.849315  \n",
       "max         100.000000  "
      ]
     },
     "execution_count": 58,
     "metadata": {},
     "output_type": "execute_result"
    }
   ],
   "source": [
    "df3.describe()"
   ]
  },
  {
   "cell_type": "code",
   "execution_count": 59,
   "id": "990219f3",
   "metadata": {},
   "outputs": [],
   "source": [
    "# min car cancellation percentage per route is 0%, 25% of the routes have 0% cancellations, 50% of the routes have <=2.985075% cancellations,\n",
    "# 75% of the routes have 6.849315% cancellations, max is 100%"
   ]
  },
  {
   "cell_type": "code",
   "execution_count": 60,
   "id": "62ecc604",
   "metadata": {},
   "outputs": [],
   "source": [
    "def cancel(x):\n",
    "    if x==0:\n",
    "        return 'Zero'\n",
    "    elif x<=6.849315:\n",
    "        return 'Low'\n",
    "    elif x<=25:\n",
    "        return 'Medium'\n",
    "    else:\n",
    "        return 'High'"
   ]
  },
  {
   "cell_type": "code",
   "execution_count": 61,
   "id": "576e55eb",
   "metadata": {},
   "outputs": [],
   "source": [
    "df3['Canc_Tags']=df3['canc_route_perc'].apply(cancel)"
   ]
  },
  {
   "cell_type": "code",
   "execution_count": 62,
   "id": "4dd30992",
   "metadata": {},
   "outputs": [
    {
     "data": {
      "text/html": [
       "<div>\n",
       "<style scoped>\n",
       "    .dataframe tbody tr th:only-of-type {\n",
       "        vertical-align: middle;\n",
       "    }\n",
       "\n",
       "    .dataframe tbody tr th {\n",
       "        vertical-align: top;\n",
       "    }\n",
       "\n",
       "    .dataframe thead th {\n",
       "        text-align: right;\n",
       "    }\n",
       "</style>\n",
       "<table border=\"1\" class=\"dataframe\">\n",
       "  <thead>\n",
       "    <tr style=\"text-align: right;\">\n",
       "      <th></th>\n",
       "      <th>package_id</th>\n",
       "      <th>from_area_id</th>\n",
       "      <th>from_date</th>\n",
       "      <th>online_booking</th>\n",
       "      <th>mobile_site_booking</th>\n",
       "      <th>booking_created</th>\n",
       "      <th>Car_Cancellation</th>\n",
       "      <th>route</th>\n",
       "      <th>canc_route_perc</th>\n",
       "      <th>Canc_Tags</th>\n",
       "    </tr>\n",
       "  </thead>\n",
       "  <tbody>\n",
       "    <tr>\n",
       "      <th>8</th>\n",
       "      <td>2.0</td>\n",
       "      <td>448</td>\n",
       "      <td>2013-01-01 16:00:00</td>\n",
       "      <td>0</td>\n",
       "      <td>0</td>\n",
       "      <td>2013-01-01 09:44:00</td>\n",
       "      <td>0</td>\n",
       "      <td>448--&gt;</td>\n",
       "      <td>10.869565</td>\n",
       "      <td>Medium</td>\n",
       "    </tr>\n",
       "    <tr>\n",
       "      <th>20</th>\n",
       "      <td>2.0</td>\n",
       "      <td>471</td>\n",
       "      <td>2013-01-01 14:30:00</td>\n",
       "      <td>0</td>\n",
       "      <td>0</td>\n",
       "      <td>2013-01-01 12:52:00</td>\n",
       "      <td>0</td>\n",
       "      <td>471--&gt;</td>\n",
       "      <td>11.111111</td>\n",
       "      <td>Medium</td>\n",
       "    </tr>\n",
       "    <tr>\n",
       "      <th>23</th>\n",
       "      <td>1.0</td>\n",
       "      <td>1286</td>\n",
       "      <td>2013-01-01 16:30:00</td>\n",
       "      <td>0</td>\n",
       "      <td>0</td>\n",
       "      <td>2013-01-01 14:39:00</td>\n",
       "      <td>0</td>\n",
       "      <td>1286--&gt;</td>\n",
       "      <td>4.000000</td>\n",
       "      <td>Low</td>\n",
       "    </tr>\n",
       "    <tr>\n",
       "      <th>34</th>\n",
       "      <td>1.0</td>\n",
       "      <td>1323</td>\n",
       "      <td>2013-01-01 20:00:00</td>\n",
       "      <td>1</td>\n",
       "      <td>0</td>\n",
       "      <td>2013-01-01 17:25:00</td>\n",
       "      <td>0</td>\n",
       "      <td>1323--&gt;</td>\n",
       "      <td>11.538462</td>\n",
       "      <td>Medium</td>\n",
       "    </tr>\n",
       "    <tr>\n",
       "      <th>47</th>\n",
       "      <td>2.0</td>\n",
       "      <td>142</td>\n",
       "      <td>2013-01-02 03:00:00</td>\n",
       "      <td>0</td>\n",
       "      <td>0</td>\n",
       "      <td>2013-01-01 19:37:00</td>\n",
       "      <td>0</td>\n",
       "      <td>142--&gt;</td>\n",
       "      <td>5.454545</td>\n",
       "      <td>Low</td>\n",
       "    </tr>\n",
       "  </tbody>\n",
       "</table>\n",
       "</div>"
      ],
      "text/plain": [
       "    package_id from_area_id           from_date  online_booking  \\\n",
       "8          2.0          448 2013-01-01 16:00:00               0   \n",
       "20         2.0          471 2013-01-01 14:30:00               0   \n",
       "23         1.0         1286 2013-01-01 16:30:00               0   \n",
       "34         1.0         1323 2013-01-01 20:00:00               1   \n",
       "47         2.0          142 2013-01-02 03:00:00               0   \n",
       "\n",
       "    mobile_site_booking     booking_created  Car_Cancellation    route  \\\n",
       "8                     0 2013-01-01 09:44:00                 0   448-->   \n",
       "20                    0 2013-01-01 12:52:00                 0   471-->   \n",
       "23                    0 2013-01-01 14:39:00                 0  1286-->   \n",
       "34                    0 2013-01-01 17:25:00                 0  1323-->   \n",
       "47                    0 2013-01-01 19:37:00                 0   142-->   \n",
       "\n",
       "    canc_route_perc Canc_Tags  \n",
       "8         10.869565    Medium  \n",
       "20        11.111111    Medium  \n",
       "23         4.000000       Low  \n",
       "34        11.538462    Medium  \n",
       "47         5.454545       Low  "
      ]
     },
     "execution_count": 62,
     "metadata": {},
     "output_type": "execute_result"
    }
   ],
   "source": [
    "df3.head()"
   ]
  },
  {
   "cell_type": "code",
   "execution_count": 63,
   "id": "24606075",
   "metadata": {},
   "outputs": [
    {
     "data": {
      "text/plain": [
       "route\n",
       "1005-->    0.092715\n",
       "1008-->    0.066225\n",
       "1010-->    2.516556\n",
       "1012-->    0.039735\n",
       "1013-->    0.026490\n",
       "             ...   \n",
       "977-->     0.423841\n",
       "988-->     0.291391\n",
       "990-->     0.039735\n",
       "994-->     0.384106\n",
       "995-->     0.066225\n",
       "Name: from_area_id, Length: 482, dtype: float64"
      ]
     },
     "execution_count": 63,
     "metadata": {},
     "output_type": "execute_result"
    }
   ],
   "source": [
    "booking_route_perc=(df3.groupby('route').count()['from_area_id']/df3.shape[0])*100\n",
    "booking_route_perc"
   ]
  },
  {
   "cell_type": "code",
   "execution_count": 64,
   "id": "87a4e67e",
   "metadata": {},
   "outputs": [
    {
     "data": {
      "text/html": [
       "<div>\n",
       "<style scoped>\n",
       "    .dataframe tbody tr th:only-of-type {\n",
       "        vertical-align: middle;\n",
       "    }\n",
       "\n",
       "    .dataframe tbody tr th {\n",
       "        vertical-align: top;\n",
       "    }\n",
       "\n",
       "    .dataframe thead th {\n",
       "        text-align: right;\n",
       "    }\n",
       "</style>\n",
       "<table border=\"1\" class=\"dataframe\">\n",
       "  <thead>\n",
       "    <tr style=\"text-align: right;\">\n",
       "      <th></th>\n",
       "      <th>package_id</th>\n",
       "      <th>from_area_id</th>\n",
       "      <th>from_date</th>\n",
       "      <th>online_booking</th>\n",
       "      <th>mobile_site_booking</th>\n",
       "      <th>booking_created</th>\n",
       "      <th>Car_Cancellation</th>\n",
       "      <th>route</th>\n",
       "      <th>canc_route_perc</th>\n",
       "      <th>Canc_Tags</th>\n",
       "      <th>booking_route_perc</th>\n",
       "    </tr>\n",
       "  </thead>\n",
       "  <tbody>\n",
       "    <tr>\n",
       "      <th>8</th>\n",
       "      <td>2.0</td>\n",
       "      <td>448</td>\n",
       "      <td>2013-01-01 16:00:00</td>\n",
       "      <td>0</td>\n",
       "      <td>0</td>\n",
       "      <td>2013-01-01 09:44:00</td>\n",
       "      <td>0</td>\n",
       "      <td>448--&gt;</td>\n",
       "      <td>10.869565</td>\n",
       "      <td>Medium</td>\n",
       "      <td>0.609272</td>\n",
       "    </tr>\n",
       "    <tr>\n",
       "      <th>20</th>\n",
       "      <td>2.0</td>\n",
       "      <td>471</td>\n",
       "      <td>2013-01-01 14:30:00</td>\n",
       "      <td>0</td>\n",
       "      <td>0</td>\n",
       "      <td>2013-01-01 12:52:00</td>\n",
       "      <td>0</td>\n",
       "      <td>471--&gt;</td>\n",
       "      <td>11.111111</td>\n",
       "      <td>Medium</td>\n",
       "      <td>0.357616</td>\n",
       "    </tr>\n",
       "    <tr>\n",
       "      <th>23</th>\n",
       "      <td>1.0</td>\n",
       "      <td>1286</td>\n",
       "      <td>2013-01-01 16:30:00</td>\n",
       "      <td>0</td>\n",
       "      <td>0</td>\n",
       "      <td>2013-01-01 14:39:00</td>\n",
       "      <td>0</td>\n",
       "      <td>1286--&gt;</td>\n",
       "      <td>4.000000</td>\n",
       "      <td>Low</td>\n",
       "      <td>0.331126</td>\n",
       "    </tr>\n",
       "    <tr>\n",
       "      <th>34</th>\n",
       "      <td>1.0</td>\n",
       "      <td>1323</td>\n",
       "      <td>2013-01-01 20:00:00</td>\n",
       "      <td>1</td>\n",
       "      <td>0</td>\n",
       "      <td>2013-01-01 17:25:00</td>\n",
       "      <td>0</td>\n",
       "      <td>1323--&gt;</td>\n",
       "      <td>11.538462</td>\n",
       "      <td>Medium</td>\n",
       "      <td>0.344371</td>\n",
       "    </tr>\n",
       "    <tr>\n",
       "      <th>47</th>\n",
       "      <td>2.0</td>\n",
       "      <td>142</td>\n",
       "      <td>2013-01-02 03:00:00</td>\n",
       "      <td>0</td>\n",
       "      <td>0</td>\n",
       "      <td>2013-01-01 19:37:00</td>\n",
       "      <td>0</td>\n",
       "      <td>142--&gt;</td>\n",
       "      <td>5.454545</td>\n",
       "      <td>Low</td>\n",
       "      <td>1.456954</td>\n",
       "    </tr>\n",
       "  </tbody>\n",
       "</table>\n",
       "</div>"
      ],
      "text/plain": [
       "    package_id from_area_id           from_date  online_booking  \\\n",
       "8          2.0          448 2013-01-01 16:00:00               0   \n",
       "20         2.0          471 2013-01-01 14:30:00               0   \n",
       "23         1.0         1286 2013-01-01 16:30:00               0   \n",
       "34         1.0         1323 2013-01-01 20:00:00               1   \n",
       "47         2.0          142 2013-01-02 03:00:00               0   \n",
       "\n",
       "    mobile_site_booking     booking_created  Car_Cancellation    route  \\\n",
       "8                     0 2013-01-01 09:44:00                 0   448-->   \n",
       "20                    0 2013-01-01 12:52:00                 0   471-->   \n",
       "23                    0 2013-01-01 14:39:00                 0  1286-->   \n",
       "34                    0 2013-01-01 17:25:00                 0  1323-->   \n",
       "47                    0 2013-01-01 19:37:00                 0   142-->   \n",
       "\n",
       "    canc_route_perc Canc_Tags  booking_route_perc  \n",
       "8         10.869565    Medium            0.609272  \n",
       "20        11.111111    Medium            0.357616  \n",
       "23         4.000000       Low            0.331126  \n",
       "34        11.538462    Medium            0.344371  \n",
       "47         5.454545       Low            1.456954  "
      ]
     },
     "execution_count": 64,
     "metadata": {},
     "output_type": "execute_result"
    }
   ],
   "source": [
    "df3['booking_route_perc']=df3['route'].map(booking_route_perc)\n",
    "df3.head()"
   ]
  },
  {
   "cell_type": "code",
   "execution_count": 65,
   "id": "78822787",
   "metadata": {},
   "outputs": [
    {
     "data": {
      "text/html": [
       "<div>\n",
       "<style scoped>\n",
       "    .dataframe tbody tr th:only-of-type {\n",
       "        vertical-align: middle;\n",
       "    }\n",
       "\n",
       "    .dataframe tbody tr th {\n",
       "        vertical-align: top;\n",
       "    }\n",
       "\n",
       "    .dataframe thead th {\n",
       "        text-align: right;\n",
       "    }\n",
       "</style>\n",
       "<table border=\"1\" class=\"dataframe\">\n",
       "  <thead>\n",
       "    <tr style=\"text-align: right;\">\n",
       "      <th></th>\n",
       "      <th>package_id</th>\n",
       "      <th>online_booking</th>\n",
       "      <th>mobile_site_booking</th>\n",
       "      <th>Car_Cancellation</th>\n",
       "      <th>canc_route_perc</th>\n",
       "      <th>booking_route_perc</th>\n",
       "    </tr>\n",
       "  </thead>\n",
       "  <tbody>\n",
       "    <tr>\n",
       "      <th>count</th>\n",
       "      <td>7550.000000</td>\n",
       "      <td>7550.000000</td>\n",
       "      <td>7550.000000</td>\n",
       "      <td>7550.000000</td>\n",
       "      <td>7550.000000</td>\n",
       "      <td>7550.000000</td>\n",
       "    </tr>\n",
       "    <tr>\n",
       "      <th>mean</th>\n",
       "      <td>2.030066</td>\n",
       "      <td>0.283576</td>\n",
       "      <td>0.026358</td>\n",
       "      <td>0.044503</td>\n",
       "      <td>4.450331</td>\n",
       "      <td>0.912413</td>\n",
       "    </tr>\n",
       "    <tr>\n",
       "      <th>std</th>\n",
       "      <td>1.461756</td>\n",
       "      <td>0.450763</td>\n",
       "      <td>0.160207</td>\n",
       "      <td>0.206224</td>\n",
       "      <td>5.934479</td>\n",
       "      <td>1.124279</td>\n",
       "    </tr>\n",
       "    <tr>\n",
       "      <th>min</th>\n",
       "      <td>1.000000</td>\n",
       "      <td>0.000000</td>\n",
       "      <td>0.000000</td>\n",
       "      <td>0.000000</td>\n",
       "      <td>0.000000</td>\n",
       "      <td>0.013245</td>\n",
       "    </tr>\n",
       "    <tr>\n",
       "      <th>25%</th>\n",
       "      <td>1.000000</td>\n",
       "      <td>0.000000</td>\n",
       "      <td>0.000000</td>\n",
       "      <td>0.000000</td>\n",
       "      <td>0.000000</td>\n",
       "      <td>0.211921</td>\n",
       "    </tr>\n",
       "    <tr>\n",
       "      <th>50%</th>\n",
       "      <td>2.000000</td>\n",
       "      <td>0.000000</td>\n",
       "      <td>0.000000</td>\n",
       "      <td>0.000000</td>\n",
       "      <td>2.985075</td>\n",
       "      <td>0.503311</td>\n",
       "    </tr>\n",
       "    <tr>\n",
       "      <th>75%</th>\n",
       "      <td>2.000000</td>\n",
       "      <td>1.000000</td>\n",
       "      <td>0.000000</td>\n",
       "      <td>0.000000</td>\n",
       "      <td>6.849315</td>\n",
       "      <td>0.913907</td>\n",
       "    </tr>\n",
       "    <tr>\n",
       "      <th>max</th>\n",
       "      <td>7.000000</td>\n",
       "      <td>1.000000</td>\n",
       "      <td>1.000000</td>\n",
       "      <td>1.000000</td>\n",
       "      <td>100.000000</td>\n",
       "      <td>4.437086</td>\n",
       "    </tr>\n",
       "  </tbody>\n",
       "</table>\n",
       "</div>"
      ],
      "text/plain": [
       "        package_id  online_booking  mobile_site_booking  Car_Cancellation  \\\n",
       "count  7550.000000     7550.000000          7550.000000       7550.000000   \n",
       "mean      2.030066        0.283576             0.026358          0.044503   \n",
       "std       1.461756        0.450763             0.160207          0.206224   \n",
       "min       1.000000        0.000000             0.000000          0.000000   \n",
       "25%       1.000000        0.000000             0.000000          0.000000   \n",
       "50%       2.000000        0.000000             0.000000          0.000000   \n",
       "75%       2.000000        1.000000             0.000000          0.000000   \n",
       "max       7.000000        1.000000             1.000000          1.000000   \n",
       "\n",
       "       canc_route_perc  booking_route_perc  \n",
       "count      7550.000000         7550.000000  \n",
       "mean          4.450331            0.912413  \n",
       "std           5.934479            1.124279  \n",
       "min           0.000000            0.013245  \n",
       "25%           0.000000            0.211921  \n",
       "50%           2.985075            0.503311  \n",
       "75%           6.849315            0.913907  \n",
       "max         100.000000            4.437086  "
      ]
     },
     "execution_count": 65,
     "metadata": {},
     "output_type": "execute_result"
    }
   ],
   "source": [
    "df3.describe()"
   ]
  },
  {
   "cell_type": "code",
   "execution_count": 66,
   "id": "b3bfe7a8",
   "metadata": {},
   "outputs": [],
   "source": [
    "# min booking percentage is 0.013245% (that is some routes have this), 25% of the routes have booking percentage <=0.211921%,\n",
    "# 50% of the routes have booking percentage <=0.503311%, 75% of the routes have booking percentage <=0.913907, max is that\n",
    "# is some routes have booking percentage of <=4.437086%"
   ]
  },
  {
   "cell_type": "code",
   "execution_count": 67,
   "id": "5113c3ee",
   "metadata": {},
   "outputs": [],
   "source": [
    "def book(x):\n",
    "    if x<=0.503311:\n",
    "        return 'Low'\n",
    "    elif x<=0.913907:\n",
    "        return 'Medium'\n",
    "    else:\n",
    "        return 'High'"
   ]
  },
  {
   "cell_type": "code",
   "execution_count": 68,
   "id": "3470f0e8",
   "metadata": {},
   "outputs": [],
   "source": [
    "df3['Book_Tags']=df3['booking_route_perc'].apply(book)"
   ]
  },
  {
   "cell_type": "code",
   "execution_count": 69,
   "id": "6ccbc014",
   "metadata": {},
   "outputs": [
    {
     "data": {
      "text/html": [
       "<div>\n",
       "<style scoped>\n",
       "    .dataframe tbody tr th:only-of-type {\n",
       "        vertical-align: middle;\n",
       "    }\n",
       "\n",
       "    .dataframe tbody tr th {\n",
       "        vertical-align: top;\n",
       "    }\n",
       "\n",
       "    .dataframe thead th {\n",
       "        text-align: right;\n",
       "    }\n",
       "</style>\n",
       "<table border=\"1\" class=\"dataframe\">\n",
       "  <thead>\n",
       "    <tr style=\"text-align: right;\">\n",
       "      <th></th>\n",
       "      <th>package_id</th>\n",
       "      <th>from_area_id</th>\n",
       "      <th>from_date</th>\n",
       "      <th>online_booking</th>\n",
       "      <th>mobile_site_booking</th>\n",
       "      <th>booking_created</th>\n",
       "      <th>Car_Cancellation</th>\n",
       "      <th>route</th>\n",
       "      <th>canc_route_perc</th>\n",
       "      <th>Canc_Tags</th>\n",
       "      <th>booking_route_perc</th>\n",
       "      <th>Book_Tags</th>\n",
       "    </tr>\n",
       "  </thead>\n",
       "  <tbody>\n",
       "    <tr>\n",
       "      <th>8</th>\n",
       "      <td>2.0</td>\n",
       "      <td>448</td>\n",
       "      <td>2013-01-01 16:00:00</td>\n",
       "      <td>0</td>\n",
       "      <td>0</td>\n",
       "      <td>2013-01-01 09:44:00</td>\n",
       "      <td>0</td>\n",
       "      <td>448--&gt;</td>\n",
       "      <td>10.869565</td>\n",
       "      <td>Medium</td>\n",
       "      <td>0.609272</td>\n",
       "      <td>Medium</td>\n",
       "    </tr>\n",
       "    <tr>\n",
       "      <th>20</th>\n",
       "      <td>2.0</td>\n",
       "      <td>471</td>\n",
       "      <td>2013-01-01 14:30:00</td>\n",
       "      <td>0</td>\n",
       "      <td>0</td>\n",
       "      <td>2013-01-01 12:52:00</td>\n",
       "      <td>0</td>\n",
       "      <td>471--&gt;</td>\n",
       "      <td>11.111111</td>\n",
       "      <td>Medium</td>\n",
       "      <td>0.357616</td>\n",
       "      <td>Low</td>\n",
       "    </tr>\n",
       "    <tr>\n",
       "      <th>23</th>\n",
       "      <td>1.0</td>\n",
       "      <td>1286</td>\n",
       "      <td>2013-01-01 16:30:00</td>\n",
       "      <td>0</td>\n",
       "      <td>0</td>\n",
       "      <td>2013-01-01 14:39:00</td>\n",
       "      <td>0</td>\n",
       "      <td>1286--&gt;</td>\n",
       "      <td>4.000000</td>\n",
       "      <td>Low</td>\n",
       "      <td>0.331126</td>\n",
       "      <td>Low</td>\n",
       "    </tr>\n",
       "    <tr>\n",
       "      <th>34</th>\n",
       "      <td>1.0</td>\n",
       "      <td>1323</td>\n",
       "      <td>2013-01-01 20:00:00</td>\n",
       "      <td>1</td>\n",
       "      <td>0</td>\n",
       "      <td>2013-01-01 17:25:00</td>\n",
       "      <td>0</td>\n",
       "      <td>1323--&gt;</td>\n",
       "      <td>11.538462</td>\n",
       "      <td>Medium</td>\n",
       "      <td>0.344371</td>\n",
       "      <td>Low</td>\n",
       "    </tr>\n",
       "    <tr>\n",
       "      <th>47</th>\n",
       "      <td>2.0</td>\n",
       "      <td>142</td>\n",
       "      <td>2013-01-02 03:00:00</td>\n",
       "      <td>0</td>\n",
       "      <td>0</td>\n",
       "      <td>2013-01-01 19:37:00</td>\n",
       "      <td>0</td>\n",
       "      <td>142--&gt;</td>\n",
       "      <td>5.454545</td>\n",
       "      <td>Low</td>\n",
       "      <td>1.456954</td>\n",
       "      <td>High</td>\n",
       "    </tr>\n",
       "  </tbody>\n",
       "</table>\n",
       "</div>"
      ],
      "text/plain": [
       "    package_id from_area_id           from_date  online_booking  \\\n",
       "8          2.0          448 2013-01-01 16:00:00               0   \n",
       "20         2.0          471 2013-01-01 14:30:00               0   \n",
       "23         1.0         1286 2013-01-01 16:30:00               0   \n",
       "34         1.0         1323 2013-01-01 20:00:00               1   \n",
       "47         2.0          142 2013-01-02 03:00:00               0   \n",
       "\n",
       "    mobile_site_booking     booking_created  Car_Cancellation    route  \\\n",
       "8                     0 2013-01-01 09:44:00                 0   448-->   \n",
       "20                    0 2013-01-01 12:52:00                 0   471-->   \n",
       "23                    0 2013-01-01 14:39:00                 0  1286-->   \n",
       "34                    0 2013-01-01 17:25:00                 0  1323-->   \n",
       "47                    0 2013-01-01 19:37:00                 0   142-->   \n",
       "\n",
       "    canc_route_perc Canc_Tags  booking_route_perc Book_Tags  \n",
       "8         10.869565    Medium            0.609272    Medium  \n",
       "20        11.111111    Medium            0.357616       Low  \n",
       "23         4.000000       Low            0.331126       Low  \n",
       "34        11.538462    Medium            0.344371       Low  \n",
       "47         5.454545       Low            1.456954      High  "
      ]
     },
     "execution_count": 69,
     "metadata": {},
     "output_type": "execute_result"
    }
   ],
   "source": [
    "df3.head()"
   ]
  },
  {
   "cell_type": "code",
   "execution_count": 70,
   "id": "25f3faa0",
   "metadata": {},
   "outputs": [],
   "source": [
    "# Drop route, from_area_id, and the percentage columns\n",
    "df3=df3.drop(['from_area_id','route','canc_route_perc','booking_route_perc'],axis=1)"
   ]
  },
  {
   "cell_type": "code",
   "execution_count": 71,
   "id": "78f585d0",
   "metadata": {},
   "outputs": [
    {
     "data": {
      "text/html": [
       "<div>\n",
       "<style scoped>\n",
       "    .dataframe tbody tr th:only-of-type {\n",
       "        vertical-align: middle;\n",
       "    }\n",
       "\n",
       "    .dataframe tbody tr th {\n",
       "        vertical-align: top;\n",
       "    }\n",
       "\n",
       "    .dataframe thead th {\n",
       "        text-align: right;\n",
       "    }\n",
       "</style>\n",
       "<table border=\"1\" class=\"dataframe\">\n",
       "  <thead>\n",
       "    <tr style=\"text-align: right;\">\n",
       "      <th></th>\n",
       "      <th>package_id</th>\n",
       "      <th>from_date</th>\n",
       "      <th>online_booking</th>\n",
       "      <th>mobile_site_booking</th>\n",
       "      <th>booking_created</th>\n",
       "      <th>Car_Cancellation</th>\n",
       "      <th>Canc_Tags</th>\n",
       "      <th>Book_Tags</th>\n",
       "    </tr>\n",
       "  </thead>\n",
       "  <tbody>\n",
       "    <tr>\n",
       "      <th>8</th>\n",
       "      <td>2.0</td>\n",
       "      <td>2013-01-01 16:00:00</td>\n",
       "      <td>0</td>\n",
       "      <td>0</td>\n",
       "      <td>2013-01-01 09:44:00</td>\n",
       "      <td>0</td>\n",
       "      <td>Medium</td>\n",
       "      <td>Medium</td>\n",
       "    </tr>\n",
       "    <tr>\n",
       "      <th>20</th>\n",
       "      <td>2.0</td>\n",
       "      <td>2013-01-01 14:30:00</td>\n",
       "      <td>0</td>\n",
       "      <td>0</td>\n",
       "      <td>2013-01-01 12:52:00</td>\n",
       "      <td>0</td>\n",
       "      <td>Medium</td>\n",
       "      <td>Low</td>\n",
       "    </tr>\n",
       "    <tr>\n",
       "      <th>23</th>\n",
       "      <td>1.0</td>\n",
       "      <td>2013-01-01 16:30:00</td>\n",
       "      <td>0</td>\n",
       "      <td>0</td>\n",
       "      <td>2013-01-01 14:39:00</td>\n",
       "      <td>0</td>\n",
       "      <td>Low</td>\n",
       "      <td>Low</td>\n",
       "    </tr>\n",
       "    <tr>\n",
       "      <th>34</th>\n",
       "      <td>1.0</td>\n",
       "      <td>2013-01-01 20:00:00</td>\n",
       "      <td>1</td>\n",
       "      <td>0</td>\n",
       "      <td>2013-01-01 17:25:00</td>\n",
       "      <td>0</td>\n",
       "      <td>Medium</td>\n",
       "      <td>Low</td>\n",
       "    </tr>\n",
       "    <tr>\n",
       "      <th>47</th>\n",
       "      <td>2.0</td>\n",
       "      <td>2013-01-02 03:00:00</td>\n",
       "      <td>0</td>\n",
       "      <td>0</td>\n",
       "      <td>2013-01-01 19:37:00</td>\n",
       "      <td>0</td>\n",
       "      <td>Low</td>\n",
       "      <td>High</td>\n",
       "    </tr>\n",
       "  </tbody>\n",
       "</table>\n",
       "</div>"
      ],
      "text/plain": [
       "    package_id           from_date  online_booking  mobile_site_booking  \\\n",
       "8          2.0 2013-01-01 16:00:00               0                    0   \n",
       "20         2.0 2013-01-01 14:30:00               0                    0   \n",
       "23         1.0 2013-01-01 16:30:00               0                    0   \n",
       "34         1.0 2013-01-01 20:00:00               1                    0   \n",
       "47         2.0 2013-01-02 03:00:00               0                    0   \n",
       "\n",
       "       booking_created  Car_Cancellation Canc_Tags Book_Tags  \n",
       "8  2013-01-01 09:44:00                 0    Medium    Medium  \n",
       "20 2013-01-01 12:52:00                 0    Medium       Low  \n",
       "23 2013-01-01 14:39:00                 0       Low       Low  \n",
       "34 2013-01-01 17:25:00                 0    Medium       Low  \n",
       "47 2013-01-01 19:37:00                 0       Low      High  "
      ]
     },
     "execution_count": 71,
     "metadata": {},
     "output_type": "execute_result"
    }
   ],
   "source": [
    "df3.head()"
   ]
  },
  {
   "cell_type": "code",
   "execution_count": 72,
   "id": "e51ef6d6",
   "metadata": {},
   "outputs": [],
   "source": [
    "# Map the tags using label Encoding,as these two features are Ordinal Categorical variables.\n",
    "df3['Canc_Tags']=df3['Canc_Tags'].map({'Zero':0,'Low':1,'Medium':2,'High':3})\n",
    "df3['Book_Tags']=df3['Book_Tags'].map({'Low':1,'Medium':2,'High':3})"
   ]
  },
  {
   "cell_type": "code",
   "execution_count": 73,
   "id": "baed061c",
   "metadata": {},
   "outputs": [
    {
     "data": {
      "text/html": [
       "<div>\n",
       "<style scoped>\n",
       "    .dataframe tbody tr th:only-of-type {\n",
       "        vertical-align: middle;\n",
       "    }\n",
       "\n",
       "    .dataframe tbody tr th {\n",
       "        vertical-align: top;\n",
       "    }\n",
       "\n",
       "    .dataframe thead th {\n",
       "        text-align: right;\n",
       "    }\n",
       "</style>\n",
       "<table border=\"1\" class=\"dataframe\">\n",
       "  <thead>\n",
       "    <tr style=\"text-align: right;\">\n",
       "      <th></th>\n",
       "      <th>package_id</th>\n",
       "      <th>from_date</th>\n",
       "      <th>online_booking</th>\n",
       "      <th>mobile_site_booking</th>\n",
       "      <th>booking_created</th>\n",
       "      <th>Car_Cancellation</th>\n",
       "      <th>Canc_Tags</th>\n",
       "      <th>Book_Tags</th>\n",
       "    </tr>\n",
       "  </thead>\n",
       "  <tbody>\n",
       "    <tr>\n",
       "      <th>8</th>\n",
       "      <td>2.0</td>\n",
       "      <td>2013-01-01 16:00:00</td>\n",
       "      <td>0</td>\n",
       "      <td>0</td>\n",
       "      <td>2013-01-01 09:44:00</td>\n",
       "      <td>0</td>\n",
       "      <td>2</td>\n",
       "      <td>2</td>\n",
       "    </tr>\n",
       "    <tr>\n",
       "      <th>20</th>\n",
       "      <td>2.0</td>\n",
       "      <td>2013-01-01 14:30:00</td>\n",
       "      <td>0</td>\n",
       "      <td>0</td>\n",
       "      <td>2013-01-01 12:52:00</td>\n",
       "      <td>0</td>\n",
       "      <td>2</td>\n",
       "      <td>1</td>\n",
       "    </tr>\n",
       "    <tr>\n",
       "      <th>23</th>\n",
       "      <td>1.0</td>\n",
       "      <td>2013-01-01 16:30:00</td>\n",
       "      <td>0</td>\n",
       "      <td>0</td>\n",
       "      <td>2013-01-01 14:39:00</td>\n",
       "      <td>0</td>\n",
       "      <td>1</td>\n",
       "      <td>1</td>\n",
       "    </tr>\n",
       "    <tr>\n",
       "      <th>34</th>\n",
       "      <td>1.0</td>\n",
       "      <td>2013-01-01 20:00:00</td>\n",
       "      <td>1</td>\n",
       "      <td>0</td>\n",
       "      <td>2013-01-01 17:25:00</td>\n",
       "      <td>0</td>\n",
       "      <td>2</td>\n",
       "      <td>1</td>\n",
       "    </tr>\n",
       "    <tr>\n",
       "      <th>47</th>\n",
       "      <td>2.0</td>\n",
       "      <td>2013-01-02 03:00:00</td>\n",
       "      <td>0</td>\n",
       "      <td>0</td>\n",
       "      <td>2013-01-01 19:37:00</td>\n",
       "      <td>0</td>\n",
       "      <td>1</td>\n",
       "      <td>3</td>\n",
       "    </tr>\n",
       "  </tbody>\n",
       "</table>\n",
       "</div>"
      ],
      "text/plain": [
       "    package_id           from_date  online_booking  mobile_site_booking  \\\n",
       "8          2.0 2013-01-01 16:00:00               0                    0   \n",
       "20         2.0 2013-01-01 14:30:00               0                    0   \n",
       "23         1.0 2013-01-01 16:30:00               0                    0   \n",
       "34         1.0 2013-01-01 20:00:00               1                    0   \n",
       "47         2.0 2013-01-02 03:00:00               0                    0   \n",
       "\n",
       "       booking_created  Car_Cancellation  Canc_Tags  Book_Tags  \n",
       "8  2013-01-01 09:44:00                 0          2          2  \n",
       "20 2013-01-01 12:52:00                 0          2          1  \n",
       "23 2013-01-01 14:39:00                 0          1          1  \n",
       "34 2013-01-01 17:25:00                 0          2          1  \n",
       "47 2013-01-01 19:37:00                 0          1          3  "
      ]
     },
     "execution_count": 73,
     "metadata": {},
     "output_type": "execute_result"
    }
   ],
   "source": [
    "df3.head()"
   ]
  },
  {
   "cell_type": "code",
   "execution_count": 74,
   "id": "37b1a209",
   "metadata": {},
   "outputs": [
    {
     "name": "stdout",
     "output_type": "stream",
     "text": [
      "datetime64[ns]\n",
      "datetime64[ns]\n"
     ]
    }
   ],
   "source": [
    "print(df3['from_date'].dtypes)\n",
    "print(df3['booking_created'].dtypes)"
   ]
  },
  {
   "cell_type": "code",
   "execution_count": 75,
   "id": "c040c058",
   "metadata": {},
   "outputs": [],
   "source": [
    "df3['DayofWeek']=df3['from_date'].dt.day_name()"
   ]
  },
  {
   "cell_type": "code",
   "execution_count": 76,
   "id": "1454553d",
   "metadata": {},
   "outputs": [],
   "source": [
    "df3['Month']=df3['from_date'].dt.month"
   ]
  },
  {
   "cell_type": "code",
   "execution_count": 77,
   "id": "49279d98",
   "metadata": {},
   "outputs": [],
   "source": [
    "def get_season(month):\n",
    "    if month in [12,1,2]:\n",
    "        return 'Winter'\n",
    "    elif month in [3,4,5]:\n",
    "        return 'Spring'\n",
    "    elif month in [6,7,8]:\n",
    "        return 'Summer'\n",
    "    elif month in [9,10,11]:\n",
    "        return 'Fall'"
   ]
  },
  {
   "cell_type": "code",
   "execution_count": 78,
   "id": "05a0b7ac",
   "metadata": {},
   "outputs": [],
   "source": [
    "df3['Season']=df3['Month'].apply(get_season)"
   ]
  },
  {
   "cell_type": "code",
   "execution_count": 79,
   "id": "62433255",
   "metadata": {},
   "outputs": [
    {
     "data": {
      "text/html": [
       "<div>\n",
       "<style scoped>\n",
       "    .dataframe tbody tr th:only-of-type {\n",
       "        vertical-align: middle;\n",
       "    }\n",
       "\n",
       "    .dataframe tbody tr th {\n",
       "        vertical-align: top;\n",
       "    }\n",
       "\n",
       "    .dataframe thead th {\n",
       "        text-align: right;\n",
       "    }\n",
       "</style>\n",
       "<table border=\"1\" class=\"dataframe\">\n",
       "  <thead>\n",
       "    <tr style=\"text-align: right;\">\n",
       "      <th></th>\n",
       "      <th>package_id</th>\n",
       "      <th>from_date</th>\n",
       "      <th>online_booking</th>\n",
       "      <th>mobile_site_booking</th>\n",
       "      <th>booking_created</th>\n",
       "      <th>Car_Cancellation</th>\n",
       "      <th>Canc_Tags</th>\n",
       "      <th>Book_Tags</th>\n",
       "      <th>DayofWeek</th>\n",
       "      <th>Month</th>\n",
       "      <th>Season</th>\n",
       "    </tr>\n",
       "  </thead>\n",
       "  <tbody>\n",
       "    <tr>\n",
       "      <th>8</th>\n",
       "      <td>2.0</td>\n",
       "      <td>2013-01-01 16:00:00</td>\n",
       "      <td>0</td>\n",
       "      <td>0</td>\n",
       "      <td>2013-01-01 09:44:00</td>\n",
       "      <td>0</td>\n",
       "      <td>2</td>\n",
       "      <td>2</td>\n",
       "      <td>Tuesday</td>\n",
       "      <td>1</td>\n",
       "      <td>Winter</td>\n",
       "    </tr>\n",
       "    <tr>\n",
       "      <th>20</th>\n",
       "      <td>2.0</td>\n",
       "      <td>2013-01-01 14:30:00</td>\n",
       "      <td>0</td>\n",
       "      <td>0</td>\n",
       "      <td>2013-01-01 12:52:00</td>\n",
       "      <td>0</td>\n",
       "      <td>2</td>\n",
       "      <td>1</td>\n",
       "      <td>Tuesday</td>\n",
       "      <td>1</td>\n",
       "      <td>Winter</td>\n",
       "    </tr>\n",
       "    <tr>\n",
       "      <th>23</th>\n",
       "      <td>1.0</td>\n",
       "      <td>2013-01-01 16:30:00</td>\n",
       "      <td>0</td>\n",
       "      <td>0</td>\n",
       "      <td>2013-01-01 14:39:00</td>\n",
       "      <td>0</td>\n",
       "      <td>1</td>\n",
       "      <td>1</td>\n",
       "      <td>Tuesday</td>\n",
       "      <td>1</td>\n",
       "      <td>Winter</td>\n",
       "    </tr>\n",
       "    <tr>\n",
       "      <th>34</th>\n",
       "      <td>1.0</td>\n",
       "      <td>2013-01-01 20:00:00</td>\n",
       "      <td>1</td>\n",
       "      <td>0</td>\n",
       "      <td>2013-01-01 17:25:00</td>\n",
       "      <td>0</td>\n",
       "      <td>2</td>\n",
       "      <td>1</td>\n",
       "      <td>Tuesday</td>\n",
       "      <td>1</td>\n",
       "      <td>Winter</td>\n",
       "    </tr>\n",
       "    <tr>\n",
       "      <th>47</th>\n",
       "      <td>2.0</td>\n",
       "      <td>2013-01-02 03:00:00</td>\n",
       "      <td>0</td>\n",
       "      <td>0</td>\n",
       "      <td>2013-01-01 19:37:00</td>\n",
       "      <td>0</td>\n",
       "      <td>1</td>\n",
       "      <td>3</td>\n",
       "      <td>Wednesday</td>\n",
       "      <td>1</td>\n",
       "      <td>Winter</td>\n",
       "    </tr>\n",
       "  </tbody>\n",
       "</table>\n",
       "</div>"
      ],
      "text/plain": [
       "    package_id           from_date  online_booking  mobile_site_booking  \\\n",
       "8          2.0 2013-01-01 16:00:00               0                    0   \n",
       "20         2.0 2013-01-01 14:30:00               0                    0   \n",
       "23         1.0 2013-01-01 16:30:00               0                    0   \n",
       "34         1.0 2013-01-01 20:00:00               1                    0   \n",
       "47         2.0 2013-01-02 03:00:00               0                    0   \n",
       "\n",
       "       booking_created  Car_Cancellation  Canc_Tags  Book_Tags  DayofWeek  \\\n",
       "8  2013-01-01 09:44:00                 0          2          2    Tuesday   \n",
       "20 2013-01-01 12:52:00                 0          2          1    Tuesday   \n",
       "23 2013-01-01 14:39:00                 0          1          1    Tuesday   \n",
       "34 2013-01-01 17:25:00                 0          2          1    Tuesday   \n",
       "47 2013-01-01 19:37:00                 0          1          3  Wednesday   \n",
       "\n",
       "    Month  Season  \n",
       "8       1  Winter  \n",
       "20      1  Winter  \n",
       "23      1  Winter  \n",
       "34      1  Winter  \n",
       "47      1  Winter  "
      ]
     },
     "execution_count": 79,
     "metadata": {},
     "output_type": "execute_result"
    }
   ],
   "source": [
    "df3.head()"
   ]
  },
  {
   "cell_type": "code",
   "execution_count": 80,
   "id": "d13ae44d",
   "metadata": {},
   "outputs": [],
   "source": [
    "df3['Weekday/Weekend']=df3['from_date'].dt.dayofweek//5"
   ]
  },
  {
   "cell_type": "code",
   "execution_count": 81,
   "id": "076c9513",
   "metadata": {},
   "outputs": [
    {
     "data": {
      "text/html": [
       "<div>\n",
       "<style scoped>\n",
       "    .dataframe tbody tr th:only-of-type {\n",
       "        vertical-align: middle;\n",
       "    }\n",
       "\n",
       "    .dataframe tbody tr th {\n",
       "        vertical-align: top;\n",
       "    }\n",
       "\n",
       "    .dataframe thead th {\n",
       "        text-align: right;\n",
       "    }\n",
       "</style>\n",
       "<table border=\"1\" class=\"dataframe\">\n",
       "  <thead>\n",
       "    <tr style=\"text-align: right;\">\n",
       "      <th></th>\n",
       "      <th>package_id</th>\n",
       "      <th>from_date</th>\n",
       "      <th>online_booking</th>\n",
       "      <th>mobile_site_booking</th>\n",
       "      <th>booking_created</th>\n",
       "      <th>Car_Cancellation</th>\n",
       "      <th>Canc_Tags</th>\n",
       "      <th>Book_Tags</th>\n",
       "      <th>DayofWeek</th>\n",
       "      <th>Month</th>\n",
       "      <th>Season</th>\n",
       "      <th>Weekday/Weekend</th>\n",
       "    </tr>\n",
       "  </thead>\n",
       "  <tbody>\n",
       "    <tr>\n",
       "      <th>8</th>\n",
       "      <td>2.0</td>\n",
       "      <td>2013-01-01 16:00:00</td>\n",
       "      <td>0</td>\n",
       "      <td>0</td>\n",
       "      <td>2013-01-01 09:44:00</td>\n",
       "      <td>0</td>\n",
       "      <td>2</td>\n",
       "      <td>2</td>\n",
       "      <td>Tuesday</td>\n",
       "      <td>1</td>\n",
       "      <td>Winter</td>\n",
       "      <td>0</td>\n",
       "    </tr>\n",
       "    <tr>\n",
       "      <th>20</th>\n",
       "      <td>2.0</td>\n",
       "      <td>2013-01-01 14:30:00</td>\n",
       "      <td>0</td>\n",
       "      <td>0</td>\n",
       "      <td>2013-01-01 12:52:00</td>\n",
       "      <td>0</td>\n",
       "      <td>2</td>\n",
       "      <td>1</td>\n",
       "      <td>Tuesday</td>\n",
       "      <td>1</td>\n",
       "      <td>Winter</td>\n",
       "      <td>0</td>\n",
       "    </tr>\n",
       "    <tr>\n",
       "      <th>23</th>\n",
       "      <td>1.0</td>\n",
       "      <td>2013-01-01 16:30:00</td>\n",
       "      <td>0</td>\n",
       "      <td>0</td>\n",
       "      <td>2013-01-01 14:39:00</td>\n",
       "      <td>0</td>\n",
       "      <td>1</td>\n",
       "      <td>1</td>\n",
       "      <td>Tuesday</td>\n",
       "      <td>1</td>\n",
       "      <td>Winter</td>\n",
       "      <td>0</td>\n",
       "    </tr>\n",
       "    <tr>\n",
       "      <th>34</th>\n",
       "      <td>1.0</td>\n",
       "      <td>2013-01-01 20:00:00</td>\n",
       "      <td>1</td>\n",
       "      <td>0</td>\n",
       "      <td>2013-01-01 17:25:00</td>\n",
       "      <td>0</td>\n",
       "      <td>2</td>\n",
       "      <td>1</td>\n",
       "      <td>Tuesday</td>\n",
       "      <td>1</td>\n",
       "      <td>Winter</td>\n",
       "      <td>0</td>\n",
       "    </tr>\n",
       "    <tr>\n",
       "      <th>47</th>\n",
       "      <td>2.0</td>\n",
       "      <td>2013-01-02 03:00:00</td>\n",
       "      <td>0</td>\n",
       "      <td>0</td>\n",
       "      <td>2013-01-01 19:37:00</td>\n",
       "      <td>0</td>\n",
       "      <td>1</td>\n",
       "      <td>3</td>\n",
       "      <td>Wednesday</td>\n",
       "      <td>1</td>\n",
       "      <td>Winter</td>\n",
       "      <td>0</td>\n",
       "    </tr>\n",
       "  </tbody>\n",
       "</table>\n",
       "</div>"
      ],
      "text/plain": [
       "    package_id           from_date  online_booking  mobile_site_booking  \\\n",
       "8          2.0 2013-01-01 16:00:00               0                    0   \n",
       "20         2.0 2013-01-01 14:30:00               0                    0   \n",
       "23         1.0 2013-01-01 16:30:00               0                    0   \n",
       "34         1.0 2013-01-01 20:00:00               1                    0   \n",
       "47         2.0 2013-01-02 03:00:00               0                    0   \n",
       "\n",
       "       booking_created  Car_Cancellation  Canc_Tags  Book_Tags  DayofWeek  \\\n",
       "8  2013-01-01 09:44:00                 0          2          2    Tuesday   \n",
       "20 2013-01-01 12:52:00                 0          2          1    Tuesday   \n",
       "23 2013-01-01 14:39:00                 0          1          1    Tuesday   \n",
       "34 2013-01-01 17:25:00                 0          2          1    Tuesday   \n",
       "47 2013-01-01 19:37:00                 0          1          3  Wednesday   \n",
       "\n",
       "    Month  Season  Weekday/Weekend  \n",
       "8       1  Winter                0  \n",
       "20      1  Winter                0  \n",
       "23      1  Winter                0  \n",
       "34      1  Winter                0  \n",
       "47      1  Winter                0  "
      ]
     },
     "execution_count": 81,
     "metadata": {},
     "output_type": "execute_result"
    }
   ],
   "source": [
    "df3.head()"
   ]
  },
  {
   "cell_type": "code",
   "execution_count": 82,
   "id": "ed051287",
   "metadata": {},
   "outputs": [],
   "source": [
    "def time(hour):\n",
    "    if hour>=6 and hour<12:\n",
    "        return 'Morning'\n",
    "    elif hour>=12 and hour<18:\n",
    "        return 'Afternoon'\n",
    "    elif hour>=18 and hour<24:\n",
    "        return 'Evening'\n",
    "    else:\n",
    "        return 'Night'"
   ]
  },
  {
   "cell_type": "code",
   "execution_count": 83,
   "id": "79823a2f",
   "metadata": {},
   "outputs": [],
   "source": [
    "df3['TimeofDay']=df3['from_date'].dt.hour.apply(time)"
   ]
  },
  {
   "cell_type": "code",
   "execution_count": 84,
   "id": "2a17d0d8",
   "metadata": {},
   "outputs": [],
   "source": [
    "df3['Book_DayofWeek']=df3['booking_created'].dt.day_name()"
   ]
  },
  {
   "cell_type": "code",
   "execution_count": 85,
   "id": "7fa8916f",
   "metadata": {},
   "outputs": [],
   "source": [
    "df3['Book_Month']=df3['booking_created'].dt.month"
   ]
  },
  {
   "cell_type": "code",
   "execution_count": 86,
   "id": "88c22ff8",
   "metadata": {},
   "outputs": [],
   "source": [
    "def get_season1(month):\n",
    "    if month in [12,1,2]:\n",
    "        return 'Winter'\n",
    "    elif month in [3,4,5]:\n",
    "        return 'Spring'\n",
    "    elif month in [6,7,8]:\n",
    "        return 'Summer'\n",
    "    elif month in [9,10,11]:\n",
    "        return 'Fall'"
   ]
  },
  {
   "cell_type": "code",
   "execution_count": 87,
   "id": "40bc3608",
   "metadata": {},
   "outputs": [],
   "source": [
    "df3['Book_Season']=df3['Book_Month'].apply(get_season1)"
   ]
  },
  {
   "cell_type": "code",
   "execution_count": 88,
   "id": "608ad39a",
   "metadata": {},
   "outputs": [
    {
     "data": {
      "text/html": [
       "<div>\n",
       "<style scoped>\n",
       "    .dataframe tbody tr th:only-of-type {\n",
       "        vertical-align: middle;\n",
       "    }\n",
       "\n",
       "    .dataframe tbody tr th {\n",
       "        vertical-align: top;\n",
       "    }\n",
       "\n",
       "    .dataframe thead th {\n",
       "        text-align: right;\n",
       "    }\n",
       "</style>\n",
       "<table border=\"1\" class=\"dataframe\">\n",
       "  <thead>\n",
       "    <tr style=\"text-align: right;\">\n",
       "      <th></th>\n",
       "      <th>package_id</th>\n",
       "      <th>from_date</th>\n",
       "      <th>online_booking</th>\n",
       "      <th>mobile_site_booking</th>\n",
       "      <th>booking_created</th>\n",
       "      <th>Car_Cancellation</th>\n",
       "      <th>Canc_Tags</th>\n",
       "      <th>Book_Tags</th>\n",
       "      <th>DayofWeek</th>\n",
       "      <th>Month</th>\n",
       "      <th>Season</th>\n",
       "      <th>Weekday/Weekend</th>\n",
       "      <th>TimeofDay</th>\n",
       "      <th>Book_DayofWeek</th>\n",
       "      <th>Book_Month</th>\n",
       "      <th>Book_Season</th>\n",
       "    </tr>\n",
       "  </thead>\n",
       "  <tbody>\n",
       "    <tr>\n",
       "      <th>8</th>\n",
       "      <td>2.0</td>\n",
       "      <td>2013-01-01 16:00:00</td>\n",
       "      <td>0</td>\n",
       "      <td>0</td>\n",
       "      <td>2013-01-01 09:44:00</td>\n",
       "      <td>0</td>\n",
       "      <td>2</td>\n",
       "      <td>2</td>\n",
       "      <td>Tuesday</td>\n",
       "      <td>1</td>\n",
       "      <td>Winter</td>\n",
       "      <td>0</td>\n",
       "      <td>Afternoon</td>\n",
       "      <td>Tuesday</td>\n",
       "      <td>1</td>\n",
       "      <td>Winter</td>\n",
       "    </tr>\n",
       "    <tr>\n",
       "      <th>20</th>\n",
       "      <td>2.0</td>\n",
       "      <td>2013-01-01 14:30:00</td>\n",
       "      <td>0</td>\n",
       "      <td>0</td>\n",
       "      <td>2013-01-01 12:52:00</td>\n",
       "      <td>0</td>\n",
       "      <td>2</td>\n",
       "      <td>1</td>\n",
       "      <td>Tuesday</td>\n",
       "      <td>1</td>\n",
       "      <td>Winter</td>\n",
       "      <td>0</td>\n",
       "      <td>Afternoon</td>\n",
       "      <td>Tuesday</td>\n",
       "      <td>1</td>\n",
       "      <td>Winter</td>\n",
       "    </tr>\n",
       "    <tr>\n",
       "      <th>23</th>\n",
       "      <td>1.0</td>\n",
       "      <td>2013-01-01 16:30:00</td>\n",
       "      <td>0</td>\n",
       "      <td>0</td>\n",
       "      <td>2013-01-01 14:39:00</td>\n",
       "      <td>0</td>\n",
       "      <td>1</td>\n",
       "      <td>1</td>\n",
       "      <td>Tuesday</td>\n",
       "      <td>1</td>\n",
       "      <td>Winter</td>\n",
       "      <td>0</td>\n",
       "      <td>Afternoon</td>\n",
       "      <td>Tuesday</td>\n",
       "      <td>1</td>\n",
       "      <td>Winter</td>\n",
       "    </tr>\n",
       "    <tr>\n",
       "      <th>34</th>\n",
       "      <td>1.0</td>\n",
       "      <td>2013-01-01 20:00:00</td>\n",
       "      <td>1</td>\n",
       "      <td>0</td>\n",
       "      <td>2013-01-01 17:25:00</td>\n",
       "      <td>0</td>\n",
       "      <td>2</td>\n",
       "      <td>1</td>\n",
       "      <td>Tuesday</td>\n",
       "      <td>1</td>\n",
       "      <td>Winter</td>\n",
       "      <td>0</td>\n",
       "      <td>Evening</td>\n",
       "      <td>Tuesday</td>\n",
       "      <td>1</td>\n",
       "      <td>Winter</td>\n",
       "    </tr>\n",
       "    <tr>\n",
       "      <th>47</th>\n",
       "      <td>2.0</td>\n",
       "      <td>2013-01-02 03:00:00</td>\n",
       "      <td>0</td>\n",
       "      <td>0</td>\n",
       "      <td>2013-01-01 19:37:00</td>\n",
       "      <td>0</td>\n",
       "      <td>1</td>\n",
       "      <td>3</td>\n",
       "      <td>Wednesday</td>\n",
       "      <td>1</td>\n",
       "      <td>Winter</td>\n",
       "      <td>0</td>\n",
       "      <td>Night</td>\n",
       "      <td>Tuesday</td>\n",
       "      <td>1</td>\n",
       "      <td>Winter</td>\n",
       "    </tr>\n",
       "  </tbody>\n",
       "</table>\n",
       "</div>"
      ],
      "text/plain": [
       "    package_id           from_date  online_booking  mobile_site_booking  \\\n",
       "8          2.0 2013-01-01 16:00:00               0                    0   \n",
       "20         2.0 2013-01-01 14:30:00               0                    0   \n",
       "23         1.0 2013-01-01 16:30:00               0                    0   \n",
       "34         1.0 2013-01-01 20:00:00               1                    0   \n",
       "47         2.0 2013-01-02 03:00:00               0                    0   \n",
       "\n",
       "       booking_created  Car_Cancellation  Canc_Tags  Book_Tags  DayofWeek  \\\n",
       "8  2013-01-01 09:44:00                 0          2          2    Tuesday   \n",
       "20 2013-01-01 12:52:00                 0          2          1    Tuesday   \n",
       "23 2013-01-01 14:39:00                 0          1          1    Tuesday   \n",
       "34 2013-01-01 17:25:00                 0          2          1    Tuesday   \n",
       "47 2013-01-01 19:37:00                 0          1          3  Wednesday   \n",
       "\n",
       "    Month  Season  Weekday/Weekend  TimeofDay Book_DayofWeek  Book_Month  \\\n",
       "8       1  Winter                0  Afternoon        Tuesday           1   \n",
       "20      1  Winter                0  Afternoon        Tuesday           1   \n",
       "23      1  Winter                0  Afternoon        Tuesday           1   \n",
       "34      1  Winter                0    Evening        Tuesday           1   \n",
       "47      1  Winter                0      Night        Tuesday           1   \n",
       "\n",
       "   Book_Season  \n",
       "8       Winter  \n",
       "20      Winter  \n",
       "23      Winter  \n",
       "34      Winter  \n",
       "47      Winter  "
      ]
     },
     "execution_count": 88,
     "metadata": {},
     "output_type": "execute_result"
    }
   ],
   "source": [
    "df3.head()"
   ]
  },
  {
   "cell_type": "code",
   "execution_count": 89,
   "id": "d3902c0f",
   "metadata": {},
   "outputs": [],
   "source": [
    "df3['book_Weekday/Weekend']=df3['booking_created'].dt.dayofweek//5"
   ]
  },
  {
   "cell_type": "code",
   "execution_count": 90,
   "id": "02c25a3f",
   "metadata": {},
   "outputs": [],
   "source": [
    "def time1(hour):\n",
    "    if hour>=6 and hour<12:\n",
    "        return 'Morning'\n",
    "    elif hour>=12 and hour<18:\n",
    "        return 'Afternoon'\n",
    "    elif hour>=18 and hour<24:\n",
    "        return 'Evening'\n",
    "    else:\n",
    "        return 'Night'"
   ]
  },
  {
   "cell_type": "code",
   "execution_count": 91,
   "id": "ebdd0b96",
   "metadata": {},
   "outputs": [],
   "source": [
    "df3['Book_TimeofDay']=df3['booking_created'].dt.hour.apply(time1)"
   ]
  },
  {
   "cell_type": "code",
   "execution_count": 92,
   "id": "c98a9352",
   "metadata": {},
   "outputs": [
    {
     "data": {
      "text/html": [
       "<div>\n",
       "<style scoped>\n",
       "    .dataframe tbody tr th:only-of-type {\n",
       "        vertical-align: middle;\n",
       "    }\n",
       "\n",
       "    .dataframe tbody tr th {\n",
       "        vertical-align: top;\n",
       "    }\n",
       "\n",
       "    .dataframe thead th {\n",
       "        text-align: right;\n",
       "    }\n",
       "</style>\n",
       "<table border=\"1\" class=\"dataframe\">\n",
       "  <thead>\n",
       "    <tr style=\"text-align: right;\">\n",
       "      <th></th>\n",
       "      <th>package_id</th>\n",
       "      <th>from_date</th>\n",
       "      <th>online_booking</th>\n",
       "      <th>mobile_site_booking</th>\n",
       "      <th>booking_created</th>\n",
       "      <th>Car_Cancellation</th>\n",
       "      <th>Canc_Tags</th>\n",
       "      <th>Book_Tags</th>\n",
       "      <th>DayofWeek</th>\n",
       "      <th>Month</th>\n",
       "      <th>Season</th>\n",
       "      <th>Weekday/Weekend</th>\n",
       "      <th>TimeofDay</th>\n",
       "      <th>Book_DayofWeek</th>\n",
       "      <th>Book_Month</th>\n",
       "      <th>Book_Season</th>\n",
       "      <th>book_Weekday/Weekend</th>\n",
       "      <th>Book_TimeofDay</th>\n",
       "    </tr>\n",
       "  </thead>\n",
       "  <tbody>\n",
       "    <tr>\n",
       "      <th>8</th>\n",
       "      <td>2.0</td>\n",
       "      <td>2013-01-01 16:00:00</td>\n",
       "      <td>0</td>\n",
       "      <td>0</td>\n",
       "      <td>2013-01-01 09:44:00</td>\n",
       "      <td>0</td>\n",
       "      <td>2</td>\n",
       "      <td>2</td>\n",
       "      <td>Tuesday</td>\n",
       "      <td>1</td>\n",
       "      <td>Winter</td>\n",
       "      <td>0</td>\n",
       "      <td>Afternoon</td>\n",
       "      <td>Tuesday</td>\n",
       "      <td>1</td>\n",
       "      <td>Winter</td>\n",
       "      <td>0</td>\n",
       "      <td>Morning</td>\n",
       "    </tr>\n",
       "    <tr>\n",
       "      <th>20</th>\n",
       "      <td>2.0</td>\n",
       "      <td>2013-01-01 14:30:00</td>\n",
       "      <td>0</td>\n",
       "      <td>0</td>\n",
       "      <td>2013-01-01 12:52:00</td>\n",
       "      <td>0</td>\n",
       "      <td>2</td>\n",
       "      <td>1</td>\n",
       "      <td>Tuesday</td>\n",
       "      <td>1</td>\n",
       "      <td>Winter</td>\n",
       "      <td>0</td>\n",
       "      <td>Afternoon</td>\n",
       "      <td>Tuesday</td>\n",
       "      <td>1</td>\n",
       "      <td>Winter</td>\n",
       "      <td>0</td>\n",
       "      <td>Afternoon</td>\n",
       "    </tr>\n",
       "    <tr>\n",
       "      <th>23</th>\n",
       "      <td>1.0</td>\n",
       "      <td>2013-01-01 16:30:00</td>\n",
       "      <td>0</td>\n",
       "      <td>0</td>\n",
       "      <td>2013-01-01 14:39:00</td>\n",
       "      <td>0</td>\n",
       "      <td>1</td>\n",
       "      <td>1</td>\n",
       "      <td>Tuesday</td>\n",
       "      <td>1</td>\n",
       "      <td>Winter</td>\n",
       "      <td>0</td>\n",
       "      <td>Afternoon</td>\n",
       "      <td>Tuesday</td>\n",
       "      <td>1</td>\n",
       "      <td>Winter</td>\n",
       "      <td>0</td>\n",
       "      <td>Afternoon</td>\n",
       "    </tr>\n",
       "    <tr>\n",
       "      <th>34</th>\n",
       "      <td>1.0</td>\n",
       "      <td>2013-01-01 20:00:00</td>\n",
       "      <td>1</td>\n",
       "      <td>0</td>\n",
       "      <td>2013-01-01 17:25:00</td>\n",
       "      <td>0</td>\n",
       "      <td>2</td>\n",
       "      <td>1</td>\n",
       "      <td>Tuesday</td>\n",
       "      <td>1</td>\n",
       "      <td>Winter</td>\n",
       "      <td>0</td>\n",
       "      <td>Evening</td>\n",
       "      <td>Tuesday</td>\n",
       "      <td>1</td>\n",
       "      <td>Winter</td>\n",
       "      <td>0</td>\n",
       "      <td>Afternoon</td>\n",
       "    </tr>\n",
       "    <tr>\n",
       "      <th>47</th>\n",
       "      <td>2.0</td>\n",
       "      <td>2013-01-02 03:00:00</td>\n",
       "      <td>0</td>\n",
       "      <td>0</td>\n",
       "      <td>2013-01-01 19:37:00</td>\n",
       "      <td>0</td>\n",
       "      <td>1</td>\n",
       "      <td>3</td>\n",
       "      <td>Wednesday</td>\n",
       "      <td>1</td>\n",
       "      <td>Winter</td>\n",
       "      <td>0</td>\n",
       "      <td>Night</td>\n",
       "      <td>Tuesday</td>\n",
       "      <td>1</td>\n",
       "      <td>Winter</td>\n",
       "      <td>0</td>\n",
       "      <td>Evening</td>\n",
       "    </tr>\n",
       "  </tbody>\n",
       "</table>\n",
       "</div>"
      ],
      "text/plain": [
       "    package_id           from_date  online_booking  mobile_site_booking  \\\n",
       "8          2.0 2013-01-01 16:00:00               0                    0   \n",
       "20         2.0 2013-01-01 14:30:00               0                    0   \n",
       "23         1.0 2013-01-01 16:30:00               0                    0   \n",
       "34         1.0 2013-01-01 20:00:00               1                    0   \n",
       "47         2.0 2013-01-02 03:00:00               0                    0   \n",
       "\n",
       "       booking_created  Car_Cancellation  Canc_Tags  Book_Tags  DayofWeek  \\\n",
       "8  2013-01-01 09:44:00                 0          2          2    Tuesday   \n",
       "20 2013-01-01 12:52:00                 0          2          1    Tuesday   \n",
       "23 2013-01-01 14:39:00                 0          1          1    Tuesday   \n",
       "34 2013-01-01 17:25:00                 0          2          1    Tuesday   \n",
       "47 2013-01-01 19:37:00                 0          1          3  Wednesday   \n",
       "\n",
       "    Month  Season  Weekday/Weekend  TimeofDay Book_DayofWeek  Book_Month  \\\n",
       "8       1  Winter                0  Afternoon        Tuesday           1   \n",
       "20      1  Winter                0  Afternoon        Tuesday           1   \n",
       "23      1  Winter                0  Afternoon        Tuesday           1   \n",
       "34      1  Winter                0    Evening        Tuesday           1   \n",
       "47      1  Winter                0      Night        Tuesday           1   \n",
       "\n",
       "   Book_Season  book_Weekday/Weekend Book_TimeofDay  \n",
       "8       Winter                     0        Morning  \n",
       "20      Winter                     0      Afternoon  \n",
       "23      Winter                     0      Afternoon  \n",
       "34      Winter                     0      Afternoon  \n",
       "47      Winter                     0        Evening  "
      ]
     },
     "execution_count": 92,
     "metadata": {},
     "output_type": "execute_result"
    }
   ],
   "source": [
    "df3.head()"
   ]
  },
  {
   "cell_type": "code",
   "execution_count": 93,
   "id": "7c387ff8",
   "metadata": {},
   "outputs": [],
   "source": [
    "df3['Time_Gap_hours']=(df3['from_date']-df3['booking_created']).dt.total_seconds()/3600"
   ]
  },
  {
   "cell_type": "code",
   "execution_count": 94,
   "id": "3c90f5b7",
   "metadata": {},
   "outputs": [
    {
     "data": {
      "text/html": [
       "<div>\n",
       "<style scoped>\n",
       "    .dataframe tbody tr th:only-of-type {\n",
       "        vertical-align: middle;\n",
       "    }\n",
       "\n",
       "    .dataframe tbody tr th {\n",
       "        vertical-align: top;\n",
       "    }\n",
       "\n",
       "    .dataframe thead th {\n",
       "        text-align: right;\n",
       "    }\n",
       "</style>\n",
       "<table border=\"1\" class=\"dataframe\">\n",
       "  <thead>\n",
       "    <tr style=\"text-align: right;\">\n",
       "      <th></th>\n",
       "      <th>package_id</th>\n",
       "      <th>from_date</th>\n",
       "      <th>online_booking</th>\n",
       "      <th>mobile_site_booking</th>\n",
       "      <th>booking_created</th>\n",
       "      <th>Car_Cancellation</th>\n",
       "      <th>Canc_Tags</th>\n",
       "      <th>Book_Tags</th>\n",
       "      <th>DayofWeek</th>\n",
       "      <th>Month</th>\n",
       "      <th>Season</th>\n",
       "      <th>Weekday/Weekend</th>\n",
       "      <th>TimeofDay</th>\n",
       "      <th>Book_DayofWeek</th>\n",
       "      <th>Book_Month</th>\n",
       "      <th>Book_Season</th>\n",
       "      <th>book_Weekday/Weekend</th>\n",
       "      <th>Book_TimeofDay</th>\n",
       "      <th>Time_Gap_hours</th>\n",
       "    </tr>\n",
       "  </thead>\n",
       "  <tbody>\n",
       "    <tr>\n",
       "      <th>8</th>\n",
       "      <td>2.0</td>\n",
       "      <td>2013-01-01 16:00:00</td>\n",
       "      <td>0</td>\n",
       "      <td>0</td>\n",
       "      <td>2013-01-01 09:44:00</td>\n",
       "      <td>0</td>\n",
       "      <td>2</td>\n",
       "      <td>2</td>\n",
       "      <td>Tuesday</td>\n",
       "      <td>1</td>\n",
       "      <td>Winter</td>\n",
       "      <td>0</td>\n",
       "      <td>Afternoon</td>\n",
       "      <td>Tuesday</td>\n",
       "      <td>1</td>\n",
       "      <td>Winter</td>\n",
       "      <td>0</td>\n",
       "      <td>Morning</td>\n",
       "      <td>6.266667</td>\n",
       "    </tr>\n",
       "    <tr>\n",
       "      <th>20</th>\n",
       "      <td>2.0</td>\n",
       "      <td>2013-01-01 14:30:00</td>\n",
       "      <td>0</td>\n",
       "      <td>0</td>\n",
       "      <td>2013-01-01 12:52:00</td>\n",
       "      <td>0</td>\n",
       "      <td>2</td>\n",
       "      <td>1</td>\n",
       "      <td>Tuesday</td>\n",
       "      <td>1</td>\n",
       "      <td>Winter</td>\n",
       "      <td>0</td>\n",
       "      <td>Afternoon</td>\n",
       "      <td>Tuesday</td>\n",
       "      <td>1</td>\n",
       "      <td>Winter</td>\n",
       "      <td>0</td>\n",
       "      <td>Afternoon</td>\n",
       "      <td>1.633333</td>\n",
       "    </tr>\n",
       "    <tr>\n",
       "      <th>23</th>\n",
       "      <td>1.0</td>\n",
       "      <td>2013-01-01 16:30:00</td>\n",
       "      <td>0</td>\n",
       "      <td>0</td>\n",
       "      <td>2013-01-01 14:39:00</td>\n",
       "      <td>0</td>\n",
       "      <td>1</td>\n",
       "      <td>1</td>\n",
       "      <td>Tuesday</td>\n",
       "      <td>1</td>\n",
       "      <td>Winter</td>\n",
       "      <td>0</td>\n",
       "      <td>Afternoon</td>\n",
       "      <td>Tuesday</td>\n",
       "      <td>1</td>\n",
       "      <td>Winter</td>\n",
       "      <td>0</td>\n",
       "      <td>Afternoon</td>\n",
       "      <td>1.850000</td>\n",
       "    </tr>\n",
       "    <tr>\n",
       "      <th>34</th>\n",
       "      <td>1.0</td>\n",
       "      <td>2013-01-01 20:00:00</td>\n",
       "      <td>1</td>\n",
       "      <td>0</td>\n",
       "      <td>2013-01-01 17:25:00</td>\n",
       "      <td>0</td>\n",
       "      <td>2</td>\n",
       "      <td>1</td>\n",
       "      <td>Tuesday</td>\n",
       "      <td>1</td>\n",
       "      <td>Winter</td>\n",
       "      <td>0</td>\n",
       "      <td>Evening</td>\n",
       "      <td>Tuesday</td>\n",
       "      <td>1</td>\n",
       "      <td>Winter</td>\n",
       "      <td>0</td>\n",
       "      <td>Afternoon</td>\n",
       "      <td>2.583333</td>\n",
       "    </tr>\n",
       "    <tr>\n",
       "      <th>47</th>\n",
       "      <td>2.0</td>\n",
       "      <td>2013-01-02 03:00:00</td>\n",
       "      <td>0</td>\n",
       "      <td>0</td>\n",
       "      <td>2013-01-01 19:37:00</td>\n",
       "      <td>0</td>\n",
       "      <td>1</td>\n",
       "      <td>3</td>\n",
       "      <td>Wednesday</td>\n",
       "      <td>1</td>\n",
       "      <td>Winter</td>\n",
       "      <td>0</td>\n",
       "      <td>Night</td>\n",
       "      <td>Tuesday</td>\n",
       "      <td>1</td>\n",
       "      <td>Winter</td>\n",
       "      <td>0</td>\n",
       "      <td>Evening</td>\n",
       "      <td>7.383333</td>\n",
       "    </tr>\n",
       "  </tbody>\n",
       "</table>\n",
       "</div>"
      ],
      "text/plain": [
       "    package_id           from_date  online_booking  mobile_site_booking  \\\n",
       "8          2.0 2013-01-01 16:00:00               0                    0   \n",
       "20         2.0 2013-01-01 14:30:00               0                    0   \n",
       "23         1.0 2013-01-01 16:30:00               0                    0   \n",
       "34         1.0 2013-01-01 20:00:00               1                    0   \n",
       "47         2.0 2013-01-02 03:00:00               0                    0   \n",
       "\n",
       "       booking_created  Car_Cancellation  Canc_Tags  Book_Tags  DayofWeek  \\\n",
       "8  2013-01-01 09:44:00                 0          2          2    Tuesday   \n",
       "20 2013-01-01 12:52:00                 0          2          1    Tuesday   \n",
       "23 2013-01-01 14:39:00                 0          1          1    Tuesday   \n",
       "34 2013-01-01 17:25:00                 0          2          1    Tuesday   \n",
       "47 2013-01-01 19:37:00                 0          1          3  Wednesday   \n",
       "\n",
       "    Month  Season  Weekday/Weekend  TimeofDay Book_DayofWeek  Book_Month  \\\n",
       "8       1  Winter                0  Afternoon        Tuesday           1   \n",
       "20      1  Winter                0  Afternoon        Tuesday           1   \n",
       "23      1  Winter                0  Afternoon        Tuesday           1   \n",
       "34      1  Winter                0    Evening        Tuesday           1   \n",
       "47      1  Winter                0      Night        Tuesday           1   \n",
       "\n",
       "   Book_Season  book_Weekday/Weekend Book_TimeofDay  Time_Gap_hours  \n",
       "8       Winter                     0        Morning        6.266667  \n",
       "20      Winter                     0      Afternoon        1.633333  \n",
       "23      Winter                     0      Afternoon        1.850000  \n",
       "34      Winter                     0      Afternoon        2.583333  \n",
       "47      Winter                     0        Evening        7.383333  "
      ]
     },
     "execution_count": 94,
     "metadata": {},
     "output_type": "execute_result"
    }
   ],
   "source": [
    "df3.head()"
   ]
  },
  {
   "cell_type": "code",
   "execution_count": 95,
   "id": "6b5d4baf",
   "metadata": {},
   "outputs": [],
   "source": [
    "# Now drop the two columns:"
   ]
  },
  {
   "cell_type": "code",
   "execution_count": 96,
   "id": "0ce4fee1",
   "metadata": {},
   "outputs": [],
   "source": [
    "df3=df3.drop(['from_date','booking_created'],axis=1)"
   ]
  },
  {
   "cell_type": "code",
   "execution_count": 97,
   "id": "59a95199",
   "metadata": {},
   "outputs": [
    {
     "data": {
      "text/html": [
       "<div>\n",
       "<style scoped>\n",
       "    .dataframe tbody tr th:only-of-type {\n",
       "        vertical-align: middle;\n",
       "    }\n",
       "\n",
       "    .dataframe tbody tr th {\n",
       "        vertical-align: top;\n",
       "    }\n",
       "\n",
       "    .dataframe thead th {\n",
       "        text-align: right;\n",
       "    }\n",
       "</style>\n",
       "<table border=\"1\" class=\"dataframe\">\n",
       "  <thead>\n",
       "    <tr style=\"text-align: right;\">\n",
       "      <th></th>\n",
       "      <th>package_id</th>\n",
       "      <th>online_booking</th>\n",
       "      <th>mobile_site_booking</th>\n",
       "      <th>Car_Cancellation</th>\n",
       "      <th>Canc_Tags</th>\n",
       "      <th>Book_Tags</th>\n",
       "      <th>DayofWeek</th>\n",
       "      <th>Month</th>\n",
       "      <th>Season</th>\n",
       "      <th>Weekday/Weekend</th>\n",
       "      <th>TimeofDay</th>\n",
       "      <th>Book_DayofWeek</th>\n",
       "      <th>Book_Month</th>\n",
       "      <th>Book_Season</th>\n",
       "      <th>book_Weekday/Weekend</th>\n",
       "      <th>Book_TimeofDay</th>\n",
       "      <th>Time_Gap_hours</th>\n",
       "    </tr>\n",
       "  </thead>\n",
       "  <tbody>\n",
       "    <tr>\n",
       "      <th>8</th>\n",
       "      <td>2.0</td>\n",
       "      <td>0</td>\n",
       "      <td>0</td>\n",
       "      <td>0</td>\n",
       "      <td>2</td>\n",
       "      <td>2</td>\n",
       "      <td>Tuesday</td>\n",
       "      <td>1</td>\n",
       "      <td>Winter</td>\n",
       "      <td>0</td>\n",
       "      <td>Afternoon</td>\n",
       "      <td>Tuesday</td>\n",
       "      <td>1</td>\n",
       "      <td>Winter</td>\n",
       "      <td>0</td>\n",
       "      <td>Morning</td>\n",
       "      <td>6.266667</td>\n",
       "    </tr>\n",
       "    <tr>\n",
       "      <th>20</th>\n",
       "      <td>2.0</td>\n",
       "      <td>0</td>\n",
       "      <td>0</td>\n",
       "      <td>0</td>\n",
       "      <td>2</td>\n",
       "      <td>1</td>\n",
       "      <td>Tuesday</td>\n",
       "      <td>1</td>\n",
       "      <td>Winter</td>\n",
       "      <td>0</td>\n",
       "      <td>Afternoon</td>\n",
       "      <td>Tuesday</td>\n",
       "      <td>1</td>\n",
       "      <td>Winter</td>\n",
       "      <td>0</td>\n",
       "      <td>Afternoon</td>\n",
       "      <td>1.633333</td>\n",
       "    </tr>\n",
       "    <tr>\n",
       "      <th>23</th>\n",
       "      <td>1.0</td>\n",
       "      <td>0</td>\n",
       "      <td>0</td>\n",
       "      <td>0</td>\n",
       "      <td>1</td>\n",
       "      <td>1</td>\n",
       "      <td>Tuesday</td>\n",
       "      <td>1</td>\n",
       "      <td>Winter</td>\n",
       "      <td>0</td>\n",
       "      <td>Afternoon</td>\n",
       "      <td>Tuesday</td>\n",
       "      <td>1</td>\n",
       "      <td>Winter</td>\n",
       "      <td>0</td>\n",
       "      <td>Afternoon</td>\n",
       "      <td>1.850000</td>\n",
       "    </tr>\n",
       "    <tr>\n",
       "      <th>34</th>\n",
       "      <td>1.0</td>\n",
       "      <td>1</td>\n",
       "      <td>0</td>\n",
       "      <td>0</td>\n",
       "      <td>2</td>\n",
       "      <td>1</td>\n",
       "      <td>Tuesday</td>\n",
       "      <td>1</td>\n",
       "      <td>Winter</td>\n",
       "      <td>0</td>\n",
       "      <td>Evening</td>\n",
       "      <td>Tuesday</td>\n",
       "      <td>1</td>\n",
       "      <td>Winter</td>\n",
       "      <td>0</td>\n",
       "      <td>Afternoon</td>\n",
       "      <td>2.583333</td>\n",
       "    </tr>\n",
       "    <tr>\n",
       "      <th>47</th>\n",
       "      <td>2.0</td>\n",
       "      <td>0</td>\n",
       "      <td>0</td>\n",
       "      <td>0</td>\n",
       "      <td>1</td>\n",
       "      <td>3</td>\n",
       "      <td>Wednesday</td>\n",
       "      <td>1</td>\n",
       "      <td>Winter</td>\n",
       "      <td>0</td>\n",
       "      <td>Night</td>\n",
       "      <td>Tuesday</td>\n",
       "      <td>1</td>\n",
       "      <td>Winter</td>\n",
       "      <td>0</td>\n",
       "      <td>Evening</td>\n",
       "      <td>7.383333</td>\n",
       "    </tr>\n",
       "  </tbody>\n",
       "</table>\n",
       "</div>"
      ],
      "text/plain": [
       "    package_id  online_booking  mobile_site_booking  Car_Cancellation  \\\n",
       "8          2.0               0                    0                 0   \n",
       "20         2.0               0                    0                 0   \n",
       "23         1.0               0                    0                 0   \n",
       "34         1.0               1                    0                 0   \n",
       "47         2.0               0                    0                 0   \n",
       "\n",
       "    Canc_Tags  Book_Tags  DayofWeek  Month  Season  Weekday/Weekend  \\\n",
       "8           2          2    Tuesday      1  Winter                0   \n",
       "20          2          1    Tuesday      1  Winter                0   \n",
       "23          1          1    Tuesday      1  Winter                0   \n",
       "34          2          1    Tuesday      1  Winter                0   \n",
       "47          1          3  Wednesday      1  Winter                0   \n",
       "\n",
       "    TimeofDay Book_DayofWeek  Book_Month Book_Season  book_Weekday/Weekend  \\\n",
       "8   Afternoon        Tuesday           1      Winter                     0   \n",
       "20  Afternoon        Tuesday           1      Winter                     0   \n",
       "23  Afternoon        Tuesday           1      Winter                     0   \n",
       "34    Evening        Tuesday           1      Winter                     0   \n",
       "47      Night        Tuesday           1      Winter                     0   \n",
       "\n",
       "   Book_TimeofDay  Time_Gap_hours  \n",
       "8         Morning        6.266667  \n",
       "20      Afternoon        1.633333  \n",
       "23      Afternoon        1.850000  \n",
       "34      Afternoon        2.583333  \n",
       "47        Evening        7.383333  "
      ]
     },
     "execution_count": 97,
     "metadata": {},
     "output_type": "execute_result"
    }
   ],
   "source": [
    "df3.head()"
   ]
  },
  {
   "cell_type": "code",
   "execution_count": 98,
   "id": "46dde10e",
   "metadata": {},
   "outputs": [],
   "source": [
    "# Apply one hot encoding on the following features, since they are Nominal Categorical Variables.\n",
    "DayofWeek_Encoded=pd.get_dummies(df3['DayofWeek'],prefix='day')\n",
    "df3=pd.concat((df3,DayofWeek_Encoded),axis=1)\n",
    "df3=df3.drop('DayofWeek',axis=1)"
   ]
  },
  {
   "cell_type": "code",
   "execution_count": 99,
   "id": "c0ec9aab",
   "metadata": {},
   "outputs": [],
   "source": [
    "TimeofDay_Encoded=pd.get_dummies(df3['TimeofDay'],prefix='time')\n",
    "df3=pd.concat((df3,TimeofDay_Encoded),axis=1)\n",
    "df3=df3.drop('TimeofDay',axis=1)"
   ]
  },
  {
   "cell_type": "code",
   "execution_count": 100,
   "id": "884cdf1f",
   "metadata": {},
   "outputs": [],
   "source": [
    "Book_DayofWeek_Encoded=pd.get_dummies(df3['Book_DayofWeek'],prefix='bookday')\n",
    "df3=pd.concat((df3,Book_DayofWeek_Encoded),axis=1)\n",
    "df3=df3.drop('Book_DayofWeek',axis=1)"
   ]
  },
  {
   "cell_type": "code",
   "execution_count": 101,
   "id": "1eebf03f",
   "metadata": {},
   "outputs": [],
   "source": [
    "Book_TimeofDay_Encoded=pd.get_dummies(df3['Book_TimeofDay'],prefix='booktime')\n",
    "df3=pd.concat((df3,Book_TimeofDay_Encoded),axis=1)\n",
    "df3=df3.drop('Book_TimeofDay',axis=1)"
   ]
  },
  {
   "cell_type": "code",
   "execution_count": 102,
   "id": "4b5ad3a2",
   "metadata": {},
   "outputs": [
    {
     "data": {
      "text/html": [
       "<div>\n",
       "<style scoped>\n",
       "    .dataframe tbody tr th:only-of-type {\n",
       "        vertical-align: middle;\n",
       "    }\n",
       "\n",
       "    .dataframe tbody tr th {\n",
       "        vertical-align: top;\n",
       "    }\n",
       "\n",
       "    .dataframe thead th {\n",
       "        text-align: right;\n",
       "    }\n",
       "</style>\n",
       "<table border=\"1\" class=\"dataframe\">\n",
       "  <thead>\n",
       "    <tr style=\"text-align: right;\">\n",
       "      <th></th>\n",
       "      <th>day_Friday</th>\n",
       "      <th>day_Monday</th>\n",
       "      <th>day_Saturday</th>\n",
       "      <th>day_Sunday</th>\n",
       "      <th>day_Thursday</th>\n",
       "      <th>day_Tuesday</th>\n",
       "      <th>day_Wednesday</th>\n",
       "    </tr>\n",
       "  </thead>\n",
       "  <tbody>\n",
       "    <tr>\n",
       "      <th>8</th>\n",
       "      <td>0</td>\n",
       "      <td>0</td>\n",
       "      <td>0</td>\n",
       "      <td>0</td>\n",
       "      <td>0</td>\n",
       "      <td>1</td>\n",
       "      <td>0</td>\n",
       "    </tr>\n",
       "    <tr>\n",
       "      <th>20</th>\n",
       "      <td>0</td>\n",
       "      <td>0</td>\n",
       "      <td>0</td>\n",
       "      <td>0</td>\n",
       "      <td>0</td>\n",
       "      <td>1</td>\n",
       "      <td>0</td>\n",
       "    </tr>\n",
       "    <tr>\n",
       "      <th>23</th>\n",
       "      <td>0</td>\n",
       "      <td>0</td>\n",
       "      <td>0</td>\n",
       "      <td>0</td>\n",
       "      <td>0</td>\n",
       "      <td>1</td>\n",
       "      <td>0</td>\n",
       "    </tr>\n",
       "    <tr>\n",
       "      <th>34</th>\n",
       "      <td>0</td>\n",
       "      <td>0</td>\n",
       "      <td>0</td>\n",
       "      <td>0</td>\n",
       "      <td>0</td>\n",
       "      <td>1</td>\n",
       "      <td>0</td>\n",
       "    </tr>\n",
       "    <tr>\n",
       "      <th>47</th>\n",
       "      <td>0</td>\n",
       "      <td>0</td>\n",
       "      <td>0</td>\n",
       "      <td>0</td>\n",
       "      <td>0</td>\n",
       "      <td>0</td>\n",
       "      <td>1</td>\n",
       "    </tr>\n",
       "    <tr>\n",
       "      <th>...</th>\n",
       "      <td>...</td>\n",
       "      <td>...</td>\n",
       "      <td>...</td>\n",
       "      <td>...</td>\n",
       "      <td>...</td>\n",
       "      <td>...</td>\n",
       "      <td>...</td>\n",
       "    </tr>\n",
       "    <tr>\n",
       "      <th>43415</th>\n",
       "      <td>0</td>\n",
       "      <td>0</td>\n",
       "      <td>0</td>\n",
       "      <td>1</td>\n",
       "      <td>0</td>\n",
       "      <td>0</td>\n",
       "      <td>0</td>\n",
       "    </tr>\n",
       "    <tr>\n",
       "      <th>43417</th>\n",
       "      <td>0</td>\n",
       "      <td>0</td>\n",
       "      <td>0</td>\n",
       "      <td>1</td>\n",
       "      <td>0</td>\n",
       "      <td>0</td>\n",
       "      <td>0</td>\n",
       "    </tr>\n",
       "    <tr>\n",
       "      <th>43420</th>\n",
       "      <td>0</td>\n",
       "      <td>1</td>\n",
       "      <td>0</td>\n",
       "      <td>0</td>\n",
       "      <td>0</td>\n",
       "      <td>0</td>\n",
       "      <td>0</td>\n",
       "    </tr>\n",
       "    <tr>\n",
       "      <th>43424</th>\n",
       "      <td>0</td>\n",
       "      <td>0</td>\n",
       "      <td>0</td>\n",
       "      <td>1</td>\n",
       "      <td>0</td>\n",
       "      <td>0</td>\n",
       "      <td>0</td>\n",
       "    </tr>\n",
       "    <tr>\n",
       "      <th>43428</th>\n",
       "      <td>0</td>\n",
       "      <td>0</td>\n",
       "      <td>0</td>\n",
       "      <td>1</td>\n",
       "      <td>0</td>\n",
       "      <td>0</td>\n",
       "      <td>0</td>\n",
       "    </tr>\n",
       "  </tbody>\n",
       "</table>\n",
       "<p>7550 rows × 7 columns</p>\n",
       "</div>"
      ],
      "text/plain": [
       "       day_Friday  day_Monday  day_Saturday  day_Sunday  day_Thursday  \\\n",
       "8               0           0             0           0             0   \n",
       "20              0           0             0           0             0   \n",
       "23              0           0             0           0             0   \n",
       "34              0           0             0           0             0   \n",
       "47              0           0             0           0             0   \n",
       "...           ...         ...           ...         ...           ...   \n",
       "43415           0           0             0           1             0   \n",
       "43417           0           0             0           1             0   \n",
       "43420           0           1             0           0             0   \n",
       "43424           0           0             0           1             0   \n",
       "43428           0           0             0           1             0   \n",
       "\n",
       "       day_Tuesday  day_Wednesday  \n",
       "8                1              0  \n",
       "20               1              0  \n",
       "23               1              0  \n",
       "34               1              0  \n",
       "47               0              1  \n",
       "...            ...            ...  \n",
       "43415            0              0  \n",
       "43417            0              0  \n",
       "43420            0              0  \n",
       "43424            0              0  \n",
       "43428            0              0  \n",
       "\n",
       "[7550 rows x 7 columns]"
      ]
     },
     "execution_count": 102,
     "metadata": {},
     "output_type": "execute_result"
    }
   ],
   "source": [
    "DayofWeek_Encoded"
   ]
  },
  {
   "cell_type": "code",
   "execution_count": 103,
   "id": "1ef7f4ec",
   "metadata": {},
   "outputs": [
    {
     "data": {
      "text/html": [
       "<div>\n",
       "<style scoped>\n",
       "    .dataframe tbody tr th:only-of-type {\n",
       "        vertical-align: middle;\n",
       "    }\n",
       "\n",
       "    .dataframe tbody tr th {\n",
       "        vertical-align: top;\n",
       "    }\n",
       "\n",
       "    .dataframe thead th {\n",
       "        text-align: right;\n",
       "    }\n",
       "</style>\n",
       "<table border=\"1\" class=\"dataframe\">\n",
       "  <thead>\n",
       "    <tr style=\"text-align: right;\">\n",
       "      <th></th>\n",
       "      <th>package_id</th>\n",
       "      <th>online_booking</th>\n",
       "      <th>mobile_site_booking</th>\n",
       "      <th>Car_Cancellation</th>\n",
       "      <th>Canc_Tags</th>\n",
       "      <th>Book_Tags</th>\n",
       "      <th>Month</th>\n",
       "      <th>Season</th>\n",
       "      <th>Weekday/Weekend</th>\n",
       "      <th>Book_Month</th>\n",
       "      <th>...</th>\n",
       "      <th>bookday_Monday</th>\n",
       "      <th>bookday_Saturday</th>\n",
       "      <th>bookday_Sunday</th>\n",
       "      <th>bookday_Thursday</th>\n",
       "      <th>bookday_Tuesday</th>\n",
       "      <th>bookday_Wednesday</th>\n",
       "      <th>booktime_Afternoon</th>\n",
       "      <th>booktime_Evening</th>\n",
       "      <th>booktime_Morning</th>\n",
       "      <th>booktime_Night</th>\n",
       "    </tr>\n",
       "  </thead>\n",
       "  <tbody>\n",
       "    <tr>\n",
       "      <th>8</th>\n",
       "      <td>2.0</td>\n",
       "      <td>0</td>\n",
       "      <td>0</td>\n",
       "      <td>0</td>\n",
       "      <td>2</td>\n",
       "      <td>2</td>\n",
       "      <td>1</td>\n",
       "      <td>Winter</td>\n",
       "      <td>0</td>\n",
       "      <td>1</td>\n",
       "      <td>...</td>\n",
       "      <td>0</td>\n",
       "      <td>0</td>\n",
       "      <td>0</td>\n",
       "      <td>0</td>\n",
       "      <td>1</td>\n",
       "      <td>0</td>\n",
       "      <td>0</td>\n",
       "      <td>0</td>\n",
       "      <td>1</td>\n",
       "      <td>0</td>\n",
       "    </tr>\n",
       "    <tr>\n",
       "      <th>20</th>\n",
       "      <td>2.0</td>\n",
       "      <td>0</td>\n",
       "      <td>0</td>\n",
       "      <td>0</td>\n",
       "      <td>2</td>\n",
       "      <td>1</td>\n",
       "      <td>1</td>\n",
       "      <td>Winter</td>\n",
       "      <td>0</td>\n",
       "      <td>1</td>\n",
       "      <td>...</td>\n",
       "      <td>0</td>\n",
       "      <td>0</td>\n",
       "      <td>0</td>\n",
       "      <td>0</td>\n",
       "      <td>1</td>\n",
       "      <td>0</td>\n",
       "      <td>1</td>\n",
       "      <td>0</td>\n",
       "      <td>0</td>\n",
       "      <td>0</td>\n",
       "    </tr>\n",
       "    <tr>\n",
       "      <th>23</th>\n",
       "      <td>1.0</td>\n",
       "      <td>0</td>\n",
       "      <td>0</td>\n",
       "      <td>0</td>\n",
       "      <td>1</td>\n",
       "      <td>1</td>\n",
       "      <td>1</td>\n",
       "      <td>Winter</td>\n",
       "      <td>0</td>\n",
       "      <td>1</td>\n",
       "      <td>...</td>\n",
       "      <td>0</td>\n",
       "      <td>0</td>\n",
       "      <td>0</td>\n",
       "      <td>0</td>\n",
       "      <td>1</td>\n",
       "      <td>0</td>\n",
       "      <td>1</td>\n",
       "      <td>0</td>\n",
       "      <td>0</td>\n",
       "      <td>0</td>\n",
       "    </tr>\n",
       "    <tr>\n",
       "      <th>34</th>\n",
       "      <td>1.0</td>\n",
       "      <td>1</td>\n",
       "      <td>0</td>\n",
       "      <td>0</td>\n",
       "      <td>2</td>\n",
       "      <td>1</td>\n",
       "      <td>1</td>\n",
       "      <td>Winter</td>\n",
       "      <td>0</td>\n",
       "      <td>1</td>\n",
       "      <td>...</td>\n",
       "      <td>0</td>\n",
       "      <td>0</td>\n",
       "      <td>0</td>\n",
       "      <td>0</td>\n",
       "      <td>1</td>\n",
       "      <td>0</td>\n",
       "      <td>1</td>\n",
       "      <td>0</td>\n",
       "      <td>0</td>\n",
       "      <td>0</td>\n",
       "    </tr>\n",
       "    <tr>\n",
       "      <th>47</th>\n",
       "      <td>2.0</td>\n",
       "      <td>0</td>\n",
       "      <td>0</td>\n",
       "      <td>0</td>\n",
       "      <td>1</td>\n",
       "      <td>3</td>\n",
       "      <td>1</td>\n",
       "      <td>Winter</td>\n",
       "      <td>0</td>\n",
       "      <td>1</td>\n",
       "      <td>...</td>\n",
       "      <td>0</td>\n",
       "      <td>0</td>\n",
       "      <td>0</td>\n",
       "      <td>0</td>\n",
       "      <td>1</td>\n",
       "      <td>0</td>\n",
       "      <td>0</td>\n",
       "      <td>1</td>\n",
       "      <td>0</td>\n",
       "      <td>0</td>\n",
       "    </tr>\n",
       "  </tbody>\n",
       "</table>\n",
       "<p>5 rows × 35 columns</p>\n",
       "</div>"
      ],
      "text/plain": [
       "    package_id  online_booking  mobile_site_booking  Car_Cancellation  \\\n",
       "8          2.0               0                    0                 0   \n",
       "20         2.0               0                    0                 0   \n",
       "23         1.0               0                    0                 0   \n",
       "34         1.0               1                    0                 0   \n",
       "47         2.0               0                    0                 0   \n",
       "\n",
       "    Canc_Tags  Book_Tags  Month  Season  Weekday/Weekend  Book_Month  ...  \\\n",
       "8           2          2      1  Winter                0           1  ...   \n",
       "20          2          1      1  Winter                0           1  ...   \n",
       "23          1          1      1  Winter                0           1  ...   \n",
       "34          2          1      1  Winter                0           1  ...   \n",
       "47          1          3      1  Winter                0           1  ...   \n",
       "\n",
       "   bookday_Monday  bookday_Saturday  bookday_Sunday  bookday_Thursday  \\\n",
       "8               0                 0               0                 0   \n",
       "20              0                 0               0                 0   \n",
       "23              0                 0               0                 0   \n",
       "34              0                 0               0                 0   \n",
       "47              0                 0               0                 0   \n",
       "\n",
       "    bookday_Tuesday  bookday_Wednesday  booktime_Afternoon  booktime_Evening  \\\n",
       "8                 1                  0                   0                 0   \n",
       "20                1                  0                   1                 0   \n",
       "23                1                  0                   1                 0   \n",
       "34                1                  0                   1                 0   \n",
       "47                1                  0                   0                 1   \n",
       "\n",
       "    booktime_Morning  booktime_Night  \n",
       "8                  1               0  \n",
       "20                 0               0  \n",
       "23                 0               0  \n",
       "34                 0               0  \n",
       "47                 0               0  \n",
       "\n",
       "[5 rows x 35 columns]"
      ]
     },
     "execution_count": 103,
     "metadata": {},
     "output_type": "execute_result"
    }
   ],
   "source": [
    "df3.head()"
   ]
  },
  {
   "cell_type": "code",
   "execution_count": 104,
   "id": "f750fc10",
   "metadata": {},
   "outputs": [
    {
     "name": "stdout",
     "output_type": "stream",
     "text": [
      "<class 'pandas.core.frame.DataFrame'>\n",
      "Int64Index: 7550 entries, 8 to 43428\n",
      "Data columns (total 35 columns):\n",
      " #   Column                Non-Null Count  Dtype  \n",
      "---  ------                --------------  -----  \n",
      " 0   package_id            7550 non-null   float64\n",
      " 1   online_booking        7550 non-null   int64  \n",
      " 2   mobile_site_booking   7550 non-null   int64  \n",
      " 3   Car_Cancellation      7550 non-null   int64  \n",
      " 4   Canc_Tags             7550 non-null   int64  \n",
      " 5   Book_Tags             7550 non-null   int64  \n",
      " 6   Month                 7550 non-null   int64  \n",
      " 7   Season                7550 non-null   object \n",
      " 8   Weekday/Weekend       7550 non-null   int64  \n",
      " 9   Book_Month            7550 non-null   int64  \n",
      " 10  Book_Season           7550 non-null   object \n",
      " 11  book_Weekday/Weekend  7550 non-null   int64  \n",
      " 12  Time_Gap_hours        7550 non-null   float64\n",
      " 13  day_Friday            7550 non-null   uint8  \n",
      " 14  day_Monday            7550 non-null   uint8  \n",
      " 15  day_Saturday          7550 non-null   uint8  \n",
      " 16  day_Sunday            7550 non-null   uint8  \n",
      " 17  day_Thursday          7550 non-null   uint8  \n",
      " 18  day_Tuesday           7550 non-null   uint8  \n",
      " 19  day_Wednesday         7550 non-null   uint8  \n",
      " 20  time_Afternoon        7550 non-null   uint8  \n",
      " 21  time_Evening          7550 non-null   uint8  \n",
      " 22  time_Morning          7550 non-null   uint8  \n",
      " 23  time_Night            7550 non-null   uint8  \n",
      " 24  bookday_Friday        7550 non-null   uint8  \n",
      " 25  bookday_Monday        7550 non-null   uint8  \n",
      " 26  bookday_Saturday      7550 non-null   uint8  \n",
      " 27  bookday_Sunday        7550 non-null   uint8  \n",
      " 28  bookday_Thursday      7550 non-null   uint8  \n",
      " 29  bookday_Tuesday       7550 non-null   uint8  \n",
      " 30  bookday_Wednesday     7550 non-null   uint8  \n",
      " 31  booktime_Afternoon    7550 non-null   uint8  \n",
      " 32  booktime_Evening      7550 non-null   uint8  \n",
      " 33  booktime_Morning      7550 non-null   uint8  \n",
      " 34  booktime_Night        7550 non-null   uint8  \n",
      "dtypes: float64(2), int64(9), object(2), uint8(22)\n",
      "memory usage: 988.0+ KB\n"
     ]
    }
   ],
   "source": [
    "df3.info()"
   ]
  },
  {
   "cell_type": "code",
   "execution_count": 105,
   "id": "87291a9a",
   "metadata": {},
   "outputs": [
    {
     "data": {
      "text/plain": [
       "Index(['package_id', 'online_booking', 'mobile_site_booking',\n",
       "       'Car_Cancellation', 'Canc_Tags', 'Book_Tags', 'Month', 'Season',\n",
       "       'Weekday/Weekend', 'Book_Month', 'Book_Season', 'book_Weekday/Weekend',\n",
       "       'Time_Gap_hours', 'day_Friday', 'day_Monday', 'day_Saturday',\n",
       "       'day_Sunday', 'day_Thursday', 'day_Tuesday', 'day_Wednesday',\n",
       "       'time_Afternoon', 'time_Evening', 'time_Morning', 'time_Night',\n",
       "       'bookday_Friday', 'bookday_Monday', 'bookday_Saturday',\n",
       "       'bookday_Sunday', 'bookday_Thursday', 'bookday_Tuesday',\n",
       "       'bookday_Wednesday', 'booktime_Afternoon', 'booktime_Evening',\n",
       "       'booktime_Morning', 'booktime_Night'],\n",
       "      dtype='object')"
      ]
     },
     "execution_count": 105,
     "metadata": {},
     "output_type": "execute_result"
    }
   ],
   "source": [
    "df3.columns"
   ]
  },
  {
   "cell_type": "code",
   "execution_count": 106,
   "id": "357d46b5",
   "metadata": {},
   "outputs": [],
   "source": [
    "data_subset=df3[['day_Friday','day_Monday','day_Saturday','day_Sunday','day_Thursday','day_Tuesday','day_Wednesday',\n",
    "                'bookday_Friday','bookday_Monday','bookday_Saturday','bookday_Sunday','bookday_Thursday','bookday_Tuesday','bookday_Wednesday',\n",
    "                'Car_Cancellation']]"
   ]
  },
  {
   "cell_type": "code",
   "execution_count": 107,
   "id": "68bbfcda",
   "metadata": {},
   "outputs": [],
   "source": [
    "corr_matrix=data_subset.corr()"
   ]
  },
  {
   "cell_type": "code",
   "execution_count": 108,
   "id": "f408a6a7",
   "metadata": {},
   "outputs": [
    {
     "data": {
      "image/png": "[encoded data removed]",
      "text/plain": [
       "<Figure size 1000x400 with 2 Axes>"
      ]
     },
     "metadata": {},
     "output_type": "display_data"
    }
   ],
   "source": [
    "plt.figure(figsize=(10,4))\n",
    "sns.heatmap(corr_matrix,annot=True,cmap='coolwarm',fmt='.2f')\n",
    "plt.title('Heatmap of Corr_Matrix')\n",
    "plt.show()"
   ]
  },
  {
   "cell_type": "code",
   "execution_count": 109,
   "id": "1e676019",
   "metadata": {},
   "outputs": [],
   "source": [
    "# Now, apply one hot encoding on Season and Book_Season, since they are not in any order or ranking, so Nominal categorical variables."
   ]
  },
  {
   "cell_type": "code",
   "execution_count": 110,
   "id": "13d0d4e6",
   "metadata": {},
   "outputs": [],
   "source": [
    "Season_Encoded=pd.get_dummies(df3['Season'],prefix='Season')\n",
    "df3=pd.concat((df3,Season_Encoded),axis=1)\n",
    "df3=df3.drop('Season',axis=1)"
   ]
  },
  {
   "cell_type": "code",
   "execution_count": 111,
   "id": "2e382383",
   "metadata": {},
   "outputs": [],
   "source": [
    "Book_Season_Encoded=pd.get_dummies(df3['Book_Season'],prefix='BookSeason')\n",
    "df3=pd.concat((df3,Book_Season_Encoded),axis=1)\n",
    "df3=df3.drop('Book_Season',axis=1)"
   ]
  },
  {
   "cell_type": "code",
   "execution_count": 112,
   "id": "0381099d",
   "metadata": {},
   "outputs": [
    {
     "data": {
      "text/plain": [
       "Index(['package_id', 'online_booking', 'mobile_site_booking',\n",
       "       'Car_Cancellation', 'Canc_Tags', 'Book_Tags', 'Month',\n",
       "       'Weekday/Weekend', 'Book_Month', 'book_Weekday/Weekend',\n",
       "       'Time_Gap_hours', 'day_Friday', 'day_Monday', 'day_Saturday',\n",
       "       'day_Sunday', 'day_Thursday', 'day_Tuesday', 'day_Wednesday',\n",
       "       'time_Afternoon', 'time_Evening', 'time_Morning', 'time_Night',\n",
       "       'bookday_Friday', 'bookday_Monday', 'bookday_Saturday',\n",
       "       'bookday_Sunday', 'bookday_Thursday', 'bookday_Tuesday',\n",
       "       'bookday_Wednesday', 'booktime_Afternoon', 'booktime_Evening',\n",
       "       'booktime_Morning', 'booktime_Night', 'Season_Fall', 'Season_Spring',\n",
       "       'Season_Summer', 'Season_Winter', 'BookSeason_Fall',\n",
       "       'BookSeason_Spring', 'BookSeason_Summer', 'BookSeason_Winter'],\n",
       "      dtype='object')"
      ]
     },
     "execution_count": 112,
     "metadata": {},
     "output_type": "execute_result"
    }
   ],
   "source": [
    "df3.columns"
   ]
  },
  {
   "cell_type": "code",
   "execution_count": 113,
   "id": "141b5f93",
   "metadata": {},
   "outputs": [],
   "source": [
    "data_subset=df3[['Month','Weekday/Weekend','Book_Month','book_Weekday/Weekend','Car_Cancellation']]"
   ]
  },
  {
   "cell_type": "code",
   "execution_count": 114,
   "id": "3dabf4a3",
   "metadata": {},
   "outputs": [
    {
     "data": {
      "text/html": [
       "<div>\n",
       "<style scoped>\n",
       "    .dataframe tbody tr th:only-of-type {\n",
       "        vertical-align: middle;\n",
       "    }\n",
       "\n",
       "    .dataframe tbody tr th {\n",
       "        vertical-align: top;\n",
       "    }\n",
       "\n",
       "    .dataframe thead th {\n",
       "        text-align: right;\n",
       "    }\n",
       "</style>\n",
       "<table border=\"1\" class=\"dataframe\">\n",
       "  <thead>\n",
       "    <tr style=\"text-align: right;\">\n",
       "      <th></th>\n",
       "      <th>Month</th>\n",
       "      <th>Weekday/Weekend</th>\n",
       "      <th>Book_Month</th>\n",
       "      <th>book_Weekday/Weekend</th>\n",
       "      <th>Car_Cancellation</th>\n",
       "    </tr>\n",
       "  </thead>\n",
       "  <tbody>\n",
       "    <tr>\n",
       "      <th>Month</th>\n",
       "      <td>1.000000</td>\n",
       "      <td>-0.052151</td>\n",
       "      <td>0.998765</td>\n",
       "      <td>-0.011666</td>\n",
       "      <td>0.101309</td>\n",
       "    </tr>\n",
       "    <tr>\n",
       "      <th>Weekday/Weekend</th>\n",
       "      <td>-0.052151</td>\n",
       "      <td>1.000000</td>\n",
       "      <td>-0.052111</td>\n",
       "      <td>0.653769</td>\n",
       "      <td>0.048808</td>\n",
       "    </tr>\n",
       "    <tr>\n",
       "      <th>Book_Month</th>\n",
       "      <td>0.998765</td>\n",
       "      <td>-0.052111</td>\n",
       "      <td>1.000000</td>\n",
       "      <td>-0.010069</td>\n",
       "      <td>0.101925</td>\n",
       "    </tr>\n",
       "    <tr>\n",
       "      <th>book_Weekday/Weekend</th>\n",
       "      <td>-0.011666</td>\n",
       "      <td>0.653769</td>\n",
       "      <td>-0.010069</td>\n",
       "      <td>1.000000</td>\n",
       "      <td>0.086833</td>\n",
       "    </tr>\n",
       "    <tr>\n",
       "      <th>Car_Cancellation</th>\n",
       "      <td>0.101309</td>\n",
       "      <td>0.048808</td>\n",
       "      <td>0.101925</td>\n",
       "      <td>0.086833</td>\n",
       "      <td>1.000000</td>\n",
       "    </tr>\n",
       "  </tbody>\n",
       "</table>\n",
       "</div>"
      ],
      "text/plain": [
       "                         Month  Weekday/Weekend  Book_Month  \\\n",
       "Month                 1.000000        -0.052151    0.998765   \n",
       "Weekday/Weekend      -0.052151         1.000000   -0.052111   \n",
       "Book_Month            0.998765        -0.052111    1.000000   \n",
       "book_Weekday/Weekend -0.011666         0.653769   -0.010069   \n",
       "Car_Cancellation      0.101309         0.048808    0.101925   \n",
       "\n",
       "                      book_Weekday/Weekend  Car_Cancellation  \n",
       "Month                            -0.011666          0.101309  \n",
       "Weekday/Weekend                   0.653769          0.048808  \n",
       "Book_Month                       -0.010069          0.101925  \n",
       "book_Weekday/Weekend              1.000000          0.086833  \n",
       "Car_Cancellation                  0.086833          1.000000  "
      ]
     },
     "execution_count": 114,
     "metadata": {},
     "output_type": "execute_result"
    }
   ],
   "source": [
    "corr_matrix1=data_subset.corr()\n",
    "corr_matrix1"
   ]
  },
  {
   "cell_type": "code",
   "execution_count": 115,
   "id": "9f467131",
   "metadata": {},
   "outputs": [
    {
     "name": "stdout",
     "output_type": "stream",
     "text": [
      "[ 1  2  3  4  5  6  7  8  9 10 11]\n",
      "[ 1  2  3  4  5  6  7  8  9 10 11]\n",
      "[0 1]\n",
      "[0 1]\n"
     ]
    }
   ],
   "source": [
    "print(df3['Month'].unique())\n",
    "print(df3['Book_Month'].unique())\n",
    "print(df3['Weekday/Weekend'].unique())\n",
    "print(df3['book_Weekday/Weekend'].unique())"
   ]
  },
  {
   "cell_type": "code",
   "execution_count": 116,
   "id": "000dbd9d",
   "metadata": {},
   "outputs": [],
   "source": [
    "# Since, these features too have very low correlation with the target variable, and will contribute very very less to the\n",
    "# to the predicive power, hence to reduce noise and improve efficiency we must drop them.\n",
    "df3=df3.drop(['Month','Weekday/Weekend'],axis=1)"
   ]
  },
  {
   "cell_type": "code",
   "execution_count": 117,
   "id": "efba7bd3",
   "metadata": {},
   "outputs": [
    {
     "data": {
      "text/html": [
       "<div>\n",
       "<style scoped>\n",
       "    .dataframe tbody tr th:only-of-type {\n",
       "        vertical-align: middle;\n",
       "    }\n",
       "\n",
       "    .dataframe tbody tr th {\n",
       "        vertical-align: top;\n",
       "    }\n",
       "\n",
       "    .dataframe thead th {\n",
       "        text-align: right;\n",
       "    }\n",
       "</style>\n",
       "<table border=\"1\" class=\"dataframe\">\n",
       "  <thead>\n",
       "    <tr style=\"text-align: right;\">\n",
       "      <th></th>\n",
       "      <th>package_id</th>\n",
       "      <th>online_booking</th>\n",
       "      <th>mobile_site_booking</th>\n",
       "      <th>Car_Cancellation</th>\n",
       "      <th>Canc_Tags</th>\n",
       "      <th>Book_Tags</th>\n",
       "      <th>Book_Month</th>\n",
       "      <th>book_Weekday/Weekend</th>\n",
       "      <th>Time_Gap_hours</th>\n",
       "      <th>day_Friday</th>\n",
       "      <th>...</th>\n",
       "      <th>booktime_Morning</th>\n",
       "      <th>booktime_Night</th>\n",
       "      <th>Season_Fall</th>\n",
       "      <th>Season_Spring</th>\n",
       "      <th>Season_Summer</th>\n",
       "      <th>Season_Winter</th>\n",
       "      <th>BookSeason_Fall</th>\n",
       "      <th>BookSeason_Spring</th>\n",
       "      <th>BookSeason_Summer</th>\n",
       "      <th>BookSeason_Winter</th>\n",
       "    </tr>\n",
       "  </thead>\n",
       "  <tbody>\n",
       "    <tr>\n",
       "      <th>8</th>\n",
       "      <td>2.0</td>\n",
       "      <td>0</td>\n",
       "      <td>0</td>\n",
       "      <td>0</td>\n",
       "      <td>2</td>\n",
       "      <td>2</td>\n",
       "      <td>1</td>\n",
       "      <td>0</td>\n",
       "      <td>6.266667</td>\n",
       "      <td>0</td>\n",
       "      <td>...</td>\n",
       "      <td>1</td>\n",
       "      <td>0</td>\n",
       "      <td>0</td>\n",
       "      <td>0</td>\n",
       "      <td>0</td>\n",
       "      <td>1</td>\n",
       "      <td>0</td>\n",
       "      <td>0</td>\n",
       "      <td>0</td>\n",
       "      <td>1</td>\n",
       "    </tr>\n",
       "    <tr>\n",
       "      <th>20</th>\n",
       "      <td>2.0</td>\n",
       "      <td>0</td>\n",
       "      <td>0</td>\n",
       "      <td>0</td>\n",
       "      <td>2</td>\n",
       "      <td>1</td>\n",
       "      <td>1</td>\n",
       "      <td>0</td>\n",
       "      <td>1.633333</td>\n",
       "      <td>0</td>\n",
       "      <td>...</td>\n",
       "      <td>0</td>\n",
       "      <td>0</td>\n",
       "      <td>0</td>\n",
       "      <td>0</td>\n",
       "      <td>0</td>\n",
       "      <td>1</td>\n",
       "      <td>0</td>\n",
       "      <td>0</td>\n",
       "      <td>0</td>\n",
       "      <td>1</td>\n",
       "    </tr>\n",
       "    <tr>\n",
       "      <th>23</th>\n",
       "      <td>1.0</td>\n",
       "      <td>0</td>\n",
       "      <td>0</td>\n",
       "      <td>0</td>\n",
       "      <td>1</td>\n",
       "      <td>1</td>\n",
       "      <td>1</td>\n",
       "      <td>0</td>\n",
       "      <td>1.850000</td>\n",
       "      <td>0</td>\n",
       "      <td>...</td>\n",
       "      <td>0</td>\n",
       "      <td>0</td>\n",
       "      <td>0</td>\n",
       "      <td>0</td>\n",
       "      <td>0</td>\n",
       "      <td>1</td>\n",
       "      <td>0</td>\n",
       "      <td>0</td>\n",
       "      <td>0</td>\n",
       "      <td>1</td>\n",
       "    </tr>\n",
       "    <tr>\n",
       "      <th>34</th>\n",
       "      <td>1.0</td>\n",
       "      <td>1</td>\n",
       "      <td>0</td>\n",
       "      <td>0</td>\n",
       "      <td>2</td>\n",
       "      <td>1</td>\n",
       "      <td>1</td>\n",
       "      <td>0</td>\n",
       "      <td>2.583333</td>\n",
       "      <td>0</td>\n",
       "      <td>...</td>\n",
       "      <td>0</td>\n",
       "      <td>0</td>\n",
       "      <td>0</td>\n",
       "      <td>0</td>\n",
       "      <td>0</td>\n",
       "      <td>1</td>\n",
       "      <td>0</td>\n",
       "      <td>0</td>\n",
       "      <td>0</td>\n",
       "      <td>1</td>\n",
       "    </tr>\n",
       "    <tr>\n",
       "      <th>47</th>\n",
       "      <td>2.0</td>\n",
       "      <td>0</td>\n",
       "      <td>0</td>\n",
       "      <td>0</td>\n",
       "      <td>1</td>\n",
       "      <td>3</td>\n",
       "      <td>1</td>\n",
       "      <td>0</td>\n",
       "      <td>7.383333</td>\n",
       "      <td>0</td>\n",
       "      <td>...</td>\n",
       "      <td>0</td>\n",
       "      <td>0</td>\n",
       "      <td>0</td>\n",
       "      <td>0</td>\n",
       "      <td>0</td>\n",
       "      <td>1</td>\n",
       "      <td>0</td>\n",
       "      <td>0</td>\n",
       "      <td>0</td>\n",
       "      <td>1</td>\n",
       "    </tr>\n",
       "  </tbody>\n",
       "</table>\n",
       "<p>5 rows × 39 columns</p>\n",
       "</div>"
      ],
      "text/plain": [
       "    package_id  online_booking  mobile_site_booking  Car_Cancellation  \\\n",
       "8          2.0               0                    0                 0   \n",
       "20         2.0               0                    0                 0   \n",
       "23         1.0               0                    0                 0   \n",
       "34         1.0               1                    0                 0   \n",
       "47         2.0               0                    0                 0   \n",
       "\n",
       "    Canc_Tags  Book_Tags  Book_Month  book_Weekday/Weekend  Time_Gap_hours  \\\n",
       "8           2          2           1                     0        6.266667   \n",
       "20          2          1           1                     0        1.633333   \n",
       "23          1          1           1                     0        1.850000   \n",
       "34          2          1           1                     0        2.583333   \n",
       "47          1          3           1                     0        7.383333   \n",
       "\n",
       "    day_Friday  ...  booktime_Morning  booktime_Night  Season_Fall  \\\n",
       "8            0  ...                 1               0            0   \n",
       "20           0  ...                 0               0            0   \n",
       "23           0  ...                 0               0            0   \n",
       "34           0  ...                 0               0            0   \n",
       "47           0  ...                 0               0            0   \n",
       "\n",
       "    Season_Spring  Season_Summer  Season_Winter  BookSeason_Fall  \\\n",
       "8               0              0              1                0   \n",
       "20              0              0              1                0   \n",
       "23              0              0              1                0   \n",
       "34              0              0              1                0   \n",
       "47              0              0              1                0   \n",
       "\n",
       "    BookSeason_Spring  BookSeason_Summer  BookSeason_Winter  \n",
       "8                   0                  0                  1  \n",
       "20                  0                  0                  1  \n",
       "23                  0                  0                  1  \n",
       "34                  0                  0                  1  \n",
       "47                  0                  0                  1  \n",
       "\n",
       "[5 rows x 39 columns]"
      ]
     },
     "execution_count": 117,
     "metadata": {},
     "output_type": "execute_result"
    }
   ],
   "source": [
    "df3.head()"
   ]
  },
  {
   "cell_type": "code",
   "execution_count": 118,
   "id": "87b8fc7c",
   "metadata": {},
   "outputs": [
    {
     "data": {
      "text/plain": [
       "Index(['package_id', 'online_booking', 'mobile_site_booking',\n",
       "       'Car_Cancellation', 'Canc_Tags', 'Book_Tags', 'Book_Month',\n",
       "       'book_Weekday/Weekend', 'Time_Gap_hours', 'day_Friday', 'day_Monday',\n",
       "       'day_Saturday', 'day_Sunday', 'day_Thursday', 'day_Tuesday',\n",
       "       'day_Wednesday', 'time_Afternoon', 'time_Evening', 'time_Morning',\n",
       "       'time_Night', 'bookday_Friday', 'bookday_Monday', 'bookday_Saturday',\n",
       "       'bookday_Sunday', 'bookday_Thursday', 'bookday_Tuesday',\n",
       "       'bookday_Wednesday', 'booktime_Afternoon', 'booktime_Evening',\n",
       "       'booktime_Morning', 'booktime_Night', 'Season_Fall', 'Season_Spring',\n",
       "       'Season_Summer', 'Season_Winter', 'BookSeason_Fall',\n",
       "       'BookSeason_Spring', 'BookSeason_Summer', 'BookSeason_Winter'],\n",
       "      dtype='object')"
      ]
     },
     "execution_count": 118,
     "metadata": {},
     "output_type": "execute_result"
    }
   ],
   "source": [
    "df3.columns"
   ]
  },
  {
   "cell_type": "code",
   "execution_count": 119,
   "id": "74ec213c",
   "metadata": {},
   "outputs": [],
   "source": [
    "data_subset=df3[['time_Afternoon', 'time_Evening', 'time_Morning', 'time_Night',\n",
    "       'booktime_Afternoon', 'booktime_Evening', 'booktime_Morning',\n",
    "       'booktime_Night','Car_Cancellation']]"
   ]
  },
  {
   "cell_type": "code",
   "execution_count": 120,
   "id": "55452391",
   "metadata": {},
   "outputs": [],
   "source": [
    "corr_matrix2=data_subset.corr()"
   ]
  },
  {
   "cell_type": "code",
   "execution_count": 121,
   "id": "fad33266",
   "metadata": {},
   "outputs": [
    {
     "data": {
      "image/png": "[encoded data removed]",
      "text/plain": [
       "<Figure size 1000x600 with 2 Axes>"
      ]
     },
     "metadata": {},
     "output_type": "display_data"
    }
   ],
   "source": [
    "plt.figure(figsize=(10,6))\n",
    "sns.heatmap(corr_matrix2,annot=True,cmap='coolwarm',fmt='.2f')\n",
    "plt.title('Heatmap corr_matrix2')\n",
    "plt.show()"
   ]
  },
  {
   "cell_type": "code",
   "execution_count": 122,
   "id": "8516849c",
   "metadata": {},
   "outputs": [],
   "source": [
    "df3=df3.drop('time_Morning',axis=1)"
   ]
  },
  {
   "cell_type": "code",
   "execution_count": 123,
   "id": "48847a9a",
   "metadata": {},
   "outputs": [],
   "source": [
    "data_subset=df3[['Season_Fall', 'Season_Spring', 'Season_Summer', 'Season_Winter',\n",
    "       'BookSeason_Fall', 'BookSeason_Spring', 'BookSeason_Summer',\n",
    "       'BookSeason_Winter','Car_Cancellation']]"
   ]
  },
  {
   "cell_type": "code",
   "execution_count": 124,
   "id": "ecb2aa7c",
   "metadata": {},
   "outputs": [],
   "source": [
    "corr_matrix3=data_subset.corr()"
   ]
  },
  {
   "cell_type": "code",
   "execution_count": 125,
   "id": "f43ab8aa",
   "metadata": {},
   "outputs": [
    {
     "data": {
      "image/png": "[encoded data removed]",
      "text/plain": [
       "<Figure size 1000x600 with 2 Axes>"
      ]
     },
     "metadata": {},
     "output_type": "display_data"
    }
   ],
   "source": [
    "plt.figure(figsize=(10,6))\n",
    "sns.heatmap(corr_matrix3,annot=True,cmap='coolwarm',fmt='.2f')\n",
    "plt.title('Heatmap for corr_matrix3')\n",
    "plt.show()"
   ]
  },
  {
   "cell_type": "code",
   "execution_count": 126,
   "id": "b7eaa02d",
   "metadata": {},
   "outputs": [],
   "source": [
    "# Now, here, Season_Fall has very high correlation with BookSeason_Fall, Season_Spring has very high correlation with \n",
    "# BookSeason_Spring, Season_Summer has very high correlation with BookSeason_Summer, Season_Winter has very high correlation\n",
    "# with BookSeason_Winter so drop them.\n",
    "df3=df3.drop(['BookSeason_Fall','BookSeason_Spring','BookSeason_Summer','BookSeason_Winter'],axis=1)"
   ]
  },
  {
   "cell_type": "code",
   "execution_count": 127,
   "id": "a5769e5f",
   "metadata": {},
   "outputs": [],
   "source": [
    "data_subset=df3[['Season_Fall','Season_Spring','Season_Summer','Season_Winter','Car_Cancellation']]"
   ]
  },
  {
   "cell_type": "code",
   "execution_count": 128,
   "id": "88e3f6a2",
   "metadata": {},
   "outputs": [],
   "source": [
    "corr_matrix5=data_subset.corr()"
   ]
  },
  {
   "cell_type": "code",
   "execution_count": 129,
   "id": "45494cce",
   "metadata": {},
   "outputs": [
    {
     "data": {
      "image/png": "[encoded data removed]",
      "text/plain": [
       "<Figure size 1000x600 with 2 Axes>"
      ]
     },
     "metadata": {},
     "output_type": "display_data"
    }
   ],
   "source": [
    "plt.figure(figsize=(10,6))\n",
    "sns.heatmap(corr_matrix5,annot=True,cmap='coolwarm',fmt='.2f')\n",
    "plt.title('Heatmap corr_matrix5')\n",
    "plt.show()"
   ]
  },
  {
   "cell_type": "code",
   "execution_count": 130,
   "id": "1af08cc1",
   "metadata": {},
   "outputs": [],
   "source": [
    "data_subset=df3[['package_id', 'online_booking', 'mobile_site_booking','Car_Cancellation']]"
   ]
  },
  {
   "cell_type": "code",
   "execution_count": 131,
   "id": "f9d9b355",
   "metadata": {},
   "outputs": [],
   "source": [
    "corr_matrix4=data_subset.corr()"
   ]
  },
  {
   "cell_type": "code",
   "execution_count": 132,
   "id": "9c54cb30",
   "metadata": {},
   "outputs": [
    {
     "data": {
      "text/html": [
       "<div>\n",
       "<style scoped>\n",
       "    .dataframe tbody tr th:only-of-type {\n",
       "        vertical-align: middle;\n",
       "    }\n",
       "\n",
       "    .dataframe tbody tr th {\n",
       "        vertical-align: top;\n",
       "    }\n",
       "\n",
       "    .dataframe thead th {\n",
       "        text-align: right;\n",
       "    }\n",
       "</style>\n",
       "<table border=\"1\" class=\"dataframe\">\n",
       "  <thead>\n",
       "    <tr style=\"text-align: right;\">\n",
       "      <th></th>\n",
       "      <th>package_id</th>\n",
       "      <th>online_booking</th>\n",
       "      <th>mobile_site_booking</th>\n",
       "      <th>Car_Cancellation</th>\n",
       "    </tr>\n",
       "  </thead>\n",
       "  <tbody>\n",
       "    <tr>\n",
       "      <th>package_id</th>\n",
       "      <td>1.000000</td>\n",
       "      <td>-0.022390</td>\n",
       "      <td>-0.029405</td>\n",
       "      <td>0.071583</td>\n",
       "    </tr>\n",
       "    <tr>\n",
       "      <th>online_booking</th>\n",
       "      <td>-0.022390</td>\n",
       "      <td>1.000000</td>\n",
       "      <td>-0.103515</td>\n",
       "      <td>0.143526</td>\n",
       "    </tr>\n",
       "    <tr>\n",
       "      <th>mobile_site_booking</th>\n",
       "      <td>-0.029405</td>\n",
       "      <td>-0.103515</td>\n",
       "      <td>1.000000</td>\n",
       "      <td>0.040672</td>\n",
       "    </tr>\n",
       "    <tr>\n",
       "      <th>Car_Cancellation</th>\n",
       "      <td>0.071583</td>\n",
       "      <td>0.143526</td>\n",
       "      <td>0.040672</td>\n",
       "      <td>1.000000</td>\n",
       "    </tr>\n",
       "  </tbody>\n",
       "</table>\n",
       "</div>"
      ],
      "text/plain": [
       "                     package_id  online_booking  mobile_site_booking  \\\n",
       "package_id             1.000000       -0.022390            -0.029405   \n",
       "online_booking        -0.022390        1.000000            -0.103515   \n",
       "mobile_site_booking   -0.029405       -0.103515             1.000000   \n",
       "Car_Cancellation       0.071583        0.143526             0.040672   \n",
       "\n",
       "                     Car_Cancellation  \n",
       "package_id                   0.071583  \n",
       "online_booking               0.143526  \n",
       "mobile_site_booking          0.040672  \n",
       "Car_Cancellation             1.000000  "
      ]
     },
     "execution_count": 132,
     "metadata": {},
     "output_type": "execute_result"
    }
   ],
   "source": [
    "corr_matrix4"
   ]
  },
  {
   "cell_type": "code",
   "execution_count": 133,
   "id": "99a54f1c",
   "metadata": {},
   "outputs": [
    {
     "data": {
      "text/plain": [
       "1.0    3503\n",
       "2.0    2651\n",
       "6.0     502\n",
       "4.0     412\n",
       "3.0     375\n",
       "7.0     101\n",
       "5.0       6\n",
       "Name: package_id, dtype: int64"
      ]
     },
     "execution_count": 133,
     "metadata": {},
     "output_type": "execute_result"
    }
   ],
   "source": [
    "df3['package_id'].value_counts()"
   ]
  },
  {
   "cell_type": "code",
   "execution_count": 134,
   "id": "e987bd67",
   "metadata": {},
   "outputs": [],
   "source": [
    "#df3=df3.drop('package_id',axis=1)"
   ]
  },
  {
   "cell_type": "code",
   "execution_count": 135,
   "id": "cac37fd0",
   "metadata": {},
   "outputs": [
    {
     "data": {
      "text/html": [
       "<div>\n",
       "<style scoped>\n",
       "    .dataframe tbody tr th:only-of-type {\n",
       "        vertical-align: middle;\n",
       "    }\n",
       "\n",
       "    .dataframe tbody tr th {\n",
       "        vertical-align: top;\n",
       "    }\n",
       "\n",
       "    .dataframe thead th {\n",
       "        text-align: right;\n",
       "    }\n",
       "</style>\n",
       "<table border=\"1\" class=\"dataframe\">\n",
       "  <thead>\n",
       "    <tr style=\"text-align: right;\">\n",
       "      <th></th>\n",
       "      <th>Canc_Tags</th>\n",
       "      <th>Book_Tags</th>\n",
       "      <th>Car_Cancellation</th>\n",
       "    </tr>\n",
       "  </thead>\n",
       "  <tbody>\n",
       "    <tr>\n",
       "      <th>Canc_Tags</th>\n",
       "      <td>1.000000</td>\n",
       "      <td>0.196448</td>\n",
       "      <td>0.229102</td>\n",
       "    </tr>\n",
       "    <tr>\n",
       "      <th>Book_Tags</th>\n",
       "      <td>0.196448</td>\n",
       "      <td>1.000000</td>\n",
       "      <td>-0.010838</td>\n",
       "    </tr>\n",
       "    <tr>\n",
       "      <th>Car_Cancellation</th>\n",
       "      <td>0.229102</td>\n",
       "      <td>-0.010838</td>\n",
       "      <td>1.000000</td>\n",
       "    </tr>\n",
       "  </tbody>\n",
       "</table>\n",
       "</div>"
      ],
      "text/plain": [
       "                  Canc_Tags  Book_Tags  Car_Cancellation\n",
       "Canc_Tags          1.000000   0.196448          0.229102\n",
       "Book_Tags          0.196448   1.000000         -0.010838\n",
       "Car_Cancellation   0.229102  -0.010838          1.000000"
      ]
     },
     "execution_count": 135,
     "metadata": {},
     "output_type": "execute_result"
    }
   ],
   "source": [
    "data_subset=df3[['Canc_Tags','Book_Tags','Car_Cancellation']]\n",
    "corr_matrix=data_subset.corr()\n",
    "corr_matrix"
   ]
  },
  {
   "cell_type": "code",
   "execution_count": 136,
   "id": "82bddb1a",
   "metadata": {},
   "outputs": [
    {
     "data": {
      "image/png": "[encoded data removed]",
      "text/plain": [
       "<Figure size 1000x600 with 1 Axes>"
      ]
     },
     "metadata": {},
     "output_type": "display_data"
    }
   ],
   "source": [
    "plt.figure(figsize=(10,6))\n",
    "plt.hist(df3['Time_Gap_hours'])\n",
    "plt.xlabel('Time_Gap_hours')\n",
    "plt.ylabel('Frequency')\n",
    "plt.title('Distribution of Time_Gap_hours')\n",
    "plt.show()"
   ]
  },
  {
   "cell_type": "code",
   "execution_count": 137,
   "id": "eb565788",
   "metadata": {},
   "outputs": [
    {
     "data": {
      "image/png": "[encoded data removed]",
      "text/plain": [
       "<Figure size 1000x600 with 1 Axes>"
      ]
     },
     "metadata": {},
     "output_type": "display_data"
    }
   ],
   "source": [
    "plt.figure(figsize=(10,6))\n",
    "plt.boxplot(df3['Time_Gap_hours'])\n",
    "plt.xlabel('Time_Gap_hours')\n",
    "plt.title('Boxplot Time_Gap_hours')\n",
    "plt.show()"
   ]
  },
  {
   "cell_type": "code",
   "execution_count": 138,
   "id": "b0362e8c",
   "metadata": {},
   "outputs": [
    {
     "data": {
      "text/plain": [
       "package_id              0\n",
       "online_booking          0\n",
       "mobile_site_booking     0\n",
       "Car_Cancellation        0\n",
       "Canc_Tags               0\n",
       "Book_Tags               0\n",
       "Book_Month              0\n",
       "book_Weekday/Weekend    0\n",
       "Time_Gap_hours          0\n",
       "day_Friday              0\n",
       "day_Monday              0\n",
       "day_Saturday            0\n",
       "day_Sunday              0\n",
       "day_Thursday            0\n",
       "day_Tuesday             0\n",
       "day_Wednesday           0\n",
       "time_Afternoon          0\n",
       "time_Evening            0\n",
       "time_Night              0\n",
       "bookday_Friday          0\n",
       "bookday_Monday          0\n",
       "bookday_Saturday        0\n",
       "bookday_Sunday          0\n",
       "bookday_Thursday        0\n",
       "bookday_Tuesday         0\n",
       "bookday_Wednesday       0\n",
       "booktime_Afternoon      0\n",
       "booktime_Evening        0\n",
       "booktime_Morning        0\n",
       "booktime_Night          0\n",
       "Season_Fall             0\n",
       "Season_Spring           0\n",
       "Season_Summer           0\n",
       "Season_Winter           0\n",
       "dtype: int64"
      ]
     },
     "execution_count": 138,
     "metadata": {},
     "output_type": "execute_result"
    }
   ],
   "source": [
    "df3.isna().sum()"
   ]
  },
  {
   "cell_type": "code",
   "execution_count": 139,
   "id": "187cd79b",
   "metadata": {},
   "outputs": [
    {
     "name": "stdout",
     "output_type": "stream",
     "text": [
      "-3.55\n",
      "695.55\n"
     ]
    }
   ],
   "source": [
    "print(df3['Time_Gap_hours'].min())\n",
    "print(df3['Time_Gap_hours'].max())"
   ]
  },
  {
   "cell_type": "code",
   "execution_count": 140,
   "id": "517f0778",
   "metadata": {},
   "outputs": [],
   "source": [
    "df3['Time_Gap_hours']=df3['Time_Gap_hours'].abs()"
   ]
  },
  {
   "cell_type": "code",
   "execution_count": 141,
   "id": "37e3e71d",
   "metadata": {},
   "outputs": [
    {
     "data": {
      "text/plain": [
       "(7550, 34)"
      ]
     },
     "execution_count": 141,
     "metadata": {},
     "output_type": "execute_result"
    }
   ],
   "source": [
    "df3_new=df3\n",
    "df3_new.shape"
   ]
  },
  {
   "cell_type": "code",
   "execution_count": 142,
   "id": "42bb6ed9",
   "metadata": {},
   "outputs": [],
   "source": [
    "from sklearn.model_selection import train_test_split\n",
    "from sklearn.preprocessing import RobustScaler"
   ]
  },
  {
   "cell_type": "code",
   "execution_count": 143,
   "id": "8069aea6",
   "metadata": {},
   "outputs": [],
   "source": [
    "X=df3_new.drop('Car_Cancellation',axis=1)\n",
    "Y=df3_new['Car_Cancellation']"
   ]
  },
  {
   "cell_type": "code",
   "execution_count": 144,
   "id": "077e0646",
   "metadata": {},
   "outputs": [
    {
     "data": {
      "text/plain": [
       "(7550, 33)"
      ]
     },
     "execution_count": 144,
     "metadata": {},
     "output_type": "execute_result"
    }
   ],
   "source": [
    "X.shape"
   ]
  },
  {
   "cell_type": "code",
   "execution_count": 145,
   "id": "e2b39967",
   "metadata": {},
   "outputs": [
    {
     "data": {
      "text/plain": [
       "(7550,)"
      ]
     },
     "execution_count": 145,
     "metadata": {},
     "output_type": "execute_result"
    }
   ],
   "source": [
    "Y.shape"
   ]
  },
  {
   "cell_type": "code",
   "execution_count": 146,
   "id": "c8f79c7b",
   "metadata": {},
   "outputs": [
    {
     "data": {
      "text/plain": [
       "0    7214\n",
       "1     336\n",
       "Name: Car_Cancellation, dtype: int64"
      ]
     },
     "execution_count": 146,
     "metadata": {},
     "output_type": "execute_result"
    }
   ],
   "source": [
    "Y.value_counts()"
   ]
  },
  {
   "cell_type": "code",
   "execution_count": 147,
   "id": "fe99f96e",
   "metadata": {},
   "outputs": [
    {
     "data": {
      "text/plain": [
       "Index(['package_id', 'online_booking', 'mobile_site_booking',\n",
       "       'Car_Cancellation', 'Canc_Tags', 'Book_Tags', 'Book_Month',\n",
       "       'book_Weekday/Weekend', 'Time_Gap_hours', 'day_Friday', 'day_Monday',\n",
       "       'day_Saturday', 'day_Sunday', 'day_Thursday', 'day_Tuesday',\n",
       "       'day_Wednesday', 'time_Afternoon', 'time_Evening', 'time_Night',\n",
       "       'bookday_Friday', 'bookday_Monday', 'bookday_Saturday',\n",
       "       'bookday_Sunday', 'bookday_Thursday', 'bookday_Tuesday',\n",
       "       'bookday_Wednesday', 'booktime_Afternoon', 'booktime_Evening',\n",
       "       'booktime_Morning', 'booktime_Night', 'Season_Fall', 'Season_Spring',\n",
       "       'Season_Summer', 'Season_Winter'],\n",
       "      dtype='object')"
      ]
     },
     "execution_count": 147,
     "metadata": {},
     "output_type": "execute_result"
    }
   ],
   "source": [
    "df3.columns"
   ]
  },
  {
   "cell_type": "code",
   "execution_count": 148,
   "id": "3b953878",
   "metadata": {},
   "outputs": [],
   "source": [
    "X_train,X_test,Y_train,Y_test=train_test_split(X,Y,test_size=0.2,stratify=Y,random_state=111)"
   ]
  },
  {
   "cell_type": "code",
   "execution_count": 149,
   "id": "293b0144",
   "metadata": {},
   "outputs": [],
   "source": [
    "mms=RobustScaler()"
   ]
  },
  {
   "cell_type": "code",
   "execution_count": 150,
   "id": "257b80c8",
   "metadata": {},
   "outputs": [],
   "source": [
    "continous_feature=['Time_Gap_hours']"
   ]
  },
  {
   "cell_type": "code",
   "execution_count": 151,
   "id": "552e9ff2",
   "metadata": {},
   "outputs": [],
   "source": [
    "X_train[continous_feature]=mms.fit_transform(X_train[continous_feature])"
   ]
  },
  {
   "cell_type": "code",
   "execution_count": 152,
   "id": "a39dafa6",
   "metadata": {},
   "outputs": [],
   "source": [
    "X_test[continous_feature]=mms.transform(X_test[continous_feature])"
   ]
  },
  {
   "cell_type": "code",
   "execution_count": 153,
   "id": "60c41f7c",
   "metadata": {},
   "outputs": [],
   "source": [
    "from sklearn.linear_model import LogisticRegression\n",
    "from sklearn.metrics import classification_report,accuracy_score,roc_curve,roc_auc_score,average_precision_score"
   ]
  },
  {
   "cell_type": "code",
   "execution_count": 154,
   "id": "bb61258c",
   "metadata": {},
   "outputs": [],
   "source": [
    "model_logreg=LogisticRegression()"
   ]
  },
  {
   "cell_type": "code",
   "execution_count": 155,
   "id": "0154568d",
   "metadata": {},
   "outputs": [
    {
     "name": "stderr",
     "output_type": "stream",
     "text": [
      "C:\\ProgramData\\Anaconda3\\lib\\site-packages\\sklearn\\linear_model\\_logistic.py:814: ConvergenceWarning: lbfgs failed to converge (status=1):\n",
      "STOP: TOTAL NO. of ITERATIONS REACHED LIMIT.\n",
      "\n",
      "Increase the number of iterations (max_iter) or scale the data as shown in:\n",
      "    https://scikit-learn.org/stable/modules/preprocessing.html\n",
      "Please also refer to the documentation for alternative solver options:\n",
      "    https://scikit-learn.org/stable/modules/linear_model.html#logistic-regression\n",
      "  n_iter_i = _check_optimize_result(\n"
     ]
    },
    {
     "data": {
      "text/plain": [
       "LogisticRegression()"
      ]
     },
     "execution_count": 155,
     "metadata": {},
     "output_type": "execute_result"
    }
   ],
   "source": [
    "model_logreg.fit(X_train,Y_train)"
   ]
  },
  {
   "cell_type": "code",
   "execution_count": 156,
   "id": "271c4340",
   "metadata": {},
   "outputs": [],
   "source": [
    "Y_pred=model_logreg.predict(X_test)"
   ]
  },
  {
   "cell_type": "code",
   "execution_count": 157,
   "id": "ced7d134",
   "metadata": {},
   "outputs": [],
   "source": [
    "Y_pred_proba=model_logreg.predict_proba(X_test)[:,1]"
   ]
  },
  {
   "cell_type": "code",
   "execution_count": 158,
   "id": "fea659ce",
   "metadata": {},
   "outputs": [
    {
     "name": "stdout",
     "output_type": "stream",
     "text": [
      "              precision    recall  f1-score   support\n",
      "\n",
      "           0       0.96      1.00      0.98      1443\n",
      "           1       0.50      0.09      0.15        67\n",
      "\n",
      "    accuracy                           0.96      1510\n",
      "   macro avg       0.73      0.54      0.56      1510\n",
      "weighted avg       0.94      0.96      0.94      1510\n",
      "\n"
     ]
    }
   ],
   "source": [
    "print(classification_report(Y_test,Y_pred))"
   ]
  },
  {
   "cell_type": "code",
   "execution_count": 159,
   "id": "5318e030",
   "metadata": {},
   "outputs": [
    {
     "name": "stdout",
     "output_type": "stream",
     "text": [
      "0.2969771926672989\n"
     ]
    }
   ],
   "source": [
    "average_precision=average_precision_score(Y_test,Y_pred_proba)\n",
    "print(average_precision)"
   ]
  },
  {
   "cell_type": "code",
   "execution_count": 160,
   "id": "ce1cf175",
   "metadata": {},
   "outputs": [
    {
     "name": "stdout",
     "output_type": "stream",
     "text": [
      "0.9556291390728476\n"
     ]
    }
   ],
   "source": [
    "accuracy=accuracy_score(Y_test,Y_pred)\n",
    "print(accuracy)"
   ]
  },
  {
   "cell_type": "code",
   "execution_count": 161,
   "id": "e48b2000",
   "metadata": {},
   "outputs": [
    {
     "name": "stdout",
     "output_type": "stream",
     "text": [
      "0.8837620628665405\n"
     ]
    }
   ],
   "source": [
    "roc_auc=roc_auc_score(Y_test,Y_pred_proba)\n",
    "print(roc_auc)"
   ]
  },
  {
   "cell_type": "code",
   "execution_count": 162,
   "id": "652863b8",
   "metadata": {},
   "outputs": [],
   "source": [
    "from imblearn.over_sampling import SMOTE\n",
    "smote=SMOTE(random_state=111)"
   ]
  },
  {
   "cell_type": "code",
   "execution_count": 163,
   "id": "34c22724",
   "metadata": {},
   "outputs": [],
   "source": [
    "X_train_resampled,Y_train_resampled=smote.fit_resample(X_train,Y_train)"
   ]
  },
  {
   "cell_type": "code",
   "execution_count": 164,
   "id": "a722b0e4",
   "metadata": {},
   "outputs": [],
   "source": [
    "from sklearn.ensemble import RandomForestClassifier"
   ]
  },
  {
   "cell_type": "code",
   "execution_count": 165,
   "id": "dae616c0",
   "metadata": {},
   "outputs": [],
   "source": [
    "model=RandomForestClassifier()"
   ]
  },
  {
   "cell_type": "code",
   "execution_count": 166,
   "id": "728b63bb",
   "metadata": {},
   "outputs": [
    {
     "data": {
      "text/plain": [
       "RandomForestClassifier()"
      ]
     },
     "execution_count": 166,
     "metadata": {},
     "output_type": "execute_result"
    }
   ],
   "source": [
    "model.fit(X_train_resampled,Y_train_resampled)"
   ]
  },
  {
   "cell_type": "code",
   "execution_count": 167,
   "id": "0d2c59bd",
   "metadata": {},
   "outputs": [],
   "source": [
    "Y_pred=model.predict(X_test)"
   ]
  },
  {
   "cell_type": "code",
   "execution_count": 168,
   "id": "dd5c4a4b",
   "metadata": {},
   "outputs": [],
   "source": [
    "Y_pred_proba=model.predict_proba(X_test)[:,1] # Probabilities for positive class"
   ]
  },
  {
   "cell_type": "code",
   "execution_count": 169,
   "id": "2f21fe19",
   "metadata": {},
   "outputs": [
    {
     "name": "stdout",
     "output_type": "stream",
     "text": [
      "              precision    recall  f1-score   support\n",
      "\n",
      "           0       0.97      0.97      0.97      1443\n",
      "           1       0.32      0.33      0.32        67\n",
      "\n",
      "    accuracy                           0.94      1510\n",
      "   macro avg       0.64      0.65      0.65      1510\n",
      "weighted avg       0.94      0.94      0.94      1510\n",
      "\n"
     ]
    }
   ],
   "source": [
    "print(classification_report(Y_test,Y_pred))"
   ]
  },
  {
   "cell_type": "code",
   "execution_count": 170,
   "id": "fc92bd46",
   "metadata": {},
   "outputs": [
    {
     "name": "stdout",
     "output_type": "stream",
     "text": [
      "0.2544758514854415\n"
     ]
    }
   ],
   "source": [
    "average_precision=average_precision_score(Y_test,Y_pred_proba)\n",
    "print(average_precision)"
   ]
  },
  {
   "cell_type": "code",
   "execution_count": 171,
   "id": "e584dcac",
   "metadata": {},
   "outputs": [
    {
     "name": "stdout",
     "output_type": "stream",
     "text": [
      "0.9390728476821192\n"
     ]
    }
   ],
   "source": [
    "accuracy=accuracy_score(Y_test,Y_pred)\n",
    "print(accuracy)"
   ]
  },
  {
   "cell_type": "code",
   "execution_count": 172,
   "id": "95541228",
   "metadata": {},
   "outputs": [
    {
     "name": "stdout",
     "output_type": "stream",
     "text": [
      "0.8694262574859589\n"
     ]
    }
   ],
   "source": [
    "roc_auc=roc_auc_score(Y_test,Y_pred_proba)\n",
    "print(roc_auc)"
   ]
  },
  {
   "cell_type": "code",
   "execution_count": 173,
   "id": "f33f1745",
   "metadata": {},
   "outputs": [],
   "source": [
    "import xgboost as xgb"
   ]
  },
  {
   "cell_type": "code",
   "execution_count": 174,
   "id": "5a543e84",
   "metadata": {},
   "outputs": [],
   "source": [
    "model_xgb=xgb.XGBClassifier()"
   ]
  },
  {
   "cell_type": "code",
   "execution_count": 175,
   "id": "3a43a617",
   "metadata": {},
   "outputs": [
    {
     "data": {
      "text/plain": [
       "XGBClassifier(base_score=None, booster=None, callbacks=None,\n",
       "              colsample_bylevel=None, colsample_bynode=None,\n",
       "              colsample_bytree=None, device=None, early_stopping_rounds=None,\n",
       "              enable_categorical=False, eval_metric=None, feature_types=None,\n",
       "              gamma=None, grow_policy=None, importance_type=None,\n",
       "              interaction_constraints=None, learning_rate=None, max_bin=None,\n",
       "              max_cat_threshold=None, max_cat_to_onehot=None,\n",
       "              max_delta_step=None, max_depth=None, max_leaves=None,\n",
       "              min_child_weight=None, missing=nan, monotone_constraints=None,\n",
       "              multi_strategy=None, n_estimators=None, n_jobs=None,\n",
       "              num_parallel_tree=None, random_state=None, ...)"
      ]
     },
     "execution_count": 175,
     "metadata": {},
     "output_type": "execute_result"
    }
   ],
   "source": [
    "model_xgb.fit(X_train_resampled,Y_train_resampled)"
   ]
  },
  {
   "cell_type": "code",
   "execution_count": 176,
   "id": "6601c4fc",
   "metadata": {},
   "outputs": [],
   "source": [
    "Y_pred=model_xgb.predict(X_test)"
   ]
  },
  {
   "cell_type": "code",
   "execution_count": 177,
   "id": "d3e3dbf3",
   "metadata": {},
   "outputs": [],
   "source": [
    "Y_pred_proba=model_xgb.predict_proba(X_test)[:,1]"
   ]
  },
  {
   "cell_type": "code",
   "execution_count": 178,
   "id": "6eb01e48",
   "metadata": {},
   "outputs": [
    {
     "name": "stdout",
     "output_type": "stream",
     "text": [
      "              precision    recall  f1-score   support\n",
      "\n",
      "           0       0.97      0.96      0.97      1443\n",
      "           1       0.34      0.42      0.37        67\n",
      "\n",
      "    accuracy                           0.94      1510\n",
      "   macro avg       0.66      0.69      0.67      1510\n",
      "weighted avg       0.94      0.94      0.94      1510\n",
      "\n"
     ]
    }
   ],
   "source": [
    "print(classification_report(Y_test,Y_pred))"
   ]
  },
  {
   "cell_type": "code",
   "execution_count": 179,
   "id": "58f573a1",
   "metadata": {},
   "outputs": [
    {
     "name": "stdout",
     "output_type": "stream",
     "text": [
      "0.3112758985943946\n"
     ]
    }
   ],
   "source": [
    "average_precision=average_precision_score(Y_test,Y_pred_proba)\n",
    "print(average_precision)"
   ]
  },
  {
   "cell_type": "code",
   "execution_count": 180,
   "id": "fb74bec9",
   "metadata": {},
   "outputs": [
    {
     "name": "stdout",
     "output_type": "stream",
     "text": [
      "0.937748344370861\n"
     ]
    }
   ],
   "source": [
    "accuracy=accuracy_score(Y_test,Y_pred)\n",
    "print(accuracy)"
   ]
  },
  {
   "cell_type": "code",
   "execution_count": 181,
   "id": "c1fb47aa",
   "metadata": {},
   "outputs": [
    {
     "name": "stdout",
     "output_type": "stream",
     "text": [
      "0.8850342880193626\n"
     ]
    }
   ],
   "source": [
    "roc_auc=roc_auc_score(Y_test,Y_pred_proba)\n",
    "print(roc_auc)"
   ]
  },
  {
   "cell_type": "code",
   "execution_count": 182,
   "id": "8c6d6a98",
   "metadata": {},
   "outputs": [],
   "source": [
    "from sklearn.svm import SVC"
   ]
  },
  {
   "cell_type": "code",
   "execution_count": 183,
   "id": "0ecaa0c1",
   "metadata": {},
   "outputs": [],
   "source": [
    "svm_model=SVC(kernel='rbf',C=1.0,gamma='scale',probability=True,random_state=111)"
   ]
  },
  {
   "cell_type": "code",
   "execution_count": 184,
   "id": "03606781",
   "metadata": {},
   "outputs": [
    {
     "data": {
      "text/plain": [
       "SVC(probability=True, random_state=111)"
      ]
     },
     "execution_count": 184,
     "metadata": {},
     "output_type": "execute_result"
    }
   ],
   "source": [
    "svm_model.fit(X_train_resampled,Y_train_resampled)"
   ]
  },
  {
   "cell_type": "code",
   "execution_count": 185,
   "id": "fcaebbda",
   "metadata": {},
   "outputs": [],
   "source": [
    "Y_pred=svm_model.predict(X_test)"
   ]
  },
  {
   "cell_type": "code",
   "execution_count": 186,
   "id": "3bbe3a0b",
   "metadata": {},
   "outputs": [],
   "source": [
    "Y_pred_proba=svm_model.predict_proba(X_test)[:,1]"
   ]
  },
  {
   "cell_type": "code",
   "execution_count": 187,
   "id": "9ddb8175",
   "metadata": {},
   "outputs": [
    {
     "name": "stdout",
     "output_type": "stream",
     "text": [
      "              precision    recall  f1-score   support\n",
      "\n",
      "           0       0.98      0.88      0.93      1443\n",
      "           1       0.19      0.58      0.29        67\n",
      "\n",
      "    accuracy                           0.87      1510\n",
      "   macro avg       0.58      0.73      0.61      1510\n",
      "weighted avg       0.94      0.87      0.90      1510\n",
      "\n"
     ]
    }
   ],
   "source": [
    "print(classification_report(Y_test,Y_pred))"
   ]
  },
  {
   "cell_type": "code",
   "execution_count": 188,
   "id": "77419f34",
   "metadata": {},
   "outputs": [
    {
     "name": "stdout",
     "output_type": "stream",
     "text": [
      "0.2832849320831378\n"
     ]
    }
   ],
   "source": [
    "average_precision=average_precision_score(Y_test,Y_pred_proba)\n",
    "print(average_precision)"
   ]
  },
  {
   "cell_type": "code",
   "execution_count": 189,
   "id": "b50593da",
   "metadata": {},
   "outputs": [
    {
     "name": "stdout",
     "output_type": "stream",
     "text": [
      "0.871523178807947\n"
     ]
    }
   ],
   "source": [
    "accuracy=accuracy_score(Y_test,Y_pred)\n",
    "print(accuracy)"
   ]
  },
  {
   "cell_type": "code",
   "execution_count": 190,
   "id": "844f3ac5",
   "metadata": {},
   "outputs": [
    {
     "name": "stdout",
     "output_type": "stream",
     "text": [
      "0.8538285702464807\n"
     ]
    }
   ],
   "source": [
    "roc_auc=roc_auc_score(Y_test,Y_pred_proba)\n",
    "print(roc_auc)"
   ]
  },
  {
   "cell_type": "code",
   "execution_count": 191,
   "id": "69bf0b54",
   "metadata": {},
   "outputs": [],
   "source": [
    "from sklearn.naive_bayes import GaussianNB"
   ]
  },
  {
   "cell_type": "code",
   "execution_count": 192,
   "id": "9a8100ac",
   "metadata": {},
   "outputs": [],
   "source": [
    "model_gnb=GaussianNB()"
   ]
  },
  {
   "cell_type": "code",
   "execution_count": 193,
   "id": "35c62bbb",
   "metadata": {},
   "outputs": [
    {
     "data": {
      "text/plain": [
       "GaussianNB()"
      ]
     },
     "execution_count": 193,
     "metadata": {},
     "output_type": "execute_result"
    }
   ],
   "source": [
    "model_gnb.fit(X_train_resampled,Y_train_resampled)"
   ]
  },
  {
   "cell_type": "code",
   "execution_count": 194,
   "id": "1b8a5da9",
   "metadata": {},
   "outputs": [],
   "source": [
    "Y_pred=model_gnb.predict(X_test)"
   ]
  },
  {
   "cell_type": "code",
   "execution_count": 195,
   "id": "0a3723c4",
   "metadata": {},
   "outputs": [],
   "source": [
    "Y_pred_proba=model_gnb.predict_proba(X_test)[:,1]"
   ]
  },
  {
   "cell_type": "code",
   "execution_count": 196,
   "id": "0310953b",
   "metadata": {},
   "outputs": [
    {
     "name": "stdout",
     "output_type": "stream",
     "text": [
      "              precision    recall  f1-score   support\n",
      "\n",
      "           0       0.98      0.57      0.72      1443\n",
      "           1       0.07      0.72      0.13        67\n",
      "\n",
      "    accuracy                           0.58      1510\n",
      "   macro avg       0.53      0.65      0.43      1510\n",
      "weighted avg       0.94      0.58      0.70      1510\n",
      "\n"
     ]
    }
   ],
   "source": [
    "print(classification_report(Y_test,Y_pred))"
   ]
  },
  {
   "cell_type": "code",
   "execution_count": 197,
   "id": "40b1ee5a",
   "metadata": {},
   "outputs": [
    {
     "name": "stdout",
     "output_type": "stream",
     "text": [
      "0.17556791316419681\n"
     ]
    }
   ],
   "source": [
    "average_precision=average_precision_score(Y_test,Y_pred_proba)\n",
    "print(average_precision)"
   ]
  },
  {
   "cell_type": "code",
   "execution_count": 198,
   "id": "4aa5ee60",
   "metadata": {},
   "outputs": [
    {
     "name": "stdout",
     "output_type": "stream",
     "text": [
      "0.580794701986755\n"
     ]
    }
   ],
   "source": [
    "accuracy=accuracy_score(Y_test,Y_pred)\n",
    "print(accuracy)"
   ]
  },
  {
   "cell_type": "code",
   "execution_count": 199,
   "id": "7d58b9e0",
   "metadata": {},
   "outputs": [
    {
     "name": "stdout",
     "output_type": "stream",
     "text": [
      "0.7103774267953372\n"
     ]
    }
   ],
   "source": [
    "roc_auc=roc_auc_score(Y_test,Y_pred_proba)\n",
    "print(roc_auc)"
   ]
  },
  {
   "cell_type": "code",
   "execution_count": 200,
   "id": "263ddc7d",
   "metadata": {},
   "outputs": [],
   "source": [
    "from sklearn.model_selection import GridSearchCV,StratifiedKFold"
   ]
  },
  {
   "cell_type": "code",
   "execution_count": 201,
   "id": "c8d5dcdb",
   "metadata": {},
   "outputs": [],
   "source": [
    "model_xgb=xgb.XGBClassifier()"
   ]
  },
  {
   "cell_type": "code",
   "execution_count": 202,
   "id": "e8a9fa23",
   "metadata": {},
   "outputs": [],
   "source": [
    "param_grid={\n",
    "    'n_estimators':[30,200,500],\n",
    "    'max_depth':[5,20,30],\n",
    "    'learning_rate':[0.01,0.3],\n",
    "    'subsample':[0.5,1.0],\n",
    "    'colsample_bytree':[0.5,1.0]\n",
    "}"
   ]
  },
  {
   "cell_type": "code",
   "execution_count": 203,
   "id": "439521c5",
   "metadata": {},
   "outputs": [],
   "source": [
    "cv=StratifiedKFold(n_splits=5,shuffle=True,random_state=111)"
   ]
  },
  {
   "cell_type": "code",
   "execution_count": 204,
   "id": "0c167bd0",
   "metadata": {},
   "outputs": [],
   "source": [
    "grid_search=GridSearchCV(estimator=model_xgb,param_grid=param_grid,cv=cv,n_jobs=-1,verbose=2,scoring='average_precision')"
   ]
  },
  {
   "cell_type": "code",
   "execution_count": 205,
   "id": "5f1ecb33",
   "metadata": {},
   "outputs": [
    {
     "name": "stdout",
     "output_type": "stream",
     "text": [
      "Fitting 5 folds for each of 72 candidates, totalling 360 fits\n"
     ]
    },
    {
     "data": {
      "text/plain": [
       "GridSearchCV(cv=StratifiedKFold(n_splits=5, random_state=111, shuffle=True),\n",
       "             estimator=XGBClassifier(base_score=None, booster=None,\n",
       "                                     callbacks=None, colsample_bylevel=None,\n",
       "                                     colsample_bynode=None,\n",
       "                                     colsample_bytree=None, device=None,\n",
       "                                     early_stopping_rounds=None,\n",
       "                                     enable_categorical=False, eval_metric=None,\n",
       "                                     feature_types=None, gamma=None,\n",
       "                                     grow_policy=None, importance_ty...\n",
       "                                     max_leaves=None, min_child_weight=None,\n",
       "                                     missing=nan, monotone_constraints=None,\n",
       "                                     multi_strategy=None, n_estimators=None,\n",
       "                                     n_jobs=None, num_parallel_tree=None,\n",
       "                                     random_state=None, ...),\n",
       "             n_jobs=-1,\n",
       "             param_grid={'colsample_bytree': [0.5, 1.0],\n",
       "                         'learning_rate': [0.01, 0.3], 'max_depth': [5, 20, 30],\n",
       "                         'n_estimators': [30, 200, 500],\n",
       "                         'subsample': [0.5, 1.0]},\n",
       "             scoring='average_precision', verbose=2)"
      ]
     },
     "execution_count": 205,
     "metadata": {},
     "output_type": "execute_result"
    }
   ],
   "source": [
    "grid_search.fit(X_train_resampled,Y_train_resampled)"
   ]
  },
  {
   "cell_type": "code",
   "execution_count": 206,
   "id": "9a96b0b4",
   "metadata": {},
   "outputs": [
    {
     "name": "stdout",
     "output_type": "stream",
     "text": [
      "Best hyperparameters are: {'colsample_bytree': 1.0, 'learning_rate': 0.3, 'max_depth': 30, 'n_estimators': 200, 'subsample': 1.0}\n"
     ]
    }
   ],
   "source": [
    "best_model_xgb=grid_search.best_estimator_\n",
    "print(\"Best hyperparameters are:\",grid_search.best_params_)"
   ]
  },
  {
   "cell_type": "code",
   "execution_count": 207,
   "id": "23eb4c9d",
   "metadata": {},
   "outputs": [],
   "source": [
    "Y_pred=best_model_xgb.predict(X_test)"
   ]
  },
  {
   "cell_type": "code",
   "execution_count": 208,
   "id": "087ae5ee",
   "metadata": {},
   "outputs": [],
   "source": [
    "Y_pred_proba=best_model_xgb.predict_proba(X_test)[:,1]"
   ]
  },
  {
   "cell_type": "code",
   "execution_count": 209,
   "id": "0dd3d87d",
   "metadata": {},
   "outputs": [
    {
     "name": "stdout",
     "output_type": "stream",
     "text": [
      "              precision    recall  f1-score   support\n",
      "\n",
      "           0       0.97      0.96      0.97      1443\n",
      "           1       0.36      0.43      0.39        67\n",
      "\n",
      "    accuracy                           0.94      1510\n",
      "   macro avg       0.67      0.70      0.68      1510\n",
      "weighted avg       0.95      0.94      0.94      1510\n",
      "\n"
     ]
    }
   ],
   "source": [
    "print(classification_report(Y_test,Y_pred))"
   ]
  },
  {
   "cell_type": "code",
   "execution_count": 210,
   "id": "800c4697",
   "metadata": {},
   "outputs": [
    {
     "name": "stdout",
     "output_type": "stream",
     "text": [
      "0.29402442672866375\n"
     ]
    }
   ],
   "source": [
    "average_precision=average_precision_score(Y_test,Y_pred_proba)\n",
    "print(average_precision)"
   ]
  },
  {
   "cell_type": "code",
   "execution_count": 211,
   "id": "03d49db8",
   "metadata": {},
   "outputs": [
    {
     "name": "stdout",
     "output_type": "stream",
     "text": [
      "0.9403973509933775\n"
     ]
    }
   ],
   "source": [
    "accuracy=accuracy_score(Y_test,Y_pred)\n",
    "print(accuracy)"
   ]
  },
  {
   "cell_type": "code",
   "execution_count": 212,
   "id": "60e666d3",
   "metadata": {},
   "outputs": [
    {
     "name": "stdout",
     "output_type": "stream",
     "text": [
      "0.878114624383281\n"
     ]
    }
   ],
   "source": [
    "roc_auc=roc_auc_score(Y_test,Y_pred_proba)\n",
    "print(roc_auc)"
   ]
  }
 ],
 "metadata": {
  "kernelspec": {
   "display_name": "Python 3 (ipykernel)",
   "language": "python",
   "name": "python3"
  },
  "language_info": {
   "codemirror_mode": {
    "name": "ipython",
    "version": 3
   },
   "file_extension": ".py",
   "mimetype": "text/x-python",
   "name": "python",
   "nbconvert_exporter": "python",
   "pygments_lexer": "ipython3",
   "version": "3.9.13"
  }
 },
 "nbformat": 4,
 "nbformat_minor": 5
}
